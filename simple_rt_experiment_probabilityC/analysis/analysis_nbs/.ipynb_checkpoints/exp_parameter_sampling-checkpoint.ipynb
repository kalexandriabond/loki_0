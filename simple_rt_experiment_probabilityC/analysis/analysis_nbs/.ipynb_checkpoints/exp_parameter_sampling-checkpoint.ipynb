{
 "cells": [
  {
   "cell_type": "code",
   "execution_count": 36,
   "metadata": {},
   "outputs": [],
   "source": [
    "from scipy.stats.distributions import norm\n",
    "import matplotlib.pyplot as plt\n",
    "from itertools import product\n",
    "import numpy as np"
   ]
  },
  {
   "cell_type": "code",
   "execution_count": 37,
   "metadata": {},
   "outputs": [],
   "source": [
    "n_participants = 4\n",
    "n_means = 3\n",
    "n_samples = n_means**2\n",
    "\n",
    "min_p = 0.65\n",
    "max_p = 0.90\n",
    "step_p = 0.10\n",
    "\n",
    "min_e = 15\n",
    "max_e  = 40\n",
    "step_e = 10"
   ]
  },
  {
   "cell_type": "code",
   "execution_count": 38,
   "metadata": {},
   "outputs": [],
   "source": [
    "# conflict_means = np.linspace(min_p, max_p, step_=n_means, endpoint=False)\n",
    "# vol_means = np.linspace(min_e, max_e, num=n_means, endpoint=False)\n",
    "\n",
    "conflict_means = np.arange(min_p, max_p, step_p)\n",
    "vol_means = np.arange(min_e, max_e, step_e)"
   ]
  },
  {
   "cell_type": "code",
   "execution_count": 39,
   "metadata": {},
   "outputs": [
    {
     "data": {
      "text/plain": [
       "(array([ 0.65,  0.75,  0.85]), array([15, 25, 35]))"
      ]
     },
     "execution_count": 39,
     "metadata": {},
     "output_type": "execute_result"
    }
   ],
   "source": [
    "conflict_means, vol_means"
   ]
  },
  {
   "cell_type": "code",
   "execution_count": 40,
   "metadata": {},
   "outputs": [],
   "source": [
    "all_combinations = np.asarray(list(product(conflict_means, vol_means)))"
   ]
  },
  {
   "cell_type": "code",
   "execution_count": 41,
   "metadata": {},
   "outputs": [],
   "source": [
    "x_vol = all_combinations[:,1]\n",
    "y_conf = all_combinations[:,0]"
   ]
  },
  {
   "cell_type": "code",
   "execution_count": 42,
   "metadata": {},
   "outputs": [
    {
     "data": {
      "image/png": "[encoded data removed]",
      "text/plain": [
       "<Figure size 432x288 with 1 Axes>"
      ]
     },
     "metadata": {},
     "output_type": "display_data"
    }
   ],
   "source": [
    "plt.plot(x_vol,y_conf, '.', markersize=10)\n",
    "plt.xlabel('Length of of epoch ' +  r'($\\lambda$)')\n",
    "plt.ylabel('P(reward | optimal target)')\n",
    "plt.xticks(np.arange(min_e, max_e, 5))\n",
    "plt.yticks(np.arange(min_p, max_p, .05))\n",
    "\n",
    "# ax.plot([0, 1], [0, 1], transform=ax.transAxes)\n",
    "plt.savefig('sampling_conflict_vol.pdf', dpi=300)"
   ]
  },
  {
   "cell_type": "code",
   "execution_count": 43,
   "metadata": {},
   "outputs": [],
   "source": [
    "#for each subject, randomly sample the means from this space to attempt maximum coverage\n",
    "#assuming each subject stands alone as an experiment, \"counterbalance\" order across sub.\n",
    "\n",
    "#just did this using random sampling, not latin hypercube sampling"
   ]
  },
  {
   "cell_type": "code",
   "execution_count": 44,
   "metadata": {},
   "outputs": [],
   "source": [
    "param_set=np.matrix([x_vol, y_conf]).transpose()"
   ]
  },
  {
   "cell_type": "code",
   "execution_count": 46,
   "metadata": {},
   "outputs": [],
   "source": [
    "idx = np.arange(0,n_samples)\n",
    "c_order = np.empty([n_participants,n_samples])\n",
    "for p in range(n_participants):\n",
    "    np.random.shuffle(idx)\n",
    "    c_order[p,:] =  idx\n",
    "c_order = c_order.astype('int64')"
   ]
  },
  {
   "cell_type": "code",
   "execution_count": 47,
   "metadata": {},
   "outputs": [
    {
     "data": {
      "text/plain": [
       "array([[7, 0, 8, 1, 4, 2, 3, 6, 5],\n",
       "       [5, 4, 6, 0, 1, 2, 8, 7, 3],\n",
       "       [5, 6, 1, 7, 0, 8, 4, 3, 2],\n",
       "       [6, 4, 8, 2, 0, 7, 3, 5, 1]])"
      ]
     },
     "execution_count": 47,
     "metadata": {},
     "output_type": "execute_result"
    }
   ],
   "source": [
    "c_order"
   ]
  },
  {
   "cell_type": "code",
   "execution_count": 48,
   "metadata": {},
   "outputs": [],
   "source": [
    "param_sets = []\n",
    "\n",
    "for p in range(n_participants): \n",
    "    param_sets.append(param_set[c_order[p]])"
   ]
  },
  {
   "cell_type": "code",
   "execution_count": 49,
   "metadata": {},
   "outputs": [
    {
     "data": {
      "text/plain": [
       "[matrix([[ 25.  ,   0.85],\n",
       "         [ 15.  ,   0.65],\n",
       "         [ 35.  ,   0.85],\n",
       "         [ 25.  ,   0.65],\n",
       "         [ 25.  ,   0.75],\n",
       "         [ 35.  ,   0.65],\n",
       "         [ 15.  ,   0.75],\n",
       "         [ 15.  ,   0.85],\n",
       "         [ 35.  ,   0.75]]), matrix([[ 35.  ,   0.75],\n",
       "         [ 25.  ,   0.75],\n",
       "         [ 15.  ,   0.85],\n",
       "         [ 15.  ,   0.65],\n",
       "         [ 25.  ,   0.65],\n",
       "         [ 35.  ,   0.65],\n",
       "         [ 35.  ,   0.85],\n",
       "         [ 25.  ,   0.85],\n",
       "         [ 15.  ,   0.75]]), matrix([[ 35.  ,   0.75],\n",
       "         [ 15.  ,   0.85],\n",
       "         [ 25.  ,   0.65],\n",
       "         [ 25.  ,   0.85],\n",
       "         [ 15.  ,   0.65],\n",
       "         [ 35.  ,   0.85],\n",
       "         [ 25.  ,   0.75],\n",
       "         [ 15.  ,   0.75],\n",
       "         [ 35.  ,   0.65]]), matrix([[ 15.  ,   0.85],\n",
       "         [ 25.  ,   0.75],\n",
       "         [ 35.  ,   0.85],\n",
       "         [ 35.  ,   0.65],\n",
       "         [ 15.  ,   0.65],\n",
       "         [ 25.  ,   0.85],\n",
       "         [ 15.  ,   0.75],\n",
       "         [ 35.  ,   0.75],\n",
       "         [ 25.  ,   0.65]])]"
      ]
     },
     "execution_count": 49,
     "metadata": {},
     "output_type": "execute_result"
    }
   ],
   "source": [
    "param_sets"
   ]
  },
  {
   "cell_type": "code",
   "execution_count": null,
   "metadata": {},
   "outputs": [],
   "source": []
  }
 ],
 "metadata": {
  "kernelspec": {
   "display_name": "Python 3",
   "language": "python",
   "name": "python3"
  },
  "language_info": {
   "codemirror_mode": {
    "name": "ipython",
    "version": 3
   },
   "file_extension": ".py",
   "mimetype": "text/x-python",
   "name": "python",
   "nbconvert_exporter": "python",
   "pygments_lexer": "ipython3",
   "version": "3.5.5"
  }
 },
 "nbformat": 4,
 "nbformat_minor": 2
}
