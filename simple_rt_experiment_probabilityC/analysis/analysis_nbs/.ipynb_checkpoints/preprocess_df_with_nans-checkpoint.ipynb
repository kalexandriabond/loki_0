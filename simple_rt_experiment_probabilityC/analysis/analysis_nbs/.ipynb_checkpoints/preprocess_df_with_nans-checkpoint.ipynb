{
 "cells": [
  {
   "cell_type": "code",
   "execution_count": 3,
   "metadata": {},
   "outputs": [
    {
     "ename": "ERROR",
     "evalue": "Error in library(tidyverse): there is no package called ‘tidyverse’\n",
     "output_type": "error",
     "traceback": [
      "Error in library(tidyverse): there is no package called ‘tidyverse’\nTraceback:\n",
      "1. library(tidyverse)",
      "2. stop(txt, domain = NA)"
     ]
    }
   ],
   "source": [
    "library(tidyverse)\n",
    "library(wesanderson)\n",
    "library(ggridges)\n",
    "library(ggthemes)\n",
    "library(reshape)\n",
    "# library(boot)\n",
    "# library(Hmisc)\n",
    "\n",
    "source(\"../../../spydr_scripts/functions/get_os.R\")"
   ]
  },
  {
   "cell_type": "code",
   "execution_count": 4,
   "metadata": {},
   "outputs": [
    {
     "ename": "ERROR",
     "evalue": "Error in get_os(): could not find function \"get_os\"\n",
     "output_type": "error",
     "traceback": [
      "Error in get_os(): could not find function \"get_os\"\nTraceback:\n"
     ]
    }
   ],
   "source": [
    "os <- get_os()\n",
    "if (os == 'linux'){home <- '/home/krista/'\n",
    "} else if(os == 'osx'){home <- '/Users/67981492/'}\n",
    "\n",
    "agg_data_path = paste0(home,'Dropbox/volatileValues/simple_rt_experiment_probabilityC/analysis/aggregated_data/')\n",
    "setwd(agg_data_path)"
   ]
  },
  {
   "cell_type": "code",
   "execution_count": 5,
   "metadata": {},
   "outputs": [
    {
     "ename": "ERROR",
     "evalue": "Error in read_csv(\"raw_probC_data.csv\", col_types = cols()): could not find function \"read_csv\"\n",
     "output_type": "error",
     "traceback": [
      "Error in read_csv(\"raw_probC_data.csv\", col_types = cols()): could not find function \"read_csv\"\nTraceback:\n"
     ]
    }
   ],
   "source": [
    "raw_df <- read_csv('raw_probC_data.csv',col_types = cols())\n",
    "exp_param_df <- read_csv('exp_param_df.csv',col_types = cols())\n",
    "\n",
    "(n_subjects = length(unique(raw_df$ID)))\n",
    "(n_conditions = length(unique(raw_df$condition)))\n",
    "n_clean_trials = 600\n",
    "\n",
    "head(raw_df)\n",
    "\n",
    "raw_df$condition <- as.factor(raw_df$condition)"
   ]
  },
  {
   "cell_type": "code",
   "execution_count": null,
   "metadata": {},
   "outputs": [],
   "source": [
    "#recode conditions\n",
    "raw_df$coded_condition <- recode(raw_df$condition,\n",
    "  'lc' = 0,\n",
    "  'hc' = 1,\n",
    "  'hv' = 2,\n",
    "  'lv' = 3, \n",
    "  )\n",
    "#check \n",
    "raw_df$coded_condition[0:5]; raw_df$condition[0:5]"
   ]
  },
  {
   "cell_type": "code",
   "execution_count": null,
   "metadata": {},
   "outputs": [],
   "source": [
    "#switch flags so that rules are easier to imp.\n",
    "raw_df[raw_df$cp_with_slow_fast == -1,'cp_with_slow_fast'] = -11\n",
    "raw_df[raw_df$obs_cp_with_slow_fast == -1,'obs_cp_with_slow_fast'] = -11\n",
    "\n",
    "raw_df[raw_df$cp_with_slow_fast == -2,'cp_with_slow_fast'] = -21\n",
    "raw_df[raw_df$obs_cp_with_slow_fast == -2,'obs_cp_with_slow_fast'] = -21"
   ]
  },
  {
   "cell_type": "code",
   "execution_count": null,
   "metadata": {},
   "outputs": [],
   "source": [
    "#add vector of trials based on ID & condition diff\n",
    "raw_df <- raw_df %>% \n",
    "    group_by(null=cumsum(c(1, (diff(ID) != 0 | diff(coded_condition) !=0)))) %>% \n",
    "    mutate(trial=row_number())"
   ]
  },
  {
   "cell_type": "code",
   "execution_count": null,
   "metadata": {},
   "outputs": [],
   "source": [
    "#check that all sessions have been properly counted\n",
    "nrow(raw_df[raw_df$trial == 600,]) == n_subjects*n_conditions\n",
    "max(raw_df$trial)"
   ]
  },
  {
   "cell_type": "code",
   "execution_count": null,
   "metadata": {},
   "outputs": [],
   "source": [
    "names(raw_df)"
   ]
  },
  {
   "cell_type": "code",
   "execution_count": null,
   "metadata": {},
   "outputs": [],
   "source": [
    "#cast first trial as a cp so that epochs are counted correctly across subjects\n",
    "raw_df[raw_df$trial == 1, 'cp_with_slow_fast'] = 1"
   ]
  },
  {
   "cell_type": "code",
   "execution_count": null,
   "metadata": {},
   "outputs": [],
   "source": [
    "#first group by ID and condition\n",
    "#count the number of epochs. \n",
    "\n",
    "raw_df <- raw_df %>% group_by(ID,condition) %>% group_by(epoch_n=cumsum(cp_with_slow_fast==1))\n",
    "\n",
    "max(raw_df$epoch_n)"
   ]
  },
  {
   "cell_type": "code",
   "execution_count": null,
   "metadata": {},
   "outputs": [],
   "source": [
    "#add epoch trial \n",
    "raw_df <- raw_df %>% \n",
    "    group_by(ID, condition, epoch_n)  %>%  mutate(epoch_trial_zero_idx=cumsum(c(0, diff(trial)))) %>%\n",
    "    mutate(epoch_trial_one_idx=cumsum(c(1, diff(trial))))"
   ]
  },
  {
   "cell_type": "code",
   "execution_count": null,
   "metadata": {},
   "outputs": [],
   "source": [
    "max(raw_df$epoch_trial_zero_idx)\n",
    "max(raw_df$epoch_trial_one_idx)"
   ]
  },
  {
   "cell_type": "code",
   "execution_count": null,
   "metadata": {},
   "outputs": [],
   "source": [
    "raw_df <- raw_df %>% group_by(epoch_n, ID, condition) %>% group_by(max_e_trial=max(epoch_trial_one_idx)) \n",
    "sum(raw_df$max_e_trial == 1)"
   ]
  },
  {
   "cell_type": "code",
   "execution_count": null,
   "metadata": {},
   "outputs": [],
   "source": [
    "raw_df[,'null'] <- NULL "
   ]
  },
  {
   "cell_type": "code",
   "execution_count": null,
   "metadata": {},
   "outputs": [],
   "source": [
    "#if fast/slow on cp, did not flag... fix\n",
    "raw_df[raw_df$cp_with_slow_fast >= 0 & raw_df$rt > 1,  'cp_with_slow_fast'] = -11\n",
    "raw_df[raw_df$cp_with_slow_fast >= 0 & raw_df$rt < .1,  'cp_with_slow_fast'] = -22"
   ]
  },
  {
   "cell_type": "code",
   "execution_count": null,
   "metadata": {},
   "outputs": [],
   "source": [
    "#where epoch_n is greater than one... \n",
    "#get the first epoch t and cast the one before it as trial -1 -2 ...\n",
    "n_trials_prev = 5\n",
    "cp_idx <- which((raw_df$epoch_trial_zero_idx == 0 & raw_df$epoch_n > 1))\n",
    "lag_idx <- cp_idx - n_trials_prev\n",
    "\n",
    "range_idx <- unlist(mapply(\":\", lag_idx, cp_idx, SIMPLIFY=FALSE))\n",
    "\n",
    "new_e_trial_vec <- raw_df$epoch_trial_zero_idx\n",
    "\n",
    "new_e_trial_vec[range_idx] = -n_trials_prev:0   \n",
    "\n",
    "raw_df[, 'shifted_epoch_trial_zero_idx'] <- new_e_trial_vec"
   ]
  },
  {
   "cell_type": "code",
   "execution_count": null,
   "metadata": {},
   "outputs": [],
   "source": [
    "head(raw_df,50)"
   ]
  },
  {
   "cell_type": "code",
   "execution_count": null,
   "metadata": {},
   "outputs": [],
   "source": [
    "# head(raw_df, 40)"
   ]
  },
  {
   "cell_type": "code",
   "execution_count": null,
   "metadata": {},
   "outputs": [],
   "source": [
    "raw_df <- raw_df %>% \n",
    "group_by(condition,ID) %>% group_by(max_epoch_n = max(epoch_n))"
   ]
  },
  {
   "cell_type": "code",
   "execution_count": null,
   "metadata": {},
   "outputs": [],
   "source": [
    "\n",
    "#exclude trials that are too fast or too slow\n",
    "clean_df <- raw_df[raw_df$cp_with_slow_fast >= 0 , ]\n",
    "clean_df$repeat_trial <- rep(1:600, n_subjects*n_conditions)\n",
    "\n",
    "\n",
    "max(clean_df$rt); min(clean_df$rt)\n",
    "min(clean_df$max_e_trial)\n",
    "\n",
    "paste0(sum(raw_df$max_e_trial < 10) / nrow(raw_df), '% of trials removed.')"
   ]
  },
  {
   "cell_type": "code",
   "execution_count": null,
   "metadata": {},
   "outputs": [],
   "source": [
    "#order dfs\n",
    "clean_df_ordered <- arrange(clean_df, condition, ID)\n",
    "exp_param_df_ordered <- arrange(exp_param_df, condition, ID)"
   ]
  },
  {
   "cell_type": "code",
   "execution_count": null,
   "metadata": {},
   "outputs": [],
   "source": [
    "#calculate high_p_cue from high_val_cue\n",
    "\n",
    "\n",
    "#get proportion of high value cues which are 112 \n",
    "#then, if the proportion of high value cues being 112 is greater than chance\n",
    "#set high probability cue to being that cue. else, set 111 to being high prob. cue\n",
    "test <- clean_df_ordered %>% group_by(ID, condition, epoch_n) %>% \n",
    "group_by(prop_112=sum(high_val_cue == 112) / max(epoch_trial_one_idx), n_epoch_trials = max(epoch_trial_one_idx))%>% \n",
    "group_by(high_p_cue=ifelse(prop_112 >= 0.5, 112, 111)) "
   ]
  },
  {
   "cell_type": "code",
   "execution_count": null,
   "metadata": {},
   "outputs": [],
   "source": [
    "#add low_val_cue variable \n",
    "test$low_val_cue <- ifelse(test$high_val_cue == 112, 111, 112)\n",
    "sum(test$low_val_cue == test$high_val_cue); unique(test$low_val_cue); unique(test$high_val_cue)\n",
    "\n",
    "#add id_choice variable and calculate accuracy in selecting identity with highest probability of reward\n",
    "test$id_choice <- ifelse(test$accuracy == 1, test$high_val_cue, test$low_val_cue) \n",
    "test$p_accuracy <- as.integer(test$id_choice == test$high_p_cue)"
   ]
  },
  {
   "cell_type": "code",
   "execution_count": null,
   "metadata": {},
   "outputs": [],
   "source": [
    "#check that the calculations above did not yield nans\n",
    "paste0('id_choice n_finite: ', sum(is.finite(test$id_choice))); paste0('high_p_cue n_finite: ', sum(is.finite(test$high_p_cue)));\n",
    "paste0('p_accuracy n_finite: ', sum(is.finite(test$p_accuracy)))\n",
    "paste0('prop_112 n_finite: ', sum(is.finite(test$prop_112)))\n",
    "paste0('prop_112 > 1 | < 0: ', sum(test$prop_112 > 1 | test$prop_112 < 0))\n",
    "\n",
    "unique(test$high_p_cue); unique(test$p_accuracy)"
   ]
  },
  {
   "cell_type": "code",
   "execution_count": null,
   "metadata": {},
   "outputs": [],
   "source": [
    "#make variable names more informative, get rid of redundant variables \n",
    "test <- dplyr::rename(test, 'LR_choice' = 'choice', 'obs_LR_accuracy' = 'accuracy', \n",
    "              'obs_LR_solution' = 'solution','obs_high_val_cue' = 'high_val_cue', \n",
    "              'obs_low_val_cue' = 'low_val_cue', 'p_id_solution' = 'high_p_cue', 'p_id_accuracy' = 'p_accuracy', \n",
    "                     'original_trial' = 'trial')\n",
    "#this is the same as n_epoch_trials\n",
    "test['max_e_trial'] <- NULL "
   ]
  },
  {
   "cell_type": "code",
   "execution_count": null,
   "metadata": {},
   "outputs": [],
   "source": [
    "test$ID <- as.factor(test$ID)\n",
    "test$condition <- as.factor(test$condition)"
   ]
  },
  {
   "cell_type": "code",
   "execution_count": null,
   "metadata": {},
   "outputs": [],
   "source": [
    "colnames(test); head(test)"
   ]
  },
  {
   "cell_type": "code",
   "execution_count": null,
   "metadata": {},
   "outputs": [],
   "source": [
    "#testing repeat & original trial vectors\n",
    "#know this sub. didn't have any repeats for this condition, so should be the same \n",
    "sum(test[(test$ID==761 & test$condition == 'lc'), 'original_trial'] == test[(test$ID==761 & test$condition == 'lc'), 'repeat_trial']); nrow(test[(test$ID==761 & test$condition == 'lc'),])"
   ]
  },
  {
   "cell_type": "code",
   "execution_count": null,
   "metadata": {},
   "outputs": [],
   "source": [
    "plot(test$p_id_accuracy)"
   ]
  },
  {
   "cell_type": "code",
   "execution_count": null,
   "metadata": {
    "scrolled": true
   },
   "outputs": [],
   "source": [
    "#tc for all conditions \n",
    "options(repr.plot.width=30, repr.plot.height=15)\n",
    "\n",
    "ggplot(subset(test, (shifted_epoch_trial_zero_idx <= 10 & shifted_epoch_trial_zero_idx > -2 & epoch_n > 1)), aes(shifted_epoch_trial_zero_idx, p_id_accuracy, col=condition)) + \n",
    "stat_summary(fun.data = \"mean_cl_boot\", geom = \"smooth\", size=5, aes(fill=condition), alpha=0.3) +  stat_summary(fun.y = mean, geom = \"point\", size=3) + \n",
    "theme_gray(40) \n",
    "# + scale_x_continuous(breaks = seq(-2, 10, 1)) + scale_y_continuous(breaks=seq(0.2,.9, .1)) + \n",
    "# geom_vline(xintercept = 0, size=2, alpha=0.5)"
   ]
  },
  {
   "cell_type": "code",
   "execution_count": null,
   "metadata": {},
   "outputs": [],
   "source": [
    "ggplot(subset(test, (shifted_epoch_trial <= 10 & shifted_epoch_trial > -2 & epoch_n > 1 & (condition == 'hc'| condition == 'lc'))), aes(shifted_epoch_trial, p_id_accuracy, col=condition)) + \n",
    "stat_summary(fun.data = \"mean_cl_boot\", geom = \"smooth\", size=5, aes(fill=condition), alpha=0.3) + stat_summary(fun.data = \"mean_cl_boot\", geom = \"point\", size=10) +\n",
    "theme_gray(40)  + scale_x_continuous(breaks = seq(-2, 10, 1)) + scale_y_continuous(breaks=seq(0.2,.9, .1)) + \n",
    "geom_vline(xintercept = 0, size=2, alpha=0.5)"
   ]
  },
  {
   "cell_type": "code",
   "execution_count": null,
   "metadata": {},
   "outputs": [],
   "source": [
    "ggplot(subset(test, (shifted_epoch_trial <= 10 & shifted_epoch_trial > -2 & epoch_n > 1 & (condition == 'hc'| condition == 'lc'))), aes(shifted_epoch_trial, rt, col=condition)) + \n",
    "stat_summary(fun.data = \"mean_cl_boot\", geom = \"smooth\", size=5, aes(fill=condition), alpha=0.3) + stat_summary(fun.data = \"mean_cl_boot\", geom = \"point\", size=10) +\n",
    "theme_gray(40)  + scale_x_continuous(breaks = seq(-2, 10, 1)) + scale_y_continuous(breaks=seq(0.2,.9, .1)) + \n",
    "geom_vline(xintercept = 0, size=2, alpha=0.5)"
   ]
  },
  {
   "cell_type": "code",
   "execution_count": null,
   "metadata": {},
   "outputs": [],
   "source": [
    "ggplot(subset(test, (shifted_epoch_trial <= 10 & shifted_epoch_trial > -2 & epoch_n > 1 & (condition == 'hv'| condition == 'lv'))), aes(shifted_epoch_trial, p_id_accuracy, col=condition)) + \n",
    "stat_summary(fun.data = \"mean_cl_boot\", geom = \"smooth\", size=5, aes(fill=condition), alpha=0.3) + stat_summary(fun.data = \"mean_cl_boot\", geom = \"point\", size=10) +\n",
    "theme_gray(40)  + scale_x_continuous(breaks = seq(-2, 10, 1)) + scale_y_continuous(breaks=seq(0.2,.9, .1)) + \n",
    "geom_vline(xintercept = 0, size=2, alpha=0.5)"
   ]
  },
  {
   "cell_type": "code",
   "execution_count": null,
   "metadata": {},
   "outputs": [],
   "source": [
    "ggplot(subset(test, (shifted_epoch_trial <= 10 & shifted_epoch_trial > -2 & epoch_n > 1 & (condition == 'hv'| condition == 'lv'))), aes(shifted_epoch_trial, rt, col=condition)) + \n",
    "stat_summary(fun.data = \"mean_cl_boot\", geom = \"smooth\", size=5, aes(fill=condition), alpha=0.3) + stat_summary(fun.data = \"mean_cl_boot\", geom = \"point\", size=10) +\n",
    "theme_gray(40)  + scale_x_continuous(breaks = seq(-2, 10, 1)) + scale_y_continuous(breaks=seq(0.2,.9, .1)) + \n",
    "geom_vline(xintercept = 0, size=2, alpha=0.5)"
   ]
  },
  {
   "cell_type": "code",
   "execution_count": null,
   "metadata": {},
   "outputs": [],
   "source": [
    "options(repr.plot.width=30, repr.plot.height=15)\n",
    "\n",
    "ggplot(subset(test, (shifted_epoch_trial <= 10 & shifted_epoch_trial > -5 & epoch_n > 1)), aes(shifted_epoch_trial, rt, col=condition)) + \n",
    "stat_summary(fun.data = \"mean_cl_boot\", geom = \"smooth\", size=5, aes(fill=condition), alpha=0.3) + stat_summary(fun.data = \"mean_cl_boot\", geom = \"point\", size=10) +\n",
    "theme_gray(40)  + scale_x_continuous(breaks = seq(-2, 10, 1)) + scale_y_continuous(breaks=seq(0.2,.9, .1)) + \n",
    "geom_vline(xintercept = 0, size=2, alpha=0.5) "
   ]
  },
  {
   "cell_type": "code",
   "execution_count": null,
   "metadata": {},
   "outputs": [],
   "source": [
    "sample <- subset(test, condition == 'lc'& ID == 761 & repeat_trial < 300)"
   ]
  },
  {
   "cell_type": "code",
   "execution_count": null,
   "metadata": {},
   "outputs": [],
   "source": [
    "ggplot(sample, aes(repeat_trial, p_id_accuracy)) + geom_point(size=3, col='blue')+ \n",
    "geom_vline(xintercept=which(sample$cp_with_slow_fast == 1), alpha=0.5, size = 1.5) + theme_gray(30)"
   ]
  },
  {
   "cell_type": "code",
   "execution_count": null,
   "metadata": {},
   "outputs": [],
   "source": [
    "ggplot(sample, aes(repeat_trial, rt)) + geom_line(size=3, col='blue')+ \n",
    "geom_vline(xintercept=which(sample$cp_with_slow_fast == 1), alpha=0.5, size = 1.5) + theme_gray(30)"
   ]
  },
  {
   "cell_type": "code",
   "execution_count": null,
   "metadata": {},
   "outputs": [],
   "source": [
    "epoch_df <- subset(clean_df, epoch_trial <= 10) \n",
    "\n",
    "# epoch_df[epoch_df$epoch_trial <= 5, 'timepoint'] = 1\n",
    "# epoch_df[epoch_df$epoch_trial > 5, 'timepoint'] = 2\n",
    "\n",
    "epoch_df[epoch_df$condition == 'hc', 'conflict'] = 'high'\n",
    "epoch_df[epoch_df$condition == 'lc', 'conflict'] = 'low'\n",
    "epoch_df[epoch_df$condition == 'hc', 'vol'] = 'mod'\n",
    "epoch_df[epoch_df$condition == 'lc', 'vol'] = 'mod'\n",
    "\n",
    "epoch_df[epoch_df$condition == 'hv', 'vol'] = 'high'\n",
    "epoch_df[epoch_df$condition == 'lv', 'vol'] = 'low'\n",
    "epoch_df[epoch_df$condition == 'hv', 'conflict'] = 'mod'\n",
    "epoch_df[epoch_df$condition == 'lv', 'conflict'] = 'mod'\n",
    "\n",
    "epoch_df$conflict <- as.factor(epoch_df$conflict)\n",
    "epoch_df$vol <- as.factor(epoch_df$vol)\n",
    "\n",
    "epoch_df$conflict <- relevel(epoch_df$conflict, ref = \"low\")\n",
    "epoch_df$vol <- relevel(epoch_df$vol, ref = \"low\")\n",
    "\n",
    "epoch_df$condition <- relevel(epoch_df$condition, ref = \"lc\")"
   ]
  },
  {
   "cell_type": "code",
   "execution_count": null,
   "metadata": {},
   "outputs": [],
   "source": [
    "head(epoch_df)"
   ]
  },
  {
   "cell_type": "code",
   "execution_count": null,
   "metadata": {},
   "outputs": [],
   "source": [
    "write.csv(test, paste0(agg_data_path, 'clean_df.csv'),row.names=FALSE)"
   ]
  }
 ],
 "metadata": {
  "kernelspec": {
   "display_name": "R",
   "language": "R",
   "name": "ir"
  },
  "language_info": {
   "codemirror_mode": "r",
   "file_extension": ".r",
   "mimetype": "text/x-r-source",
   "name": "R",
   "pygments_lexer": "r",
   "version": "3.5.0"
  }
 },
 "nbformat": 4,
 "nbformat_minor": 2
}
