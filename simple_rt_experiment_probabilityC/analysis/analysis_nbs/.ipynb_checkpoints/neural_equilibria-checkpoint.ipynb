{
 "cells": [
  {
   "cell_type": "code",
   "execution_count": 2,
   "metadata": {},
   "outputs": [],
   "source": [
    "import numpy as np \n",
    "from scipy import constants"
   ]
  },
  {
   "cell_type": "code",
   "execution_count": 9,
   "metadata": {},
   "outputs": [],
   "source": [
    "def cellular_current_simulator(T_celsius, E_k=-42.64, v=30, g=100e, KCl_mM_outside=10,\n",
    "                               KCl_mM_inside=50, graph=True, mammal=True, \n",
    "                              z=1):\n",
    "    #E_k: equilbrium potential of potassium ions (Ek) is in mV\n",
    "    #v: voltage is in mV\n",
    "    #g: conductance is in picoSiemens (pS)\n",
    "    #I: current is in picoAmps (pA), default output\n",
    "    \n",
    "    #z = ion valence \n",
    "    #F = faraday constant\n",
    "    #R = Molar gas constant\n",
    "    \n",
    "    F = constants.physical_constants['Faraday constant'][0]\n",
    "    R = constants.gas_constant\n",
    "    \n",
    "    if mammal: \n",
    "        T_celsius = 37 #body temperature of mammals \n",
    "        T = constants.convert_temperature(T_celsius, 'Celsius', 'Kelvin')\n",
    "    else: \n",
    "        T = constants.convert_temperature(T_celsius, 'Celsius', 'Kelvin')\n",
    "    \n",
    "    nernst_potential = ((RT)/(zF))\n",
    "    ion_concentration_ratio = (KCl_mM_outside/KCl_mM_inside)\n",
    "    \n",
    "    #calculate equilibrium potential given KCl concentrations inside and outside the neuron\n",
    "    E_k = nernst_potential*log(ion_concentration_ratio)\n",
    "    \n",
    "    I = (g*1e-12)*((v-E_k)*1e-30) #convert mV to V\n",
    "    \n",
    "    return E_k, "
   ]
  },
  {
   "cell_type": "code",
   "execution_count": 12,
   "metadata": {},
   "outputs": [
    {
     "data": {
      "text/plain": [
       "250.0"
      ]
     },
     "execution_count": 12,
     "metadata": {},
     "output_type": "execute_result"
    }
   ],
   "source": [
    "2.5e2 "
   ]
  },
  {
   "cell_type": "code",
   "execution_count": null,
   "metadata": {},
   "outputs": [],
   "source": []
  }
 ],
 "metadata": {
  "kernelspec": {
   "display_name": "Python 3",
   "language": "python",
   "name": "python3"
  },
  "language_info": {
   "codemirror_mode": {
    "name": "ipython",
    "version": 3
   },
   "file_extension": ".py",
   "mimetype": "text/x-python",
   "name": "python",
   "nbconvert_exporter": "python",
   "pygments_lexer": "ipython3",
   "version": "3.6.4"
  }
 },
 "nbformat": 4,
 "nbformat_minor": 2
}
