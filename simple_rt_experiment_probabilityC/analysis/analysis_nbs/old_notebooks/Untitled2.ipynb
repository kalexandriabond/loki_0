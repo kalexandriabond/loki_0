{
 "cells": [
  {
   "cell_type": "code",
   "execution_count": 5,
   "metadata": {},
   "outputs": [
    {
     "name": "stdout",
     "output_type": "stream",
     "text": [
      "\n",
      "The downloaded binary packages are in\n",
      "\t/var/folders/p1/jq19by4n7gd9qnhl3cywmknr0000gn/T//RtmpITyWAe/downloaded_packages\n"
     ]
    }
   ],
   "source": [
    "install.packages('afex')"
   ]
  },
  {
   "cell_type": "code",
   "execution_count": 6,
   "metadata": {},
   "outputs": [
    {
     "name": "stderr",
     "output_type": "stream",
     "text": [
      "Warning message:\n",
      "“package ‘afex’ was built under R version 3.4.4”************\n",
      "Welcome to afex. For support visit: http://afex.singmann.science/\n",
      "- Functions for ANOVAs: aov_car(), aov_ez(), and aov_4()\n",
      "- Methods for calculating p-values with mixed(): 'KR', 'S', 'LRT', and 'PB'\n",
      "- 'afex_aov' and 'mixed' objects can be passed to emmeans() for follow-up tests\n",
      "- NEWS: library('emmeans') now needs to be called explicitly!\n",
      "- Get and set global package options with: afex_options()\n",
      "- Set orthogonal sum-to-zero contrasts globally: set_sum_contrasts()\n",
      "- For example analyses see: browseVignettes(\"afex\")\n",
      "************\n",
      "\n",
      "Attaching package: ‘afex’\n",
      "\n",
      "The following object is masked from ‘package:lme4’:\n",
      "\n",
      "    lmer\n",
      "\n"
     ]
    }
   ],
   "source": [
    "library(lme4)\n",
    "library(afex)"
   ]
  },
  {
   "cell_type": "code",
   "execution_count": 7,
   "metadata": {},
   "outputs": [
    {
     "data": {
      "text/plain": [
       "Linear mixed model fit by REML. t-tests use Satterthwaite's method [\n",
       "lmerModLmerTest]\n",
       "Formula: Reaction ~ Days + (Days | Subject)\n",
       "   Data: sleepstudy\n",
       "\n",
       "REML criterion at convergence: 1743.6\n",
       "\n",
       "Scaled residuals: \n",
       "    Min      1Q  Median      3Q     Max \n",
       "-3.9536 -0.4634  0.0231  0.4634  5.1793 \n",
       "\n",
       "Random effects:\n",
       " Groups   Name        Variance Std.Dev. Corr\n",
       " Subject  (Intercept) 612.09   24.740       \n",
       "          Days         35.07    5.922   0.07\n",
       " Residual             654.94   25.592       \n",
       "Number of obs: 180, groups:  Subject, 18\n",
       "\n",
       "Fixed effects:\n",
       "            Estimate Std. Error      df t value Pr(>|t|)    \n",
       "(Intercept)  251.405      6.825  17.000  36.838  < 2e-16 ***\n",
       "Days          10.467      1.546  17.000   6.771 3.26e-06 ***\n",
       "---\n",
       "Signif. codes:  0 ‘***’ 0.001 ‘**’ 0.01 ‘*’ 0.05 ‘.’ 0.1 ‘ ’ 1\n",
       "\n",
       "Correlation of Fixed Effects:\n",
       "     (Intr)\n",
       "Days -0.138"
      ]
     },
     "metadata": {},
     "output_type": "display_data"
    }
   ],
   "source": [
    "data(\"sleepstudy\", package=\"lme4\")\n",
    "m <- lmer(Reaction ~ Days + (Days | Subject), sleepstudy)\n",
    "# anova(m) # with p-values from F-tests using Satterthwaite's denominator df\n",
    "# anova(m, ddf=\"lme4\") # no p-values\n",
    "\n",
    "summary(m)"
   ]
  },
  {
   "cell_type": "code",
   "execution_count": null,
   "metadata": {},
   "outputs": [],
   "source": []
  }
 ],
 "metadata": {
  "kernelspec": {
   "display_name": "R",
   "language": "R",
   "name": "ir"
  },
  "language_info": {
   "codemirror_mode": "r",
   "file_extension": ".r",
   "mimetype": "text/x-r-source",
   "name": "R",
   "pygments_lexer": "r",
   "version": "3.6.0"
  }
 },
 "nbformat": 4,
 "nbformat_minor": 2
}
