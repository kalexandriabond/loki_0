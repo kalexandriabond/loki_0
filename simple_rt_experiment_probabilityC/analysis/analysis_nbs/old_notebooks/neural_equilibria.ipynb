{
 "cells": [
  {
   "cell_type": "code",
   "execution_count": 2,
   "metadata": {},
   "outputs": [],
   "source": [
    "import numpy as np \n",
    "from scipy import constants"
   ]
  },
  {
   "cell_type": "code",
   "execution_count": 26,
   "metadata": {},
   "outputs": [],
   "source": [
    "#default is 37C because that is the internal temperature of a mammal. \n",
    "def cellular_current_simulator(T_celsius=37, E_k=-42.64, v=30, g=100, KCl_mM_outside=10,\n",
    "                               KCl_mM_inside=50, graph=True, \n",
    "                              z=1):\n",
    "    #E_k: equilbrium potential of potassium ions (Ek) is in mV\n",
    "    #v: voltage is in mV\n",
    "    #g: conductance is in picoSiemens (pS)\n",
    "    #I: current is in picoAmps (pA), default output\n",
    "    \n",
    "    #z = ion valence \n",
    "    #F = faraday constant\n",
    "    #R = Molar gas constant\n",
    "    \n",
    "    F = constants.physical_constants['Faraday constant'][0]\n",
    "    R = constants.gas_constant\n",
    "    \n",
    "    T = constants.convert_temperature(T_celsius, 'Celsius', 'Kelvin')\n",
    "    \n",
    "    nernst_potential = ((R*T)/(z*F))\n",
    "    ion_concentration_ratio = (KCl_mM_outside/KCl_mM_inside)\n",
    "    \n",
    "    #calculate equilibrium potential given KCl concentrations inside and outside the neuron\n",
    "    E_k = nernst_potential*np.log(ion_concentration_ratio)\n",
    "    \n",
    "    I = (g*1e-12)*((v-E_k)*1e-30) \n",
    "    #convert picoSiemens to Siemens for g (conductance) and mV to \n",
    "    #V for the driving force (voltage gradient)\n",
    "    \n",
    "    return E_k, I"
   ]
  },
  {
   "cell_type": "code",
   "execution_count": 28,
   "metadata": {},
   "outputs": [],
   "source": [
    "E_k,I=cellular_current_simulator()"
   ]
  },
  {
   "cell_type": "code",
   "execution_count": 30,
   "metadata": {},
   "outputs": [
    {
     "data": {
      "text/plain": [
       "(-0.04301488352690074, 3.00430148835269e-39)"
      ]
     },
     "execution_count": 30,
     "metadata": {},
     "output_type": "execute_result"
    }
   ],
   "source": [
    "E_k, I"
   ]
  },
  {
   "cell_type": "code",
   "execution_count": null,
   "metadata": {},
   "outputs": [],
   "source": []
  }
 ],
 "metadata": {
  "kernelspec": {
   "display_name": "Python 3",
   "language": "python",
   "name": "python3"
  },
  "language_info": {
   "codemirror_mode": {
    "name": "ipython",
    "version": 3
   },
   "file_extension": ".py",
   "mimetype": "text/x-python",
   "name": "python",
   "nbconvert_exporter": "python",
   "pygments_lexer": "ipython3",
   "version": "3.6.4"
  }
 },
 "nbformat": 4,
 "nbformat_minor": 2
}
