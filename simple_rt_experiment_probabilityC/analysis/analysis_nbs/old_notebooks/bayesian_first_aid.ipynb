{
 "cells": [
  {
   "cell_type": "code",
   "execution_count": 1,
   "metadata": {},
   "outputs": [
    {
     "ename": "ERROR",
     "evalue": "Error in library(BayesianFirstAid): there is no package called ‘BayesianFirstAid’\n",
     "output_type": "error",
     "traceback": [
      "Error in library(BayesianFirstAid): there is no package called ‘BayesianFirstAid’\nTraceback:\n",
      "1. library(BayesianFirstAid)",
      "2. stop(txt, domain = NA)"
     ]
    }
   ],
   "source": [
    "library(BayesianFirstAid)\n",
    "bayes.t.test(new_yield_01, new_yield_80, paired = TRUE, alternative = \"less\")"
   ]
  },
  {
   "cell_type": "code",
   "execution_count": 2,
   "metadata": {},
   "outputs": [
    {
     "name": "stderr",
     "output_type": "stream",
     "text": [
      "Warning message:\n",
      "“package ‘BayesianFirstAid’ is not available (for R version 3.4.1)”"
     ]
    }
   ],
   "source": [
    "install.packages('BayesianFirstAid')"
   ]
  }
 ],
 "metadata": {
  "kernelspec": {
   "display_name": "R",
   "language": "R",
   "name": "ir"
  },
  "language_info": {
   "codemirror_mode": "r",
   "file_extension": ".r",
   "mimetype": "text/x-r-source",
   "name": "R",
   "pygments_lexer": "r",
   "version": "3.4.1"
  }
 },
 "nbformat": 4,
 "nbformat_minor": 2
}
