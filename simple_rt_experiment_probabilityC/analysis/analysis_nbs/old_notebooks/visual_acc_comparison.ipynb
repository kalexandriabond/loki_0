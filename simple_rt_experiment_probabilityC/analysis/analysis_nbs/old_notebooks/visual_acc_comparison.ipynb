{
 "cells": [
  {
   "cell_type": "code",
   "execution_count": 1,
   "metadata": {},
   "outputs": [],
   "source": [
    "import pandas as pd\n",
    "import matplotlib.pyplot as plt\n",
    "import seaborn as sns\n",
    "import numpy as np\n",
    "sns.set_context(\"notebook\", font_scale=1.2, rc={\"lines.linewidth\": 1, \"lines.markersize\": 6,'figure.figsize':(11.7,8.27)})"
   ]
  },
  {
   "cell_type": "code",
   "execution_count": 2,
   "metadata": {},
   "outputs": [],
   "source": [
    "data_path = '/users/krista/Dropbox/loki_0/simple_rt_experiment_probabilityC/analysis/aggregated_data/'\n",
    "ls_obs_data = pd.read_csv(data_path+\"combined_learning_sig_obs_data.csv\")"
   ]
  },
  {
   "cell_type": "code",
   "execution_count": 3,
   "metadata": {},
   "outputs": [
    {
     "data": {
      "text/html": [
       "<div>\n",
       "<style scoped>\n",
       "    .dataframe tbody tr th:only-of-type {\n",
       "        vertical-align: middle;\n",
       "    }\n",
       "\n",
       "    .dataframe tbody tr th {\n",
       "        vertical-align: top;\n",
       "    }\n",
       "\n",
       "    .dataframe thead th {\n",
       "        text-align: right;\n",
       "    }\n",
       "</style>\n",
       "<table border=\"1\" class=\"dataframe\">\n",
       "  <thead>\n",
       "    <tr style=\"text-align: right;\">\n",
       "      <th></th>\n",
       "      <th>ID</th>\n",
       "      <th>experiment</th>\n",
       "      <th>condition</th>\n",
       "      <th>trial</th>\n",
       "      <th>shifted_epoch_trial</th>\n",
       "      <th>cp_with_slow_fast</th>\n",
       "      <th>obs_cp_with_slow_fast</th>\n",
       "      <th>p_id_accuracy</th>\n",
       "      <th>rt</th>\n",
       "      <th>lr_choice</th>\n",
       "      <th>...</th>\n",
       "      <th>cumulative_reward</th>\n",
       "      <th>iti</th>\n",
       "      <th>total_trial_time</th>\n",
       "      <th>epoch_n</th>\n",
       "      <th>epoch_trial</th>\n",
       "      <th>n_epoch_trials</th>\n",
       "      <th>prop_112</th>\n",
       "      <th>cpp</th>\n",
       "      <th>ideal_B</th>\n",
       "      <th>target_B</th>\n",
       "    </tr>\n",
       "  </thead>\n",
       "  <tbody>\n",
       "    <tr>\n",
       "      <th>0</th>\n",
       "      <td>761</td>\n",
       "      <td>conflict</td>\n",
       "      <td>hc</td>\n",
       "      <td>0</td>\n",
       "      <td>0</td>\n",
       "      <td>1.0</td>\n",
       "      <td>0.0</td>\n",
       "      <td>1</td>\n",
       "      <td>0.711570</td>\n",
       "      <td>1.0</td>\n",
       "      <td>...</td>\n",
       "      <td>599.0</td>\n",
       "      <td>0.670199</td>\n",
       "      <td>2.385458</td>\n",
       "      <td>1.0</td>\n",
       "      <td>0</td>\n",
       "      <td>36</td>\n",
       "      <td>0.305556</td>\n",
       "      <td>0.099471</td>\n",
       "      <td>0.000000</td>\n",
       "      <td>0.000000</td>\n",
       "    </tr>\n",
       "    <tr>\n",
       "      <th>1</th>\n",
       "      <td>761</td>\n",
       "      <td>conflict</td>\n",
       "      <td>hc</td>\n",
       "      <td>1</td>\n",
       "      <td>1</td>\n",
       "      <td>0.0</td>\n",
       "      <td>1.0</td>\n",
       "      <td>0</td>\n",
       "      <td>0.681410</td>\n",
       "      <td>1.0</td>\n",
       "      <td>...</td>\n",
       "      <td>598.0</td>\n",
       "      <td>0.259707</td>\n",
       "      <td>1.939019</td>\n",
       "      <td>1.0</td>\n",
       "      <td>1</td>\n",
       "      <td>36</td>\n",
       "      <td>0.305556</td>\n",
       "      <td>0.035079</td>\n",
       "      <td>-1.241007</td>\n",
       "      <td>0.000000</td>\n",
       "    </tr>\n",
       "    <tr>\n",
       "      <th>2</th>\n",
       "      <td>761</td>\n",
       "      <td>conflict</td>\n",
       "      <td>hc</td>\n",
       "      <td>2</td>\n",
       "      <td>2</td>\n",
       "      <td>0.0</td>\n",
       "      <td>0.0</td>\n",
       "      <td>1</td>\n",
       "      <td>0.767118</td>\n",
       "      <td>0.0</td>\n",
       "      <td>...</td>\n",
       "      <td>599.0</td>\n",
       "      <td>0.740615</td>\n",
       "      <td>2.498060</td>\n",
       "      <td>1.0</td>\n",
       "      <td>2</td>\n",
       "      <td>36</td>\n",
       "      <td>0.305556</td>\n",
       "      <td>0.023075</td>\n",
       "      <td>-0.595781</td>\n",
       "      <td>-1.241007</td>\n",
       "    </tr>\n",
       "    <tr>\n",
       "      <th>3</th>\n",
       "      <td>761</td>\n",
       "      <td>conflict</td>\n",
       "      <td>hc</td>\n",
       "      <td>3</td>\n",
       "      <td>3</td>\n",
       "      <td>0.0</td>\n",
       "      <td>0.0</td>\n",
       "      <td>0</td>\n",
       "      <td>0.507209</td>\n",
       "      <td>1.0</td>\n",
       "      <td>...</td>\n",
       "      <td>598.0</td>\n",
       "      <td>0.250242</td>\n",
       "      <td>1.742433</td>\n",
       "      <td>1.0</td>\n",
       "      <td>3</td>\n",
       "      <td>36</td>\n",
       "      <td>0.305556</td>\n",
       "      <td>0.019881</td>\n",
       "      <td>-0.306135</td>\n",
       "      <td>-0.595781</td>\n",
       "    </tr>\n",
       "    <tr>\n",
       "      <th>4</th>\n",
       "      <td>761</td>\n",
       "      <td>conflict</td>\n",
       "      <td>hc</td>\n",
       "      <td>4</td>\n",
       "      <td>4</td>\n",
       "      <td>0.0</td>\n",
       "      <td>0.0</td>\n",
       "      <td>1</td>\n",
       "      <td>0.656259</td>\n",
       "      <td>1.0</td>\n",
       "      <td>...</td>\n",
       "      <td>599.0</td>\n",
       "      <td>0.700190</td>\n",
       "      <td>2.350417</td>\n",
       "      <td>1.0</td>\n",
       "      <td>4</td>\n",
       "      <td>36</td>\n",
       "      <td>0.305556</td>\n",
       "      <td>0.018539</td>\n",
       "      <td>-0.139394</td>\n",
       "      <td>-0.306135</td>\n",
       "    </tr>\n",
       "  </tbody>\n",
       "</table>\n",
       "<p>5 rows × 28 columns</p>\n",
       "</div>"
      ],
      "text/plain": [
       "    ID experiment condition  trial  shifted_epoch_trial  cp_with_slow_fast  \\\n",
       "0  761   conflict        hc      0                    0                1.0   \n",
       "1  761   conflict        hc      1                    1                0.0   \n",
       "2  761   conflict        hc      2                    2                0.0   \n",
       "3  761   conflict        hc      3                    3                0.0   \n",
       "4  761   conflict        hc      4                    4                0.0   \n",
       "\n",
       "   obs_cp_with_slow_fast  p_id_accuracy        rt  lr_choice    ...     \\\n",
       "0                    0.0              1  0.711570        1.0    ...      \n",
       "1                    1.0              0  0.681410        1.0    ...      \n",
       "2                    0.0              1  0.767118        0.0    ...      \n",
       "3                    0.0              0  0.507209        1.0    ...      \n",
       "4                    0.0              1  0.656259        1.0    ...      \n",
       "\n",
       "   cumulative_reward       iti  total_trial_time  epoch_n  epoch_trial  \\\n",
       "0              599.0  0.670199          2.385458      1.0            0   \n",
       "1              598.0  0.259707          1.939019      1.0            1   \n",
       "2              599.0  0.740615          2.498060      1.0            2   \n",
       "3              598.0  0.250242          1.742433      1.0            3   \n",
       "4              599.0  0.700190          2.350417      1.0            4   \n",
       "\n",
       "   n_epoch_trials  prop_112       cpp   ideal_B  target_B  \n",
       "0              36  0.305556  0.099471  0.000000  0.000000  \n",
       "1              36  0.305556  0.035079 -1.241007  0.000000  \n",
       "2              36  0.305556  0.023075 -0.595781 -1.241007  \n",
       "3              36  0.305556  0.019881 -0.306135 -0.595781  \n",
       "4              36  0.305556  0.018539 -0.139394 -0.306135  \n",
       "\n",
       "[5 rows x 28 columns]"
      ]
     },
     "execution_count": 3,
     "metadata": {},
     "output_type": "execute_result"
    }
   ],
   "source": [
    "ls_obs_data.head()"
   ]
  },
  {
   "cell_type": "code",
   "execution_count": 4,
   "metadata": {},
   "outputs": [
    {
     "data": {
      "text/plain": [
       "Index(['ID', 'experiment', 'condition', 'trial', 'shifted_epoch_trial',\n",
       "       'cp_with_slow_fast', 'obs_cp_with_slow_fast', 'p_id_accuracy', 'rt',\n",
       "       'lr_choice', 'lr_solution', 'cue_choice', 'high_p_cue', 'low_p_cue',\n",
       "       'high_val_cue', 'low_val_cue', 'obs_accuracy', 'reward',\n",
       "       'cumulative_reward', 'iti', 'total_trial_time', 'epoch_n',\n",
       "       'epoch_trial', 'n_epoch_trials', 'prop_112', 'cpp', 'ideal_B',\n",
       "       'target_B'],\n",
       "      dtype='object')"
      ]
     },
     "execution_count": 4,
     "metadata": {},
     "output_type": "execute_result"
    }
   ],
   "source": [
    "ls_obs_data.columns"
   ]
  },
  {
   "cell_type": "code",
   "execution_count": 5,
   "metadata": {},
   "outputs": [],
   "source": [
    "lv_acc = ls_obs_data.loc[ls_obs_data.condition  == 'lv',[ 'p_id_accuracy', 'ID']]\n",
    "hv_acc = ls_obs_data.loc[ls_obs_data.condition  == 'hv', ['p_id_accuracy', 'ID']]"
   ]
  },
  {
   "cell_type": "code",
   "execution_count": 6,
   "metadata": {},
   "outputs": [],
   "source": [
    "lc_acc = ls_obs_data.loc[ls_obs_data.condition  == 'lc',[ 'p_id_accuracy', 'ID']]\n",
    "hc_acc = ls_obs_data.loc[ls_obs_data.condition  == 'hc', ['p_id_accuracy', 'ID']]"
   ]
  },
  {
   "cell_type": "code",
   "execution_count": 9,
   "metadata": {},
   "outputs": [],
   "source": [
    "lv_acc_mean=lv_acc.groupby('ID')['p_id_accuracy'].mean()\n",
    "hv_acc_mean=hv_acc.groupby('ID')['p_id_accuracy'].mean()\n",
    "\n",
    "lc_acc_mean=lc_acc.groupby('ID')['p_id_accuracy'].mean()\n",
    "hc_acc_mean=hc_acc.groupby('ID')['p_id_accuracy'].mean()"
   ]
  },
  {
   "cell_type": "code",
   "execution_count": 8,
   "metadata": {},
   "outputs": [],
   "source": [
    "# def plot_unity(xdata, ydata, **kwargs):\n",
    "#     mn = min(xdata.min(), ydata.min())\n",
    "#     mx = max(xdata.max(), ydata.max())\n",
    "#     points = np.linspace(mn, mx, 100)\n",
    "#     plt.gca().plot(points, points, color='k', marker=None,\n",
    "#             linestyle='--', linewidth=1.0)"
   ]
  },
  {
   "cell_type": "code",
   "execution_count": 10,
   "metadata": {},
   "outputs": [],
   "source": [
    "xlim = [0.25, 0.55]\n",
    "ylim = xlim\n",
    "\n",
    "ticks = np.arange(xlim[0], xlim[1], 0.05)"
   ]
  },
  {
   "cell_type": "code",
   "execution_count": 20,
   "metadata": {},
   "outputs": [
    {
     "data": {
      "text/plain": [
       "[<matplotlib.lines.Line2D at 0x115a68eb8>]"
      ]
     },
     "execution_count": 20,
     "metadata": {},
     "output_type": "execute_result"
    },
    {
     "data": {
      "image/png": "[encoded data removed]",
      "text/plain": [
       "<matplotlib.figure.Figure at 0x115feff60>"
      ]
     },
     "metadata": {},
     "output_type": "display_data"
    }
   ],
   "source": [
    "g = (sns.jointplot(x=lv_acc_mean, y=hv_acc_mean, kind=\"reg\", color='forestgreen').set_axis_labels(\"Low Volatility\", \"High Volatility\"))\n",
    "\n",
    "x0, x1 = g.ax_joint.get_xlim()\n",
    "y0, y1 = g.ax_joint.get_ylim()\n",
    "lims = [max(x0, y0), min(x1, y1)]\n",
    "g.ax_joint.plot(lims, lims, '-k')   \n",
    "# g.ax_joint.set_xticks(ticks)\n",
    "# g.ax_joint.set_yticks(ticks)\n",
    "# plt.savefig(\"volatility_accs.pdf\", dpi=600)\n",
    "\n",
    "# g.x = lv_acc.p_id_accuracy\n",
    "# g.y = hv_acc.p_id_accuracy\n",
    "# g.plot_joint(plt.scatter, marker='x', c='b', s=50)\n",
    "plt.savefig(\"volatility_acc.pdf\", dpi=600)\n"
   ]
  },
  {
   "cell_type": "code",
   "execution_count": 23,
   "metadata": {},
   "outputs": [
    {
     "data": {
      "text/plain": [
       "[<matplotlib.lines.Line2D at 0x11609d4a8>]"
      ]
     },
     "execution_count": 23,
     "metadata": {},
     "output_type": "execute_result"
    },
    {
     "data": {
      "image/png": "[encoded data removed]",
      "text/plain": [
       "<matplotlib.figure.Figure at 0x11609de10>"
      ]
     },
     "metadata": {},
     "output_type": "display_data"
    }
   ],
   "source": [
    "g = (sns.jointplot(x=lc_acc_mean, y=hc_acc_mean, kind=\"reg\", color = 'blue').set_axis_labels(\"Low Conflict\", \"High Conflict\"))\n",
    "\n",
    "x0, x1 = g.ax_joint.get_xlim()\n",
    "y0, y1 = g.ax_joint.get_ylim()\n",
    "lims = [max(x0, y0), min(x1, y1)]\n",
    "g.ax_joint.plot(lims, lims, '-k')   \n",
    "\n",
    "# g.ax_joint.set_xticks(ticks)\n",
    "# g.ax_joint.set_yticks(ticks)\n",
    "\n",
    "# plt.savefig(\"conflict_accs.pdf\", dpi=600)"
   ]
  }
 ],
 "metadata": {
  "kernelspec": {
   "display_name": "Python 3",
   "language": "python",
   "name": "python3"
  },
  "language_info": {
   "codemirror_mode": {
    "name": "ipython",
    "version": 3
   },
   "file_extension": ".py",
   "mimetype": "text/x-python",
   "name": "python",
   "nbconvert_exporter": "python",
   "pygments_lexer": "ipython3",
   "version": "3.5.5"
  }
 },
 "nbformat": 4,
 "nbformat_minor": 2
}
