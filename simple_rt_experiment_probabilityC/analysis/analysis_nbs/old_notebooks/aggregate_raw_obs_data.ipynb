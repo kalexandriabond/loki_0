{
 "cells": [
  {
   "cell_type": "code",
   "execution_count": 1,
   "metadata": {},
   "outputs": [],
   "source": [
    "#import modules \n",
    "import pandas as pd #dataframes \n",
    "import glob #for pattern checking \n",
    "import re  #regular expressions\n",
    "import numpy as np #numerical computing \n",
    "import matplotlib.pyplot as plt #plotting\n",
    "import seaborn as sns \n",
    "from scipy import stats \n",
    "from sys import platform #for checking platform \n",
    "\n",
    "#change the home directory based on os\n",
    "if platform == 'linux':\n",
    "    home = '/home/krista/'\n",
    "elif platform == 'darwin': \n",
    "    home = '/Users/krista/'\n",
    "\n",
    "data_path=home+'Dropbox/loki_0/simple_rt_experiment_probabilityC/data'\n",
    "print_data_path=home+'Dropbox/loki_0/simple_rt_experiment_probabilityC/analysis/aggregated_data/'\n",
    "\n",
    "#cond0: lc\n",
    "#cond1: hc\n",
    "#cond2: hv\n",
    "#cond3: lv"
   ]
  },
  {
   "cell_type": "code",
   "execution_count": 2,
   "metadata": {},
   "outputs": [],
   "source": [
    "pd.options.mode.chained_assignment = None"
   ]
  },
  {
   "cell_type": "code",
   "execution_count": 3,
   "metadata": {},
   "outputs": [
    {
     "name": "stdout",
     "output_type": "stream",
     "text": [
      "96\n",
      "57600\n"
     ]
    }
   ],
   "source": [
    "#calculate expected number of files for error-checking\n",
    "n_conditions = 4\n",
    "n_participants = 24 \n",
    "n_clean_trials = 600\n",
    "\n",
    "total_n_files = n_conditions*n_participants\n",
    "total_n_clean_trials = total_n_files*n_clean_trials\n",
    "print(total_n_files)\n",
    "print(total_n_clean_trials)"
   ]
  },
  {
   "cell_type": "code",
   "execution_count": 4,
   "metadata": {},
   "outputs": [
    {
     "name": "stdout",
     "output_type": "stream",
     "text": [
      "['0761' '0762' '0763' '0764' '0765' '0766' '0767' '0768' '0769' '0770'\n",
      " '0771' '0772' '0773' '0774' '0775' '0776' '0777' '0778' '0779' '0780'\n",
      " '0781' '0782' '0783' '0784']\n",
      "['hc' 'hv' 'lc' 'lv']\n",
      "24\n",
      "4\n"
     ]
    }
   ],
   "source": [
    "#search for pattern that indicates the dataset\n",
    "all_data_list = glob.glob(data_path+'/07[0-9][0-9]_cond[0-9]_trialset*[0-9].csv')\n",
    "len(all_data_list) == total_n_files\n",
    "\n",
    "#compile regular expressions for ID and condition \n",
    "ID_re = re.compile('07[0-9][0-9]')\n",
    "condition_re = re.compile('cond[0-9]')\n",
    "\n",
    "#find matching expression in list \n",
    "IDs = np.hstack(map(ID_re.findall, all_data_list))\n",
    "cond_codes = np.hstack(map(condition_re.findall, all_data_list))\n",
    "\n",
    "#decode condition numbers \n",
    "cond_names = ['lc', 'hc', 'hv', 'lv']\n",
    "decoded_conditions = np.hstack(map(lambda x: cond_names[int(x[-1])], cond_codes))\n",
    "\n",
    "#check unique IDs and conditions\n",
    "unique_IDs = np.unique(IDs)\n",
    "unique_conditions = np.unique(decoded_conditions)\n",
    "\n",
    "print(unique_IDs)\n",
    "print(unique_conditions)\n",
    "\n",
    "print(len(unique_IDs))\n",
    "print(len(unique_conditions))"
   ]
  },
  {
   "cell_type": "code",
   "execution_count": 5,
   "metadata": {},
   "outputs": [
    {
     "data": {
      "text/plain": [
       "(58379, 13)"
      ]
     },
     "execution_count": 5,
     "metadata": {},
     "output_type": "execute_result"
    }
   ],
   "source": [
    "#construct a dataframe \n",
    "data_df = pd.concat((pd.read_csv(d) for d in all_data_list))\n",
    "#strip whitespace from col. names for indexing later\n",
    "data_df.columns = data_df.columns.str.strip()\n",
    "\n",
    "#create vectors of IDs and conditions \n",
    "data_df['ID'] =  np.hstack(np.repeat(id, len(pd.read_csv(fname))) for id,fname in zip(IDs,all_data_list))\n",
    "data_df['condition'] = np.hstack(np.repeat(c, len(pd.read_csv(fname))) for c,fname in zip(decoded_conditions,all_data_list))\n",
    "\n",
    "#strip leading zeros from IDs\n",
    "data_df.ID = data_df.ID.str.lstrip('0')\n",
    "\n",
    "\n",
    "data_df.head(10)\n",
    "data_df.tail()\n",
    "\n",
    "#n_trials will be longer than n_clean_trials if repeat trials [too fast/slow]\n",
    "data_df.shape"
   ]
  },
  {
   "cell_type": "code",
   "execution_count": 6,
   "metadata": {},
   "outputs": [
    {
     "name": "stdout",
     "output_type": "stream",
     "text": [
      "[-2. -1.  0.  1.]\n"
     ]
    }
   ],
   "source": [
    "trial_flags = np.unique(data_df.cp_with_slow_fast)\n",
    "print(trial_flags)"
   ]
  },
  {
   "cell_type": "code",
   "execution_count": 7,
   "metadata": {},
   "outputs": [],
   "source": [
    "#find all fast/slow trials\n",
    "fast_trials = data_df.cp_with_slow_fast == -2\n",
    "slow_trials = data_df.cp_with_slow_fast == -1\n",
    "lc = data_df.condition == 'lc'\n",
    "hc = data_df.condition == 'hc'\n",
    "lv = data_df.condition == 'lv'\n",
    "hv = data_df.condition == 'hv'"
   ]
  },
  {
   "cell_type": "code",
   "execution_count": 8,
   "metadata": {},
   "outputs": [
    {
     "data": {
      "text/plain": [
       "(24     0.094082\n",
       " 51     0.065540\n",
       " 78     0.055153\n",
       " 82     0.059268\n",
       " 130    0.055171\n",
       " Name: rt, dtype: float64, 413    1.008746\n",
       " 484    1.186953\n",
       " 13     1.177345\n",
       " 14     1.921376\n",
       " 62     1.295908\n",
       " Name: rt, dtype: float64)"
      ]
     },
     "execution_count": 8,
     "metadata": {},
     "output_type": "execute_result"
    }
   ],
   "source": [
    "data_df[fast_trials].rt.head(), data_df[slow_trials].rt.head()"
   ]
  },
  {
   "cell_type": "code",
   "execution_count": 9,
   "metadata": {},
   "outputs": [
    {
     "data": {
      "text/html": [
       "<div>\n",
       "<style scoped>\n",
       "    .dataframe tbody tr th:only-of-type {\n",
       "        vertical-align: middle;\n",
       "    }\n",
       "\n",
       "    .dataframe tbody tr th {\n",
       "        vertical-align: top;\n",
       "    }\n",
       "\n",
       "    .dataframe thead th {\n",
       "        text-align: right;\n",
       "    }\n",
       "</style>\n",
       "<table border=\"1\" class=\"dataframe\">\n",
       "  <thead>\n",
       "    <tr style=\"text-align: right;\">\n",
       "      <th></th>\n",
       "      <th>choice</th>\n",
       "      <th>accuracy</th>\n",
       "      <th>solution</th>\n",
       "      <th>reward</th>\n",
       "      <th>cumulative_reward</th>\n",
       "      <th>rt</th>\n",
       "      <th>total_trial_time</th>\n",
       "      <th>iti</th>\n",
       "      <th>cp_with_slow_fast</th>\n",
       "      <th>obs_cp_with_slow_fast</th>\n",
       "      <th>high_val_cue</th>\n",
       "      <th>ID</th>\n",
       "      <th>condition</th>\n",
       "    </tr>\n",
       "  </thead>\n",
       "  <tbody>\n",
       "    <tr>\n",
       "      <th>0</th>\n",
       "      <td>0.0</td>\n",
       "      <td>1.0</td>\n",
       "      <td>0.0</td>\n",
       "      <td>3.0</td>\n",
       "      <td>602.0</td>\n",
       "      <td>0.755284</td>\n",
       "      <td>2.342904</td>\n",
       "      <td>0.594449</td>\n",
       "      <td>0.0</td>\n",
       "      <td>0.0</td>\n",
       "      <td>112.0</td>\n",
       "      <td>777</td>\n",
       "      <td>lc</td>\n",
       "    </tr>\n",
       "    <tr>\n",
       "      <th>1</th>\n",
       "      <td>0.0</td>\n",
       "      <td>0.0</td>\n",
       "      <td>1.0</td>\n",
       "      <td>0.0</td>\n",
       "      <td>601.0</td>\n",
       "      <td>0.593914</td>\n",
       "      <td>2.038654</td>\n",
       "      <td>0.466727</td>\n",
       "      <td>0.0</td>\n",
       "      <td>0.0</td>\n",
       "      <td>112.0</td>\n",
       "      <td>777</td>\n",
       "      <td>lc</td>\n",
       "    </tr>\n",
       "    <tr>\n",
       "      <th>2</th>\n",
       "      <td>0.0</td>\n",
       "      <td>1.0</td>\n",
       "      <td>0.0</td>\n",
       "      <td>4.0</td>\n",
       "      <td>604.0</td>\n",
       "      <td>0.689023</td>\n",
       "      <td>2.155747</td>\n",
       "      <td>0.472454</td>\n",
       "      <td>0.0</td>\n",
       "      <td>0.0</td>\n",
       "      <td>112.0</td>\n",
       "      <td>777</td>\n",
       "      <td>lc</td>\n",
       "    </tr>\n",
       "    <tr>\n",
       "      <th>3</th>\n",
       "      <td>0.0</td>\n",
       "      <td>1.0</td>\n",
       "      <td>0.0</td>\n",
       "      <td>3.0</td>\n",
       "      <td>606.0</td>\n",
       "      <td>0.640144</td>\n",
       "      <td>1.891617</td>\n",
       "      <td>0.264370</td>\n",
       "      <td>0.0</td>\n",
       "      <td>0.0</td>\n",
       "      <td>112.0</td>\n",
       "      <td>777</td>\n",
       "      <td>lc</td>\n",
       "    </tr>\n",
       "    <tr>\n",
       "      <th>4</th>\n",
       "      <td>1.0</td>\n",
       "      <td>1.0</td>\n",
       "      <td>1.0</td>\n",
       "      <td>2.0</td>\n",
       "      <td>607.0</td>\n",
       "      <td>0.475835</td>\n",
       "      <td>1.773515</td>\n",
       "      <td>0.321186</td>\n",
       "      <td>0.0</td>\n",
       "      <td>0.0</td>\n",
       "      <td>112.0</td>\n",
       "      <td>777</td>\n",
       "      <td>lc</td>\n",
       "    </tr>\n",
       "  </tbody>\n",
       "</table>\n",
       "</div>"
      ],
      "text/plain": [
       "   choice  accuracy  solution  reward  cumulative_reward        rt  \\\n",
       "0     0.0       1.0       0.0     3.0              602.0  0.755284   \n",
       "1     0.0       0.0       1.0     0.0              601.0  0.593914   \n",
       "2     0.0       1.0       0.0     4.0              604.0  0.689023   \n",
       "3     0.0       1.0       0.0     3.0              606.0  0.640144   \n",
       "4     1.0       1.0       1.0     2.0              607.0  0.475835   \n",
       "\n",
       "   total_trial_time       iti  cp_with_slow_fast  obs_cp_with_slow_fast  \\\n",
       "0          2.342904  0.594449                0.0                    0.0   \n",
       "1          2.038654  0.466727                0.0                    0.0   \n",
       "2          2.155747  0.472454                0.0                    0.0   \n",
       "3          1.891617  0.264370                0.0                    0.0   \n",
       "4          1.773515  0.321186                0.0                    0.0   \n",
       "\n",
       "   high_val_cue   ID condition  \n",
       "0         112.0  777        lc  \n",
       "1         112.0  777        lc  \n",
       "2         112.0  777        lc  \n",
       "3         112.0  777        lc  \n",
       "4         112.0  777        lc  "
      ]
     },
     "execution_count": 9,
     "metadata": {},
     "output_type": "execute_result"
    }
   ],
   "source": [
    "data_df[lc].head()"
   ]
  },
  {
   "cell_type": "code",
   "execution_count": 10,
   "metadata": {},
   "outputs": [
    {
     "name": "stdout",
     "output_type": "stream",
     "text": [
      "cleaned df shape matches expected length?  True\n",
      "trials outside of rt bounds  Empty DataFrame\n",
      "Columns: [choice, accuracy, solution, reward, cumulative_reward, rt, total_trial_time, iti, cp_with_slow_fast, obs_cp_with_slow_fast, high_val_cue, ID, condition]\n",
      "Index: [] Empty DataFrame\n",
      "Columns: [choice, accuracy, solution, reward, cumulative_reward, rt, total_trial_time, iti, cp_with_slow_fast, obs_cp_with_slow_fast, high_val_cue, ID, condition]\n",
      "Index: []\n"
     ]
    }
   ],
   "source": [
    "#clean df \n",
    "#only keep trials with 1 or 0 flags (get rid of fast/slow trials)\n",
    "cleaned_df = data_df[(data_df.cp_with_slow_fast == 1) | (data_df.cp_with_slow_fast == 0)]\n",
    "#should be equal\n",
    "print('cleaned df shape matches expected length? ', cleaned_df.shape[0] == total_n_clean_trials)\n",
    "#should be empty df \n",
    "print('trials outside of rt bounds ', cleaned_df[cleaned_df.rt > 1], cleaned_df[cleaned_df.rt < .1])"
   ]
  },
  {
   "cell_type": "code",
   "execution_count": 11,
   "metadata": {},
   "outputs": [
    {
     "name": "stdout",
     "output_type": "stream",
     "text": [
      "median rt for lc 0.304108600242\n",
      "median rt for lv 0.302178534368\n",
      "median rt for hc 0.302474393511\n",
      "median rt for hv 0.311246236919\n"
     ]
    }
   ],
   "source": [
    "#harmonic mean for rts [more sensitive to outliers. see facts from figures, ratcliff, etc.]\n",
    "print('median rt for lc', stats.hmean(cleaned_df.rt[cleaned_df.condition == 'lc'])) \n",
    "print('median rt for lv', stats.hmean(cleaned_df.rt[cleaned_df.condition == 'lv']) )\n",
    "print('median rt for hc', stats.hmean(cleaned_df.rt[cleaned_df.condition == 'hc'])) \n",
    "print('median rt for hv', stats.hmean(cleaned_df.rt[cleaned_df.condition == 'hv']) )"
   ]
  },
  {
   "cell_type": "code",
   "execution_count": 12,
   "metadata": {},
   "outputs": [
    {
     "name": "stdout",
     "output_type": "stream",
     "text": [
      "median rt for lc 0.304419517517\n",
      "median rt for lv 0.301387429237\n",
      "median rt for hc 0.304340004921\n",
      "median rt for hv 0.311047911644\n"
     ]
    }
   ],
   "source": [
    "#median rts \n",
    "print('median rt for lc', np.median(cleaned_df.rt[cleaned_df.condition == 'lc'])) \n",
    "print('median rt for lv', np.median(cleaned_df.rt[cleaned_df.condition == 'lv']) )\n",
    "print('median rt for hc', np.median(cleaned_df.rt[cleaned_df.condition == 'hc'])) \n",
    "print('median rt for hv', np.median(cleaned_df.rt[cleaned_df.condition == 'hv']) )"
   ]
  },
  {
   "cell_type": "code",
   "execution_count": 13,
   "metadata": {},
   "outputs": [],
   "source": [
    "#create a vector of trial numbers\n",
    "cleaned_df['trial'] = np.tile(range(0,n_clean_trials), n_participants*n_conditions)\n",
    "#check that trials were counted correctly \n",
    "cleaned_df.groupby([\"ID\", \"condition\"])['trial'].count().unique()\n",
    "#set the first trial as a cp for correct counting of epochs \n",
    "cleaned_df.loc[cleaned_df.trial == 0, 'cp_with_slow_fast'] = 1"
   ]
  },
  {
   "cell_type": "code",
   "execution_count": 14,
   "metadata": {},
   "outputs": [],
   "source": [
    "#create epoch_n variable within each subject & condition \n",
    "cleaned_df['epoch_n']=cleaned_df.groupby([\"ID\", \"condition\"])[\"cp_with_slow_fast\"].transform(np.cumsum)"
   ]
  },
  {
   "cell_type": "code",
   "execution_count": 15,
   "metadata": {},
   "outputs": [],
   "source": [
    "#count epoch_trials within each epoch \n",
    "cleaned_df['epoch_trial']=cleaned_df.groupby([\"ID\", \"condition\", \"epoch_n\"])['trial'].transform(lambda x: range(0, len(x)))"
   ]
  },
  {
   "cell_type": "code",
   "execution_count": 16,
   "metadata": {},
   "outputs": [],
   "source": [
    "#get shifted epoch trials\n",
    "lag=2\n",
    "cleaned_df['shifted_epoch_trial']=cleaned_df.groupby([\"ID\", \"condition\", \"epoch_n\"])['epoch_trial'].transform(lambda x: x-(abs(x-x.max())<lag)*(x.max()+1))\n",
    "#if < 2 trials from end, then subtract max + 1 from trials; if not do nothing"
   ]
  },
  {
   "cell_type": "code",
   "execution_count": 17,
   "metadata": {},
   "outputs": [
    {
     "data": {
      "text/plain": [
       "(2564, 2554)"
      ]
     },
     "execution_count": 17,
     "metadata": {},
     "output_type": "execute_result"
    }
   ],
   "source": [
    "#check approx. equal numbers of -1 and -2 shifts (approx. because some epochs == 1 trial)\n",
    "sum(cleaned_df.groupby([\"ID\", \"condition\", \"epoch_n\"])['shifted_epoch_trial'].tail(2) == -1.), sum(cleaned_df.groupby([\"ID\", \"condition\", \"epoch_n\"])['shifted_epoch_trial'].tail(2) == -2.)"
   ]
  },
  {
   "cell_type": "code",
   "execution_count": 18,
   "metadata": {},
   "outputs": [],
   "source": [
    "#calc. proportion of trials where one target was rewarded (arbitrarily chosen)\n",
    "cleaned_df['prop_112']=cleaned_df.groupby([\"ID\", \"condition\", \"epoch_n\"])['high_val_cue'].transform(lambda x: sum(x == 112)/len(x))\n",
    "\n",
    "#add number of trials per epoch\n",
    "cleaned_df['n_epoch_trials']=cleaned_df.groupby([\"ID\", \"condition\", \"epoch_n\"])['epoch_trial'].transform(lambda x: x.max()+1)\n",
    "\n",
    "#calc. high p. & low p. target\n",
    "cleaned_df.loc[cleaned_df.prop_112 >= 0.5, 'high_p_cue'] = 112\n",
    "cleaned_df.loc[cleaned_df.prop_112 < 0.5, 'high_p_cue'] = 111\n",
    "\n",
    "cleaned_df.loc[cleaned_df.high_p_cue == 112, 'low_p_cue'] = 111\n",
    "cleaned_df.loc[cleaned_df.high_p_cue == 111, 'low_p_cue'] = 112"
   ]
  },
  {
   "cell_type": "code",
   "execution_count": 19,
   "metadata": {},
   "outputs": [],
   "source": [
    "cleaned_df.loc[cleaned_df.high_val_cue == 111, 'low_val_cue'] = 112\n",
    "cleaned_df.loc[cleaned_df.high_val_cue == 112, 'low_val_cue'] = 111"
   ]
  },
  {
   "cell_type": "code",
   "execution_count": 20,
   "metadata": {},
   "outputs": [
    {
     "name": "stdout",
     "output_type": "stream",
     "text": [
      "0\n"
     ]
    },
    {
     "data": {
      "text/plain": [
       "(array([ 111.,  112.]), array([ 112.,  111.]))"
      ]
     },
     "execution_count": 20,
     "metadata": {},
     "output_type": "execute_result"
    }
   ],
   "source": [
    "print(sum(cleaned_df.low_p_cue == cleaned_df.high_p_cue))\n",
    "cleaned_df.low_p_cue.unique(), cleaned_df.high_p_cue.unique()"
   ]
  },
  {
   "cell_type": "code",
   "execution_count": 21,
   "metadata": {},
   "outputs": [],
   "source": [
    "cleaned_df.loc[cleaned_df.accuracy == 1 , 'id_choice'] = cleaned_df.loc[cleaned_df.accuracy == 1 , 'high_val_cue']\n",
    "\n",
    "cleaned_df.loc[cleaned_df.accuracy == 0 , 'id_choice'] = cleaned_df.loc[cleaned_df.accuracy == 0 , 'low_val_cue']\n",
    "cleaned_df['p_id_accuracy'] = (cleaned_df.id_choice == cleaned_df.high_p_cue)*1"
   ]
  },
  {
   "cell_type": "code",
   "execution_count": 22,
   "metadata": {},
   "outputs": [],
   "source": [
    "#add exp. variable\n",
    "cleaned_df.loc[(cleaned_df.condition == 'lc')|(cleaned_df.condition == 'hc'),'experiment'] = 'conflict'\n",
    "cleaned_df.loc[(cleaned_df.condition == 'lv')|(cleaned_df.condition == 'hv'),'experiment'] = 'volatility'"
   ]
  },
  {
   "cell_type": "code",
   "execution_count": 23,
   "metadata": {},
   "outputs": [],
   "source": [
    "#rename for clarity\n",
    "cleaned_df = cleaned_df.rename(index=str, columns={\"choice\": \"lr_choice\", \"accuracy\": \"obs_accuracy\", \"solution\": \"lr_solution\", \"id_choice\": \"cue_choice\"})"
   ]
  },
  {
   "cell_type": "code",
   "execution_count": 24,
   "metadata": {},
   "outputs": [],
   "source": [
    "#clean up the order of columns\n",
    "cleaned_df=cleaned_df.reindex(columns=['ID', 'experiment','condition','trial', 'shifted_epoch_trial','cp_with_slow_fast', \n",
    "                      'obs_cp_with_slow_fast','p_id_accuracy', 'rt', 'lr_choice', 'lr_solution', 'cue_choice', 'high_p_cue', 'low_p_cue', 'high_val_cue', 'low_val_cue',  'obs_accuracy', 'reward', \n",
    "                      'cumulative_reward','iti', 'total_trial_time', 'epoch_n', \n",
    "                      'epoch_trial', 'n_epoch_trials', \n",
    "                       'prop_112'])"
   ]
  },
  {
   "cell_type": "code",
   "execution_count": 25,
   "metadata": {},
   "outputs": [
    {
     "data": {
      "text/html": [
       "<div>\n",
       "<style scoped>\n",
       "    .dataframe tbody tr th:only-of-type {\n",
       "        vertical-align: middle;\n",
       "    }\n",
       "\n",
       "    .dataframe tbody tr th {\n",
       "        vertical-align: top;\n",
       "    }\n",
       "\n",
       "    .dataframe thead th {\n",
       "        text-align: right;\n",
       "    }\n",
       "</style>\n",
       "<table border=\"1\" class=\"dataframe\">\n",
       "  <thead>\n",
       "    <tr style=\"text-align: right;\">\n",
       "      <th></th>\n",
       "      <th>ID</th>\n",
       "      <th>experiment</th>\n",
       "      <th>condition</th>\n",
       "      <th>trial</th>\n",
       "      <th>shifted_epoch_trial</th>\n",
       "      <th>cp_with_slow_fast</th>\n",
       "      <th>obs_cp_with_slow_fast</th>\n",
       "      <th>p_id_accuracy</th>\n",
       "      <th>rt</th>\n",
       "      <th>lr_choice</th>\n",
       "      <th>...</th>\n",
       "      <th>low_val_cue</th>\n",
       "      <th>obs_accuracy</th>\n",
       "      <th>reward</th>\n",
       "      <th>cumulative_reward</th>\n",
       "      <th>iti</th>\n",
       "      <th>total_trial_time</th>\n",
       "      <th>epoch_n</th>\n",
       "      <th>epoch_trial</th>\n",
       "      <th>n_epoch_trials</th>\n",
       "      <th>prop_112</th>\n",
       "    </tr>\n",
       "  </thead>\n",
       "  <tbody>\n",
       "    <tr>\n",
       "      <th>0</th>\n",
       "      <td>776</td>\n",
       "      <td>volatility</td>\n",
       "      <td>lv</td>\n",
       "      <td>0</td>\n",
       "      <td>0</td>\n",
       "      <td>1.0</td>\n",
       "      <td>0.0</td>\n",
       "      <td>1</td>\n",
       "      <td>0.554065</td>\n",
       "      <td>1.0</td>\n",
       "      <td>...</td>\n",
       "      <td>111.0</td>\n",
       "      <td>1.0</td>\n",
       "      <td>3.0</td>\n",
       "      <td>602.0</td>\n",
       "      <td>0.315112</td>\n",
       "      <td>1.863330</td>\n",
       "      <td>1.0</td>\n",
       "      <td>0</td>\n",
       "      <td>34</td>\n",
       "      <td>0.911765</td>\n",
       "    </tr>\n",
       "    <tr>\n",
       "      <th>1</th>\n",
       "      <td>776</td>\n",
       "      <td>volatility</td>\n",
       "      <td>lv</td>\n",
       "      <td>1</td>\n",
       "      <td>1</td>\n",
       "      <td>0.0</td>\n",
       "      <td>0.0</td>\n",
       "      <td>1</td>\n",
       "      <td>0.422159</td>\n",
       "      <td>0.0</td>\n",
       "      <td>...</td>\n",
       "      <td>111.0</td>\n",
       "      <td>1.0</td>\n",
       "      <td>5.0</td>\n",
       "      <td>606.0</td>\n",
       "      <td>0.320283</td>\n",
       "      <td>1.721799</td>\n",
       "      <td>1.0</td>\n",
       "      <td>1</td>\n",
       "      <td>34</td>\n",
       "      <td>0.911765</td>\n",
       "    </tr>\n",
       "    <tr>\n",
       "      <th>2</th>\n",
       "      <td>776</td>\n",
       "      <td>volatility</td>\n",
       "      <td>lv</td>\n",
       "      <td>2</td>\n",
       "      <td>2</td>\n",
       "      <td>0.0</td>\n",
       "      <td>0.0</td>\n",
       "      <td>1</td>\n",
       "      <td>0.310826</td>\n",
       "      <td>0.0</td>\n",
       "      <td>...</td>\n",
       "      <td>111.0</td>\n",
       "      <td>1.0</td>\n",
       "      <td>1.0</td>\n",
       "      <td>606.0</td>\n",
       "      <td>0.704584</td>\n",
       "      <td>2.001336</td>\n",
       "      <td>1.0</td>\n",
       "      <td>2</td>\n",
       "      <td>34</td>\n",
       "      <td>0.911765</td>\n",
       "    </tr>\n",
       "    <tr>\n",
       "      <th>3</th>\n",
       "      <td>776</td>\n",
       "      <td>volatility</td>\n",
       "      <td>lv</td>\n",
       "      <td>3</td>\n",
       "      <td>3</td>\n",
       "      <td>0.0</td>\n",
       "      <td>1.0</td>\n",
       "      <td>1</td>\n",
       "      <td>0.256866</td>\n",
       "      <td>0.0</td>\n",
       "      <td>...</td>\n",
       "      <td>112.0</td>\n",
       "      <td>0.0</td>\n",
       "      <td>0.0</td>\n",
       "      <td>605.0</td>\n",
       "      <td>0.503199</td>\n",
       "      <td>1.748328</td>\n",
       "      <td>1.0</td>\n",
       "      <td>3</td>\n",
       "      <td>34</td>\n",
       "      <td>0.911765</td>\n",
       "    </tr>\n",
       "    <tr>\n",
       "      <th>4</th>\n",
       "      <td>776</td>\n",
       "      <td>volatility</td>\n",
       "      <td>lv</td>\n",
       "      <td>4</td>\n",
       "      <td>4</td>\n",
       "      <td>0.0</td>\n",
       "      <td>1.0</td>\n",
       "      <td>1</td>\n",
       "      <td>0.229932</td>\n",
       "      <td>0.0</td>\n",
       "      <td>...</td>\n",
       "      <td>111.0</td>\n",
       "      <td>1.0</td>\n",
       "      <td>2.0</td>\n",
       "      <td>606.0</td>\n",
       "      <td>0.376770</td>\n",
       "      <td>1.606700</td>\n",
       "      <td>1.0</td>\n",
       "      <td>4</td>\n",
       "      <td>34</td>\n",
       "      <td>0.911765</td>\n",
       "    </tr>\n",
       "  </tbody>\n",
       "</table>\n",
       "<p>5 rows × 25 columns</p>\n",
       "</div>"
      ],
      "text/plain": [
       "    ID  experiment condition  trial  shifted_epoch_trial  cp_with_slow_fast  \\\n",
       "0  776  volatility        lv      0                    0                1.0   \n",
       "1  776  volatility        lv      1                    1                0.0   \n",
       "2  776  volatility        lv      2                    2                0.0   \n",
       "3  776  volatility        lv      3                    3                0.0   \n",
       "4  776  volatility        lv      4                    4                0.0   \n",
       "\n",
       "   obs_cp_with_slow_fast  p_id_accuracy        rt  lr_choice    ...     \\\n",
       "0                    0.0              1  0.554065        1.0    ...      \n",
       "1                    0.0              1  0.422159        0.0    ...      \n",
       "2                    0.0              1  0.310826        0.0    ...      \n",
       "3                    1.0              1  0.256866        0.0    ...      \n",
       "4                    1.0              1  0.229932        0.0    ...      \n",
       "\n",
       "   low_val_cue  obs_accuracy  reward  cumulative_reward       iti  \\\n",
       "0        111.0           1.0     3.0              602.0  0.315112   \n",
       "1        111.0           1.0     5.0              606.0  0.320283   \n",
       "2        111.0           1.0     1.0              606.0  0.704584   \n",
       "3        112.0           0.0     0.0              605.0  0.503199   \n",
       "4        111.0           1.0     2.0              606.0  0.376770   \n",
       "\n",
       "   total_trial_time  epoch_n  epoch_trial  n_epoch_trials  prop_112  \n",
       "0          1.863330      1.0            0              34  0.911765  \n",
       "1          1.721799      1.0            1              34  0.911765  \n",
       "2          2.001336      1.0            2              34  0.911765  \n",
       "3          1.748328      1.0            3              34  0.911765  \n",
       "4          1.606700      1.0            4              34  0.911765  \n",
       "\n",
       "[5 rows x 25 columns]"
      ]
     },
     "execution_count": 25,
     "metadata": {},
     "output_type": "execute_result"
    }
   ],
   "source": [
    "cleaned_df.head()"
   ]
  },
  {
   "cell_type": "code",
   "execution_count": 26,
   "metadata": {},
   "outputs": [
    {
     "name": "stdout",
     "output_type": "stream",
     "text": [
      "mean rt for lc 0.718958333333\n",
      "mean rt for lv 0.674166666667\n",
      "mean rt for hc 0.603888888889\n",
      "mean rt for hv 0.616875\n"
     ]
    }
   ],
   "source": [
    "#mean acc \n",
    "print('mean rt for lc', np.mean(cleaned_df.p_id_accuracy[cleaned_df.condition == 'lc'])) \n",
    "print('mean rt for lv', np.mean(cleaned_df.p_id_accuracy[cleaned_df.condition == 'lv']) )\n",
    "print('mean rt for hc', np.mean(cleaned_df.p_id_accuracy[cleaned_df.condition == 'hc'])) \n",
    "print('mean rt for hv', np.mean(cleaned_df.p_id_accuracy[cleaned_df.condition == 'hv']) )"
   ]
  },
  {
   "cell_type": "code",
   "execution_count": 27,
   "metadata": {},
   "outputs": [],
   "source": [
    "mod_df = cleaned_df.loc[cleaned_df.shifted_epoch_trial <= 10, ]"
   ]
  },
  {
   "cell_type": "code",
   "execution_count": 28,
   "metadata": {},
   "outputs": [
    {
     "data": {
      "text/plain": [
       "<matplotlib.axes._subplots.AxesSubplot at 0x11146f358>"
      ]
     },
     "execution_count": 28,
     "metadata": {},
     "output_type": "execute_result"
    },
    {
     "data": {
      "image/png": "[encoded data removed]",
      "text/plain": [
       "<matplotlib.figure.Figure at 0x110b0fb00>"
      ]
     },
     "metadata": {},
     "output_type": "display_data"
    }
   ],
   "source": [
    "sns.pointplot(data=mod_df, units='ID', ci=95, x=\"shifted_epoch_trial\", y=\"rt\", hue='condition', estimator=stats.hmean)"
   ]
  },
  {
   "cell_type": "code",
   "execution_count": 29,
   "metadata": {},
   "outputs": [
    {
     "data": {
      "text/plain": [
       "<matplotlib.axes._subplots.AxesSubplot at 0x110594b38>"
      ]
     },
     "execution_count": 29,
     "metadata": {},
     "output_type": "execute_result"
    },
    {
     "data": {
      "image/png": "[encoded data removed]",
      "text/plain": [
       "<matplotlib.figure.Figure at 0x11146f7b8>"
      ]
     },
     "metadata": {},
     "output_type": "display_data"
    }
   ],
   "source": [
    "sns.pointplot(data=mod_df, ci=95, x=\"shifted_epoch_trial\", y=\"p_id_accuracy\", hue='condition', units='ID')"
   ]
  },
  {
   "cell_type": "code",
   "execution_count": 30,
   "metadata": {},
   "outputs": [
    {
     "name": "stderr",
     "output_type": "stream",
     "text": [
      "/Users/Krista/anaconda/lib/python3.6/site-packages/seaborn/axisgrid.py:715: UserWarning: Using the pointplot function without specifying `order` is likely to produce an incorrect plot.\n",
      "  warnings.warn(warning)\n"
     ]
    },
    {
     "data": {
      "image/png": "[encoded data removed]",
      "text/plain": [
       "<matplotlib.figure.Figure at 0x110588438>"
      ]
     },
     "metadata": {},
     "output_type": "display_data"
    }
   ],
   "source": [
    "sample_df = cleaned_df.loc[cleaned_df.ID == \"761\",]\n",
    "g = sns.FacetGrid(sample_df, col=\"condition\")\n",
    "g = g.map(sns.pointplot, \"trial\",\"rt\")"
   ]
  },
  {
   "cell_type": "code",
   "execution_count": 31,
   "metadata": {},
   "outputs": [
    {
     "name": "stderr",
     "output_type": "stream",
     "text": [
      "/Users/Krista/anaconda/lib/python3.6/site-packages/seaborn/axisgrid.py:715: UserWarning: Using the pointplot function without specifying `order` is likely to produce an incorrect plot.\n",
      "  warnings.warn(warning)\n"
     ]
    },
    {
     "data": {
      "image/png": "[encoded data removed]",
      "text/plain": [
       "<matplotlib.figure.Figure at 0x119a3a940>"
      ]
     },
     "metadata": {},
     "output_type": "display_data"
    }
   ],
   "source": [
    "g = sns.FacetGrid(sample_df, col=\"condition\")\n",
    "g = g.map(sns.pointplot, \"trial\",\"p_id_accuracy\")"
   ]
  },
  {
   "cell_type": "code",
   "execution_count": 32,
   "metadata": {},
   "outputs": [],
   "source": [
    "##print clean df \n",
    "cleaned_df.to_csv(print_data_path + 'cleaned_probC_obs_data.csv', index = False)\n",
    "##print raw df \n",
    "data_df.to_csv(print_data_path + 'raw_probC_obs_data.csv', index = False)"
   ]
  }
 ],
 "metadata": {
  "kernelspec": {
   "display_name": "Python 3",
   "language": "python",
   "name": "python3"
  },
  "language_info": {
   "codemirror_mode": {
    "name": "ipython",
    "version": 3
   },
   "file_extension": ".py",
   "mimetype": "text/x-python",
   "name": "python",
   "nbconvert_exporter": "python",
   "pygments_lexer": "ipython3",
   "version": "3.5.5"
  }
 },
 "nbformat": 4,
 "nbformat_minor": 2
}
