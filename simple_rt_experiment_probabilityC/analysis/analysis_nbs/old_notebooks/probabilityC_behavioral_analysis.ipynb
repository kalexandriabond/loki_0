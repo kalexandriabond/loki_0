{
 "cells": [
  {
   "cell_type": "code",
   "execution_count": 1,
   "metadata": {},
   "outputs": [
    {
     "name": "stderr",
     "output_type": "stream",
     "text": [
      "── Attaching packages ─────────────────────────────────────── tidyverse 1.2.1 ──\n",
      "✔ ggplot2 2.2.1     ✔ purrr   0.2.4\n",
      "✔ tibble  1.4.2     ✔ dplyr   0.7.4\n",
      "✔ tidyr   0.8.0     ✔ stringr 1.3.0\n",
      "✔ readr   1.1.1     ✔ forcats 0.3.0\n",
      "── Conflicts ────────────────────────────────────────── tidyverse_conflicts() ──\n",
      "✖ dplyr::filter() masks stats::filter()\n",
      "✖ dplyr::lag()    masks stats::lag()\n",
      "\n",
      "Attaching package: ‘reshape’\n",
      "\n",
      "The following object is masked from ‘package:dplyr’:\n",
      "\n",
      "    rename\n",
      "\n",
      "The following objects are masked from ‘package:tidyr’:\n",
      "\n",
      "    expand, smiths\n",
      "\n",
      "Loading required package: Matrix\n",
      "\n",
      "Attaching package: ‘Matrix’\n",
      "\n",
      "The following object is masked from ‘package:reshape’:\n",
      "\n",
      "    expand\n",
      "\n",
      "The following object is masked from ‘package:tidyr’:\n",
      "\n",
      "    expand\n",
      "\n",
      "Loading required package: coda\n"
     ]
    }
   ],
   "source": [
    "library(tidyverse)\n",
    "library(wesanderson)\n",
    "library(ggridges)\n",
    "library(ggthemes)\n",
    "library(reshape)\n",
    "library(lme4)\n",
    "library(coefplot2)\n",
    "source(\"../../../spydr_scripts/functions/get_os.R\")"
   ]
  },
  {
   "cell_type": "code",
   "execution_count": 2,
   "metadata": {},
   "outputs": [],
   "source": [
    "os <- get_os()\n",
    "if (os == 'linux'){home <- '/home/krista/'\n",
    "} else if(os == 'osx'){home <- '/Users/67981492/'}\n",
    "\n",
    "agg_data_path = paste0(home,'Dropbox/volatileValues/simple_rt_experiment_probabilityC/analysis/aggregated_data/')\n",
    "setwd(agg_data_path)"
   ]
  },
  {
   "cell_type": "code",
   "execution_count": 3,
   "metadata": {},
   "outputs": [
    {
     "data": {
      "text/html": [
       "24"
      ],
      "text/latex": [
       "24"
      ],
      "text/markdown": [
       "24"
      ],
      "text/plain": [
       "[1] 24"
      ]
     },
     "metadata": {},
     "output_type": "display_data"
    },
    {
     "data": {
      "text/html": [
       "4"
      ],
      "text/latex": [
       "4"
      ],
      "text/markdown": [
       "4"
      ],
      "text/plain": [
       "[1] 4"
      ]
     },
     "metadata": {},
     "output_type": "display_data"
    }
   ],
   "source": [
    "clean_df <- read_csv('clean_df.csv',col_types = cols())\n",
    "raw_df <- read_csv('raw_df_processed.csv',col_types = cols())\n",
    "epoch_df <- read_csv('epoch_df.csv',col_types = cols())\n",
    "\n",
    "(n_subjects = length(unique(clean_df$ID)))\n",
    "(n_conditions = length(unique(clean_df$condition)))\n",
    "n_clean_trials = 600\n",
    "\n",
    "# #do this when complete \n",
    "# clean_df$cont_trial <- rep(seq(1,n_clean_trials),n_subjects*n_conditions)\n",
    "# max(clean_df$cont_trial)\n",
    "# head(clean_df); head(raw_df)"
   ]
  },
  {
   "cell_type": "code",
   "execution_count": 5,
   "metadata": {},
   "outputs": [
    {
     "data": {
      "text/html": [
       "<table>\n",
       "<thead><tr><th scope=col>LR_choice</th><th scope=col>obs_LR_accuracy</th><th scope=col>obs_LR_solution</th><th scope=col>reward</th><th scope=col>cumulative_reward</th><th scope=col>rt</th><th scope=col>total_trial_time</th><th scope=col>iti</th><th scope=col>cp_with_slow_fast</th><th scope=col>obs_cp_with_slow_fast</th><th scope=col>⋯</th><th scope=col>prop_112</th><th scope=col>n_epoch_trials</th><th scope=col>p_id_solution</th><th scope=col>obs_low_val_cue</th><th scope=col>id_choice</th><th scope=col>p_id_accuracy</th><th scope=col>ID_num</th><th scope=col>timepoint</th><th scope=col>conflict</th><th scope=col>vol</th></tr></thead>\n",
       "<tbody>\n",
       "\t<tr><td>1        </td><td>0        </td><td>0        </td><td>0        </td><td>599      </td><td>0.7115700</td><td>2.385458 </td><td>0.6701990</td><td>1        </td><td>0        </td><td>⋯        </td><td>0.3142857</td><td>35       </td><td>111      </td><td>111      </td><td>111      </td><td>1        </td><td>761      </td><td>1        </td><td>high     </td><td>mod      </td></tr>\n",
       "\t<tr><td>1        </td><td>0        </td><td>0        </td><td>0        </td><td>598      </td><td>0.6814098</td><td>1.939019 </td><td>0.2597073</td><td>0        </td><td>1        </td><td>⋯        </td><td>0.3142857</td><td>35       </td><td>111      </td><td>112      </td><td>112      </td><td>0        </td><td>761      </td><td>1        </td><td>high     </td><td>mod      </td></tr>\n",
       "\t<tr><td>0        </td><td>1        </td><td>0        </td><td>2        </td><td>599      </td><td>0.7671180</td><td>2.498060 </td><td>0.7406146</td><td>0        </td><td>0        </td><td>⋯        </td><td>0.3142857</td><td>35       </td><td>111      </td><td>112      </td><td>111      </td><td>1        </td><td>761      </td><td>1        </td><td>high     </td><td>mod      </td></tr>\n",
       "\t<tr><td>1        </td><td>0        </td><td>0        </td><td>0        </td><td>598      </td><td>0.5072088</td><td>1.742433 </td><td>0.2502416</td><td>0        </td><td>0        </td><td>⋯        </td><td>0.3142857</td><td>35       </td><td>111      </td><td>112      </td><td>112      </td><td>0        </td><td>761      </td><td>1        </td><td>high     </td><td>mod      </td></tr>\n",
       "\t<tr><td>1        </td><td>1        </td><td>1        </td><td>2        </td><td>599      </td><td>0.6562591</td><td>2.350417 </td><td>0.7001898</td><td>0        </td><td>0        </td><td>⋯        </td><td>0.3142857</td><td>35       </td><td>111      </td><td>112      </td><td>111      </td><td>1        </td><td>761      </td><td>1        </td><td>high     </td><td>mod      </td></tr>\n",
       "\t<tr><td>0        </td><td>0        </td><td>1        </td><td>0        </td><td>598      </td><td>0.3423209</td><td>1.831150 </td><td>0.4982311</td><td>0        </td><td>1        </td><td>⋯        </td><td>0.3142857</td><td>35       </td><td>111      </td><td>111      </td><td>111      </td><td>1        </td><td>761      </td><td>1        </td><td>high     </td><td>mod      </td></tr>\n",
       "</tbody>\n",
       "</table>\n"
      ],
      "text/latex": [
       "\\begin{tabular}{r|llllllllllllllllllllllllllllll}\n",
       " LR\\_choice & obs\\_LR\\_accuracy & obs\\_LR\\_solution & reward & cumulative\\_reward & rt & total\\_trial\\_time & iti & cp\\_with\\_slow\\_fast & obs\\_cp\\_with\\_slow\\_fast & ⋯ & prop\\_112 & n\\_epoch\\_trials & p\\_id\\_solution & obs\\_low\\_val\\_cue & id\\_choice & p\\_id\\_accuracy & ID\\_num & timepoint & conflict & vol\\\\\n",
       "\\hline\n",
       "\t 1         & 0         & 0         & 0         & 599       & 0.7115700 & 2.385458  & 0.6701990 & 1         & 0         & ⋯         & 0.3142857 & 35        & 111       & 111       & 111       & 1         & 761       & 1         & high      & mod      \\\\\n",
       "\t 1         & 0         & 0         & 0         & 598       & 0.6814098 & 1.939019  & 0.2597073 & 0         & 1         & ⋯         & 0.3142857 & 35        & 111       & 112       & 112       & 0         & 761       & 1         & high      & mod      \\\\\n",
       "\t 0         & 1         & 0         & 2         & 599       & 0.7671180 & 2.498060  & 0.7406146 & 0         & 0         & ⋯         & 0.3142857 & 35        & 111       & 112       & 111       & 1         & 761       & 1         & high      & mod      \\\\\n",
       "\t 1         & 0         & 0         & 0         & 598       & 0.5072088 & 1.742433  & 0.2502416 & 0         & 0         & ⋯         & 0.3142857 & 35        & 111       & 112       & 112       & 0         & 761       & 1         & high      & mod      \\\\\n",
       "\t 1         & 1         & 1         & 2         & 599       & 0.6562591 & 2.350417  & 0.7001898 & 0         & 0         & ⋯         & 0.3142857 & 35        & 111       & 112       & 111       & 1         & 761       & 1         & high      & mod      \\\\\n",
       "\t 0         & 0         & 1         & 0         & 598       & 0.3423209 & 1.831150  & 0.4982311 & 0         & 1         & ⋯         & 0.3142857 & 35        & 111       & 111       & 111       & 1         & 761       & 1         & high      & mod      \\\\\n",
       "\\end{tabular}\n"
      ],
      "text/markdown": [
       "\n",
       "LR_choice | obs_LR_accuracy | obs_LR_solution | reward | cumulative_reward | rt | total_trial_time | iti | cp_with_slow_fast | obs_cp_with_slow_fast | ⋯ | prop_112 | n_epoch_trials | p_id_solution | obs_low_val_cue | id_choice | p_id_accuracy | ID_num | timepoint | conflict | vol | \n",
       "|---|---|---|---|---|---|\n",
       "| 1         | 0         | 0         | 0         | 599       | 0.7115700 | 2.385458  | 0.6701990 | 1         | 0         | ⋯         | 0.3142857 | 35        | 111       | 111       | 111       | 1         | 761       | 1         | high      | mod       | \n",
       "| 1         | 0         | 0         | 0         | 598       | 0.6814098 | 1.939019  | 0.2597073 | 0         | 1         | ⋯         | 0.3142857 | 35        | 111       | 112       | 112       | 0         | 761       | 1         | high      | mod       | \n",
       "| 0         | 1         | 0         | 2         | 599       | 0.7671180 | 2.498060  | 0.7406146 | 0         | 0         | ⋯         | 0.3142857 | 35        | 111       | 112       | 111       | 1         | 761       | 1         | high      | mod       | \n",
       "| 1         | 0         | 0         | 0         | 598       | 0.5072088 | 1.742433  | 0.2502416 | 0         | 0         | ⋯         | 0.3142857 | 35        | 111       | 112       | 112       | 0         | 761       | 1         | high      | mod       | \n",
       "| 1         | 1         | 1         | 2         | 599       | 0.6562591 | 2.350417  | 0.7001898 | 0         | 0         | ⋯         | 0.3142857 | 35        | 111       | 112       | 111       | 1         | 761       | 1         | high      | mod       | \n",
       "| 0         | 0         | 1         | 0         | 598       | 0.3423209 | 1.831150  | 0.4982311 | 0         | 1         | ⋯         | 0.3142857 | 35        | 111       | 111       | 111       | 1         | 761       | 1         | high      | mod       | \n",
       "\n",
       "\n"
      ],
      "text/plain": [
       "  LR_choice obs_LR_accuracy obs_LR_solution reward cumulative_reward rt       \n",
       "1 1         0               0               0      599               0.7115700\n",
       "2 1         0               0               0      598               0.6814098\n",
       "3 0         1               0               2      599               0.7671180\n",
       "4 1         0               0               0      598               0.5072088\n",
       "5 1         1               1               2      599               0.6562591\n",
       "6 0         0               1               0      598               0.3423209\n",
       "  total_trial_time iti       cp_with_slow_fast obs_cp_with_slow_fast ⋯\n",
       "1 2.385458         0.6701990 1                 0                     ⋯\n",
       "2 1.939019         0.2597073 0                 1                     ⋯\n",
       "3 2.498060         0.7406146 0                 0                     ⋯\n",
       "4 1.742433         0.2502416 0                 0                     ⋯\n",
       "5 2.350417         0.7001898 0                 0                     ⋯\n",
       "6 1.831150         0.4982311 0                 1                     ⋯\n",
       "  prop_112  n_epoch_trials p_id_solution obs_low_val_cue id_choice\n",
       "1 0.3142857 35             111           111             111      \n",
       "2 0.3142857 35             111           112             112      \n",
       "3 0.3142857 35             111           112             111      \n",
       "4 0.3142857 35             111           112             112      \n",
       "5 0.3142857 35             111           112             111      \n",
       "6 0.3142857 35             111           111             111      \n",
       "  p_id_accuracy ID_num timepoint conflict vol\n",
       "1 1             761    1         high     mod\n",
       "2 0             761    1         high     mod\n",
       "3 1             761    1         high     mod\n",
       "4 0             761    1         high     mod\n",
       "5 1             761    1         high     mod\n",
       "6 1             761    1         high     mod"
      ]
     },
     "metadata": {},
     "output_type": "display_data"
    }
   ],
   "source": [
    "head(epoch_df)"
   ]
  },
  {
   "cell_type": "code",
   "execution_count": 7,
   "metadata": {},
   "outputs": [
    {
     "data": {
      "text/html": [
       "<ol class=list-inline>\n",
       "\t<li>'LR_choice'</li>\n",
       "\t<li>'obs_LR_accuracy'</li>\n",
       "\t<li>'obs_LR_solution'</li>\n",
       "\t<li>'reward'</li>\n",
       "\t<li>'cumulative_reward'</li>\n",
       "\t<li>'rt'</li>\n",
       "\t<li>'total_trial_time'</li>\n",
       "\t<li>'iti'</li>\n",
       "\t<li>'cp_with_slow_fast'</li>\n",
       "\t<li>'obs_cp_with_slow_fast'</li>\n",
       "\t<li>'obs_high_val_cue'</li>\n",
       "\t<li>'ID'</li>\n",
       "\t<li>'condition'</li>\n",
       "\t<li>'coded_condition'</li>\n",
       "\t<li>'original_trial'</li>\n",
       "\t<li>'epoch_n'</li>\n",
       "\t<li>'epoch_trial'</li>\n",
       "\t<li>'shifted_epoch_trial'</li>\n",
       "\t<li>'max_epoch_n'</li>\n",
       "\t<li>'repeat_trial'</li>\n",
       "\t<li>'prop_112'</li>\n",
       "\t<li>'n_epoch_trials'</li>\n",
       "\t<li>'p_id_solution'</li>\n",
       "\t<li>'obs_low_val_cue'</li>\n",
       "\t<li>'id_choice'</li>\n",
       "\t<li>'p_id_accuracy'</li>\n",
       "\t<li>'ID_num'</li>\n",
       "\t<li>'timepoint'</li>\n",
       "\t<li>'conflict'</li>\n",
       "\t<li>'vol'</li>\n",
       "</ol>\n"
      ],
      "text/latex": [
       "\\begin{enumerate*}\n",
       "\\item 'LR\\_choice'\n",
       "\\item 'obs\\_LR\\_accuracy'\n",
       "\\item 'obs\\_LR\\_solution'\n",
       "\\item 'reward'\n",
       "\\item 'cumulative\\_reward'\n",
       "\\item 'rt'\n",
       "\\item 'total\\_trial\\_time'\n",
       "\\item 'iti'\n",
       "\\item 'cp\\_with\\_slow\\_fast'\n",
       "\\item 'obs\\_cp\\_with\\_slow\\_fast'\n",
       "\\item 'obs\\_high\\_val\\_cue'\n",
       "\\item 'ID'\n",
       "\\item 'condition'\n",
       "\\item 'coded\\_condition'\n",
       "\\item 'original\\_trial'\n",
       "\\item 'epoch\\_n'\n",
       "\\item 'epoch\\_trial'\n",
       "\\item 'shifted\\_epoch\\_trial'\n",
       "\\item 'max\\_epoch\\_n'\n",
       "\\item 'repeat\\_trial'\n",
       "\\item 'prop\\_112'\n",
       "\\item 'n\\_epoch\\_trials'\n",
       "\\item 'p\\_id\\_solution'\n",
       "\\item 'obs\\_low\\_val\\_cue'\n",
       "\\item 'id\\_choice'\n",
       "\\item 'p\\_id\\_accuracy'\n",
       "\\item 'ID\\_num'\n",
       "\\item 'timepoint'\n",
       "\\item 'conflict'\n",
       "\\item 'vol'\n",
       "\\end{enumerate*}\n"
      ],
      "text/markdown": [
       "1. 'LR_choice'\n",
       "2. 'obs_LR_accuracy'\n",
       "3. 'obs_LR_solution'\n",
       "4. 'reward'\n",
       "5. 'cumulative_reward'\n",
       "6. 'rt'\n",
       "7. 'total_trial_time'\n",
       "8. 'iti'\n",
       "9. 'cp_with_slow_fast'\n",
       "10. 'obs_cp_with_slow_fast'\n",
       "11. 'obs_high_val_cue'\n",
       "12. 'ID'\n",
       "13. 'condition'\n",
       "14. 'coded_condition'\n",
       "15. 'original_trial'\n",
       "16. 'epoch_n'\n",
       "17. 'epoch_trial'\n",
       "18. 'shifted_epoch_trial'\n",
       "19. 'max_epoch_n'\n",
       "20. 'repeat_trial'\n",
       "21. 'prop_112'\n",
       "22. 'n_epoch_trials'\n",
       "23. 'p_id_solution'\n",
       "24. 'obs_low_val_cue'\n",
       "25. 'id_choice'\n",
       "26. 'p_id_accuracy'\n",
       "27. 'ID_num'\n",
       "28. 'timepoint'\n",
       "29. 'conflict'\n",
       "30. 'vol'\n",
       "\n",
       "\n"
      ],
      "text/plain": [
       " [1] \"LR_choice\"             \"obs_LR_accuracy\"       \"obs_LR_solution\"      \n",
       " [4] \"reward\"                \"cumulative_reward\"     \"rt\"                   \n",
       " [7] \"total_trial_time\"      \"iti\"                   \"cp_with_slow_fast\"    \n",
       "[10] \"obs_cp_with_slow_fast\" \"obs_high_val_cue\"      \"ID\"                   \n",
       "[13] \"condition\"             \"coded_condition\"       \"original_trial\"       \n",
       "[16] \"epoch_n\"               \"epoch_trial\"           \"shifted_epoch_trial\"  \n",
       "[19] \"max_epoch_n\"           \"repeat_trial\"          \"prop_112\"             \n",
       "[22] \"n_epoch_trials\"        \"p_id_solution\"         \"obs_low_val_cue\"      \n",
       "[25] \"id_choice\"             \"p_id_accuracy\"         \"ID_num\"               \n",
       "[28] \"timepoint\"             \"conflict\"              \"vol\"                  "
      ]
     },
     "metadata": {},
     "output_type": "display_data"
    }
   ],
   "source": [
    "names(epoch_df)"
   ]
  },
  {
   "cell_type": "code",
   "execution_count": null,
   "metadata": {},
   "outputs": [],
   "source": [
    "ggplot(subset(clean_df, n_epoch_trials >= 10 & shifted_epoch_trial < 10 & (condition == 'lc'| condition == 'hc')), \n",
    "       aes(shifted_epoch_trial, p_id_accuracy, color=condition)) + stat_summary(fun.data = \"mean_cl_boot\", geom = \"smooth\", aes(fill=condition)) + geom_vline(xintercept=0, alpha = 0.5, size=1,linetype=\"dashed\") + \n",
    "       coord_fixed(10)"
   ]
  },
  {
   "cell_type": "code",
   "execution_count": null,
   "metadata": {},
   "outputs": [],
   "source": [
    "ggplot(subset(clean_df, n_epoch_trials >= 10 & shifted_epoch_trial < 10 & (condition == 'lc'| condition == 'hc')), aes(shifted_epoch_trial, rt, color=condition)) + \n",
    "stat_summary(fun.data = \"mean_cl_boot\", geom = \"smooth\", aes(fill=condition))  + geom_vline(xintercept=0, alpha = 0.5, size=1,linetype=\"dashed\" )  + coord_fixed(50)"
   ]
  },
  {
   "cell_type": "code",
   "execution_count": null,
   "metadata": {},
   "outputs": [],
   "source": [
    "ggplot(subset(clean_df, n_epoch_trials >= 10 & shifted_epoch_trial < 10 & (condition == 'lv'| condition == 'hv')), aes(shifted_epoch_trial, p_id_accuracy, color=condition)) + \n",
    "stat_summary(fun.data = \"mean_cl_boot\", geom = \"smooth\", aes(fill=condition))  + geom_vline(xintercept=0, alpha = 0.5, size=1,linetype=\"dashed\" ) + \n",
    "       coord_fixed(10)"
   ]
  },
  {
   "cell_type": "code",
   "execution_count": null,
   "metadata": {},
   "outputs": [],
   "source": [
    "ggplot(subset(clean_df, n_epoch_trials >= 10 & shifted_epoch_trial < 10 & (condition == 'lv'| condition == 'hv')), aes(shifted_epoch_trial, rt, color=condition)) + \n",
    "stat_summary(fun.data = \"mean_cl_boot\", geom = \"smooth\", aes(fill=condition))  +  geom_vline(xintercept=0, alpha = 0.5, size=1,linetype=\"dashed\" )  + coord_fixed(50)"
   ]
  },
  {
   "cell_type": "code",
   "execution_count": null,
   "metadata": {},
   "outputs": [],
   "source": [
    "ggplot(subset(clean_df, n_epoch_trials >= 10 & shifted_epoch_trial < 10 & (condition == 'lc'| condition == 'hc')), aes(shifted_epoch_trial, rt, color=condition)) + \n",
    "stat_summary(fun.data = \"mean_cl_boot\", geom = \"smooth\", aes(fill=condition))  + geom_vline(xintercept=0, alpha = 0.5, size=1,linetype=\"dashed\" ) + coord_fixed(50)"
   ]
  },
  {
   "cell_type": "code",
   "execution_count": null,
   "metadata": {},
   "outputs": [],
   "source": [
    "options(repr.plot.width=30, repr.plot.height=20)\n",
    "\n",
    "theme_set(theme_grey(base_size = 22)) \n",
    "\n",
    "ggplot(subset(clean_df, n_epoch_trials >= 10 & shifted_epoch_trial < 10 & (condition == 'lv'| condition == 'hv')), aes(shifted_epoch_trial, rt, color=condition)) + \n",
    "stat_summary(fun.data = \"mean_cl_boot\", geom = \"smooth\", aes(fill=condition)) +  facet_wrap( ~ ID, ncol = 5) +  geom_vline(xintercept=0, alpha = 0.5, size=1,linetype=\"dashed\" ) +\n",
    "ggtitle('Volatility: Reaction Times') + theme(plot.title = element_text(hjust = 0.5, size=40, face = 'bold'))"
   ]
  },
  {
   "cell_type": "code",
   "execution_count": null,
   "metadata": {},
   "outputs": [],
   "source": [
    "# ggplot(subset(raw_df, max_e_trial >= 10 & shifted_epoch_trial < 10 & (condition == 'lv'| condition == 'hv')), aes(shifted_epoch_trial, rt, color=condition)) + \n",
    "# stat_summary(fun.data = \"mean_cl_boot\", geom = \"smooth\", aes(fill=condition)) +  facet_wrap( ~ ID, ncol = 5) + geom_vline(xintercept=0, alpha = 0.5, size=1,linetype=\"dashed\" ) +\n",
    "# ggtitle('Volatility: Accuracy') + theme(plot.title = element_text(hjust = 0.5, size=40, face = 'bold'))"
   ]
  },
  {
   "cell_type": "code",
   "execution_count": null,
   "metadata": {
    "scrolled": false
   },
   "outputs": [],
   "source": [
    "ggplot(subset(clean_df, n_epoch_trials >= 10 & shifted_epoch_trial < 10 & (condition == 'lc'| condition == 'hc')), aes(shifted_epoch_trial, rt, color=condition)) + \n",
    "stat_summary(fun.data = \"mean_cl_boot\", geom = \"smooth\", aes(fill=condition)) +  facet_wrap( ~ ID, ncol = 5) + geom_vline(xintercept=0, alpha = 0.5, size=1,linetype=\"dashed\" ) + \n",
    "ggtitle('Conflict: Reaction Times') + theme(plot.title = element_text(hjust = 0.5, size=40, face = 'bold'))"
   ]
  },
  {
   "cell_type": "code",
   "execution_count": null,
   "metadata": {},
   "outputs": [],
   "source": [
    "# ggplot(subset(raw_df, n_epoch_trials >= 10 & shifted_epoch_trial < 10 & (condition == 'lc'| condition == 'hc')), aes(shifted_epoch_trial, accuracy, color=condition)) + \n",
    "# stat_summary(fun.data = \"mean_cl_boot\", geom = \"smooth\", aes(fill=condition)) +  facet_wrap( ~ ID, ncol = 5) + geom_vline(xintercept=0, alpha = 0.5, size=1,linetype=\"dashed\" ) + \n",
    "# ggtitle('Conflict: Accuracy') + theme(plot.title = element_text(hjust = 0.5, size=40, face = 'bold'))"
   ]
  },
  {
   "cell_type": "code",
   "execution_count": null,
   "metadata": {},
   "outputs": [],
   "source": []
  },
  {
   "cell_type": "code",
   "execution_count": null,
   "metadata": {},
   "outputs": [],
   "source": [
    "options(repr.plot.width=15, repr.plot.height=10)\n",
    "\n",
    "ggplot(subset(clean_df, n_epoch_trials >= 10 & shifted_epoch_trial < 10 & epoch_n == max_epoch_n & (condition == 'lc'| condition == 'hc')), aes(shifted_epoch_trial, accuracy, color=condition)) + stat_summary(fun.data = \"mean_cl_boot\", geom = \"smooth\", aes(fill=condition)) "
   ]
  },
  {
   "cell_type": "code",
   "execution_count": null,
   "metadata": {},
   "outputs": [],
   "source": [
    "ggplot(subset(clean_df, n_epoch_trials >= 10 & epoch_trial < 10 & epoch_n == 2 & (condition == 'lc'| condition == 'hc')), aes(epoch_trial, rt, color=condition)) + stat_summary(fun.data = \"mean_cl_boot\", geom = \"smooth\", aes(fill=condition)) "
   ]
  },
  {
   "cell_type": "code",
   "execution_count": null,
   "metadata": {},
   "outputs": [],
   "source": [
    "ggplot(subset(clean_df, n_epoch_trials >= 10 & shifted_epoch_trial < 10 & epoch_n == 2 & (condition == 'lv'| condition == 'hv')), aes(shifted_epoch_trial, rt, color=condition)) + stat_summary(fun.data = \"mean_cl_boot\", geom = \"smooth\", aes(fill=condition)) "
   ]
  },
  {
   "cell_type": "code",
   "execution_count": null,
   "metadata": {},
   "outputs": [],
   "source": [
    "ggplot(subset(clean_df, n_epoch_trials >= 10 & epoch_trial < 10 & (condition == 'hc')), aes(trial, rt, color=condition)) +\n",
    "stat_summary(fun.data = \"mean_cl_boot\", geom = \"smooth\", aes(fill=condition)) + geom_line(aes(trial, cp_with_slow_fast), 'color' = 'black', alpha=0.2)"
   ]
  },
  {
   "cell_type": "code",
   "execution_count": null,
   "metadata": {},
   "outputs": [],
   "source": [
    "ggplot(subset(clean_df, n_epoch_trials >= 10 & epoch_trial < 10 & (condition == 'hc')), aes(trial, accuracy, color=condition)) +\n",
    "stat_summary(fun.data = \"mean_cl_boot\", geom = \"smooth\", aes(fill=condition)) + geom_line(aes(trial, cp_with_slow_fast), 'color' = 'black', alpha=0.2)"
   ]
  },
  {
   "cell_type": "code",
   "execution_count": null,
   "metadata": {},
   "outputs": [],
   "source": [
    "max_epoch_n <- epoch_data %>% \n",
    "group_by(condition,ID) %>% summarize(epoch_n = max(epoch_n))"
   ]
  },
  {
   "cell_type": "code",
   "execution_count": null,
   "metadata": {},
   "outputs": [],
   "source": [
    "ggplot(subset(clean_df, n_epoch_trials >= 10 & epoch_trial <= 10), aes(condition, accuracy, color=condition)) + stat_summary(fun.data = \"mean_cl_boot\", geom = \"pointrange\", size=2)  + ggtitle('Accuracy')"
   ]
  },
  {
   "cell_type": "code",
   "execution_count": null,
   "metadata": {},
   "outputs": [],
   "source": [
    "ggplot(subset(clean_df, n_epoch_trials >= 10 & epoch_trial <= 10), aes(condition, rt, color=condition)) + stat_summary(fun.data = \"mean_cl_boot\", geom = \"pointrange\", size=2) + ggtitle('Reaction Times')"
   ]
  },
  {
   "cell_type": "code",
   "execution_count": null,
   "metadata": {},
   "outputs": [],
   "source": [
    "ggplot(subset(clean_df, n_epoch_trials >= 10 & epoch_trial <= 10), aes(condition, rt, fill=condition)) + geom_violin() + ggtitle('Reaction Times')"
   ]
  },
  {
   "cell_type": "code",
   "execution_count": null,
   "metadata": {},
   "outputs": [],
   "source": [
    "ggplot(subset(clean_df, n_epoch_trials >= 10 & epoch_trial <= 10), aes(epoch_n, accuracy, color=condition)) + stat_summary(fun.data = \"mean_cl_boot\", geom = \"pointrange\", size=2)  + ggtitle('Accuracy')"
   ]
  },
  {
   "cell_type": "code",
   "execution_count": null,
   "metadata": {},
   "outputs": [],
   "source": [
    "#find the minimum number of epochs for each condition across subjects to ensure fair plotting \n",
    "min_epochs <- raw_df %>% group_by(condition, ID) %>% summarize(min_e = max(epoch_n)) %>% summarize(min_epochs=min(min_e))\n",
    "min_epochs"
   ]
  },
  {
   "cell_type": "code",
   "execution_count": null,
   "metadata": {},
   "outputs": [],
   "source": [
    "ggplot(subset(raw_df, n_epoch_trials >= 10 & epoch_trial <= 10 & epoch_n < 22 & (condition =='lc' | condition =='hc')), aes(epoch_n, accuracy, color=condition)) + \n",
    "stat_summary(fun.data = \"mean_cl_boot\", geom = \"pointrange\", size=2)  + ggtitle('Accuracy') + scale_y_continuous(limits = c(0, 1))"
   ]
  },
  {
   "cell_type": "code",
   "execution_count": null,
   "metadata": {},
   "outputs": [],
   "source": [
    "ggplot(subset(clean_df, n_epoch_trials >= 10 & epoch_trial <= 10 & epoch_n < 22 & (condition =='lc' | condition =='hc')), aes(epoch_n, rt, color=condition)) + \n",
    "stat_summary(fun.data = \"mean_cl_boot\", geom = \"pointrange\", size=2)  + ggtitle('RT')  "
   ]
  },
  {
   "cell_type": "code",
   "execution_count": null,
   "metadata": {},
   "outputs": [],
   "source": [
    "ggplot(subset(clean_df, n_epoch_trials >= 10 & epoch_trial <= 10 & epoch_n < 15 & (condition =='lv' | condition =='hv')), aes(epoch_n, rt, color=condition)) + \n",
    "stat_summary(fun.data = \"mean_cl_boot\", geom = \"pointrange\", size=2)  + ggtitle('RT') "
   ]
  },
  {
   "cell_type": "code",
   "execution_count": null,
   "metadata": {},
   "outputs": [],
   "source": [
    "ggplot(subset(clean_df, n_epoch_trials >= 10 & epoch_trial <= 10 & epoch_n < 16 & (condition =='lv')), aes(epoch_n, accuracy, color=condition)) + \n",
    "stat_summary(fun.data = \"mean_cl_boot\", geom = \"pointrange\", size=2)  + ggtitle('Accuracy') + scale_y_continuous(limits = c(0, 1))"
   ]
  },
  {
   "cell_type": "code",
   "execution_count": null,
   "metadata": {},
   "outputs": [],
   "source": [
    "ggplot(subset(clean_df, n_epoch_trials >= 10 & epoch_trial <= 10 & epoch_n < 37 & (condition =='hv')), aes(epoch_n, accuracy, color=condition)) + \n",
    "stat_summary(fun.data = \"mean_cl_boot\", geom = \"pointrange\", size=2)  + ggtitle('Accuracy') +  scale_y_continuous(limits = c(0, 1))"
   ]
  },
  {
   "cell_type": "code",
   "execution_count": null,
   "metadata": {},
   "outputs": [],
   "source": [
    "epoch_df <- subset(clean_df, n_epoch_trials >= 10 & epoch_trial <= 10) \n",
    "\n",
    "epoch_df[epoch_df$epoch_trial <= 5, 'timepoint'] = 1\n",
    "epoch_df[epoch_df$epoch_trial > 5, 'timepoint'] = 2\n",
    "\n",
    "epoch_df[epoch_df$condition == 'hc', 'conflict'] = 'high'\n",
    "epoch_df[epoch_df$condition == 'lc', 'conflict'] = 'low'\n",
    "epoch_df[epoch_df$condition == 'hc', 'vol'] = 'mod'\n",
    "epoch_df[epoch_df$condition == 'lc', 'vol'] = 'mod'\n",
    "\n",
    "epoch_df[epoch_df$condition == 'hv', 'vol'] = 'high'\n",
    "epoch_df[epoch_df$condition == 'lv', 'vol'] = 'low'\n",
    "epoch_df[epoch_df$condition == 'hv', 'conflict'] = 'mod'\n",
    "epoch_df[epoch_df$condition == 'lv', 'conflict'] = 'mod'\n",
    "\n",
    "epoch_df$conflict <- as.factor(epoch_df$conflict)\n",
    "epoch_df$vol <- as.factor(epoch_df$vol)\n",
    "\n",
    "# epoch_df$conflict <- relevel(epoch_df$conflict, ref = \"low\")\n",
    "# epoch_df$vol <- relevel(epoch_df$vol, ref = \"low\")\n",
    "\n",
    "# epoch_df$condition <- relevel(epoch_df$condition, ref = \"lc\")"
   ]
  },
  {
   "cell_type": "code",
   "execution_count": null,
   "metadata": {},
   "outputs": [],
   "source": [
    "colnames(epoch_df)"
   ]
  },
  {
   "cell_type": "code",
   "execution_count": null,
   "metadata": {},
   "outputs": [],
   "source": [
    "library(rstanarm)\n",
    "#bayesian reg.\n",
    "bayes_rt_reg <- stan_glmer(log(rt) ~ condition*timepoint + (1|ID), data=epoch_df, chains = 1)\n",
    "bayes_acc_reg <- stan_glmer(accuracy ~ condition*timepoint + (1|ID), \n",
    "                 data=epoch_df, family=binomial, control = glmerControl(optimizer = \"bobyqa\"), chains = 1)"
   ]
  },
  {
   "cell_type": "code",
   "execution_count": null,
   "metadata": {},
   "outputs": [],
   "source": []
  },
  {
   "cell_type": "code",
   "execution_count": null,
   "metadata": {},
   "outputs": [],
   "source": [
    "rt_reg <- lmer(log(rt) ~ condition*timepoint + (1|ID), data=epoch_df)\n",
    "acc_reg <- glmer(accuracy ~ condition*timepoint + (1|ID), \n",
    "                 data=epoch_df, family=binomial, control = glmerControl(optimizer = \"bobyqa\"))\n",
    "\n",
    "summary(rt_reg)\n",
    "summary(acc_reg)"
   ]
  },
  {
   "cell_type": "code",
   "execution_count": null,
   "metadata": {},
   "outputs": [],
   "source": [
    "summary(rt_reg)"
   ]
  },
  {
   "cell_type": "code",
   "execution_count": null,
   "metadata": {},
   "outputs": [],
   "source": [
    "library(sjPlot)\n",
    "library(sjlabelled)\n",
    "library(sjmisc)\n",
    "\n",
    "plot_model(rt_reg, show.values = TRUE)"
   ]
  },
  {
   "cell_type": "code",
   "execution_count": null,
   "metadata": {},
   "outputs": [],
   "source": [
    "plot_model(acc_reg, show.values = TRUE, transform=\"plogis\")"
   ]
  },
  {
   "cell_type": "code",
   "execution_count": null,
   "metadata": {
    "scrolled": true
   },
   "outputs": [],
   "source": [
    "qqnorm(resid(rt_reg))\n",
    "qqline(resid(rt_reg))"
   ]
  },
  {
   "cell_type": "code",
   "execution_count": null,
   "metadata": {},
   "outputs": [],
   "source": [
    "plot(rt_reg)"
   ]
  },
  {
   "cell_type": "code",
   "execution_count": null,
   "metadata": {},
   "outputs": [],
   "source": [
    "# (conf_rt_reg <-lmer(rt ~ conflict*timepoint + (1|ID), data=epoch_df)\n",
    "# )\n",
    "# (vol_rt_reg <-lmer(rt ~ vol*timepoint + (1|ID), data=epoch_df)\n",
    "# )\n",
    "\n",
    "# (conf_acc_reg <-glmer(accuracy ~ conflict*timepoint + (1|ID), \n",
    "#                  data=epoch_df, family=binomial, control = glmerControl(optimizer = \"bobyqa\"))\n",
    "# )\n",
    "\n",
    "# (vol_acc_reg <-glmer(accuracy ~ vol*timepoint + (1|ID), \n",
    "#                  data=epoch_df, family=binomial, control = glmerControl(optimizer = \"bobyqa\"))\n",
    "# )"
   ]
  },
  {
   "cell_type": "code",
   "execution_count": null,
   "metadata": {},
   "outputs": [],
   "source": [
    "# library(boot)\n",
    "# rt_lm <- function(formula, data, indices) {\n",
    "#   d <- data[indices,] \n",
    "#   fit <- lmer(formula, data=d)\n",
    "#   return(fixef(fit))\n",
    "# } \n",
    "\n",
    "# acc_log <- function(formula, data, indices) {\n",
    "#   d <- data[indices,] \n",
    "#   fit <- glmer(formula, data=d, family=binomial,  control = glmerControl(optimizer = \"bobyqa\"))\n",
    "#   return(fixef(fit))\n",
    "# } "
   ]
  },
  {
   "cell_type": "code",
   "execution_count": null,
   "metadata": {},
   "outputs": [],
   "source": [
    "#do the bootstrapped estimates encompass 0? "
   ]
  },
  {
   "cell_type": "code",
   "execution_count": null,
   "metadata": {},
   "outputs": [],
   "source": [
    "# rt_formula <- rt ~ condition*timepoint + (1|ID) \n",
    "# acc_formula <- accuracy ~ condition*timepoint + (1|ID)\n",
    "\n",
    "# rt_lm_boot <- boot(formula=rt_formula, data=epoch_df, statistic=rt_lm, \n",
    "#   \tR=1000)\n",
    "# acc_log_boot <- boot(formula=acc_formula, data=epoch_df, statistic=acc_log, \n",
    "#   \tR=1000)"
   ]
  },
  {
   "cell_type": "code",
   "execution_count": null,
   "metadata": {},
   "outputs": [],
   "source": [
    "# #odds ratios\n",
    "# odds <-  exp(acc_log_boot$)\n",
    "# p <- odds / (1 + odds)"
   ]
  }
 ],
 "metadata": {
  "kernelspec": {
   "display_name": "R",
   "language": "R",
   "name": "ir"
  },
  "language_info": {
   "codemirror_mode": "r",
   "file_extension": ".r",
   "mimetype": "text/x-r-source",
   "name": "R",
   "pygments_lexer": "r",
   "version": "3.5.0"
  }
 },
 "nbformat": 4,
 "nbformat_minor": 2
}
