{
 "cells": [
  {
   "cell_type": "code",
   "execution_count": 1,
   "metadata": {},
   "outputs": [
    {
     "name": "stderr",
     "output_type": "stream",
     "text": [
      "/Users/Krista/anaconda/envs/hddm/lib/python3.5/site-packages/IPython/parallel.py:13: ShimWarning: The `IPython.parallel` package has been deprecated since IPython 4.0. You should import from ipyparallel instead.\n",
      "  \"You should import from ipyparallel instead.\", ShimWarning)\n"
     ]
    }
   ],
   "source": [
    "import warnings\n",
    "warnings.filterwarnings(\"ignore\", category=DeprecationWarning) \n",
    "\n",
    "import hddm\n",
    "from sys import platform\n",
    "import numpy as np\n",
    "import seaborn as sns\n",
    "import pandas as pd\n",
    "\n",
    "import matplotlib.pyplot as plt"
   ]
  },
  {
   "cell_type": "code",
   "execution_count": 2,
   "metadata": {},
   "outputs": [
    {
     "name": "stdout",
     "output_type": "stream",
     "text": [
      "0.6.0\n"
     ]
    }
   ],
   "source": [
    "print(hddm.__version__)"
   ]
  },
  {
   "cell_type": "code",
   "execution_count": 3,
   "metadata": {},
   "outputs": [],
   "source": [
    "if platform == 'linux':\n",
    "    home = '/home/krista/'\n",
    "elif platform == 'darwin': \n",
    "    home = '/Users/Krista/'"
   ]
  },
  {
   "cell_type": "code",
   "execution_count": 4,
   "metadata": {},
   "outputs": [],
   "source": [
    "all_sim_data = hddm.load_csv(home + 'Dropbox/loki_0/simple_rt_experiment_probabilityC/analysis/aggregated_data/probC_sim_learning_signals_processed.csv')\n",
    "sim_plotting_data = all_sim_data\n",
    "#use target choice as response \n",
    "#include correct target choice as stimulus \n",
    "all_sim_data = all_sim_data.rename(index=str, columns={\"acc\": \"response\"\n",
    "                                                       })\n",
    "all_sim_data = all_sim_data[['response', 'rt', 'cond', 'subj_idx', 'ideal_B', 'cpp']] \n",
    "# #use target-based belief in reward difference (b_t0 - b_t1)\n",
    "all_sim_data = all_sim_data.rename(index=str, columns={'ideal_B': 'B'})\n",
    "all_sim_data = all_sim_data[(all_sim_data.rt<0.6)]\n",
    "all_sim_data.reset_index(drop=True, inplace=True)"
   ]
  },
  {
   "cell_type": "code",
   "execution_count": 5,
   "metadata": {},
   "outputs": [
    {
     "data": {
      "text/html": [
       "<div>\n",
       "<style scoped>\n",
       "    .dataframe tbody tr th:only-of-type {\n",
       "        vertical-align: middle;\n",
       "    }\n",
       "\n",
       "    .dataframe tbody tr th {\n",
       "        vertical-align: top;\n",
       "    }\n",
       "\n",
       "    .dataframe thead th {\n",
       "        text-align: right;\n",
       "    }\n",
       "</style>\n",
       "<table border=\"1\" class=\"dataframe\">\n",
       "  <thead>\n",
       "    <tr style=\"text-align: right;\">\n",
       "      <th></th>\n",
       "      <th>response</th>\n",
       "      <th>rt</th>\n",
       "      <th>cond</th>\n",
       "      <th>subj_idx</th>\n",
       "      <th>B</th>\n",
       "      <th>cpp</th>\n",
       "    </tr>\n",
       "  </thead>\n",
       "  <tbody>\n",
       "    <tr>\n",
       "      <th>0</th>\n",
       "      <td>False</td>\n",
       "      <td>0.172</td>\n",
       "      <td>hc</td>\n",
       "      <td>0</td>\n",
       "      <td>-0.306135</td>\n",
       "      <td>0.019881</td>\n",
       "    </tr>\n",
       "    <tr>\n",
       "      <th>1</th>\n",
       "      <td>False</td>\n",
       "      <td>0.172</td>\n",
       "      <td>hc</td>\n",
       "      <td>0</td>\n",
       "      <td>-0.139394</td>\n",
       "      <td>0.018539</td>\n",
       "    </tr>\n",
       "    <tr>\n",
       "      <th>2</th>\n",
       "      <td>False</td>\n",
       "      <td>0.172</td>\n",
       "      <td>hc</td>\n",
       "      <td>0</td>\n",
       "      <td>-0.027685</td>\n",
       "      <td>0.268538</td>\n",
       "    </tr>\n",
       "    <tr>\n",
       "      <th>3</th>\n",
       "      <td>False</td>\n",
       "      <td>0.172</td>\n",
       "      <td>hc</td>\n",
       "      <td>0</td>\n",
       "      <td>-0.804363</td>\n",
       "      <td>0.035630</td>\n",
       "    </tr>\n",
       "    <tr>\n",
       "      <th>4</th>\n",
       "      <td>False</td>\n",
       "      <td>0.172</td>\n",
       "      <td>hc</td>\n",
       "      <td>0</td>\n",
       "      <td>0.064818</td>\n",
       "      <td>0.785155</td>\n",
       "    </tr>\n",
       "  </tbody>\n",
       "</table>\n",
       "</div>"
      ],
      "text/plain": [
       "   response     rt cond  subj_idx         B       cpp\n",
       "0     False  0.172   hc         0 -0.306135  0.019881\n",
       "1     False  0.172   hc         0 -0.139394  0.018539\n",
       "2     False  0.172   hc         0 -0.027685  0.268538\n",
       "3     False  0.172   hc         0 -0.804363  0.035630\n",
       "4     False  0.172   hc         0  0.064818  0.785155"
      ]
     },
     "execution_count": 5,
     "metadata": {},
     "output_type": "execute_result"
    }
   ],
   "source": [
    "all_sim_data.head()"
   ]
  },
  {
   "cell_type": "code",
   "execution_count": 6,
   "metadata": {},
   "outputs": [
    {
     "name": "stdout",
     "output_type": "stream",
     "text": [
      "[('a', 't'), ('a', 'v'), ('a', 'z'), ('t', 'v'), ('t', 'z'), ('v', 'z')]\n",
      "6\n"
     ]
    }
   ],
   "source": [
    "#get all combinations of a,t,v,z \n",
    "from itertools import combinations\n",
    "\n",
    "targets = ['a', 't', 'v', 'z']\n",
    "param_pairs = list(combinations(targets, 2))\n",
    "param_triples = list(combinations(targets, 3))\n",
    "\n",
    "print(param_pairs)\n",
    "print(len(param_pairs))"
   ]
  },
  {
   "cell_type": "code",
   "execution_count": 7,
   "metadata": {},
   "outputs": [],
   "source": [
    "model_dict = {'a_t': param_pairs[0], 'a_v': param_pairs[1],\n",
    "'a_z': param_pairs[2], 't_v': param_pairs[3], \n",
    "'t_z': param_pairs[4], 'v_z': param_pairs[5], 'a': targets[0], 't': targets[1],\n",
    "             'v': targets[2], 'z': targets[3]}"
   ]
  },
  {
   "cell_type": "code",
   "execution_count": 10,
   "metadata": {},
   "outputs": [],
   "source": [
    "n_samples, n_burn = 3000, 500"
   ]
  },
  {
   "cell_type": "code",
   "execution_count": 9,
   "metadata": {},
   "outputs": [],
   "source": [
    "# flat_m=hddm.HDDMStimCoding(all_sim_data, bias=True, stim_col='stimulus', p_outlier=0.05, split_param='v')\n",
    "# flat_m.find_starting_values()\n",
    "# flat_m.sample(n_samples, burn=n_burn)"
   ]
  },
  {
   "cell_type": "code",
   "execution_count": 11,
   "metadata": {},
   "outputs": [
    {
     "name": "stderr",
     "output_type": "stream",
     "text": [
      "/Users/Krista/anaconda/envs/hddm/lib/python3.5/site-packages/scipy/optimize/optimize.py:1927: RuntimeWarning: invalid value encountered in double_scalars\n",
      "  tmp2 = (x - v) * (fx - fw)\n",
      "/Users/Krista/anaconda/envs/hddm/lib/python3.5/site-packages/scipy/optimize/optimize.py:1932: RuntimeWarning: invalid value encountered in absolute\n",
      "  tmp2 = numpy.abs(tmp2)\n",
      "/Users/Krista/anaconda/envs/hddm/lib/python3.5/site-packages/scipy/optimize/optimize.py:1928: RuntimeWarning: invalid value encountered in double_scalars\n",
      "  p = (x - v) * tmp2 - (x - w) * tmp1\n",
      "/Users/Krista/anaconda/envs/hddm/lib/python3.5/site-packages/pymc/Node.py:403: VisibleDeprecationWarning: using a non-integer number instead of an integer will result in an error in the future\n",
      "  self.__name__ = input['__name__']\n"
     ]
    },
    {
     "name": "stdout",
     "output_type": "stream",
     "text": [
      " [-----------------100%-----------------] 3000 of 3000 complete in 968.6 sec"
     ]
    },
    {
     "name": "stderr",
     "output_type": "stream",
     "text": [
      "/Users/Krista/anaconda/envs/hddm/lib/python3.5/site-packages/numpy/core/fromnumeric.py:224: VisibleDeprecationWarning: using a non-integer number instead of an integer will result in an error in the future\n",
      "  return reshape(newshape, order=order)\n"
     ]
    },
    {
     "data": {
      "text/plain": [
       "<pymc.MCMC.MCMC at 0x1a1a704a90>"
      ]
     },
     "execution_count": 11,
     "metadata": {},
     "output_type": "execute_result"
    }
   ],
   "source": [
    "a_v_m=hddm.HDDM(all_sim_data, depends_on={'a': 'cond', 'v': 'cond'}, bias=True)\n",
    "a_v_m.find_starting_values()\n",
    "a_v_m.sample(n_samples, burn=n_burn)"
   ]
  },
  {
   "cell_type": "code",
   "execution_count": 12,
   "metadata": {},
   "outputs": [
    {
     "data": {
      "text/plain": [
       "0"
      ]
     },
     "execution_count": 12,
     "metadata": {},
     "output_type": "execute_result"
    }
   ],
   "source": [
    "sum(np.isnan(all_sim_data.rt))"
   ]
  },
  {
   "cell_type": "code",
   "execution_count": 14,
   "metadata": {},
   "outputs": [],
   "source": [
    "sim_plotting_data.loc[sim_plotting_data.acc == 1, 'gen_drift_flipped'] = abs(sim_plotting_data.loc[sim_plotting_data.acc == 1, 'gen_drift'])"
   ]
  },
  {
   "cell_type": "code",
   "execution_count": 15,
   "metadata": {},
   "outputs": [],
   "source": [
    "sim_plotting_data.loc[sim_plotting_data.cond == 'lc', 'verbose_cond'] = 'low conflict'\n",
    "sim_plotting_data.loc[sim_plotting_data.cond == 'hc', 'verbose_cond'] = 'high conflict'\n",
    "\n",
    "sim_plotting_data.loc[sim_plotting_data.cond == 'lv', 'verbose_cond'] = 'low volatility'\n",
    "sim_plotting_data.loc[sim_plotting_data.cond == 'hv', 'verbose_cond'] = 'high volatility'"
   ]
  },
  {
   "cell_type": "code",
   "execution_count": 16,
   "metadata": {},
   "outputs": [
    {
     "ename": "NameError",
     "evalue": "name 'fitted_df' is not defined",
     "output_type": "error",
     "traceback": [
      "\u001b[0;31m---------------------------------------------------------------------------\u001b[0m",
      "\u001b[0;31mNameError\u001b[0m                                 Traceback (most recent call last)",
      "\u001b[0;32m<ipython-input-16-f00d044300e0>\u001b[0m in \u001b[0;36m<module>\u001b[0;34m()\u001b[0m\n\u001b[1;32m      2\u001b[0m sns.barplot(x=\"verbose_cond\",y=\"gen_drift_flipped\", data=sim_plotting_data, ci=95, n_boot=1000,units=\"ID\", \n\u001b[1;32m      3\u001b[0m            order=['high conflict', 'low conflict', 'high volatility', 'low volatility'], errwidth=3, label='simulated', )\n\u001b[0;32m----> 4\u001b[0;31m sns.pointplot(x=\"condition\",y=\"v\", data=fitted_df, ci=95, n_boot=1000, \n\u001b[0m\u001b[1;32m      5\u001b[0m            order=['high conflict', 'low conflict', 'high volatility', 'low volatility'], errwidth=3, linestyles='dotted', label='fitted', color='black',)\n\u001b[1;32m      6\u001b[0m \u001b[0;31m# plt.ylim(0.5,.8)\u001b[0m\u001b[0;34m\u001b[0m\u001b[0;34m\u001b[0m\u001b[0m\n",
      "\u001b[0;31mNameError\u001b[0m: name 'fitted_df' is not defined"
     ]
    },
    {
     "data": {
      "image/png": "[encoded data removed]",
      "text/plain": [
       "<Figure size 576x360 with 1 Axes>"
      ]
     },
     "metadata": {},
     "output_type": "display_data"
    }
   ],
   "source": [
    "plt.figure(figsize=(8,5))\n",
    "sns.barplot(x=\"verbose_cond\",y=\"gen_drift_flipped\", data=sim_plotting_data, ci=95, n_boot=1000,units=\"ID\", \n",
    "           order=['high conflict', 'low conflict', 'high volatility', 'low volatility'], errwidth=3, label='simulated', )\n",
    "sns.pointplot(x=\"condition\",y=\"v\", data=fitted_df, ci=95, n_boot=1000, \n",
    "           order=['high conflict', 'low conflict', 'high volatility', 'low volatility'], errwidth=3, linestyles='dotted', label='fitted', color='black',)\n",
    "# plt.ylim(0.5,.8)\n",
    "plt.ylabel('Drift-rate')\n",
    "plt.xlabel('Condition')\n",
    "plt.legend(['fitted'])\n",
    "plt.savefig('drift_sim_fit_gen.pdf')"
   ]
  },
  {
   "cell_type": "code",
   "execution_count": null,
   "metadata": {},
   "outputs": [],
   "source": [
    "group_traces = a_v_m.get_group_traces()\n",
    "a_hc, a_hv, a_lc, a_lv = group_traces.iloc[:,0], group_traces.iloc[:,1], group_traces.iloc[:,2], group_traces.iloc[:,3]\n",
    "\n",
    "v_hc, v_hv, v_lc, v_lv = group_traces.iloc[:,7], group_traces.iloc[:,8], group_traces.iloc[:,9], group_traces.iloc[:,10]"
   ]
  },
  {
   "cell_type": "code",
   "execution_count": null,
   "metadata": {},
   "outputs": [],
   "source": [
    "group_traces.mean()"
   ]
  },
  {
   "cell_type": "code",
   "execution_count": null,
   "metadata": {},
   "outputs": [],
   "source": [
    "a = pd.concat([a_hc, a_hv, a_lc, a_lv]).values\n",
    "v = pd.concat([v_hc, v_hv, v_lc, v_lv]).values\n",
    "condition = np.repeat(['high conflict', 'high volatility', 'low conflict', 'low volatility'], len(a_lc))\n",
    "d = {'a': a, 'v': v, 'condition': condition}\n",
    "fitted_df = pd.DataFrame(data=d)"
   ]
  },
  {
   "cell_type": "code",
   "execution_count": null,
   "metadata": {},
   "outputs": [],
   "source": [
    "plt.figure(figsize=(8,5))\n",
    "\n",
    "sns.barplot(x=\"verbose_cond\",y=\"gen_bound\", data=sim_plotting_data, ci=95, n_boot=1000,units=\"ID\", \n",
    "           order=['high conflict', 'low conflict', 'high volatility', 'low volatility'], errwidth=3, label='simulated' )\n",
    "sns.pointplot(x=\"condition\",y=\"a\", data=fitted_df, ci=95, n_boot=1000, \n",
    "           order=['high conflict', 'low conflict', 'high volatility', 'low volatility'], errwidth=3, linestyles='dotted', label='fitted', color='black')\n",
    "plt.ylim(0.5,.8)\n",
    "plt.legend(['fitted'])\n",
    "plt.ylabel('Decision Threshold')\n",
    "plt.xlabel('Condition')\n",
    "plt.savefig('thresh_sim_fit_gen.pdf')"
   ]
  },
  {
   "cell_type": "code",
   "execution_count": null,
   "metadata": {},
   "outputs": [],
   "source": [
    "plt.figure(figsize=(8,5))\n",
    "plt.hist(x=\"verbose_cond\",y=\"gen_drift_flipped\", data=sim_plotting_data, ci=95, n_boot=1000,units=\"ID\", \n",
    "           order=['high conflict', 'low conflict', 'high volatility', 'low volatility'], errwidth=3, label='simulated', )\n",
    "sns.hist(x=\"condition\",y=\"v\", data=fitted_df, ci=95, n_boot=1000, \n",
    "           order=['high conflict', 'low conflict', 'high volatility', 'low volatility'], errwidth=3, linestyles='dotted', label='fitted', color='black',)\n",
    "# plt.ylim(0.5,.8)\n",
    "plt.ylabel('Drift-rate')\n",
    "plt.xlabel('Condition')\n",
    "plt.legend(['fitted'])\n",
    "plt.savefig('drift_sim_fit_gen.pdf')"
   ]
  }
 ],
 "metadata": {
  "kernelspec": {
   "display_name": "hddm",
   "language": "python",
   "name": "hddm"
  },
  "language_info": {
   "codemirror_mode": {
    "name": "ipython",
    "version": 3
   },
   "file_extension": ".py",
   "mimetype": "text/x-python",
   "name": "python",
   "nbconvert_exporter": "python",
   "pygments_lexer": "ipython3",
   "version": "3.5.5"
  }
 },
 "nbformat": 4,
 "nbformat_minor": 2
}
