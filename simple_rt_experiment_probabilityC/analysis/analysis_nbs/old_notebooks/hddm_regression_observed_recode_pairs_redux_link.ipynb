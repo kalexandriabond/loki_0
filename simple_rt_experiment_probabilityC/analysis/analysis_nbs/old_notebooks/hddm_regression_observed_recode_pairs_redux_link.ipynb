{
 "cells": [
  {
   "cell_type": "code",
   "execution_count": 1,
   "metadata": {},
   "outputs": [
    {
     "name": "stderr",
     "output_type": "stream",
     "text": [
      "/anaconda3/envs/hddm/lib/python3.5/site-packages/IPython/parallel.py:13: ShimWarning: The `IPython.parallel` package has been deprecated since IPython 4.0. You should import from ipyparallel instead.\n",
      "  \"You should import from ipyparallel instead.\", ShimWarning)\n"
     ]
    }
   ],
   "source": [
    "import pandas as pd \n",
    "import matplotlib.pyplot as plt \n",
    "import seaborn as sns\n",
    "import hddm \n",
    "from patsy import dmatrix \n",
    "import numpy as np\n",
    "from sys import platform\n",
    "# print(hddm.__version__)\n",
    "\n",
    "%matplotlib inline\n",
    "# plt.rcParams['figure.figsize'] = 30, 10\n",
    "sns.set_context(\"notebook\", font_scale=10, rc={\"lines.linewidth\": 10, \"lines.markersize\": 30})"
   ]
  },
  {
   "cell_type": "markdown",
   "metadata": {},
   "source": [
    "## Pre-processing"
   ]
  },
  {
   "cell_type": "code",
   "execution_count": 2,
   "metadata": {},
   "outputs": [],
   "source": [
    "if platform == 'linux':\n",
    "    home = '/home/krista/'\n",
    "elif platform == 'darwin': \n",
    "    home = '/Users/67981492/'"
   ]
  },
  {
   "cell_type": "code",
   "execution_count": 69,
   "metadata": {},
   "outputs": [
    {
     "name": "stdout",
     "output_type": "stream",
     "text": [
      "/Users/67981492/Dropbox/volatileValues/simple_rt_experiment_probabilityC/analysis/analysis_nbs\r\n"
     ]
    }
   ],
   "source": [
    "!pwd\n",
    "write_dir = home + 'Dropbox/volatileValues/simple_rt_experiment_probabilityC/analysis/hddm_reg_models/'"
   ]
  },
  {
   "cell_type": "code",
   "execution_count": 70,
   "metadata": {},
   "outputs": [],
   "source": [
    "all_obs_data = hddm.load_csv(home + 'Dropbox/volatileValues/simple_rt_experiment_probabilityC/analysis/aggregated_data/combined_learning_sig_obs_data.csv')"
   ]
  },
  {
   "cell_type": "code",
   "execution_count": 71,
   "metadata": {},
   "outputs": [
    {
     "data": {
      "text/html": [
       "<div>\n",
       "<style scoped>\n",
       "    .dataframe tbody tr th:only-of-type {\n",
       "        vertical-align: middle;\n",
       "    }\n",
       "\n",
       "    .dataframe tbody tr th {\n",
       "        vertical-align: top;\n",
       "    }\n",
       "\n",
       "    .dataframe thead th {\n",
       "        text-align: right;\n",
       "    }\n",
       "</style>\n",
       "<table border=\"1\" class=\"dataframe\">\n",
       "  <thead>\n",
       "    <tr style=\"text-align: right;\">\n",
       "      <th></th>\n",
       "      <th>cpp</th>\n",
       "      <th>target_B</th>\n",
       "      <th>choice_B</th>\n",
       "      <th>cp</th>\n",
       "      <th>gen_drift</th>\n",
       "      <th>gen_bound</th>\n",
       "      <th>ID</th>\n",
       "      <th>b_t0</th>\n",
       "      <th>b_t1</th>\n",
       "      <th>r_t1</th>\n",
       "      <th>...</th>\n",
       "      <th>epoch_trial_zero_idx</th>\n",
       "      <th>epoch_trial_one_idx</th>\n",
       "      <th>shifted_epoch_trial_zero_idx</th>\n",
       "      <th>repeat_trial</th>\n",
       "      <th>prop_112</th>\n",
       "      <th>n_epoch_trials</th>\n",
       "      <th>p_id_solution</th>\n",
       "      <th>obs_low_val_cue</th>\n",
       "      <th>id_choice</th>\n",
       "      <th>p_id_accuracy</th>\n",
       "    </tr>\n",
       "  </thead>\n",
       "  <tbody>\n",
       "    <tr>\n",
       "      <th>0</th>\n",
       "      <td>0.099471</td>\n",
       "      <td>0.000000</td>\n",
       "      <td>0.000000</td>\n",
       "      <td>1</td>\n",
       "      <td>0.013572</td>\n",
       "      <td>0.416406</td>\n",
       "      <td>761</td>\n",
       "      <td>0.000000</td>\n",
       "      <td>0.000000</td>\n",
       "      <td>2.528877</td>\n",
       "      <td>...</td>\n",
       "      <td>0</td>\n",
       "      <td>1</td>\n",
       "      <td>0</td>\n",
       "      <td>1</td>\n",
       "      <td>0.305556</td>\n",
       "      <td>36</td>\n",
       "      <td>111</td>\n",
       "      <td>111</td>\n",
       "      <td>111</td>\n",
       "      <td>1</td>\n",
       "    </tr>\n",
       "    <tr>\n",
       "      <th>1</th>\n",
       "      <td>0.035079</td>\n",
       "      <td>0.000000</td>\n",
       "      <td>0.000000</td>\n",
       "      <td>0</td>\n",
       "      <td>0.013572</td>\n",
       "      <td>0.599471</td>\n",
       "      <td>761</td>\n",
       "      <td>1.390214</td>\n",
       "      <td>0.149207</td>\n",
       "      <td>0.000000</td>\n",
       "      <td>...</td>\n",
       "      <td>1</td>\n",
       "      <td>2</td>\n",
       "      <td>1</td>\n",
       "      <td>2</td>\n",
       "      <td>0.305556</td>\n",
       "      <td>36</td>\n",
       "      <td>111</td>\n",
       "      <td>112</td>\n",
       "      <td>112</td>\n",
       "      <td>0</td>\n",
       "    </tr>\n",
       "    <tr>\n",
       "      <th>2</th>\n",
       "      <td>0.023075</td>\n",
       "      <td>-1.241007</td>\n",
       "      <td>1.241007</td>\n",
       "      <td>0</td>\n",
       "      <td>0.013572</td>\n",
       "      <td>0.535079</td>\n",
       "      <td>761</td>\n",
       "      <td>0.792372</td>\n",
       "      <td>0.196591</td>\n",
       "      <td>0.000000</td>\n",
       "      <td>...</td>\n",
       "      <td>2</td>\n",
       "      <td>3</td>\n",
       "      <td>2</td>\n",
       "      <td>3</td>\n",
       "      <td>0.305556</td>\n",
       "      <td>36</td>\n",
       "      <td>111</td>\n",
       "      <td>112</td>\n",
       "      <td>111</td>\n",
       "      <td>1</td>\n",
       "    </tr>\n",
       "    <tr>\n",
       "      <th>3</th>\n",
       "      <td>0.019881</td>\n",
       "      <td>-0.595781</td>\n",
       "      <td>0.595781</td>\n",
       "      <td>0</td>\n",
       "      <td>-1.000000</td>\n",
       "      <td>0.523075</td>\n",
       "      <td>761</td>\n",
       "      <td>0.532802</td>\n",
       "      <td>0.226667</td>\n",
       "      <td>0.000000</td>\n",
       "      <td>...</td>\n",
       "      <td>3</td>\n",
       "      <td>4</td>\n",
       "      <td>3</td>\n",
       "      <td>4</td>\n",
       "      <td>0.305556</td>\n",
       "      <td>36</td>\n",
       "      <td>111</td>\n",
       "      <td>112</td>\n",
       "      <td>112</td>\n",
       "      <td>0</td>\n",
       "    </tr>\n",
       "    <tr>\n",
       "      <th>4</th>\n",
       "      <td>0.018539</td>\n",
       "      <td>-0.306135</td>\n",
       "      <td>0.306135</td>\n",
       "      <td>0</td>\n",
       "      <td>-1.000000</td>\n",
       "      <td>0.519881</td>\n",
       "      <td>761</td>\n",
       "      <td>0.391376</td>\n",
       "      <td>0.251982</td>\n",
       "      <td>0.000000</td>\n",
       "      <td>...</td>\n",
       "      <td>4</td>\n",
       "      <td>5</td>\n",
       "      <td>4</td>\n",
       "      <td>5</td>\n",
       "      <td>0.305556</td>\n",
       "      <td>36</td>\n",
       "      <td>111</td>\n",
       "      <td>112</td>\n",
       "      <td>111</td>\n",
       "      <td>1</td>\n",
       "    </tr>\n",
       "    <tr>\n",
       "      <th>5</th>\n",
       "      <td>0.268538</td>\n",
       "      <td>-0.139394</td>\n",
       "      <td>0.139394</td>\n",
       "      <td>0</td>\n",
       "      <td>-1.000000</td>\n",
       "      <td>0.518539</td>\n",
       "      <td>761</td>\n",
       "      <td>0.302804</td>\n",
       "      <td>0.275119</td>\n",
       "      <td>3.036967</td>\n",
       "      <td>...</td>\n",
       "      <td>5</td>\n",
       "      <td>6</td>\n",
       "      <td>5</td>\n",
       "      <td>6</td>\n",
       "      <td>0.305556</td>\n",
       "      <td>36</td>\n",
       "      <td>111</td>\n",
       "      <td>111</td>\n",
       "      <td>111</td>\n",
       "      <td>1</td>\n",
       "    </tr>\n",
       "    <tr>\n",
       "      <th>6</th>\n",
       "      <td>0.035630</td>\n",
       "      <td>-0.027685</td>\n",
       "      <td>0.027685</td>\n",
       "      <td>0</td>\n",
       "      <td>-1.000000</td>\n",
       "      <td>0.768538</td>\n",
       "      <td>761</td>\n",
       "      <td>1.408409</td>\n",
       "      <td>0.604046</td>\n",
       "      <td>0.000000</td>\n",
       "      <td>...</td>\n",
       "      <td>6</td>\n",
       "      <td>7</td>\n",
       "      <td>6</td>\n",
       "      <td>7</td>\n",
       "      <td>0.305556</td>\n",
       "      <td>36</td>\n",
       "      <td>111</td>\n",
       "      <td>112</td>\n",
       "      <td>111</td>\n",
       "      <td>1</td>\n",
       "    </tr>\n",
       "    <tr>\n",
       "      <th>7</th>\n",
       "      <td>0.785155</td>\n",
       "      <td>-0.804363</td>\n",
       "      <td>0.804363</td>\n",
       "      <td>0</td>\n",
       "      <td>-1.000000</td>\n",
       "      <td>0.535630</td>\n",
       "      <td>761</td>\n",
       "      <td>0.571150</td>\n",
       "      <td>0.635969</td>\n",
       "      <td>4.661588</td>\n",
       "      <td>...</td>\n",
       "      <td>7</td>\n",
       "      <td>8</td>\n",
       "      <td>7</td>\n",
       "      <td>8</td>\n",
       "      <td>0.305556</td>\n",
       "      <td>36</td>\n",
       "      <td>111</td>\n",
       "      <td>111</td>\n",
       "      <td>111</td>\n",
       "      <td>1</td>\n",
       "    </tr>\n",
       "    <tr>\n",
       "      <th>8</th>\n",
       "      <td>0.352873</td>\n",
       "      <td>0.064818</td>\n",
       "      <td>-0.064818</td>\n",
       "      <td>0</td>\n",
       "      <td>-1.000000</td>\n",
       "      <td>1.285155</td>\n",
       "      <td>761</td>\n",
       "      <td>4.114561</td>\n",
       "      <td>1.314367</td>\n",
       "      <td>-0.099227</td>\n",
       "      <td>...</td>\n",
       "      <td>8</td>\n",
       "      <td>9</td>\n",
       "      <td>8</td>\n",
       "      <td>9</td>\n",
       "      <td>0.305556</td>\n",
       "      <td>36</td>\n",
       "      <td>111</td>\n",
       "      <td>111</td>\n",
       "      <td>111</td>\n",
       "      <td>1</td>\n",
       "    </tr>\n",
       "    <tr>\n",
       "      <th>9</th>\n",
       "      <td>0.206726</td>\n",
       "      <td>-2.800194</td>\n",
       "      <td>2.800194</td>\n",
       "      <td>0</td>\n",
       "      <td>-0.935182</td>\n",
       "      <td>0.852873</td>\n",
       "      <td>761</td>\n",
       "      <td>0.822059</td>\n",
       "      <td>1.379872</td>\n",
       "      <td>4.103838</td>\n",
       "      <td>...</td>\n",
       "      <td>9</td>\n",
       "      <td>10</td>\n",
       "      <td>9</td>\n",
       "      <td>10</td>\n",
       "      <td>0.305556</td>\n",
       "      <td>36</td>\n",
       "      <td>111</td>\n",
       "      <td>111</td>\n",
       "      <td>112</td>\n",
       "      <td>0</td>\n",
       "    </tr>\n",
       "  </tbody>\n",
       "</table>\n",
       "<p>10 rows × 44 columns</p>\n",
       "</div>"
      ],
      "text/plain": [
       "        cpp  target_B  choice_B  cp  gen_drift  gen_bound   ID      b_t0  \\\n",
       "0  0.099471  0.000000  0.000000   1   0.013572   0.416406  761  0.000000   \n",
       "1  0.035079  0.000000  0.000000   0   0.013572   0.599471  761  1.390214   \n",
       "2  0.023075 -1.241007  1.241007   0   0.013572   0.535079  761  0.792372   \n",
       "3  0.019881 -0.595781  0.595781   0  -1.000000   0.523075  761  0.532802   \n",
       "4  0.018539 -0.306135  0.306135   0  -1.000000   0.519881  761  0.391376   \n",
       "5  0.268538 -0.139394  0.139394   0  -1.000000   0.518539  761  0.302804   \n",
       "6  0.035630 -0.027685  0.027685   0  -1.000000   0.768538  761  1.408409   \n",
       "7  0.785155 -0.804363  0.804363   0  -1.000000   0.535630  761  0.571150   \n",
       "8  0.352873  0.064818 -0.064818   0  -1.000000   1.285155  761  4.114561   \n",
       "9  0.206726 -2.800194  2.800194   0  -0.935182   0.852873  761  0.822059   \n",
       "\n",
       "       b_t1      r_t1      ...        epoch_trial_zero_idx  \\\n",
       "0  0.000000  2.528877      ...                           0   \n",
       "1  0.149207  0.000000      ...                           1   \n",
       "2  0.196591  0.000000      ...                           2   \n",
       "3  0.226667  0.000000      ...                           3   \n",
       "4  0.251982  0.000000      ...                           4   \n",
       "5  0.275119  3.036967      ...                           5   \n",
       "6  0.604046  0.000000      ...                           6   \n",
       "7  0.635969  4.661588      ...                           7   \n",
       "8  1.314367 -0.099227      ...                           8   \n",
       "9  1.379872  4.103838      ...                           9   \n",
       "\n",
       "   epoch_trial_one_idx  shifted_epoch_trial_zero_idx  repeat_trial  prop_112  \\\n",
       "0                    1                             0             1  0.305556   \n",
       "1                    2                             1             2  0.305556   \n",
       "2                    3                             2             3  0.305556   \n",
       "3                    4                             3             4  0.305556   \n",
       "4                    5                             4             5  0.305556   \n",
       "5                    6                             5             6  0.305556   \n",
       "6                    7                             6             7  0.305556   \n",
       "7                    8                             7             8  0.305556   \n",
       "8                    9                             8             9  0.305556   \n",
       "9                   10                             9            10  0.305556   \n",
       "\n",
       "   n_epoch_trials  p_id_solution  obs_low_val_cue  id_choice  p_id_accuracy  \n",
       "0              36            111              111        111              1  \n",
       "1              36            111              112        112              0  \n",
       "2              36            111              112        111              1  \n",
       "3              36            111              112        112              0  \n",
       "4              36            111              112        111              1  \n",
       "5              36            111              111        111              1  \n",
       "6              36            111              112        111              1  \n",
       "7              36            111              111        111              1  \n",
       "8              36            111              111        111              1  \n",
       "9              36            111              111        112              0  \n",
       "\n",
       "[10 rows x 44 columns]"
      ]
     },
     "execution_count": 71,
     "metadata": {},
     "output_type": "execute_result"
    }
   ],
   "source": [
    "all_obs_data.head(10)"
   ]
  },
  {
   "cell_type": "code",
   "execution_count": 72,
   "metadata": {},
   "outputs": [
    {
     "data": {
      "text/html": [
       "<div>\n",
       "<style scoped>\n",
       "    .dataframe tbody tr th:only-of-type {\n",
       "        vertical-align: middle;\n",
       "    }\n",
       "\n",
       "    .dataframe tbody tr th {\n",
       "        vertical-align: top;\n",
       "    }\n",
       "\n",
       "    .dataframe thead th {\n",
       "        text-align: right;\n",
       "    }\n",
       "</style>\n",
       "<table border=\"1\" class=\"dataframe\">\n",
       "  <thead>\n",
       "    <tr style=\"text-align: right;\">\n",
       "      <th></th>\n",
       "      <th>cpp</th>\n",
       "      <th>target_B</th>\n",
       "      <th>choice_B</th>\n",
       "      <th>cp</th>\n",
       "      <th>gen_drift</th>\n",
       "      <th>gen_bound</th>\n",
       "      <th>ID</th>\n",
       "      <th>b_t0</th>\n",
       "      <th>b_t1</th>\n",
       "      <th>r_t1</th>\n",
       "      <th>...</th>\n",
       "      <th>epoch_trial_zero_idx</th>\n",
       "      <th>epoch_trial_one_idx</th>\n",
       "      <th>shifted_epoch_trial_zero_idx</th>\n",
       "      <th>repeat_trial</th>\n",
       "      <th>prop_112</th>\n",
       "      <th>n_epoch_trials</th>\n",
       "      <th>p_id_solution</th>\n",
       "      <th>obs_low_val_cue</th>\n",
       "      <th>id_choice</th>\n",
       "      <th>p_id_accuracy</th>\n",
       "    </tr>\n",
       "  </thead>\n",
       "  <tbody>\n",
       "    <tr>\n",
       "      <th>0</th>\n",
       "      <td>0.099471</td>\n",
       "      <td>0.000000</td>\n",
       "      <td>0.000000</td>\n",
       "      <td>1</td>\n",
       "      <td>0.013572</td>\n",
       "      <td>0.416406</td>\n",
       "      <td>761</td>\n",
       "      <td>0.000000</td>\n",
       "      <td>0.000000</td>\n",
       "      <td>2.528877</td>\n",
       "      <td>...</td>\n",
       "      <td>0</td>\n",
       "      <td>1</td>\n",
       "      <td>0</td>\n",
       "      <td>1</td>\n",
       "      <td>0.305556</td>\n",
       "      <td>36</td>\n",
       "      <td>111</td>\n",
       "      <td>111</td>\n",
       "      <td>111</td>\n",
       "      <td>1</td>\n",
       "    </tr>\n",
       "    <tr>\n",
       "      <th>1</th>\n",
       "      <td>0.035079</td>\n",
       "      <td>0.000000</td>\n",
       "      <td>0.000000</td>\n",
       "      <td>0</td>\n",
       "      <td>0.013572</td>\n",
       "      <td>0.599471</td>\n",
       "      <td>761</td>\n",
       "      <td>1.390214</td>\n",
       "      <td>0.149207</td>\n",
       "      <td>0.000000</td>\n",
       "      <td>...</td>\n",
       "      <td>1</td>\n",
       "      <td>2</td>\n",
       "      <td>1</td>\n",
       "      <td>2</td>\n",
       "      <td>0.305556</td>\n",
       "      <td>36</td>\n",
       "      <td>111</td>\n",
       "      <td>112</td>\n",
       "      <td>112</td>\n",
       "      <td>0</td>\n",
       "    </tr>\n",
       "    <tr>\n",
       "      <th>2</th>\n",
       "      <td>0.023075</td>\n",
       "      <td>-1.241007</td>\n",
       "      <td>1.241007</td>\n",
       "      <td>0</td>\n",
       "      <td>0.013572</td>\n",
       "      <td>0.535079</td>\n",
       "      <td>761</td>\n",
       "      <td>0.792372</td>\n",
       "      <td>0.196591</td>\n",
       "      <td>0.000000</td>\n",
       "      <td>...</td>\n",
       "      <td>2</td>\n",
       "      <td>3</td>\n",
       "      <td>2</td>\n",
       "      <td>3</td>\n",
       "      <td>0.305556</td>\n",
       "      <td>36</td>\n",
       "      <td>111</td>\n",
       "      <td>112</td>\n",
       "      <td>111</td>\n",
       "      <td>1</td>\n",
       "    </tr>\n",
       "    <tr>\n",
       "      <th>3</th>\n",
       "      <td>0.019881</td>\n",
       "      <td>-0.595781</td>\n",
       "      <td>0.595781</td>\n",
       "      <td>0</td>\n",
       "      <td>-1.000000</td>\n",
       "      <td>0.523075</td>\n",
       "      <td>761</td>\n",
       "      <td>0.532802</td>\n",
       "      <td>0.226667</td>\n",
       "      <td>0.000000</td>\n",
       "      <td>...</td>\n",
       "      <td>3</td>\n",
       "      <td>4</td>\n",
       "      <td>3</td>\n",
       "      <td>4</td>\n",
       "      <td>0.305556</td>\n",
       "      <td>36</td>\n",
       "      <td>111</td>\n",
       "      <td>112</td>\n",
       "      <td>112</td>\n",
       "      <td>0</td>\n",
       "    </tr>\n",
       "    <tr>\n",
       "      <th>4</th>\n",
       "      <td>0.018539</td>\n",
       "      <td>-0.306135</td>\n",
       "      <td>0.306135</td>\n",
       "      <td>0</td>\n",
       "      <td>-1.000000</td>\n",
       "      <td>0.519881</td>\n",
       "      <td>761</td>\n",
       "      <td>0.391376</td>\n",
       "      <td>0.251982</td>\n",
       "      <td>0.000000</td>\n",
       "      <td>...</td>\n",
       "      <td>4</td>\n",
       "      <td>5</td>\n",
       "      <td>4</td>\n",
       "      <td>5</td>\n",
       "      <td>0.305556</td>\n",
       "      <td>36</td>\n",
       "      <td>111</td>\n",
       "      <td>112</td>\n",
       "      <td>111</td>\n",
       "      <td>1</td>\n",
       "    </tr>\n",
       "  </tbody>\n",
       "</table>\n",
       "<p>5 rows × 44 columns</p>\n",
       "</div>"
      ],
      "text/plain": [
       "        cpp  target_B  choice_B  cp  gen_drift  gen_bound   ID      b_t0  \\\n",
       "0  0.099471  0.000000  0.000000   1   0.013572   0.416406  761  0.000000   \n",
       "1  0.035079  0.000000  0.000000   0   0.013572   0.599471  761  1.390214   \n",
       "2  0.023075 -1.241007  1.241007   0   0.013572   0.535079  761  0.792372   \n",
       "3  0.019881 -0.595781  0.595781   0  -1.000000   0.523075  761  0.532802   \n",
       "4  0.018539 -0.306135  0.306135   0  -1.000000   0.519881  761  0.391376   \n",
       "\n",
       "       b_t1      r_t1      ...        epoch_trial_zero_idx  \\\n",
       "0  0.000000  2.528877      ...                           0   \n",
       "1  0.149207  0.000000      ...                           1   \n",
       "2  0.196591  0.000000      ...                           2   \n",
       "3  0.226667  0.000000      ...                           3   \n",
       "4  0.251982  0.000000      ...                           4   \n",
       "\n",
       "   epoch_trial_one_idx  shifted_epoch_trial_zero_idx  repeat_trial  prop_112  \\\n",
       "0                    1                             0             1  0.305556   \n",
       "1                    2                             1             2  0.305556   \n",
       "2                    3                             2             3  0.305556   \n",
       "3                    4                             3             4  0.305556   \n",
       "4                    5                             4             5  0.305556   \n",
       "\n",
       "   n_epoch_trials  p_id_solution  obs_low_val_cue  id_choice  p_id_accuracy  \n",
       "0              36            111              111        111              1  \n",
       "1              36            111              112        112              0  \n",
       "2              36            111              112        111              1  \n",
       "3              36            111              112        112              0  \n",
       "4              36            111              112        111              1  \n",
       "\n",
       "[5 rows x 44 columns]"
      ]
     },
     "execution_count": 72,
     "metadata": {},
     "output_type": "execute_result"
    }
   ],
   "source": [
    "all_obs_data.columns = all_obs_data.columns.str.strip()\n",
    "all_obs_data.head()"
   ]
  },
  {
   "cell_type": "code",
   "execution_count": 73,
   "metadata": {},
   "outputs": [
    {
     "data": {
      "text/plain": [
       "Index(['cpp', 'target_B', 'choice_B', 'cp', 'gen_drift', 'gen_bound', 'ID',\n",
       "       'b_t0', 'b_t1', 'r_t1', 'r_t2', 'obs_cp', 'ideal_B', 'B_ideal_target',\n",
       "       'B_nonideal_target', 'LR_choice', 'obs_LR_accuracy', 'obs_LR_solution',\n",
       "       'reward', 'cumulative_reward', 'rt', 'total_trial_time', 'iti',\n",
       "       'cp_with_slow_fast', 'obs_cp_with_slow_fast', 'obs_high_val_cue',\n",
       "       'ID.1', 'condition', 'coded_condition', 'original_trial', 'epoch_n',\n",
       "       'epoch_trial', 'shifted_epoch_trial', 'max_epoch_n',\n",
       "       'epoch_trial_zero_idx', 'epoch_trial_one_idx',\n",
       "       'shifted_epoch_trial_zero_idx', 'repeat_trial', 'prop_112',\n",
       "       'n_epoch_trials', 'p_id_solution', 'obs_low_val_cue', 'id_choice',\n",
       "       'p_id_accuracy'],\n",
       "      dtype='object')"
      ]
     },
     "execution_count": 73,
     "metadata": {},
     "output_type": "execute_result"
    }
   ],
   "source": [
    "all_obs_data.columns"
   ]
  },
  {
   "cell_type": "code",
   "execution_count": 74,
   "metadata": {},
   "outputs": [],
   "source": [
    "# plt.figure(figsize=(50,30))\n",
    "# sns.barplot(x=\"condition\",y=\"cp_with_slow_fast\", data=test_data, ci=95, n_boot=1000)\n",
    "# plt.ylabel('n change points')\n",
    "\n",
    "# plt.figure(figsize=(50,30))\n",
    "# sns.barplot(x=\"condition\",y=\"p_id_accuracy\", data=test_data, ci=95, n_boot=1000)\n",
    "# plt.ylabel('accuracy')\n",
    "\n",
    "# plt.figure(figsize=(50,30))\n",
    "# sns.barplot(x=\"condition\",y=\"cumulative_reward\", data=test_data, ci=95, n_boot=1000)\n",
    "# plt.ylabel('cumulative_reward')"
   ]
  },
  {
   "cell_type": "code",
   "execution_count": 9,
   "metadata": {},
   "outputs": [],
   "source": [
    "# plt.figure(figsize=(50,30))\n",
    "# sns.barplot(x=\"condition\",y=\"cpp\", data=all_obs_data, ci=95, n_boot=1000)\n",
    "# plt.ylabel('$\\Omega$')"
   ]
  },
  {
   "cell_type": "code",
   "execution_count": 10,
   "metadata": {},
   "outputs": [
    {
     "data": {
      "text/plain": [
       "array([111, 112])"
      ]
     },
     "execution_count": 10,
     "metadata": {},
     "output_type": "execute_result"
    }
   ],
   "source": [
    "np.unique(all_obs_data.id_choice)"
   ]
  },
  {
   "cell_type": "code",
   "execution_count": 75,
   "metadata": {},
   "outputs": [],
   "source": [
    "all_obs_data.loc[all_obs_data.id_choice == 111, 'id_choice'] = 0\n",
    "all_obs_data.loc[all_obs_data.id_choice == 112, 'id_choice'] = 1"
   ]
  },
  {
   "cell_type": "code",
   "execution_count": 76,
   "metadata": {},
   "outputs": [],
   "source": [
    "all_obs_data.loc[all_obs_data.p_id_solution == 111, 'p_id_solution'] = 0\n",
    "all_obs_data.loc[all_obs_data.p_id_solution == 112, 'p_id_solution'] = 1"
   ]
  },
  {
   "cell_type": "code",
   "execution_count": 13,
   "metadata": {},
   "outputs": [],
   "source": [
    "# all_obs_data_sample_lv = all_obs_data[(all_obs_data.condition == 'lv') & (all_obs_data.ID == 765)] \n",
    "# all_obs_data_sample_hv = all_obs_data[(all_obs_data.condition == 'hv') & (all_obs_data.ID == 765)] "
   ]
  },
  {
   "cell_type": "code",
   "execution_count": 53,
   "metadata": {},
   "outputs": [],
   "source": [
    "# np.sum(((all_obs_data.id_choice == all_obs_data.p_id_solution) == \n",
    "# all_obs_data.p_id_accuracy))"
   ]
  },
  {
   "cell_type": "code",
   "execution_count": 15,
   "metadata": {},
   "outputs": [],
   "source": [
    "# plt.figure(figsize=(50,30))\n",
    "# plt.plot(all_obs_data_sample_lv.target_B, 'b', label='$B$')\n",
    "# plt.plot(all_obs_data_sample_lv.p_id_accuracy, 'r', label='accuracy')\n",
    "# plt.plot(all_obs_data_sample_lv.id_choice, 'k', label='choice',)"
   ]
  },
  {
   "cell_type": "code",
   "execution_count": 16,
   "metadata": {},
   "outputs": [],
   "source": [
    "# plt.figure(figsize=(50,30))\n",
    "# plt.plot(all_obs_data_sample_hv.target_B, 'r', label='$B$')\n",
    "# plt.plot(all_obs_data_sample_hv.id_choice, 'k', label='choice')"
   ]
  },
  {
   "cell_type": "code",
   "execution_count": 17,
   "metadata": {},
   "outputs": [],
   "source": [
    "# plt.figure(figsize=(50,30))\n",
    "# plt.plot(all_obs_data_sample_lv.cpp, 'r', label='$\\Omega$')\n",
    "# # plt.plot(all_obs_data_sample_lv.id_choice, 'k--', label='id_choice')\n",
    "# plt.plot(all_obs_data_sample_lv.p_id_solution, 'g--', label='correct_choice')\n",
    "# plt.legend()"
   ]
  },
  {
   "cell_type": "code",
   "execution_count": 18,
   "metadata": {},
   "outputs": [],
   "source": [
    "# all_obs_data_sample_lc = all_obs_data[(all_obs_data.condition == 'lc') & (all_obs_data.ID == 761)] "
   ]
  },
  {
   "cell_type": "code",
   "execution_count": 19,
   "metadata": {},
   "outputs": [],
   "source": [
    "# #use a low conflict sample to test direction\n",
    "# plt.figure(figsize=(50,30))\n",
    "# plt.plot(all_obs_data_sample_lc.target_B, 'r', label='$B_{A} - B_{B}$')\n",
    "# plt.plot(all_obs_data_sample_lc.id_choice, 'k--', label='id_choice')\n",
    "# plt.plot(all_obs_data_sample_lc.p_id_solution, 'g--', label='correct_choice')\n",
    "# plt.legend()"
   ]
  },
  {
   "cell_type": "code",
   "execution_count": 20,
   "metadata": {},
   "outputs": [],
   "source": [
    "# plt.figure(figsize=(50,30))\n",
    "# plt.plot(all_obs_data_sample_lc.cpp[0:600], 'k', label='cpp')\n",
    "# plt.plot(all_obs_data_sample_lc.cp[0:600], 'r--', alpha=0.5, label='true cp')\n",
    "# plt.ylabel('$\\Omega$')\n",
    "# plt.legend(frameon=1,loc='upper left')"
   ]
  },
  {
   "cell_type": "code",
   "execution_count": 77,
   "metadata": {},
   "outputs": [],
   "source": [
    "#use target choice as response \n",
    "#include correct target choice as stimulus \n",
    "all_obs_data = all_obs_data.rename(index=str, columns={\"id_choice\": \"response\", \n",
    "                                                       \"p_id_solution\": \"stimulus\",\n",
    "                                                        \"ID\": \"subj_idx\"})\n",
    "all_obs_data = all_obs_data[['response', 'stimulus', 'rt', 'condition', 'subj_idx', 'target_B', 'cpp']] \n",
    "# #use target-based belief in reward difference (b_t0 - b_t1)\n",
    "all_obs_data = all_obs_data.rename(index=str, columns={'target_B': 'B'})\n",
    "# all_obs_data = all_obs_data[(all_obs_data.rt<0.6)]\n",
    "# all_obs_data.reset_index(drop=True, inplace=True)"
   ]
  },
  {
   "cell_type": "code",
   "execution_count": 78,
   "metadata": {},
   "outputs": [
    {
     "data": {
      "text/html": [
       "<div>\n",
       "<style scoped>\n",
       "    .dataframe tbody tr th:only-of-type {\n",
       "        vertical-align: middle;\n",
       "    }\n",
       "\n",
       "    .dataframe tbody tr th {\n",
       "        vertical-align: top;\n",
       "    }\n",
       "\n",
       "    .dataframe thead th {\n",
       "        text-align: right;\n",
       "    }\n",
       "</style>\n",
       "<table border=\"1\" class=\"dataframe\">\n",
       "  <thead>\n",
       "    <tr style=\"text-align: right;\">\n",
       "      <th></th>\n",
       "      <th>response</th>\n",
       "      <th>stimulus</th>\n",
       "      <th>rt</th>\n",
       "      <th>condition</th>\n",
       "      <th>subj_idx</th>\n",
       "      <th>B</th>\n",
       "      <th>cpp</th>\n",
       "    </tr>\n",
       "  </thead>\n",
       "  <tbody>\n",
       "    <tr>\n",
       "      <th>0</th>\n",
       "      <td>0</td>\n",
       "      <td>0</td>\n",
       "      <td>0.711570</td>\n",
       "      <td>hc</td>\n",
       "      <td>761</td>\n",
       "      <td>0.000000</td>\n",
       "      <td>0.099471</td>\n",
       "    </tr>\n",
       "    <tr>\n",
       "      <th>1</th>\n",
       "      <td>1</td>\n",
       "      <td>0</td>\n",
       "      <td>0.681410</td>\n",
       "      <td>hc</td>\n",
       "      <td>761</td>\n",
       "      <td>0.000000</td>\n",
       "      <td>0.035079</td>\n",
       "    </tr>\n",
       "    <tr>\n",
       "      <th>2</th>\n",
       "      <td>0</td>\n",
       "      <td>0</td>\n",
       "      <td>0.767118</td>\n",
       "      <td>hc</td>\n",
       "      <td>761</td>\n",
       "      <td>-1.241007</td>\n",
       "      <td>0.023075</td>\n",
       "    </tr>\n",
       "    <tr>\n",
       "      <th>3</th>\n",
       "      <td>1</td>\n",
       "      <td>0</td>\n",
       "      <td>0.507209</td>\n",
       "      <td>hc</td>\n",
       "      <td>761</td>\n",
       "      <td>-0.595781</td>\n",
       "      <td>0.019881</td>\n",
       "    </tr>\n",
       "    <tr>\n",
       "      <th>4</th>\n",
       "      <td>0</td>\n",
       "      <td>0</td>\n",
       "      <td>0.656259</td>\n",
       "      <td>hc</td>\n",
       "      <td>761</td>\n",
       "      <td>-0.306135</td>\n",
       "      <td>0.018539</td>\n",
       "    </tr>\n",
       "  </tbody>\n",
       "</table>\n",
       "</div>"
      ],
      "text/plain": [
       "   response  stimulus        rt condition  subj_idx         B       cpp\n",
       "0         0         0  0.711570        hc       761  0.000000  0.099471\n",
       "1         1         0  0.681410        hc       761  0.000000  0.035079\n",
       "2         0         0  0.767118        hc       761 -1.241007  0.023075\n",
       "3         1         0  0.507209        hc       761 -0.595781  0.019881\n",
       "4         0         0  0.656259        hc       761 -0.306135  0.018539"
      ]
     },
     "execution_count": 78,
     "metadata": {},
     "output_type": "execute_result"
    }
   ],
   "source": [
    "all_obs_data.head()"
   ]
  },
  {
   "cell_type": "code",
   "execution_count": 79,
   "metadata": {},
   "outputs": [
    {
     "data": {
      "text/html": [
       "<div>\n",
       "<style scoped>\n",
       "    .dataframe tbody tr th:only-of-type {\n",
       "        vertical-align: middle;\n",
       "    }\n",
       "\n",
       "    .dataframe tbody tr th {\n",
       "        vertical-align: top;\n",
       "    }\n",
       "\n",
       "    .dataframe thead th {\n",
       "        text-align: right;\n",
       "    }\n",
       "</style>\n",
       "<table border=\"1\" class=\"dataframe\">\n",
       "  <thead>\n",
       "    <tr style=\"text-align: right;\">\n",
       "      <th></th>\n",
       "      <th>response</th>\n",
       "      <th>stimulus</th>\n",
       "      <th>rt</th>\n",
       "      <th>condition</th>\n",
       "      <th>subj_idx</th>\n",
       "      <th>B</th>\n",
       "      <th>cpp</th>\n",
       "    </tr>\n",
       "  </thead>\n",
       "  <tbody>\n",
       "    <tr>\n",
       "      <th>0</th>\n",
       "      <td>0</td>\n",
       "      <td>0</td>\n",
       "      <td>0.711570</td>\n",
       "      <td>hc</td>\n",
       "      <td>761</td>\n",
       "      <td>0.000000</td>\n",
       "      <td>0.099471</td>\n",
       "    </tr>\n",
       "    <tr>\n",
       "      <th>1</th>\n",
       "      <td>1</td>\n",
       "      <td>0</td>\n",
       "      <td>0.681410</td>\n",
       "      <td>hc</td>\n",
       "      <td>761</td>\n",
       "      <td>0.000000</td>\n",
       "      <td>0.035079</td>\n",
       "    </tr>\n",
       "    <tr>\n",
       "      <th>2</th>\n",
       "      <td>0</td>\n",
       "      <td>0</td>\n",
       "      <td>0.767118</td>\n",
       "      <td>hc</td>\n",
       "      <td>761</td>\n",
       "      <td>-1.241007</td>\n",
       "      <td>0.023075</td>\n",
       "    </tr>\n",
       "    <tr>\n",
       "      <th>3</th>\n",
       "      <td>1</td>\n",
       "      <td>0</td>\n",
       "      <td>0.507209</td>\n",
       "      <td>hc</td>\n",
       "      <td>761</td>\n",
       "      <td>-0.595781</td>\n",
       "      <td>0.019881</td>\n",
       "    </tr>\n",
       "    <tr>\n",
       "      <th>4</th>\n",
       "      <td>0</td>\n",
       "      <td>0</td>\n",
       "      <td>0.656259</td>\n",
       "      <td>hc</td>\n",
       "      <td>761</td>\n",
       "      <td>-0.306135</td>\n",
       "      <td>0.018539</td>\n",
       "    </tr>\n",
       "  </tbody>\n",
       "</table>\n",
       "</div>"
      ],
      "text/plain": [
       "   response  stimulus        rt condition  subj_idx         B       cpp\n",
       "0         0         0  0.711570        hc       761  0.000000  0.099471\n",
       "1         1         0  0.681410        hc       761  0.000000  0.035079\n",
       "2         0         0  0.767118        hc       761 -1.241007  0.023075\n",
       "3         1         0  0.507209        hc       761 -0.595781  0.019881\n",
       "4         0         0  0.656259        hc       761 -0.306135  0.018539"
      ]
     },
     "execution_count": 79,
     "metadata": {},
     "output_type": "execute_result"
    }
   ],
   "source": [
    "all_obs_data['condition'] = all_obs_data['condition'].str.strip()\n",
    "all_obs_data.head()"
   ]
  },
  {
   "cell_type": "code",
   "execution_count": 80,
   "metadata": {},
   "outputs": [],
   "source": [
    "def z_link_func(x, data=all_obs_data):\n",
    "    stim = (np.asarray(dmatrix('0 + C(s, [[1], [-1]])',\n",
    "                               {'s': data.stimulus.ix[x.index]}))\n",
    "    )\n",
    "    return 1 / (1 + np.exp(-(x * stim)))"
   ]
  },
  {
   "cell_type": "code",
   "execution_count": 91,
   "metadata": {},
   "outputs": [],
   "source": [
    "def v_link_func_orig(x, data=all_obs_data):\n",
    "    stim = (np.asarray(dmatrix('0 + C(s,[[1],[-1]])', {'s':data.stimulus.ix[x.index]})))\n",
    "    return x * stim"
   ]
  },
  {
   "cell_type": "code",
   "execution_count": 101,
   "metadata": {},
   "outputs": [],
   "source": [
    "def v_link_func(x, data=all_obs_data):\n",
    "    print(data.stimulus.ix[x.index], data.response.ix[x.index])\n",
    "#     if data.stimulus.ix[x.index] == data.response.ix[x.index]:\n",
    "#         x=abs(x)\n",
    "#     elif data.stimulus.ix[x.index] != data.response.ix[x.index]:\n",
    "#         x=-1*x\n",
    "    return x "
   ]
  },
  {
   "cell_type": "code",
   "execution_count": 82,
   "metadata": {},
   "outputs": [
    {
     "data": {
      "text/plain": [
       "(array([761, 762, 763, 764, 765, 766, 767, 768, 769, 770, 771, 772, 773,\n",
       "        774, 775, 776, 777, 778, 779, 780, 781, 782, 783, 784]),\n",
       " array(['hc', 'hv', 'lc', 'lv'], dtype=object))"
      ]
     },
     "execution_count": 82,
     "metadata": {},
     "output_type": "execute_result"
    }
   ],
   "source": [
    "np.unique(all_obs_data.subj_idx), np.unique(all_obs_data.condition)"
   ]
  },
  {
   "cell_type": "code",
   "execution_count": 27,
   "metadata": {},
   "outputs": [
    {
     "data": {
      "image/png": "[encoded data removed]",
      "text/plain": [
       "<Figure size 1080x576 with 1 Axes>"
      ]
     },
     "metadata": {},
     "output_type": "display_data"
    }
   ],
   "source": [
    "fig=plt.figure(figsize=(15,8))\n",
    "ax = fig.add_subplot(111, xlabel='RT', ylabel='count', title='RT distributions')\n",
    "for i, subj_data in all_obs_data.groupby('condition'):\n",
    "    subj_data.rt.hist(bins=20, histtype='stepfilled', ax=ax)"
   ]
  },
  {
   "cell_type": "code",
   "execution_count": 28,
   "metadata": {},
   "outputs": [],
   "source": [
    "# plt.figure(figsize=(50,30))\n",
    "# plt.plot(all_obs_data.B[(all_obs_data.subj_idx == 761) & (all_obs_data.condition == 'lc')], 'k')\n",
    "# plt.ylabel('B')"
   ]
  },
  {
   "cell_type": "code",
   "execution_count": null,
   "metadata": {},
   "outputs": [
    {
     "data": {
      "text/plain": [
       "Text(0,0.5,'stimulus selected')"
      ]
     },
     "execution_count": 22,
     "metadata": {},
     "output_type": "execute_result"
    }
   ],
   "source": [
    "# plt.figure(figsize=(15,8))\n",
    "# plt.plot(all_obs_data.response[(all_obs_data.subj_idx == 761) & (all_obs_data.condition == 'lc')], 'k')\n",
    "# plt.plot(all_obs_data.B[(all_obs_data.subj_idx == 761) & (all_obs_data.condition == 'lc')], 'r')\n",
    "\n",
    "# plt.ylabel('stimulus selected')"
   ]
  },
  {
   "cell_type": "code",
   "execution_count": 27,
   "metadata": {},
   "outputs": [
    {
     "data": {
      "text/plain": [
       "Index(['response', 'stimulus', 'rt', 'condition', 'subj_idx', 'B', 'cpp'], dtype='object')"
      ]
     },
     "execution_count": 27,
     "metadata": {},
     "output_type": "execute_result"
    }
   ],
   "source": [
    "all_obs_data.columns"
   ]
  },
  {
   "cell_type": "code",
   "execution_count": null,
   "metadata": {},
   "outputs": [
    {
     "data": {
      "text/plain": [
       "Text(0,0.5,'correct stimulus')"
      ]
     },
     "execution_count": 30,
     "metadata": {},
     "output_type": "execute_result"
    }
   ],
   "source": [
    "# fig=plt.figure(figsize=(15,8))\n",
    "# plt.plot(all_obs_data.stimulus[(all_obs_data.subj_idx == 761) & (all_obs_data.condition == 'lc')], 'k')\n",
    "# plt.ylabel('correct stimulus')"
   ]
  },
  {
   "cell_type": "code",
   "execution_count": 83,
   "metadata": {},
   "outputs": [],
   "source": [
    "n_samples, n_burned_samples = 1000,50\n",
    "n_samples_test, n_burned_samples_test, n_thin_test = 10, 2, 2"
   ]
  },
  {
   "cell_type": "code",
   "execution_count": 29,
   "metadata": {},
   "outputs": [
    {
     "name": "stdout",
     "output_type": "stream",
     "text": [
      "(('cpp:C(condition)', 'B:C(condition)'), ('cpp:C(condition)', 'B:C(condition)'), ('cpp:C(condition)', 'B:C(condition)'), ('cpp:C(condition)', 'B:C(condition)'), ('cpp:C(condition)', 'B:C(condition)'), ('cpp:C(condition)', 'B:C(condition)'), ('cpp:C(condition)', 'B:C(condition)'), ('cpp:C(condition)', 'B:C(condition)'), ('cpp:C(condition)', 'B:C(condition)'), ('cpp:C(condition)', 'B:C(condition)'), ('cpp:C(condition)', 'B:C(condition)'), ('cpp:C(condition)', 'B:C(condition)'))\n",
      "[('a~', 't~'), ('a~', 'v~'), ('a~', 'z~'), ('t~', 'a~'), ('t~', 'v~'), ('t~', 'z~'), ('v~', 'a~'), ('v~', 't~'), ('v~', 'z~'), ('z~', 'a~'), ('z~', 't~'), ('z~', 'v~')]\n"
     ]
    }
   ],
   "source": [
    "#get all permutations of a,t,v\n",
    "#hold position of learning signals constant to get all combinations \n",
    "#of learning signal and parameter pairs \n",
    "from itertools import permutations\n",
    "from more_itertools import chunked\n",
    "\n",
    "targets = ['a~', 't~', 'v~', 'z~']\n",
    "signals = (('cpp:C(condition)', 'B:C(condition)'),)\n",
    "param_pairs = list(permutations(targets, 2))\n",
    "learning_signal_pairs = signals*(int(len(param_pairs)/len(signals)))\n",
    "\n",
    "print(learning_signal_pairs)\n",
    "print(param_pairs)"
   ]
  },
  {
   "cell_type": "code",
   "execution_count": 30,
   "metadata": {},
   "outputs": [],
   "source": [
    "tuple_idx = np.repeat(list(np.arange(len(learning_signal_pairs))),2)\n",
    "tuple_element_idx = [0,1]*len(learning_signal_pairs)\n",
    "models = [param_pairs[t_idx][e_idx] + learning_signal_pairs[t_idx][e_idx] for t_idx,e_idx in zip(tuple_idx, tuple_element_idx)]"
   ]
  },
  {
   "cell_type": "code",
   "execution_count": 31,
   "metadata": {},
   "outputs": [
    {
     "name": "stdout",
     "output_type": "stream",
     "text": [
      "[['a~cpp:C(condition)', 't~B:C(condition)'], ['a~cpp:C(condition)', 'v~B:C(condition)'], ['a~cpp:C(condition)', 'z~B:C(condition)'], ['t~cpp:C(condition)', 'a~B:C(condition)'], ['t~cpp:C(condition)', 'v~B:C(condition)'], ['t~cpp:C(condition)', 'z~B:C(condition)'], ['v~cpp:C(condition)', 'a~B:C(condition)'], ['v~cpp:C(condition)', 't~B:C(condition)'], ['v~cpp:C(condition)', 'z~B:C(condition)'], ['z~cpp:C(condition)', 'a~B:C(condition)'], ['z~cpp:C(condition)', 't~B:C(condition)'], ['z~cpp:C(condition)', 'v~B:C(condition)']]\n"
     ]
    }
   ],
   "source": [
    "reg_descriptions = list(chunked(models,2))\n",
    "print(reg_descriptions)\n",
    "\n",
    "model_dict = {'a_cpp_t_B': reg_descriptions[0], 'a_cpp_v_B': reg_descriptions[1],\n",
    "'a_cpp_z_B': reg_descriptions[2], 't_cpp_a_B': reg_descriptions[3], \n",
    "'t_cpp_v_B': reg_descriptions[4], 't_cpp_z_B': reg_descriptions[5], \n",
    "              'v_cpp_a_B': reg_descriptions[6], 'v_cpp_t_B': reg_descriptions[7],\n",
    "             'v_cpp_z_B': reg_descriptions[8], 'z_cpp_a_B': reg_descriptions[9],\n",
    "             'z_cpp_t_B': reg_descriptions[10], 'z_cpp_v_B': reg_descriptions[11]}"
   ]
  },
  {
   "cell_type": "code",
   "execution_count": 32,
   "metadata": {},
   "outputs": [
    {
     "name": "stdout",
     "output_type": "stream",
     "text": [
      "{'t_cpp_v_B': ['t~cpp:C(condition)', 'v~B:C(condition)'], 'z_cpp_a_B': ['z~cpp:C(condition)', 'a~B:C(condition)'], 'v_cpp_z_B': ['v~cpp:C(condition)', 'z~B:C(condition)'], 'a_cpp_v_B': ['a~cpp:C(condition)', 'v~B:C(condition)'], 'z_cpp_t_B': ['z~cpp:C(condition)', 't~B:C(condition)'], 'z_cpp_v_B': ['z~cpp:C(condition)', 'v~B:C(condition)'], 'v_cpp_a_B': ['v~cpp:C(condition)', 'a~B:C(condition)'], 'a_cpp_z_B': ['a~cpp:C(condition)', 'z~B:C(condition)'], 'a_cpp_t_B': ['a~cpp:C(condition)', 't~B:C(condition)'], 'v_cpp_t_B': ['v~cpp:C(condition)', 't~B:C(condition)'], 't_cpp_a_B': ['t~cpp:C(condition)', 'a~B:C(condition)'], 't_cpp_z_B': ['t~cpp:C(condition)', 'z~B:C(condition)']}\n"
     ]
    }
   ],
   "source": [
    "print(model_dict)"
   ]
  },
  {
   "cell_type": "code",
   "execution_count": 33,
   "metadata": {},
   "outputs": [
    {
     "data": {
      "text/plain": [
       "['t~cpp:C(condition)', 'v~B:C(condition)']"
      ]
     },
     "execution_count": 33,
     "metadata": {},
     "output_type": "execute_result"
    }
   ],
   "source": [
    "model_dict['t_cpp_v_B']"
   ]
  },
  {
   "cell_type": "code",
   "execution_count": 108,
   "metadata": {},
   "outputs": [],
   "source": [
    "v_reg = {'model': 'v ~ 1 + B:C(condition)', 'link_func': v_link_func_orig}\n",
    "t_reg = {'model': 't ~ 1 + cpp:C(condition)', 'link_func': lambda x:x}\n",
    "reg_descr = [v_reg, t_reg]"
   ]
  },
  {
   "cell_type": "code",
   "execution_count": 42,
   "metadata": {},
   "outputs": [],
   "source": [
    "level1a = {'v':.3, 'a':2, 't':.3, 'sv':0, 'z':.5, 'sz':0, 'st':0}\n",
    "level2a = {'v':.4, 'a':2, 't':.3, 'sv':0, 'z':.6, 'sz':0, 'st':0}\n",
    "level3a = {'v':.5, 'a':2, 't':.3, 'sv':0, 'z':.7, 'sz':0, 'st':0}\n",
    "trials_per_level=200\n",
    "n_subjects=1"
   ]
  },
  {
   "cell_type": "code",
   "execution_count": 43,
   "metadata": {},
   "outputs": [],
   "source": [
    "data_a, params_a = hddm.generate.gen_rand_data({'level1': level1a,\n",
    "                                                'level2': level2a,\n",
    "                                                'level3': level3a},\n",
    "                                                size=trials_per_level,\n",
    "                                                subjs=n_subjects)"
   ]
  },
  {
   "cell_type": "code",
   "execution_count": 104,
   "metadata": {},
   "outputs": [],
   "source": [
    "?hddm.HDDMStimCoding"
   ]
  },
  {
   "cell_type": "code",
   "execution_count": 109,
   "metadata": {},
   "outputs": [
    {
     "name": "stdout",
     "output_type": "stream",
     "text": [
      "Adding these covariates:\n",
      "['v_Intercept', 'v_B:C(condition)[hc]', 'v_B:C(condition)[hv]', 'v_B:C(condition)[lc]', 'v_B:C(condition)[lv]']\n",
      "Adding these covariates:\n",
      "['t_Intercept', 't_cpp:C(condition)[hc]', 't_cpp:C(condition)[hv]', 't_cpp:C(condition)[lc]', 't_cpp:C(condition)[lv]']\n"
     ]
    },
    {
     "name": "stderr",
     "output_type": "stream",
     "text": [
      "/anaconda3/envs/hddm/lib/python3.5/site-packages/pymc/Node.py:403: VisibleDeprecationWarning: using a non-integer number instead of an integer will result in an error in the future\n",
      "  self.__name__ = input['__name__']\n"
     ]
    },
    {
     "name": "stdout",
     "output_type": "stream",
     "text": [
      " [-----------------100%-----------------] 1001 of 1000 complete in 61042.5 sec"
     ]
    },
    {
     "name": "stderr",
     "output_type": "stream",
     "text": [
      "/anaconda3/envs/hddm/lib/python3.5/site-packages/numpy/core/fromnumeric.py:224: VisibleDeprecationWarning: using a non-integer number instead of an integer will result in an error in the future\n",
      "  return reshape(newshape, order=order)\n"
     ]
    },
    {
     "data": {
      "text/plain": [
       "<pymc.MCMC.MCMC at 0x114ad2da0>"
      ]
     },
     "execution_count": 109,
     "metadata": {},
     "output_type": "execute_result"
    }
   ],
   "source": [
    "t_cpp_v_B_obs_reg = hddm.HDDMRegressor(all_obs_data, reg_descr, bias=True, group_only_regressors=True, informative=False)\n",
    "# t_cpp_v_B_obs_reg.find_starting_values()\n",
    "t_cpp_v_B_obs_reg.sample(n_samples,burn=n_burned_samples,  dbname='t_cpp_v_B_obs_reg_test_link.db', db='pickle')"
   ]
  },
  {
   "cell_type": "code",
   "execution_count": 94,
   "metadata": {},
   "outputs": [
    {
     "name": "stderr",
     "output_type": "stream",
     "text": [
      "/anaconda3/envs/hddm/lib/python3.5/site-packages/numpy/core/fromnumeric.py:224: VisibleDeprecationWarning: using a non-integer number instead of an integer will result in an error in the future\n",
      "  return reshape(newshape, order=order)\n"
     ]
    },
    {
     "name": "stdout",
     "output_type": "stream",
     "text": [
      "                              mean          std        2.5q          25q         50q         75q      97.5q       mc err\n",
      "a                          1.02257    0.0178087    0.987931      1.01055     1.02283     1.03478    1.05706   0.00067467\n",
      "a_std                    0.0884693    0.0142027   0.0659961     0.079129   0.0870037    0.095701    0.12207  0.000570935\n",
      "a_subj.761                0.929644    0.0100662    0.909619     0.923214    0.929577    0.936513   0.948993  0.000417601\n",
      "a_subj.762                 1.01152   0.00953081    0.993159       1.0047     1.01131     1.01815    1.03056  0.000381819\n",
      "a_subj.763                 1.04946   0.00980891     1.03021      1.04265     1.04953     1.05607    1.06825  0.000362994\n",
      "a_subj.764                 1.00902    0.0095388    0.990417      1.00279     1.00948     1.01533    1.02704   0.00031632\n",
      "a_subj.765                 1.17663    0.0116839     1.15393      1.16911     1.17639     1.18461    1.20007  0.000410179\n",
      "a_subj.766                 1.01557    0.0101849    0.996333       1.0085     1.01539     1.02251    1.03608   0.00039155\n",
      "a_subj.767                 1.16987    0.0122436      1.1455      1.16185     1.16998     1.17784    1.19402   0.00046502\n",
      "a_subj.768                 1.07136   0.00987539     1.05144      1.06449     1.07127     1.07825    1.09136  0.000394476\n",
      "a_subj.769                 1.04106    0.0104211     1.02268      1.03368     1.04083     1.04848    1.06165  0.000355813\n",
      "a_subj.770                0.960581   0.00980055     0.94163     0.953958    0.960579    0.967367   0.979706  0.000363905\n",
      "a_subj.771                 1.02172   0.00993391      1.0025      1.01515     1.02124     1.02838    1.04121  0.000344027\n",
      "a_subj.772                 1.03196    0.0100817      1.0128      1.02499     1.03199      1.0391     1.0516  0.000475862\n",
      "a_subj.773                0.973298    0.0100382    0.953691     0.966625    0.973107    0.980139   0.993409  0.000379672\n",
      "a_subj.774                 0.98055   0.00927424    0.962423     0.974547    0.980482    0.986606    1.00014  0.000324815\n",
      "a_subj.775                 1.01463   0.00938866    0.996509      1.00841      1.0147     1.02097    1.03271  0.000358659\n",
      "a_subj.776                 1.07533    0.0107509     1.05495      1.06754     1.07536     1.08295    1.09554   0.00038187\n",
      "a_subj.777                 1.03482    0.0113861      1.0131      1.02657     1.03477     1.04255    1.05681  0.000416417\n",
      "a_subj.778                  1.1229     0.011123     1.10086      1.11558     1.12287     1.13004    1.14417  0.000415251\n",
      "a_subj.779                 1.05531    0.0106751     1.03571      1.04769     1.05524     1.06215    1.07737  0.000398307\n",
      "a_subj.780                0.884197   0.00870892    0.866654     0.878664    0.884402    0.889727   0.901816  0.000324655\n",
      "a_subj.781                0.843672   0.00835305    0.827684     0.838132    0.843555    0.848971    0.86088  0.000338826\n",
      "a_subj.782                 1.03468     0.009473     1.01606      1.02821     1.03446     1.04095     1.0535  0.000349317\n",
      "a_subj.783                 0.88486   0.00896007    0.868045     0.878356    0.884326    0.891302   0.902331   0.00031832\n",
      "a_subj.784                 1.11043   0.00966583     1.09133      1.10396      1.1102     1.11686    1.12941  0.000311713\n",
      "z                         0.504629    0.0017944    0.501158     0.503465    0.504514    0.505796   0.508489  9.85028e-05\n",
      "z_std                    0.0234788   0.00920428  0.00218795    0.0184699   0.0243265   0.0296778  0.0396555  0.000812927\n",
      "z_subj.761                0.496631   0.00535387    0.485786     0.493229    0.496727     0.50033    0.50598  0.000340625\n",
      "z_subj.762                0.501784   0.00451946     0.49211     0.498969     0.50224    0.504846   0.510053   0.00019062\n",
      "z_subj.763                0.505924   0.00432554    0.497763      0.50322    0.505639     0.50869   0.515506  0.000170897\n",
      "z_subj.764                0.507201   0.00426059    0.499485     0.504181    0.506889    0.509948   0.516076  0.000195249\n",
      "z_subj.765                0.495968   0.00556773    0.484466     0.492365    0.495825    0.500182   0.505623  0.000361515\n",
      "z_subj.766                0.506499   0.00465837    0.497292     0.503599    0.506124    0.509469   0.517053  0.000196146\n",
      "z_subj.767                0.500847   0.00465933    0.491781     0.497655    0.501031    0.504134   0.509525   0.00021281\n",
      "z_subj.768                 0.50105   0.00461837    0.491688     0.497868    0.501285    0.504263   0.509698  0.000203021\n",
      "z_subj.769                0.505112   0.00452605    0.495646     0.502246    0.505009    0.507987    0.51448  0.000143063\n",
      "z_subj.770                0.503258   0.00429989    0.494211     0.500641    0.503409    0.505891   0.511652  0.000164791\n",
      "z_subj.771                0.510767   0.00509676    0.501974     0.506733    0.510587    0.514294   0.520826  0.000292114\n",
      "z_subj.772                0.502598   0.00422954    0.493556     0.499967    0.502947    0.505252   0.510862  0.000164196\n",
      "z_subj.773                0.502686   0.00428052    0.494197     0.499961    0.503074    0.505437   0.510597  0.000172523\n",
      "z_subj.774                0.501715   0.00421957     0.49254     0.499004    0.502171    0.504656   0.509007  0.000181341\n",
      "z_subj.775                0.506445   0.00463547    0.497677     0.503438    0.506237    0.509426   0.516285   0.00018753\n",
      "z_subj.776                  0.5076   0.00434051    0.499303     0.504752    0.507247    0.510347    0.51644  0.000192706\n",
      "z_subj.777                0.502819   0.00437218    0.493202     0.500133    0.503079    0.505441   0.511241  0.000163544\n",
      "z_subj.778                0.503622   0.00426322    0.495418     0.500778    0.503732    0.506153   0.512124   0.00013339\n",
      "z_subj.779                0.507988   0.00466347    0.499095     0.504725    0.507807    0.511029   0.517591  0.000209964\n",
      "z_subj.780                0.511936   0.00522848    0.503319     0.507842    0.511904    0.515434   0.522834  0.000325478\n",
      "z_subj.781                0.504812   0.00414615    0.497041     0.502182    0.504672    0.507382   0.513329  0.000156532\n",
      "z_subj.782                 0.50838   0.00467062    0.500002     0.505126    0.507961    0.511293   0.518157  0.000205642\n",
      "z_subj.783                 0.50644   0.00462168    0.497064     0.503682    0.506291    0.509394   0.516011  0.000175244\n",
      "z_subj.784                0.508597   0.00442848    0.500989     0.505242    0.508445    0.511657   0.517488  0.000210418\n",
      "v_Intercept              -0.774542     0.110656    -1.01064    -0.847562   -0.773487   -0.701109  -0.566968   0.00380549\n",
      "v_Intercept_std           0.531189    0.0870444    0.392065     0.471487    0.520926    0.574713   0.745035   0.00367424\n",
      "v_Intercept_subj.761      -1.72465    0.0566767    -1.83487     -1.76334    -1.72407    -1.68362   -1.61685    0.0022327\n",
      "v_Intercept_subj.762     -0.970482    0.0457263    -1.05756     -1.00368    -0.96889   -0.939043  -0.883548   0.00137824\n",
      "v_Intercept_subj.763      -0.19337    0.0415304   -0.272367    -0.220217   -0.192485   -0.165195   -0.11107   0.00143671\n",
      "v_Intercept_subj.764     -0.446823    0.0425771   -0.532455    -0.474286   -0.446107   -0.418538    -0.3668   0.00159997\n",
      "v_Intercept_subj.765     -0.998412    0.0425731    -1.08425     -1.02715   -0.999706   -0.969257  -0.914922    0.0012885\n",
      "v_Intercept_subj.766       -1.0185     0.045364    -1.10653      -1.0489    -1.01675   -0.989341  -0.927275   0.00154965\n",
      "v_Intercept_subj.767     -0.844722    0.0380737   -0.918573    -0.868258   -0.844419   -0.817992  -0.773501   0.00121745\n",
      "v_Intercept_subj.768     -0.101923    0.0401061    -0.18023     -0.12948   -0.102426  -0.0749698  -0.023534    0.0012474\n",
      "v_Intercept_subj.769     -0.797974    0.0447906   -0.882132    -0.829893    -0.79858   -0.767236  -0.705699   0.00157343\n",
      "v_Intercept_subj.770     -0.852734    0.0500729   -0.951982    -0.887742   -0.851716   -0.818291  -0.754343    0.0017879\n",
      "v_Intercept_subj.771    -0.0319812    0.0425561    -0.11432   -0.0614581  -0.0322709 -0.00337611  0.0522793   0.00123331\n",
      "v_Intercept_subj.772     0.0240414    0.0438015  -0.0587537  -0.00688102   0.0233558   0.0534407   0.109981   0.00146747\n",
      "v_Intercept_subj.773      -1.37244    0.0509182    -1.46804     -1.40818    -1.37271    -1.33682   -1.26668   0.00161028\n",
      "v_Intercept_subj.774     -0.771808    0.0441373   -0.861249    -0.800886     -0.7713   -0.742958  -0.684529   0.00142233\n",
      "v_Intercept_subj.775     0.0227593    0.0419433  -0.0599963  -0.00528504   0.0227829   0.0490135   0.107149   0.00137639\n",
      "v_Intercept_subj.776     -0.864358    0.0436075   -0.950426    -0.893377   -0.865129   -0.836145  -0.781018   0.00142352\n",
      "v_Intercept_subj.777      -1.33928       0.0488    -1.43409     -1.37236    -1.33921    -1.30459   -1.24218   0.00165901\n",
      "v_Intercept_subj.778     -0.662569     0.039453   -0.741571     -0.68936   -0.662396   -0.635526  -0.583714   0.00118371\n",
      "v_Intercept_subj.779     -0.876573    0.0446589   -0.965578    -0.906356   -0.878273   -0.845317  -0.793063   0.00186013\n",
      "v_Intercept_subj.780      -1.27436    0.0523018    -1.36946     -1.31092     -1.2761    -1.23863   -1.16834   0.00195497\n",
      "v_Intercept_subj.781        -1.267    0.0579963    -1.38391     -1.30802    -1.26413    -1.22595   -1.16246   0.00219583\n",
      "v_Intercept_subj.782     -0.710108    0.0435113    -0.79472    -0.740348    -0.70954   -0.680721  -0.623843   0.00152554\n",
      "v_Intercept_subj.783      -1.41085    0.0541618    -1.51899     -1.44683    -1.41263    -1.37416   -1.30179    0.0019899\n",
      "v_Intercept_subj.784     -0.190633    0.0379961   -0.260843    -0.217613   -0.189983   -0.163612  -0.119032   0.00122067\n",
      "v_B:C(condition)[hc]     0.0269012    0.0135104  0.00177973    0.0170869   0.0273555   0.0367076  0.0524402  0.000479783\n",
      "v_B:C(condition)[hv]    -0.0121874    0.0129429  -0.0368216   -0.0208951  -0.0123894 -0.00310914  0.0143063  0.000391102\n",
      "v_B:C(condition)[lc]    -0.0858542    0.0119191   -0.110214    -0.093545  -0.0858003  -0.0774476 -0.0628326  0.000422612\n",
      "v_B:C(condition)[lv]    0.00893483    0.0135931  -0.0176989 -4.34082e-06  0.00876166   0.0178093  0.0359743  0.000476497\n",
      "t_Intercept               0.116544   0.00576948    0.106416     0.112211    0.116321     0.12054   0.128661  0.000208005\n",
      "t_Intercept_std          0.0275191   0.00443856   0.0205003    0.0242843   0.0269461   0.0302441   0.036954  0.000198529\n",
      "t_Intercept_subj.761      0.151039  0.000372269    0.150288     0.150812    0.151056    0.151298   0.151761   1.4653e-05\n",
      "t_Intercept_subj.762      0.136861  0.000504509    0.135863     0.136552    0.136881    0.137209   0.137839  2.48179e-05\n",
      "t_Intercept_subj.763     0.0949264  0.000725094   0.0933578    0.0944744   0.0949789   0.0954049  0.0962618  2.74267e-05\n",
      "t_Intercept_subj.764     0.0959893  0.000674564   0.0945209    0.0955653   0.0960215   0.0964508  0.0972482  2.59046e-05\n",
      "t_Intercept_subj.765      0.115729  0.000573251    0.114541     0.115374    0.115774    0.116149    0.11672  2.11363e-05\n",
      "t_Intercept_subj.766     0.0964192  0.000392971   0.0955729    0.0961884   0.0964338   0.0966977  0.0971419  1.49922e-05\n",
      "t_Intercept_subj.767     0.0956495  0.000575505   0.0943887    0.0952739   0.0956933   0.0960657  0.0966303  2.23311e-05\n",
      "t_Intercept_subj.768     0.0870195   0.00109107   0.0847809    0.0863288   0.0870701   0.0877169  0.0890666  4.44704e-05\n",
      "t_Intercept_subj.769      0.100163  0.000491383   0.0991013    0.0998625    0.100196    0.100506   0.101032  1.81411e-05\n",
      "t_Intercept_subj.770      0.122869   0.00041087    0.121991     0.122592    0.122915    0.123175   0.123583  1.77289e-05\n",
      "t_Intercept_subj.771     0.0954989  0.000507443   0.0943767    0.0951979   0.0955143   0.0958468  0.0963996  1.99888e-05\n",
      "t_Intercept_subj.772     0.0843129   0.00148222    0.081213    0.0833664   0.0843904    0.085363  0.0870192  0.000125982\n",
      "t_Intercept_subj.773      0.126657  0.000345475    0.125887     0.126429     0.12669    0.126913   0.127228  1.05048e-05\n",
      "t_Intercept_subj.774      0.107921  0.000405275     0.10706     0.107653     0.10794    0.108203   0.108649  1.68242e-05\n",
      "t_Intercept_subj.775     0.0953896  0.000733733   0.0938103    0.0949289   0.0953906     0.09591  0.0967112  2.66356e-05\n",
      "t_Intercept_subj.776      0.100735  0.000613693   0.0994821     0.100326     0.10076    0.101146   0.101881  2.72453e-05\n",
      "t_Intercept_subj.777      0.115858  0.000408291    0.114951     0.115605     0.11589    0.116145    0.11658  1.47762e-05\n",
      "t_Intercept_subj.778      0.103871  0.000686689    0.102403     0.103434    0.103921    0.104368   0.105051  2.81792e-05\n",
      "t_Intercept_subj.779      0.112873   0.00043954    0.111987     0.112591    0.112914    0.113183   0.113658   1.6709e-05\n",
      "t_Intercept_subj.780      0.220061  0.000730532    0.218551      0.21961    0.220079    0.220535    0.22146  4.40143e-05\n",
      "t_Intercept_subj.781      0.140793  0.000294105    0.140215     0.140606    0.140807    0.140997   0.141335  1.08995e-05\n",
      "t_Intercept_subj.782      0.121913    0.0005253     0.12078     0.121567    0.121936    0.122307   0.122838  2.63518e-05\n",
      "t_Intercept_subj.783      0.140285  0.000532995    0.139145     0.139959      0.1403    0.140649   0.141281  2.99581e-05\n",
      "t_Intercept_subj.784     0.0975882  0.000658368    0.096181    0.0971813    0.097592   0.0980596  0.0988081  2.30676e-05\n",
      "t_cpp:C(condition)[hc]  -0.0255339   0.00150071  -0.0285099   -0.0265081  -0.0255213  -0.0245122 -0.0226103  8.47736e-05\n",
      "t_cpp:C(condition)[hv]  0.00754896   0.00187463  0.00381812   0.00628071  0.00751731  0.00885224  0.0110673  0.000116595\n",
      "t_cpp:C(condition)[lc]   0.0183696   0.00145485   0.0155657    0.0173995   0.0183591   0.0193215  0.0211725  8.01512e-05\n",
      "t_cpp:C(condition)[lv]   0.0323754   0.00294979   0.0267823    0.0303044   0.0323158   0.0342856  0.0385922  0.000247396\n",
      "DIC: -16374.356648\n",
      "deviance: -16467.366078\n",
      "pD: 93.009429\n"
     ]
    }
   ],
   "source": [
    " t_cpp_v_B_obs_reg.print_stats()"
   ]
  },
  {
   "cell_type": "code",
   "execution_count": null,
   "metadata": {},
   "outputs": [],
   "source": [
    "a_cpp_t_B_obs_reg = hddm.HDDMRegressor(all_obs_data,model_dict['a_cpp_t_B'], bias=True, group_only_regressors=True)\n",
    "# a_cpp_t_B_obs_reg.find_starting_values()\n",
    "a_cpp_t_B_obs_reg.sample(n_samples,burn=n_burned_samples,   dbname='a_cpp_t_B_obs_reg.db', db='pickle')"
   ]
  },
  {
   "cell_type": "code",
   "execution_count": null,
   "metadata": {},
   "outputs": [],
   "source": [
    "a_cpp_v_B_obs_reg = hddm.HDDMRegressor(all_obs_data,model_dict['a_cpp_v_B'], bias=True, group_only_regressors=True )\n",
    "# a_cpp_v_B_obs_reg.find_starting_values()\n",
    "a_cpp_v_B_obs_reg.sample(n_samples,burn=n_burned_samples,  dbname='a_cpp_v_B_obs_reg.db', db='pickle')"
   ]
  },
  {
   "cell_type": "code",
   "execution_count": null,
   "metadata": {},
   "outputs": [],
   "source": [
    "t_cpp_a_B_obs_reg = hddm.HDDMRegressor(all_obs_data,model_dict['t_cpp_a_B'], bias=True, group_only_regressors=True )\n",
    "# t_cpp_a_B_obs_reg.find_starting_values()\n",
    "t_cpp_a_B_obs_reg.sample(n_samples,burn=n_burned_samples,  dbname='t_cpp_a_B_obs_reg.db', db='pickle')"
   ]
  },
  {
   "cell_type": "code",
   "execution_count": null,
   "metadata": {},
   "outputs": [],
   "source": [
    "t_cpp_v_B_obs_reg = hddm.HDDMRegressor(all_obs_data,model_dict['t_cpp_v_B'], bias=True, group_only_regressors=True )\n",
    "# t_cpp_v_B_obs_reg.find_starting_values()\n",
    "t_cpp_v_B_obs_reg.sample(n_samples,burn=n_burned_samples,  dbname='t_cpp_v_B_obs_reg.db', db='pickle')"
   ]
  },
  {
   "cell_type": "code",
   "execution_count": null,
   "metadata": {},
   "outputs": [],
   "source": [
    "v_cpp_a_B_obs_reg = hddm.HDDMRegressor(all_obs_data,model_dict['v_cpp_a_B'], bias=True, group_only_regressors=True )\n",
    "# v_cpp_a_B_obs_reg.find_starting_values()\n",
    "v_cpp_a_B_obs_reg.sample(n_samples,burn=n_burned_samples,  dbname='v_cpp_a_B_obs_reg.db', db='pickle')"
   ]
  },
  {
   "cell_type": "code",
   "execution_count": null,
   "metadata": {},
   "outputs": [],
   "source": [
    "v_cpp_t_B_obs_reg = hddm.HDDMRegressor(all_obs_data,model_dict['v_cpp_t_B'], bias=True, group_only_regressors=True )\n",
    "# v_cpp_t_B_obs_reg.find_starting_values()\n",
    "v_cpp_t_B_obs_reg.sample(n_samples,burn=n_burned_samples,  dbname='v_cpp_t_B_obs_reg.db', db='pickle')"
   ]
  },
  {
   "cell_type": "markdown",
   "metadata": {},
   "source": [
    "# All $z$ models "
   ]
  },
  {
   "cell_type": "code",
   "execution_count": null,
   "metadata": {},
   "outputs": [],
   "source": [
    "z_cpp_a_B_obs_reg = hddm.HDDMRegressor(all_obs_data, model_dict['z_cpp_a_B'], \n",
    "                                      bias=True, group_only_regressors=True)\n",
    "# z_cpp_a_B_obs_reg.find_starting_values()\n",
    "z_cpp_a_B_obs_reg.sample(n_samples, burn=n_burned_samples,   dbname='z_cpp_a_B_obs_reg.db', db='pickle')"
   ]
  },
  {
   "cell_type": "code",
   "execution_count": null,
   "metadata": {},
   "outputs": [],
   "source": [
    "z_cpp_v_B_obs_reg = hddm.HDDMRegressor(all_obs_data,model_dict['z_cpp_v_B'], bias=True, group_only_regressors=True)\n",
    "# z_cpp_v_B_obs_reg.find_starting_values()\n",
    "z_cpp_v_B_obs_reg.sample(n_samples,burn=n_burned_samples,  dbname='z_cpp_v_B_obs_reg.db', db='pickle')"
   ]
  },
  {
   "cell_type": "code",
   "execution_count": null,
   "metadata": {},
   "outputs": [],
   "source": [
    "z_cpp_t_B_obs_reg = hddm.HDDMRegressor(all_obs_data,  model_dict['z_cpp_t_B'], bias=True,\n",
    "                                    group_only_regressors=True)\n",
    "# z_cpp_t_B_obs_reg.find_starting_values()\n",
    "z_cpp_t_B_obs_reg.sample(n_samples,burn=n_burned_samples,  dbname='z_cpp_t_B_obs_reg.db', db='pickle')"
   ]
  },
  {
   "cell_type": "code",
   "execution_count": null,
   "metadata": {},
   "outputs": [],
   "source": [
    "a_cpp_z_B_obs_reg = hddm.HDDMRegressor(all_obs_data, model_dict['a_cpp_z_B'], bias=True,\n",
    "                                      group_only_regressors=True)\n",
    "# a_cpp_z_B_obs_reg.find_starting_values()\n",
    "a_cpp_z_B_obs_reg.sample(n_samples,burn=n_burned_samples,  dbname='a_cpp_z_B_obs_reg.db', db='pickle')"
   ]
  },
  {
   "cell_type": "code",
   "execution_count": null,
   "metadata": {},
   "outputs": [],
   "source": [
    "v_cpp_z_B_obs_reg = hddm.HDDMRegressor(all_obs_data, model_dict['v_cpp_z_B'], bias=True, \n",
    "                                      group_only_regressors=True)\n",
    "# v_cpp_z_B_obs_reg.find_starting_values()\n",
    "v_cpp_z_B_obs_reg.sample(n_samples,burn=n_burned_samples,  dbname='v_cpp_z_B_obs_reg.db', db='pickle')"
   ]
  },
  {
   "cell_type": "code",
   "execution_count": null,
   "metadata": {},
   "outputs": [],
   "source": [
    "t_cpp_z_B_obs_reg = hddm.HDDMRegressor(all_obs_data, model_dict['t_cpp_z_B'], bias=True,\n",
    "                                      group_only_regressors=True)\n",
    "# t_cpp_z_B_obs_reg.find_starting_values()\n",
    "t_cpp_z_B_obs_reg.sample(n_samples,burn=n_burned_samples,  dbname='t_cpp_z_B_obs_reg.db', db='pickle')"
   ]
  },
  {
   "cell_type": "code",
   "execution_count": null,
   "metadata": {},
   "outputs": [],
   "source": [
    "a_cpp_t_B_obs_reg=hddm.load(write_dir+'a_cpp_t_B_obs_reg')\n",
    "a_cpp_v_B_obs_reg=hddm.load(write_dir+'a_cpp_v_B_obs_reg')\n",
    "t_cpp_a_B_obs_reg=hddm.load(write_dir+'t_cpp_a_B_obs_reg')\n",
    "\n",
    "t_cpp_v_B_obs_reg=hddm.load(write_dir+'t_cpp_v_B_obs_reg')\n",
    "v_cpp_a_B_obs_reg=hddm.load(write_dir+'v_cpp_a_B_obs_reg')\n",
    "v_cpp_t_B_obs_reg=hddm.load(write_dir+'v_cpp_t_B_obs_reg')"
   ]
  },
  {
   "cell_type": "code",
   "execution_count": null,
   "metadata": {},
   "outputs": [],
   "source": [
    "z_cpp_a_B_obs_reg=hddm.load(write_dir+'z_cpp_a_B_obs_reg')\n",
    "z_cpp_v_B_obs_reg=hddm.load(write_dir+'z_cpp_v_B_obs_reg')\n",
    "z_cpp_t_B_obs_reg=hddm.load(write_dir+'z_cpp_t_B_obs_reg')\n",
    "\n",
    "a_cpp_z_B_obs_reg=hddm.load(write_dir+'a_cpp_z_B_obs_reg')\n",
    "v_cpp_z_B_obs_reg=hddm.load(write_dir+'v_cpp_z_B_obs_reg')\n",
    "t_cpp_z_B_obs_reg=hddm.load(write_dir+'t_cpp_z_B_obs_reg')"
   ]
  },
  {
   "cell_type": "code",
   "execution_count": null,
   "metadata": {},
   "outputs": [],
   "source": [
    "#send text when the script is done\n",
    "from twilio.rest import Client\n",
    "accountSid = 'AC2832bdf83bb5a2f150686d323b7a3440'\n",
    "authToken = '70363f4f104ac88b8aefc6b7886fb989'\n",
    "twilioClient = Client(accountSid, authToken)\n",
    "myTwilioNumber = 6095422252\n",
    "destCellPhone = 6094242780\n",
    "myMessage = twilioClient.messages.create(body = \"regressions are done for observed data. group only regressors.\",\n",
    "                                         from_=myTwilioNumber, to=destCellPhone)"
   ]
  },
  {
   "cell_type": "markdown",
   "metadata": {},
   "source": [
    "# Save models "
   ]
  },
  {
   "cell_type": "code",
   "execution_count": null,
   "metadata": {},
   "outputs": [],
   "source": [
    "t_cpp_v_B_obs_reg.print_stats()"
   ]
  },
  {
   "cell_type": "code",
   "execution_count": null,
   "metadata": {},
   "outputs": [],
   "source": [
    "#save models... many many samples, much time\n",
    "a_cpp_t_B_obs_reg.save(write_dir+'a_cpp_t_B_obs_reg')\n",
    "a_cpp_v_B_obs_reg.save(write_dir+'a_cpp_v_B_obs_reg')\n",
    "t_cpp_a_B_obs_reg.save(write_dir+'t_cpp_a_B_obs_reg')\n",
    "\n",
    "t_cpp_v_B_obs_reg.save(write_dir+'t_cpp_v_B_obs_reg')\n",
    "v_cpp_a_B_obs_reg.save(write_dir+'v_cpp_a_B_obs_reg')\n",
    "v_cpp_t_B_obs_reg.save(write_dir+'v_cpp_t_B_obs_reg')\n",
    "\n",
    "# #save z models \n",
    "z_cpp_a_B_obs_reg.save(write_dir+'z_cpp_a_B_obs_reg')\n",
    "z_cpp_v_B_obs_reg.save(write_dir+'z_cpp_v_B_obs_reg')\n",
    "z_cpp_t_B_obs_reg.save(write_dir+'z_cpp_t_B_obs_reg')\n",
    "\n",
    "a_cpp_z_B_obs_reg.save(write_dir+'a_cpp_z_B_obs_reg')\n",
    "v_cpp_z_B_obs_reg.save(write_dir+'v_cpp_z_B_obs_reg')\n",
    "t_cpp_z_B_obs_reg.save(write_dir+'t_cpp_z_B_obs_reg')"
   ]
  },
  {
   "cell_type": "markdown",
   "metadata": {},
   "source": [
    "# Plot model fits"
   ]
  },
  {
   "cell_type": "code",
   "execution_count": null,
   "metadata": {},
   "outputs": [],
   "source": [
    "z_cpp_a_B_obs_reg.dic, z_cpp_v_B_obs_reg.dic, z_cpp_t_B_obs_reg.dic, a_cpp_z_B_obs_reg.dic, v_cpp_z_B_obs_reg.dic,t_cpp_z_B_obs_reg.dic"
   ]
  },
  {
   "cell_type": "code",
   "execution_count": null,
   "metadata": {},
   "outputs": [],
   "source": [
    "dic = [a_cpp_t_B_obs_reg.dic, a_cpp_v_B_obs_reg.dic,t_cpp_a_B_obs_reg.dic,\n",
    "        t_cpp_v_B_obs_reg.dic, v_cpp_a_B_obs_reg.dic, v_cpp_t_B_obs_reg.dic]"
   ]
  },
  {
   "cell_type": "code",
   "execution_count": null,
   "metadata": {},
   "outputs": [],
   "source": [
    "dics = [a_cpp_t_B_obs_reg.dic, a_cpp_v_B_obs_reg.dic,t_cpp_a_B_obs_reg.dic,\n",
    "        t_cpp_v_B_obs_reg.dic, v_cpp_a_B_obs_reg.dic, v_cpp_t_B_obs_reg.dic, \n",
    "       z_cpp_a_B_obs_reg.dic, z_cpp_v_B_obs_reg.dic, z_cpp_t_B_obs_reg.dic, \n",
    "        a_cpp_z_B_obs_reg.dic, v_cpp_z_B_obs_reg.dic,t_cpp_z_B_obs_reg.dic]\n",
    "m_names = ['a_cpp & t_B', 'a_cpp & v_B', 't_cpp & a_B', \n",
    "            't_cpp & v_B', 'v_cpp & a_B', 'v_cpp & t_B', \n",
    "              'z_cpp & a_B', 'z_cpp & v_B', 'z_cpp & t_B',\n",
    "              'a_cpp & z_B', 'v_cpp & z_B', 't_cpp & z_B']"
   ]
  },
  {
   "cell_type": "code",
   "execution_count": null,
   "metadata": {},
   "outputs": [],
   "source": [
    "winner = np.where(dics == min(dics))[0]\n",
    "m_names[winner]"
   ]
  },
  {
   "cell_type": "code",
   "execution_count": null,
   "metadata": {},
   "outputs": [],
   "source": [
    "len(dics)"
   ]
  },
  {
   "cell_type": "code",
   "execution_count": null,
   "metadata": {},
   "outputs": [],
   "source": [
    "m_names"
   ]
  },
  {
   "cell_type": "code",
   "execution_count": null,
   "metadata": {},
   "outputs": [],
   "source": [
    "m_names[11]"
   ]
  },
  {
   "cell_type": "code",
   "execution_count": null,
   "metadata": {},
   "outputs": [],
   "source": [
    "dics[11]"
   ]
  },
  {
   "cell_type": "code",
   "execution_count": null,
   "metadata": {},
   "outputs": [],
   "source": [
    "plt.figure(figsize=(50,15))\n",
    "sns.set(font_scale=3)  \n",
    "\n",
    "clrs = [\"black\" if (dic > min(dics)) else 'forestgreen' for dic in dics]\n",
    "sns.barplot(m_names, dics, color='black', alpha=0.5, palette=clrs)\n",
    "plt.ylim(min(dics) - 40, max(dics) + 500)\n",
    "plt.ylabel('Observed DIC score')\n",
    "# plt.title('All pairwise parameters and learning signals')\n",
    "plt.savefig('observed_reg_dics.png', dpi=600)"
   ]
  },
  {
   "cell_type": "markdown",
   "metadata": {},
   "source": [
    "# Plot posteriors of regression coefficients"
   ]
  },
  {
   "cell_type": "code",
   "execution_count": null,
   "metadata": {},
   "outputs": [],
   "source": [
    "#plot posteriors for winning model \n",
    "v_hc , v_hv ,  v_lc , v_lv  = t_cpp_v_B_obs_reg.nodes_db.ix[['v_B:C(condition)[hc]', 'v_B:C(condition)[hv]', \n",
    "                                                             'v_B:C(condition)[lc]', 'v_B:C(condition)[lv]'],\n",
    "                                                          'node']\n",
    "\n",
    "\n",
    "t_hc , t_hv , t_lc , t_lv  = t_cpp_v_B_obs_reg.nodes_db.ix[['t_cpp:C(condition)[hc]', 't_cpp:C(condition)[hv]', \n",
    "                                                             't_cpp:C(condition)[lc]', 't_cpp:C(condition)[lv]'],\n",
    "                                                          'node']"
   ]
  },
  {
   "cell_type": "code",
   "execution_count": null,
   "metadata": {},
   "outputs": [],
   "source": [
    "# #plot posteriors for gen model \n",
    "# v_hc_gen , v_hv ,  v_lc_gen , v_lv_gen  = a_cpp_v_B_obs_reg.nodes_db.ix[['v_B:C(condition)[hc]', 'v_B:C(condition)[hv]', \n",
    "#                                                              'v_B:C(condition)[lc]', 'v_B:C(condition)[lv]'],\n",
    "#                                                           'node']\n",
    "\n",
    "\n",
    "# a_hc_gen , a_hv_gen , a_lc_gen , a_lv_gen  = a_cpp_v_B_obs_reg.nodes_db.ix[['a_cpp:C(condition)[hc]', 'a_cpp:C(condition)[hv]', \n",
    "#                                                              'a_cpp:C(condition)[lc]', 'a_cpp:C(condition)[lv]'],\n",
    "#                                                           'node']"
   ]
  },
  {
   "cell_type": "code",
   "execution_count": null,
   "metadata": {},
   "outputs": [],
   "source": [
    "##generative model\n",
    "# hddm.analyze.plot_posterior_nodes([v_lc_gen , v_hc_gen  ])\n",
    "# plt.xlabel('drift-rate regression coefficient')\n",
    "# plt.ylabel('Posterior probability')\n",
    "# plt.title('Posteriors of belief-> drift-rate effect')\n",
    "# # plt.savefig('600a_drifa_conflict.pdf')\n",
    "\n",
    "# hddm.analyze.plot_posterior_nodes([v_lv_gen  , v_hv_gen  ])\n",
    "# plt.xlabel('drift-rate regression coefficient')\n",
    "# plt.ylabel('Posterior probability')\n",
    "# plt.title('Posteriors of belief-> drift-rate effect')\n",
    "# # plt.savefig('600a_drifa_vol.pdf')\n",
    "\n",
    "# hddm.analyze.plot_posterior_nodes([a_lc_gen  , a_hc_gen  ])\n",
    "# plt.xlabel('non-decision time regression coefficient')\n",
    "# plt.ylabel('Posterior probability')\n",
    "# plt.title('Posteriors of cpp-> threshold effect')\n",
    "# # plt.savefig('600a_bound_conflict.pdf')\n",
    "\n",
    "\n",
    "# hddm.analyze.plot_posterior_nodes([a_lv_gen  , a_hv_gen  ])\n",
    "# plt.xlabel('decision threshold regression coefficient')\n",
    "# plt.ylabel('Posterior probability')\n",
    "# plt.title('Posteriors of cpp-> threshold effect')\n",
    "# # plt.savefig('600a_bound_vol.pdf')"
   ]
  },
  {
   "cell_type": "code",
   "execution_count": null,
   "metadata": {
    "scrolled": true
   },
   "outputs": [],
   "source": [
    "hddm.analyze.plot_posterior_nodes([v_lc , v_hc ])\n",
    "plt.xlabel('drift-rate regression coefficient')\n",
    "plt.ylabel('Posterior probability')\n",
    "plt.title('Posteriors of belief-> drift-rate effect')\n",
    "# plt.savefig('600t_drift_conflict.pdf')\n",
    "\n",
    "hddm.analyze.plot_posterior_nodes([v_lv , v_hv ])\n",
    "plt.xlabel('drift-rate regression coefficient')\n",
    "plt.ylabel('Posterior probability')\n",
    "plt.title('Posteriors of belief-> drift-rate effect')\n",
    "# plt.savefig('600t_drift_vol.pdf')\n",
    "\n",
    "hddm.analyze.plot_posterior_nodes([t_lc , t_hc ])\n",
    "plt.xlabel('non-decision time regression coefficient')\n",
    "plt.ylabel('Posterior probability')\n",
    "plt.title('Posteriors of cpp-> non-decision time effect')\n",
    "# plt.savefig('600t_bound_conflict.pdf')\n",
    "\n",
    "\n",
    "hddm.analyze.plot_posterior_nodes([t_lv , t_hv ])\n",
    "plt.xlabel('non-decision time regression coefficient')\n",
    "plt.ylabel('Posterior probability')\n",
    "plt.title('Posteriors of cpp-> non-decision time effect')\n",
    "# plt.savefig('600t_bound_vol.pdf')"
   ]
  },
  {
   "cell_type": "code",
   "execution_count": null,
   "metadata": {},
   "outputs": [],
   "source": [
    "sns.set(font_scale=4)  # crazy big\n",
    "\n",
    "plt.figure(figsize=(30,20))\n",
    "sns.distplot(v_hv.trace(), label=r'$\\beta_{hv}$', hist=False,rug=True,color='darkorchid', kde_kws = {'shade': True, 'linewidth': 3})\n",
    "sns.distplot(v_lv.trace(), label=r'$\\beta_{lv}$', hist=False,rug=True,color='forestgreen', kde_kws = {'shade': True, 'linewidth': 3})\n",
    "plt.title('Volatility', fontsize='xx-large')\n",
    "plt.ylabel('Posterior probability density', fontsize='xx-large')\n",
    "plt.xlabel(r'$\\beta_{v\\textasciitilde B}$',fontsize='xx-large')\n",
    "\n",
    "plt.xlim([-.05,0.5]) \n",
    "plt.savefig('vB_betas_volatility_OBS.png', dpi=600)"
   ]
  },
  {
   "cell_type": "code",
   "execution_count": null,
   "metadata": {},
   "outputs": [],
   "source": [
    "sns.set(font_scale=4)  # crazy big\n",
    "plt.figure(figsize=(30,20))\n",
    "sns.distplot(t_hv.trace(), label=r'$\\beta_{hv}$', hist=False,rug=True,color='darkorchid', kde_kws = {'shade': True, 'linewidth': 3})\n",
    "sns.distplot(t_lv.trace(), label=r'$\\beta_{lv}$', hist=False,rug=True,color='forestgreen', kde_kws = {'shade': True, 'linewidth': 3})\n",
    "plt.title('Volatility', fontsize='xx-large')\n",
    "plt.ylabel('Posterior probability density', fontsize='xx-large')\n",
    "plt.xlabel(r'$\\beta_{t\\textasciitilde \\Omega}$',fontsize='xx-large')\n",
    "plt.xlim([-0.05,0.05])\n",
    "plt.savefig('tCPP_betas_vol_OBS.png', dpi=600)"
   ]
  },
  {
   "cell_type": "code",
   "execution_count": null,
   "metadata": {},
   "outputs": [],
   "source": [
    "sns.set(font_scale=4)  # crazy big\n",
    "plt.figure(figsize=(30,20))\n",
    "sns.distplot(v_hc.trace(), label=r'$\\beta_{hc}$', hist=False,rug=True,color='red', kde_kws = {'shade': True, 'linewidth': 3})\n",
    "sns.distplot(v_lc.trace(), label=r'$\\beta_{lc}$', hist=False,rug=True,color='blue', kde_kws = {'shade': True, 'linewidth': 3})\n",
    "plt.title('Conflict', fontsize='xx-large')\n",
    "plt.ylabel('Posterior probability density', fontsize='xx-large')\n",
    "plt.xlabel(r'$\\beta_{v\\textasciitilde B}$',fontsize='xx-large')\n",
    "plt.xlim([-.05,0.5]) \n",
    "plt.savefig('vB_betas_conflict_OBS.png', dpi=600)"
   ]
  },
  {
   "cell_type": "code",
   "execution_count": null,
   "metadata": {},
   "outputs": [],
   "source": [
    "sns.set(font_scale=4)  # crazy big\n",
    "plt.figure(figsize=(30,20))\n",
    "sns.distplot(t_hc.trace(), label=r'$\\beta_{hc}$', hist=False,rug=True,color='red', kde_kws = {'shade': True, 'linewidth': 3})\n",
    "sns.distplot(t_lc.trace(), label=r'$\\beta_{lc}$', hist=False,rug=True,color='blue', kde_kws = {'shade': True, 'linewidth': 3})\n",
    "plt.title('Conflict', fontsize='xx-large')\n",
    "plt.ylabel('Posterior probability density', fontsize='xx-large')\n",
    "plt.xlabel(r'$\\beta_{t\\textasciitilde \\Omega}$',fontsize='xx-large')\n",
    "plt.xlim([-0.05,0.05])\n",
    "plt.savefig('tCPP_betas_conflict_OBS.png', dpi=600)"
   ]
  },
  {
   "cell_type": "markdown",
   "metadata": {},
   "source": [
    "# Extract the regression estimates "
   ]
  },
  {
   "cell_type": "code",
   "execution_count": null,
   "metadata": {},
   "outputs": [],
   "source": [
    "t_cpp_v_B_obs_reg."
   ]
  },
  {
   "cell_type": "code",
   "execution_count": null,
   "metadata": {},
   "outputs": [],
   "source": [
    "a0 = t_cpp_v_B_obs_reg.nodes_db.ix[['a_Intercept'], 'mean'][0]\n"
   ]
  },
  {
   "cell_type": "code",
   "execution_count": null,
   "metadata": {},
   "outputs": [],
   "source": []
  },
  {
   "cell_type": "code",
   "execution_count": null,
   "metadata": {},
   "outputs": [],
   "source": [
    "t_cpp_v_B_obs_reg.print_stats()"
   ]
  },
  {
   "cell_type": "code",
   "execution_count": null,
   "metadata": {},
   "outputs": [],
   "source": [
    "v0 = t_cpp_v_B_obs_reg.nodes_db.ix[['v_Intercept'], 'mean'][0]\n",
    "v_beta_hc = t_cpp_v_B_obs_reg.nodes_db.ix[['v_B:C(condition)[hc]'], 'mean'][0]\n",
    "v_beta_lc = t_cpp_v_B_obs_reg.nodes_db.ix[['v_B:C(condition)[lc]'], 'mean'][0]\n",
    "v_beta_hv = t_cpp_v_B_obs_reg.nodes_db.ix[['v_B:C(condition)[hv]'], 'mean'][0]\n",
    "v_beta_lv = t_cpp_v_B_obs_reg.nodes_db.ix[['v_B:C(condition)[lv]'], 'mean'][0]"
   ]
  },
  {
   "cell_type": "code",
   "execution_count": null,
   "metadata": {
    "scrolled": true
   },
   "outputs": [],
   "source": [
    "t0 = t_cpp_v_B_obs_reg.nodes_db.ix[['t_Intercept'], 'mean'][0]\n",
    "t_beta_hc = t_cpp_v_B_obs_reg.nodes_db.ix[['t_cpp:C(condition)[hc]'], 'mean'][0]\n",
    "t_beta_lc = t_cpp_v_B_obs_reg.nodes_db.ix[['t_cpp:C(condition)[lc]'], 'mean'][0]\n",
    "t_beta_hv = t_cpp_v_B_obs_reg.nodes_db.ix[['t_cpp:C(condition)[hv]'], 'mean'][0]\n",
    "t_beta_lv = t_cpp_v_B_obs_reg.nodes_db.ix[['t_cpp:C(condition)[lv]'], 'mean'][0]"
   ]
  },
  {
   "cell_type": "code",
   "execution_count": null,
   "metadata": {},
   "outputs": [],
   "source": [
    "#make a copy of the observed data\n",
    "all_obs_reg_data = all_obs_data.copy()\n",
    "#include cps\n",
    "all_obs_reg_data['cp_with_slow_fast'] = test_data.cp_with_slow_fast.values\n",
    "all_obs_reg_data['epoch_trial_zero_idx'] = test_data.epoch_trial_zero_idx.values\n",
    "all_obs_reg_data['shifted_epoch_trial_zero_idx'] = test_data.shifted_epoch_trial_zero_idx.values\n",
    "all_obs_reg_data['epoch_n'] = test_data.epoch_n.values"
   ]
  },
  {
   "cell_type": "markdown",
   "metadata": {},
   "source": [
    "# Calculate drift rates and non-decision times estimated from the regressions"
   ]
  },
  {
   "cell_type": "code",
   "execution_count": null,
   "metadata": {},
   "outputs": [],
   "source": [
    "np.mean(v0 + v_beta_hc * all_obs_reg_data[all_obs_reg_data.condition=='hc']['B'] )"
   ]
  },
  {
   "cell_type": "code",
   "execution_count": null,
   "metadata": {},
   "outputs": [],
   "source": []
  },
  {
   "cell_type": "code",
   "execution_count": null,
   "metadata": {},
   "outputs": [],
   "source": [
    "#store all of the regression estimates \n",
    "all_obs_reg_data.loc[all_obs_reg_data.condition =='hc', 'v_reg'] = v0 + v_beta_hc * all_obs_reg_data[all_obs_reg_data.condition=='hc']['B'] \n",
    "all_obs_reg_data.loc[all_obs_reg_data.condition =='lc', 'v_reg']  = v0 + v_beta_lc * all_obs_reg_data[all_obs_reg_data.condition=='lc']['B'] \n",
    "all_obs_reg_data.loc[all_obs_reg_data.condition =='hv', 'v_reg']  = v0 + v_beta_hv * all_obs_reg_data[all_obs_reg_data.condition=='hv']['B'] \n",
    "all_obs_reg_data.loc[all_obs_reg_data.condition =='lv', 'v_reg']  = v0 + v_beta_lv * all_obs_reg_data[all_obs_reg_data.condition=='lv']['B'] \n",
    "\n",
    "\n",
    "# plt.plot(v_hc_trials[:600].values, label='hc')\n",
    "# plt.plot(v_lc_trials[:600].values, label='lc')\n",
    "# ax = plt.gca()\n",
    "# ax.set_ylabel('Drift-Rate')\n",
    "# ax.set_xlabel('Trials')\n",
    "# ax.legend()\n",
    "# plt.ylim([-1.2,2])\n",
    "# plt.show()\n",
    "\n",
    "# plt.plot(v_hv_trials[:600].values, label='hv')\n",
    "# plt.plot(v_lv_trials[:600].values, label='lv')\n",
    "# ax = plt.gca()\n",
    "# ax.set_ylabel('Drift-Rate')\n",
    "# ax.set_xlabel('Trials')\n",
    "# ax.legend()\n",
    "# plt.ylim([-1.2,2])\n",
    "# plt.show()\n"
   ]
  },
  {
   "cell_type": "code",
   "execution_count": null,
   "metadata": {},
   "outputs": [],
   "source": [
    "all_obs_reg_data.loc[all_obs_reg_data.condition =='hc', 't_reg']  = t0 + t_beta_hc * all_obs_reg_data[all_obs_reg_data.condition=='hc']['cpp'] \n",
    "all_obs_reg_data.loc[all_obs_reg_data.condition =='lc', 't_reg'] = t0 + t_beta_lc * all_obs_reg_data[all_obs_reg_data.condition=='lc']['cpp'] \n",
    "all_obs_reg_data.loc[all_obs_reg_data.condition =='hv', 't_reg'] = t0 + t_beta_hv * all_obs_reg_data[all_obs_reg_data.condition=='hv']['cpp'] \n",
    "all_obs_reg_data.loc[all_obs_reg_data.condition =='lv', 't_reg'] = t0 + t_beta_lv * all_obs_reg_data[all_obs_reg_data.condition=='lv']['cpp'] \n",
    "\n",
    "\n",
    "# plt.plot(t_hc_trials[:600].values, label='hc')\n",
    "# plt.plot(t_lc_trials[:600].values, label='lc')\n",
    "# ax = plt.gca()\n",
    "# ax.set_ylabel('Non-decision time')\n",
    "# ax.set_xlabel('Trials')\n",
    "# plt.ylim([.09,.15])\n",
    "# ax.legend()\n",
    "# plt.show()\n",
    "\n",
    "# plt.plot(t_hv_trials[:600].values, label='hv')\n",
    "# plt.plot(t_lv_trials[:600].values, label='lv')\n",
    "# ax = plt.gca()\n",
    "# ax.set_ylabel('Non-decision time')\n",
    "# ax.set_xlabel('Trials')\n",
    "# ax.legend()\n",
    "# plt.ylim([.09,.15])\n",
    "# plt.show()\n"
   ]
  },
  {
   "cell_type": "markdown",
   "metadata": {},
   "source": [
    "# Store for further analysis"
   ]
  },
  {
   "cell_type": "code",
   "execution_count": null,
   "metadata": {},
   "outputs": [],
   "source": [
    "#print to csv\n",
    "all_obs_reg_data.to_csv('/Users/67981492/Dropbox/volatileValues/simple_rt_experiment_probabilityC/analysis/aggregated_data/all_reg_obs_data.csv')"
   ]
  },
  {
   "cell_type": "code",
   "execution_count": null,
   "metadata": {},
   "outputs": [],
   "source": [
    "import pymc as pm\n",
    "import numpy as np\n",
    "import pymc.progressbar as pbar\n",
    "\n",
    "def _parents_to_random_posterior_sample(bottom_node, pos=None):\n",
    "    \"\"\"Walks through parents and sets them to pos sample.\"\"\"\n",
    "    for i, parent in enumerate(bottom_node.extended_parents):\n",
    "        if not isinstance(parent, pm.Node): # Skip non-stochastic nodes\n",
    "            continue\n",
    "\n",
    "        if pos is None:\n",
    "            # Set to random posterior position\n",
    "            pos = np.random.randint(0, len(parent.trace()))\n",
    "\n",
    "        assert len(parent.trace()) >= pos, \"pos larger than posterior sample size\"\n",
    "        parent.value = parent.trace()[pos]\n",
    "\n",
    "def _post_pred_generate(bottom_node, samples=500, data=None, append_data=True):\n",
    "    \"\"\"Generate posterior predictive data from a single observed node.\"\"\"\n",
    "    datasets = []\n",
    "    ##############################\n",
    "    # Sample and generate stats\n",
    "    for sample in range(samples):\n",
    "        _parents_to_random_posterior_sample(bottom_node)\n",
    "        # Generate data from bottom node\n",
    "        sampled_data = bottom_node.random()\n",
    "        if append_data and data is not None:\n",
    "            sampled_data.reset_index(inplace=True)  # Only modification of original Kabuki code\n",
    "            sampled_data = sampled_data.join(data.reset_index(), lsuffix='_sampled')\n",
    "        datasets.append(sampled_data)\n",
    "    return datasets\n",
    "\n",
    "def post_pred_gen(model, groupby=None, samples=500, append_data=False, progress_bar=True):\n",
    "    results = {}\n",
    "\n",
    "    # Progress bar\n",
    "    if progress_bar:\n",
    "        n_iter = len(model.get_observeds())\n",
    "        bar = pbar.progress_bar(n_iter)\n",
    "        bar_iter = 0\n",
    "    else:\n",
    "        print(\"Sampling...\")\n",
    "\n",
    "    if groupby is None:\n",
    "        iter_data = ((name, model.data.ix[obs['node'].value.index]) for name, obs in model.iter_observeds())\n",
    "    else:\n",
    "        iter_data = model.data.groupby(groupby)\n",
    "\n",
    "    for name, data in iter_data:\n",
    "        node = model.get_data_nodes(data.index)\n",
    "\n",
    "        if progress_bar:\n",
    "            bar_iter += 1\n",
    "            bar.update(bar_iter)\n",
    "\n",
    "        if node is None or not hasattr(node, 'random'):\n",
    "            continue # Skip\n",
    "\n",
    "        ##############################\n",
    "        # Sample and generate stats\n",
    "        datasets = _post_pred_generate(node, samples=samples, data=data, append_data=append_data)\n",
    "        results[name] = pd.concat(datasets, names=['sample'], keys=list(range(len(datasets))))\n",
    "\n",
    "    if progress_bar:\n",
    "        bar_iter += 1\n",
    "        bar.update(bar_iter)\n",
    "\n",
    "    return pd.concat(results, names=['node'])"
   ]
  },
  {
   "cell_type": "markdown",
   "metadata": {},
   "source": [
    "# Simulate data from posterior for top 3 models"
   ]
  },
  {
   "cell_type": "code",
   "execution_count": null,
   "metadata": {},
   "outputs": [],
   "source": [
    "#this takes 5.5 hours\n",
    "ppc_data_t_cpp_v_B = post_pred_gen(t_cpp_v_B_obs_reg, append_data=True, samples=200)"
   ]
  },
  {
   "cell_type": "code",
   "execution_count": null,
   "metadata": {},
   "outputs": [],
   "source": [
    "ppc_data_z_cpp_v_B = post_pred_gen(z_cpp_v_B_obs_reg, append_data=True, samples=200)"
   ]
  },
  {
   "cell_type": "code",
   "execution_count": null,
   "metadata": {},
   "outputs": [],
   "source": [
    "ppc_data_a_cpp_v_B = post_pred_gen(a_cpp_v_B_obs_reg, append_data=True, samples=200)"
   ]
  },
  {
   "cell_type": "code",
   "execution_count": null,
   "metadata": {},
   "outputs": [],
   "source": [
    "ppc_data"
   ]
  },
  {
   "cell_type": "code",
   "execution_count": null,
   "metadata": {},
   "outputs": [],
   "source": [
    "ppc_compare_t_cpp_v_B = hddm.utils.post_pred_stats(all_obs_data, ppc_data_t_cpp_v_B)"
   ]
  },
  {
   "cell_type": "code",
   "execution_count": null,
   "metadata": {},
   "outputs": [],
   "source": [
    "#all subjects accounted for?\n",
    "ppc_data_t_cpp_v_B.subj_idx.sort_values(ascending=True).unique()"
   ]
  },
  {
   "cell_type": "code",
   "execution_count": null,
   "metadata": {},
   "outputs": [],
   "source": [
    "#because error rts are flipped, can get response data\n",
    "ppc_data_t_cpp_v_B['response_sampled'] = (np.sign(ppc_data_t_cpp_v_B.rt_sampled) == 1)*1 #convert to integer\n",
    "min(ppc_data_t_cpp_v_B.response_sampled)"
   ]
  },
  {
   "cell_type": "code",
   "execution_count": null,
   "metadata": {},
   "outputs": [],
   "source": [
    "#to get pooled error/correct rt averages, take abs. value of rts\n",
    "ppc_data_t_cpp_v_B['rt_sampled_abs'] = abs(ppc_data_t_cpp_v_B.rt_sampled)\n",
    "ppc_data_t_cpp_v_B['rt_abs'] = abs(ppc_data_t_cpp_v_B.rt)\n",
    "\n",
    "min(ppc_data_t_cpp_v_B.rt_sampled_abs)"
   ]
  },
  {
   "cell_type": "code",
   "execution_count": null,
   "metadata": {},
   "outputs": [],
   "source": [
    "ppc_data_t_cpp_v_B.groupby('condition').mean()"
   ]
  },
  {
   "cell_type": "code",
   "execution_count": null,
   "metadata": {},
   "outputs": [],
   "source": [
    "#from response and correct stimulus, get accuracy. convert from true/false to 1/0\n",
    "ppc_data_t_cpp_v_B['accuracy_sampled'] = (ppc_data_t_cpp_v_B.response_sampled == ppc_data_t_cpp_v_B.stimulus)*1 \n",
    "ppc_data_t_cpp_v_B['accuracy'] = (ppc_data_t_cpp_v_B.response == ppc_data_t_cpp_v_B.stimulus)*1"
   ]
  },
  {
   "cell_type": "code",
   "execution_count": null,
   "metadata": {},
   "outputs": [],
   "source": [
    "#sanity check\n",
    "#did the concatenation process corrupt the original data? \n",
    "\n",
    "print(np.mean(ppc_data_t_cpp_v_B.accuracy.values), np.mean(test.p_id_accuracy.values))\n",
    "print(np.mean(ppc_data_t_cpp_v_B.rt_abs.values), np.mean(test.rt.values))\n",
    "\n",
    "#by group\n",
    "print(ppc_data_t_cpp_v_B.groupby('condition')['accuracy'].mean(), test.groupby('condition')['p_id_accuracy'].mean())\n",
    "print(ppc_data_t_cpp_v_B.groupby('condition')['rt_abs'].mean(), test.groupby('condition')['rt'].mean())"
   ]
  },
  {
   "cell_type": "code",
   "execution_count": null,
   "metadata": {},
   "outputs": [],
   "source": [
    "plt.title('Accuracy')\n",
    "sns.barplot(x='condition', y='accuracy', data=ppc_data_t_cpp_v_B, ci=95, n_boot=1000)\n",
    "sns.barplot(x='condition', y='accuracy_sampled', data=ppc_data_t_cpp_v_B, ci=95, n_boot=1000, color='gray', alpha=0.3)\n",
    "plt.ylim([0,1])\n",
    "plt.show()"
   ]
  },
  {
   "cell_type": "code",
   "execution_count": null,
   "metadata": {},
   "outputs": [],
   "source": [
    "plt.title('RT')\n",
    "sns.barplot(x='condition', y='rt_sampled_abs', data=ppc_data_t_cpp_v_B, ci=95, n_boot=1000, color='gray', alpha=0.3)\n",
    "plt.ylim([0,1])\n",
    "plt.show()"
   ]
  },
  {
   "cell_type": "code",
   "execution_count": null,
   "metadata": {},
   "outputs": [],
   "source": [
    "#some simulated rts are very long. may be fixed with greater # samples. \n",
    "plt.title('Volatility')\n",
    "sns.distplot(ppc_data_t_cpp_v_B.rt[ppc_data_t_cpp_v_B.condition == 'lv'], label='lv_obs')\n",
    "sns.distplot(ppc_data_t_cpp_v_B.rt_sampled[ppc_data_t_cpp_v_B.condition == 'lv'], label='lv_sim')\n",
    "plt.legend()\n",
    "plt.show()\n",
    "sns.distplot(ppc_data_t_cpp_v_B.rt[ppc_data_t_cpp_v_B.condition == 'hv'], label='hv_obs')\n",
    "sns.distplot(ppc_data_t_cpp_v_B.rt_sampled[ppc_data_t_cpp_v_B.condition == 'hv'], label='hv_sim')\n",
    "plt.legend()\n",
    "plt.show()"
   ]
  },
  {
   "cell_type": "code",
   "execution_count": null,
   "metadata": {},
   "outputs": [],
   "source": [
    "#some simulated rts are very long. may be fixed with greater # samples. \n",
    "plt.title('Conflict')\n",
    "sns.distplot(ppc_data_t_cpp_v_B.rt[ppc_data_t_cpp_v_B.condition == 'lc'], label='lc_obs')\n",
    "sns.distplot(ppc_data_t_cpp_v_B.rt_sampled[ppc_data_t_cpp_v_B.condition == 'lc'], label='lc_sim')\n",
    "plt.legend()\n",
    "plt.show()\n",
    "sns.distplot(ppc_data_t_cpp_v_B.rt[ppc_data_t_cpp_v_B.condition == 'hc'], label='hc_obs')\n",
    "sns.distplot(ppc_data_t_cpp_v_B.rt_sampled[ppc_data_t_cpp_v_B.condition == 'hc'], label='hc_sim')\n",
    "plt.legend()\n",
    "plt.show()"
   ]
  },
  {
   "cell_type": "code",
   "execution_count": null,
   "metadata": {},
   "outputs": [],
   "source": [
    "sim_real_rts = (ppc_data_t_cpp_v_B.groupby(['condition', 'subj_idx'])[['rt_sampled_abs', 'rt_abs']].median()).reset_index()\n",
    "sim_real_acc = (ppc_data_t_cpp_v_B.groupby(['condition', 'subj_idx'])[['accuracy_sampled', 'accuracy']].mean()).reset_index()\n",
    "\n",
    "sim_real_rts_melted = pd.melt(sim_real_rts, id_vars=[\"condition\", \"subj_idx\"], \n",
    "                 var_name=\"data_type\", value_name='rt')\n",
    "sim_real_acc_melted = pd.melt(sim_real_acc, id_vars=[\"condition\", \"subj_idx\"], \n",
    "                 var_name=\"data_type\", value_name='accuracy')"
   ]
  },
  {
   "cell_type": "code",
   "execution_count": null,
   "metadata": {},
   "outputs": [],
   "source": [
    "sns.swarmplot(x=\"condition\", y=\"rt\", hue=\"data_type\", data=sim_real_rts_melted)\n",
    "plt.show()\n",
    "sns.swarmplot(x=\"condition\", y=\"accuracy\", hue=\"data_type\", data=sim_real_acc_melted)\n",
    "plt.ylim([0,1])\n",
    "# plt.legend(frameon=1,loc='best')"
   ]
  },
  {
   "cell_type": "code",
   "execution_count": null,
   "metadata": {},
   "outputs": [],
   "source": [
    "lc_rt_sim = sim_real_rts_melted.rt[(sim_real_rts_melted.condition == 'lc') & \n",
    "                       (sim_real_rts_melted.data_type == 'rt_sampled_abs')]\n",
    "hc_rt_sim = sim_real_rts_melted.rt[(sim_real_rts_melted.condition == 'hc') & \n",
    "                       (sim_real_rts_melted.data_type == 'rt_sampled_abs')]\n",
    "\n",
    "lv_rt_sim = sim_real_rts_melted.rt[(sim_real_rts_melted.condition == 'lv') & \n",
    "                       (sim_real_rts_melted.data_type == 'rt_sampled_abs')]\n",
    "hv_rt_sim = sim_real_rts_melted.rt[(sim_real_rts_melted.condition == 'hv') & \n",
    "                       (sim_real_rts_melted.data_type == 'rt_sampled_abs')]"
   ]
  },
  {
   "cell_type": "code",
   "execution_count": null,
   "metadata": {},
   "outputs": [],
   "source": [
    "lc_acc_sim = sim_real_acc_melted.accuracy[(sim_real_acc_melted.condition == 'lc') & \n",
    "                       (sim_real_acc_melted.data_type == 'accuracy_sampled')]\n",
    "hc_acc_sim = sim_real_acc_melted.accuracy[(sim_real_acc_melted.condition == 'hc') & \n",
    "                       (sim_real_acc_melted.data_type == 'accuracy_sampled')]\n",
    "\n",
    "lv_acc_sim = sim_real_acc_melted.accuracy[(sim_real_acc_melted.condition == 'lv') & \n",
    "                       (sim_real_acc_melted.data_type == 'accuracy_sampled')]\n",
    "hv_acc_sim = sim_real_acc_melted.accuracy[(sim_real_acc_melted.condition == 'hv') & \n",
    "                       (sim_real_acc_melted.data_type == 'accuracy_sampled')]"
   ]
  },
  {
   "cell_type": "code",
   "execution_count": null,
   "metadata": {},
   "outputs": [],
   "source": [
    "stats.ttest_rel(lc_acc_sim, hc_acc_sim)\n",
    "\n",
    "stats.ttest_rel(lv_acc_sim, hv_acc_sim)"
   ]
  },
  {
   "cell_type": "code",
   "execution_count": null,
   "metadata": {},
   "outputs": [],
   "source": [
    "stats.ttest_ind(sampled_rts, real_rts)"
   ]
  },
  {
   "cell_type": "code",
   "execution_count": null,
   "metadata": {},
   "outputs": [],
   "source": [
    "from scipy import stats \n",
    "\n",
    "#accept null \n",
    "stats.ttest_ind(sampled_rts, real_rts)\n"
   ]
  },
  {
   "cell_type": "code",
   "execution_count": null,
   "metadata": {},
   "outputs": [],
   "source": [
    "# model_names_header = ', '.join(m_names)\n",
    "# print_dics = np.column_stack(dics)\n",
    "# np.savetxt(write_dir+'sim_test_gen_model.csv', print_dics, header=model_names_header, delimiter=',',comments='')"
   ]
  }
 ],
 "metadata": {
  "kernelspec": {
   "display_name": "hddm",
   "language": "python",
   "name": "hddm"
  },
  "language_info": {
   "codemirror_mode": {
    "name": "ipython",
    "version": 3
   },
   "file_extension": ".py",
   "mimetype": "text/x-python",
   "name": "python",
   "nbconvert_exporter": "python",
   "pygments_lexer": "ipython3",
   "version": "3.5.5"
  }
 },
 "nbformat": 4,
 "nbformat_minor": 2
}
