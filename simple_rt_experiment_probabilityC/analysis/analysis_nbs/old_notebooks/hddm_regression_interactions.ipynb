{
 "cells": [
  {
   "cell_type": "code",
   "execution_count": 1,
   "metadata": {},
   "outputs": [
    {
     "name": "stderr",
     "output_type": "stream",
     "text": [
      "/Users/Krista/anaconda/envs/hddm/lib/python3.5/site-packages/IPython/parallel.py:13: ShimWarning: The `IPython.parallel` package has been deprecated since IPython 4.0. You should import from ipyparallel instead.\n",
      "  \"You should import from ipyparallel instead.\", ShimWarning)\n"
     ]
    }
   ],
   "source": [
    "import pandas as pd \n",
    "import matplotlib.pyplot as plt \n",
    "import hddm \n",
    "from patsy import dmatrix \n",
    "import numpy as np\n",
    "# print(hddm.__version__)\n",
    "\n",
    "%matplotlib inline"
   ]
  },
  {
   "cell_type": "markdown",
   "metadata": {},
   "source": [
    "## Pre-processing"
   ]
  },
  {
   "cell_type": "code",
   "execution_count": 2,
   "metadata": {},
   "outputs": [
    {
     "name": "stdout",
     "output_type": "stream",
     "text": [
      "/Users/Krista/Dropbox/volatileValues/simple_rt_experiment_probabilityC/analysis\r\n"
     ]
    }
   ],
   "source": [
    "!pwd"
   ]
  },
  {
   "cell_type": "code",
   "execution_count": 3,
   "metadata": {},
   "outputs": [],
   "source": [
    "all_data = hddm.load_csv('aggregated_data/cleaned_probC_data_test.csv')"
   ]
  },
  {
   "cell_type": "code",
   "execution_count": 4,
   "metadata": {},
   "outputs": [
    {
     "data": {
      "text/html": [
       "<div>\n",
       "<style scoped>\n",
       "    .dataframe tbody tr th:only-of-type {\n",
       "        vertical-align: middle;\n",
       "    }\n",
       "\n",
       "    .dataframe tbody tr th {\n",
       "        vertical-align: top;\n",
       "    }\n",
       "\n",
       "    .dataframe thead th {\n",
       "        text-align: right;\n",
       "    }\n",
       "</style>\n",
       "<table border=\"1\" class=\"dataframe\">\n",
       "  <thead>\n",
       "    <tr style=\"text-align: right;\">\n",
       "      <th></th>\n",
       "      <th>Unnamed: 0</th>\n",
       "      <th>choice</th>\n",
       "      <th>accuracy</th>\n",
       "      <th>solution</th>\n",
       "      <th>reward</th>\n",
       "      <th>cumulative_reward</th>\n",
       "      <th>rt</th>\n",
       "      <th>total_trial_time</th>\n",
       "      <th>iti</th>\n",
       "      <th>cp_with_slow_fast</th>\n",
       "      <th>obs_cp_with_slow_fast</th>\n",
       "      <th>high_val_cue</th>\n",
       "      <th>ID</th>\n",
       "      <th>condition</th>\n",
       "    </tr>\n",
       "  </thead>\n",
       "  <tbody>\n",
       "    <tr>\n",
       "      <th>0</th>\n",
       "      <td>0</td>\n",
       "      <td>1.0</td>\n",
       "      <td>1.0</td>\n",
       "      <td>1.0</td>\n",
       "      <td>1.0</td>\n",
       "      <td>600.0</td>\n",
       "      <td>0.525745</td>\n",
       "      <td>2.060731</td>\n",
       "      <td>0.545611</td>\n",
       "      <td>0.0</td>\n",
       "      <td>0.0</td>\n",
       "      <td>112.0</td>\n",
       "      <td>770</td>\n",
       "      <td>hc</td>\n",
       "    </tr>\n",
       "    <tr>\n",
       "      <th>1</th>\n",
       "      <td>1</td>\n",
       "      <td>0.0</td>\n",
       "      <td>0.0</td>\n",
       "      <td>1.0</td>\n",
       "      <td>0.0</td>\n",
       "      <td>599.0</td>\n",
       "      <td>0.296897</td>\n",
       "      <td>1.812463</td>\n",
       "      <td>0.524884</td>\n",
       "      <td>0.0</td>\n",
       "      <td>1.0</td>\n",
       "      <td>111.0</td>\n",
       "      <td>770</td>\n",
       "      <td>hc</td>\n",
       "    </tr>\n",
       "    <tr>\n",
       "      <th>2</th>\n",
       "      <td>2</td>\n",
       "      <td>1.0</td>\n",
       "      <td>0.0</td>\n",
       "      <td>0.0</td>\n",
       "      <td>0.0</td>\n",
       "      <td>598.0</td>\n",
       "      <td>0.210249</td>\n",
       "      <td>1.496023</td>\n",
       "      <td>0.304553</td>\n",
       "      <td>0.0</td>\n",
       "      <td>0.0</td>\n",
       "      <td>111.0</td>\n",
       "      <td>770</td>\n",
       "      <td>hc</td>\n",
       "    </tr>\n",
       "    <tr>\n",
       "      <th>3</th>\n",
       "      <td>3</td>\n",
       "      <td>1.0</td>\n",
       "      <td>1.0</td>\n",
       "      <td>1.0</td>\n",
       "      <td>3.0</td>\n",
       "      <td>600.0</td>\n",
       "      <td>0.276397</td>\n",
       "      <td>1.937237</td>\n",
       "      <td>0.675080</td>\n",
       "      <td>0.0</td>\n",
       "      <td>1.0</td>\n",
       "      <td>112.0</td>\n",
       "      <td>770</td>\n",
       "      <td>hc</td>\n",
       "    </tr>\n",
       "    <tr>\n",
       "      <th>4</th>\n",
       "      <td>4</td>\n",
       "      <td>0.0</td>\n",
       "      <td>1.0</td>\n",
       "      <td>0.0</td>\n",
       "      <td>3.0</td>\n",
       "      <td>602.0</td>\n",
       "      <td>0.287072</td>\n",
       "      <td>1.813193</td>\n",
       "      <td>0.538249</td>\n",
       "      <td>0.0</td>\n",
       "      <td>0.0</td>\n",
       "      <td>112.0</td>\n",
       "      <td>770</td>\n",
       "      <td>hc</td>\n",
       "    </tr>\n",
       "    <tr>\n",
       "      <th>5</th>\n",
       "      <td>5</td>\n",
       "      <td>1.0</td>\n",
       "      <td>1.0</td>\n",
       "      <td>1.0</td>\n",
       "      <td>2.0</td>\n",
       "      <td>603.0</td>\n",
       "      <td>0.248452</td>\n",
       "      <td>1.718456</td>\n",
       "      <td>0.473522</td>\n",
       "      <td>0.0</td>\n",
       "      <td>0.0</td>\n",
       "      <td>112.0</td>\n",
       "      <td>770</td>\n",
       "      <td>hc</td>\n",
       "    </tr>\n",
       "    <tr>\n",
       "      <th>6</th>\n",
       "      <td>6</td>\n",
       "      <td>0.0</td>\n",
       "      <td>0.0</td>\n",
       "      <td>1.0</td>\n",
       "      <td>0.0</td>\n",
       "      <td>602.0</td>\n",
       "      <td>0.262831</td>\n",
       "      <td>1.628087</td>\n",
       "      <td>0.368475</td>\n",
       "      <td>0.0</td>\n",
       "      <td>1.0</td>\n",
       "      <td>111.0</td>\n",
       "      <td>770</td>\n",
       "      <td>hc</td>\n",
       "    </tr>\n",
       "    <tr>\n",
       "      <th>7</th>\n",
       "      <td>7</td>\n",
       "      <td>1.0</td>\n",
       "      <td>0.0</td>\n",
       "      <td>0.0</td>\n",
       "      <td>0.0</td>\n",
       "      <td>601.0</td>\n",
       "      <td>0.252580</td>\n",
       "      <td>1.875058</td>\n",
       "      <td>0.626696</td>\n",
       "      <td>0.0</td>\n",
       "      <td>0.0</td>\n",
       "      <td>111.0</td>\n",
       "      <td>770</td>\n",
       "      <td>hc</td>\n",
       "    </tr>\n",
       "    <tr>\n",
       "      <th>8</th>\n",
       "      <td>8</td>\n",
       "      <td>0.0</td>\n",
       "      <td>0.0</td>\n",
       "      <td>1.0</td>\n",
       "      <td>0.0</td>\n",
       "      <td>600.0</td>\n",
       "      <td>0.206990</td>\n",
       "      <td>1.823410</td>\n",
       "      <td>0.633504</td>\n",
       "      <td>0.0</td>\n",
       "      <td>0.0</td>\n",
       "      <td>111.0</td>\n",
       "      <td>770</td>\n",
       "      <td>hc</td>\n",
       "    </tr>\n",
       "    <tr>\n",
       "      <th>9</th>\n",
       "      <td>9</td>\n",
       "      <td>1.0</td>\n",
       "      <td>0.0</td>\n",
       "      <td>0.0</td>\n",
       "      <td>0.0</td>\n",
       "      <td>599.0</td>\n",
       "      <td>0.441743</td>\n",
       "      <td>1.985938</td>\n",
       "      <td>0.553008</td>\n",
       "      <td>0.0</td>\n",
       "      <td>0.0</td>\n",
       "      <td>111.0</td>\n",
       "      <td>770</td>\n",
       "      <td>hc</td>\n",
       "    </tr>\n",
       "  </tbody>\n",
       "</table>\n",
       "</div>"
      ],
      "text/plain": [
       "   Unnamed: 0  choice  accuracy  solution  reward  cumulative_reward  \\\n",
       "0           0     1.0       1.0       1.0     1.0              600.0   \n",
       "1           1     0.0       0.0       1.0     0.0              599.0   \n",
       "2           2     1.0       0.0       0.0     0.0              598.0   \n",
       "3           3     1.0       1.0       1.0     3.0              600.0   \n",
       "4           4     0.0       1.0       0.0     3.0              602.0   \n",
       "5           5     1.0       1.0       1.0     2.0              603.0   \n",
       "6           6     0.0       0.0       1.0     0.0              602.0   \n",
       "7           7     1.0       0.0       0.0     0.0              601.0   \n",
       "8           8     0.0       0.0       1.0     0.0              600.0   \n",
       "9           9     1.0       0.0       0.0     0.0              599.0   \n",
       "\n",
       "         rt  total_trial_time       iti  cp_with_slow_fast  \\\n",
       "0  0.525745          2.060731  0.545611                0.0   \n",
       "1  0.296897          1.812463  0.524884                0.0   \n",
       "2  0.210249          1.496023  0.304553                0.0   \n",
       "3  0.276397          1.937237  0.675080                0.0   \n",
       "4  0.287072          1.813193  0.538249                0.0   \n",
       "5  0.248452          1.718456  0.473522                0.0   \n",
       "6  0.262831          1.628087  0.368475                0.0   \n",
       "7  0.252580          1.875058  0.626696                0.0   \n",
       "8  0.206990          1.823410  0.633504                0.0   \n",
       "9  0.441743          1.985938  0.553008                0.0   \n",
       "\n",
       "   obs_cp_with_slow_fast  high_val_cue   ID condition  \n",
       "0                    0.0         112.0  770        hc  \n",
       "1                    1.0         111.0  770        hc  \n",
       "2                    0.0         111.0  770        hc  \n",
       "3                    1.0         112.0  770        hc  \n",
       "4                    0.0         112.0  770        hc  \n",
       "5                    0.0         112.0  770        hc  \n",
       "6                    1.0         111.0  770        hc  \n",
       "7                    0.0         111.0  770        hc  \n",
       "8                    0.0         111.0  770        hc  \n",
       "9                    0.0         111.0  770        hc  "
      ]
     },
     "execution_count": 4,
     "metadata": {},
     "output_type": "execute_result"
    }
   ],
   "source": [
    "all_data.head(10)"
   ]
  },
  {
   "cell_type": "code",
   "execution_count": 5,
   "metadata": {},
   "outputs": [],
   "source": [
    "data = all_data[['accuracy', 'rt', 'condition', 'ID']] \n",
    "data = data.rename(index=str, columns={\"accuracy\": \"response\", \"ID\": \"subj_idx\", \"condition\": \"stim\"})"
   ]
  },
  {
   "cell_type": "code",
   "execution_count": 6,
   "metadata": {},
   "outputs": [
    {
     "data": {
      "text/html": [
       "<div>\n",
       "<style scoped>\n",
       "    .dataframe tbody tr th:only-of-type {\n",
       "        vertical-align: middle;\n",
       "    }\n",
       "\n",
       "    .dataframe tbody tr th {\n",
       "        vertical-align: top;\n",
       "    }\n",
       "\n",
       "    .dataframe thead th {\n",
       "        text-align: right;\n",
       "    }\n",
       "</style>\n",
       "<table border=\"1\" class=\"dataframe\">\n",
       "  <thead>\n",
       "    <tr style=\"text-align: right;\">\n",
       "      <th></th>\n",
       "      <th>response</th>\n",
       "      <th>rt</th>\n",
       "      <th>stim</th>\n",
       "      <th>subj_idx</th>\n",
       "    </tr>\n",
       "  </thead>\n",
       "  <tbody>\n",
       "    <tr>\n",
       "      <th>0</th>\n",
       "      <td>1.0</td>\n",
       "      <td>0.525745</td>\n",
       "      <td>hc</td>\n",
       "      <td>770</td>\n",
       "    </tr>\n",
       "    <tr>\n",
       "      <th>1</th>\n",
       "      <td>0.0</td>\n",
       "      <td>0.296897</td>\n",
       "      <td>hc</td>\n",
       "      <td>770</td>\n",
       "    </tr>\n",
       "    <tr>\n",
       "      <th>2</th>\n",
       "      <td>0.0</td>\n",
       "      <td>0.210249</td>\n",
       "      <td>hc</td>\n",
       "      <td>770</td>\n",
       "    </tr>\n",
       "    <tr>\n",
       "      <th>3</th>\n",
       "      <td>1.0</td>\n",
       "      <td>0.276397</td>\n",
       "      <td>hc</td>\n",
       "      <td>770</td>\n",
       "    </tr>\n",
       "    <tr>\n",
       "      <th>4</th>\n",
       "      <td>1.0</td>\n",
       "      <td>0.287072</td>\n",
       "      <td>hc</td>\n",
       "      <td>770</td>\n",
       "    </tr>\n",
       "  </tbody>\n",
       "</table>\n",
       "</div>"
      ],
      "text/plain": [
       "   response        rt stim  subj_idx\n",
       "0       1.0  0.525745   hc       770\n",
       "1       0.0  0.296897   hc       770\n",
       "2       0.0  0.210249   hc       770\n",
       "3       1.0  0.276397   hc       770\n",
       "4       1.0  0.287072   hc       770"
      ]
     },
     "execution_count": 6,
     "metadata": {},
     "output_type": "execute_result"
    }
   ],
   "source": [
    "data.columns = data.columns.str.strip()\n",
    "data['stim'] = data['stim'].str.strip()\n",
    "data.head()"
   ]
  },
  {
   "cell_type": "code",
   "execution_count": 7,
   "metadata": {},
   "outputs": [],
   "source": [
    "data = hddm.utils.flip_errors(data)"
   ]
  },
  {
   "cell_type": "code",
   "execution_count": 8,
   "metadata": {},
   "outputs": [
    {
     "data": {
      "image/png": "[encoded data removed]",
      "text/plain": [
       "<Figure size 432x288 with 1 Axes>"
      ]
     },
     "metadata": {},
     "output_type": "display_data"
    }
   ],
   "source": [
    "fig = plt.figure()\n",
    "ax = fig.add_subplot(111, xlabel='RT', ylabel='count', title='RT distributions')\n",
    "for i, subj_data in data.groupby('subj_idx'):\n",
    "    subj_data.rt.hist(bins=20, histtype='step', ax=ax)"
   ]
  },
  {
   "cell_type": "code",
   "execution_count": 9,
   "metadata": {},
   "outputs": [
    {
     "data": {
      "text/html": [
       "<div>\n",
       "<style scoped>\n",
       "    .dataframe tbody tr th:only-of-type {\n",
       "        vertical-align: middle;\n",
       "    }\n",
       "\n",
       "    .dataframe tbody tr th {\n",
       "        vertical-align: top;\n",
       "    }\n",
       "\n",
       "    .dataframe thead th {\n",
       "        text-align: right;\n",
       "    }\n",
       "</style>\n",
       "<table border=\"1\" class=\"dataframe\">\n",
       "  <thead>\n",
       "    <tr style=\"text-align: right;\">\n",
       "      <th></th>\n",
       "      <th>response</th>\n",
       "      <th>rt</th>\n",
       "      <th>stim</th>\n",
       "      <th>subj_idx</th>\n",
       "    </tr>\n",
       "  </thead>\n",
       "  <tbody>\n",
       "    <tr>\n",
       "      <th>1800</th>\n",
       "      <td>0.0</td>\n",
       "      <td>-0.738985</td>\n",
       "      <td>hv</td>\n",
       "      <td>770</td>\n",
       "    </tr>\n",
       "    <tr>\n",
       "      <th>1801</th>\n",
       "      <td>0.0</td>\n",
       "      <td>-0.697122</td>\n",
       "      <td>hv</td>\n",
       "      <td>770</td>\n",
       "    </tr>\n",
       "    <tr>\n",
       "      <th>1802</th>\n",
       "      <td>1.0</td>\n",
       "      <td>0.577064</td>\n",
       "      <td>hv</td>\n",
       "      <td>770</td>\n",
       "    </tr>\n",
       "    <tr>\n",
       "      <th>1803</th>\n",
       "      <td>1.0</td>\n",
       "      <td>0.655899</td>\n",
       "      <td>hv</td>\n",
       "      <td>770</td>\n",
       "    </tr>\n",
       "    <tr>\n",
       "      <th>1804</th>\n",
       "      <td>1.0</td>\n",
       "      <td>0.365610</td>\n",
       "      <td>hv</td>\n",
       "      <td>770</td>\n",
       "    </tr>\n",
       "  </tbody>\n",
       "</table>\n",
       "</div>"
      ],
      "text/plain": [
       "      response        rt stim  subj_idx\n",
       "1800       0.0 -0.738985   hv       770\n",
       "1801       0.0 -0.697122   hv       770\n",
       "1802       1.0  0.577064   hv       770\n",
       "1803       1.0  0.655899   hv       770\n",
       "1804       1.0  0.365610   hv       770"
      ]
     },
     "execution_count": 9,
     "metadata": {},
     "output_type": "execute_result"
    }
   ],
   "source": [
    "conf_df = data[(data.stim=='hc')|( data.stim=='lc')]\n",
    "conf_df.head()\n",
    "vol_df = data[(data.stim=='hv')|( data.stim=='lv')]\n",
    "vol_df.head()"
   ]
  },
  {
   "cell_type": "code",
   "execution_count": 10,
   "metadata": {},
   "outputs": [
    {
     "data": {
      "text/plain": [
       "(array(['hv', 'lv'], dtype=object), array(['hc', 'lc'], dtype=object))"
      ]
     },
     "execution_count": 10,
     "metadata": {},
     "output_type": "execute_result"
    }
   ],
   "source": [
    "np.unique(vol_df.stim), np.unique(conf_df.stim)"
   ]
  },
  {
   "cell_type": "code",
   "execution_count": 11,
   "metadata": {},
   "outputs": [
    {
     "data": {
      "text/plain": [
       "(array([761, 762, 763, 764, 765, 766, 767, 768, 769, 770, 771]),\n",
       " array([761, 762, 763, 764, 765, 766, 767, 768, 769, 770, 771]))"
      ]
     },
     "execution_count": 11,
     "metadata": {},
     "output_type": "execute_result"
    }
   ],
   "source": [
    "np.unique(vol_df.subj_idx), np.unique(conf_df.subj_idx)"
   ]
  },
  {
   "cell_type": "code",
   "execution_count": 12,
   "metadata": {},
   "outputs": [],
   "source": [
    "conf_df = conf_df.rename(index=str, columns={\"stim\": \"conf\"})\n",
    "vol_df = vol_df.rename(index=str, columns={\"stim\": \"vol\"})"
   ]
  },
  {
   "cell_type": "code",
   "execution_count": 13,
   "metadata": {},
   "outputs": [],
   "source": [
    "conf_vol_df = pd.concat([conf_df, vol_df])\n",
    "conf_vol_df['vol_flag'] = conf_vol_df.vol\n",
    "conf_vol_df['conf_flag'] = conf_vol_df.conf\n",
    "\n",
    "conf_vol_df.conf_flag=conf_vol_df.conf_flag.fillna('mc')\n",
    "conf_vol_df.vol_flag=conf_vol_df.vol_flag.fillna('mv')"
   ]
  },
  {
   "cell_type": "code",
   "execution_count": 14,
   "metadata": {},
   "outputs": [],
   "source": [
    "conf_vol_df = conf_vol_df.drop(['conf','vol'], 1)"
   ]
  },
  {
   "cell_type": "code",
   "execution_count": 15,
   "metadata": {},
   "outputs": [
    {
     "data": {
      "text/html": [
       "<div>\n",
       "<style scoped>\n",
       "    .dataframe tbody tr th:only-of-type {\n",
       "        vertical-align: middle;\n",
       "    }\n",
       "\n",
       "    .dataframe tbody tr th {\n",
       "        vertical-align: top;\n",
       "    }\n",
       "\n",
       "    .dataframe thead th {\n",
       "        text-align: right;\n",
       "    }\n",
       "</style>\n",
       "<table border=\"1\" class=\"dataframe\">\n",
       "  <thead>\n",
       "    <tr style=\"text-align: right;\">\n",
       "      <th></th>\n",
       "      <th>response</th>\n",
       "      <th>rt</th>\n",
       "      <th>subj_idx</th>\n",
       "      <th>vol</th>\n",
       "      <th>conf</th>\n",
       "    </tr>\n",
       "  </thead>\n",
       "  <tbody>\n",
       "    <tr>\n",
       "      <th>0</th>\n",
       "      <td>1.0</td>\n",
       "      <td>0.525745</td>\n",
       "      <td>770</td>\n",
       "      <td>mv</td>\n",
       "      <td>hc</td>\n",
       "    </tr>\n",
       "    <tr>\n",
       "      <th>1</th>\n",
       "      <td>0.0</td>\n",
       "      <td>-0.296897</td>\n",
       "      <td>770</td>\n",
       "      <td>mv</td>\n",
       "      <td>hc</td>\n",
       "    </tr>\n",
       "    <tr>\n",
       "      <th>2</th>\n",
       "      <td>0.0</td>\n",
       "      <td>-0.210249</td>\n",
       "      <td>770</td>\n",
       "      <td>mv</td>\n",
       "      <td>hc</td>\n",
       "    </tr>\n",
       "    <tr>\n",
       "      <th>3</th>\n",
       "      <td>1.0</td>\n",
       "      <td>0.276397</td>\n",
       "      <td>770</td>\n",
       "      <td>mv</td>\n",
       "      <td>hc</td>\n",
       "    </tr>\n",
       "    <tr>\n",
       "      <th>4</th>\n",
       "      <td>1.0</td>\n",
       "      <td>0.287072</td>\n",
       "      <td>770</td>\n",
       "      <td>mv</td>\n",
       "      <td>hc</td>\n",
       "    </tr>\n",
       "  </tbody>\n",
       "</table>\n",
       "</div>"
      ],
      "text/plain": [
       "   response        rt  subj_idx vol conf\n",
       "0       1.0  0.525745       770  mv   hc\n",
       "1       0.0 -0.296897       770  mv   hc\n",
       "2       0.0 -0.210249       770  mv   hc\n",
       "3       1.0  0.276397       770  mv   hc\n",
       "4       1.0  0.287072       770  mv   hc"
      ]
     },
     "execution_count": 15,
     "metadata": {},
     "output_type": "execute_result"
    }
   ],
   "source": [
    "conf_vol_df = conf_vol_df.rename(index=str, columns={\"vol_flag\": \"vol\", \"conf_flag\": \"conf\"})\n",
    "conf_vol_df.head()"
   ]
  },
  {
   "cell_type": "code",
   "execution_count": 16,
   "metadata": {},
   "outputs": [
    {
     "data": {
      "text/plain": [
       "(array(['hc', 'lc', 'mc'], dtype=object),\n",
       " array(['hv', 'lv', 'mv'], dtype=object))"
      ]
     },
     "execution_count": 16,
     "metadata": {},
     "output_type": "execute_result"
    }
   ],
   "source": [
    "np.unique(conf_vol_df.conf), np.unique(conf_vol_df.vol)"
   ]
  },
  {
   "cell_type": "markdown",
   "metadata": {},
   "source": [
    "## Within-subjects regression "
   ]
  },
  {
   "cell_type": "markdown",
   "metadata": {},
   "source": [
    "#### Treatment specifies intercept (comparison condition) \n",
    "#### C(x) specifies categorical predictor \n",
    "\n",
    "##### (design matrix will auto-code dummy variables)"
   ]
  },
  {
   "cell_type": "markdown",
   "metadata": {},
   "source": [
    "#### trialwise response ~ categorical predictor, intercept condition "
   ]
  },
  {
   "cell_type": "code",
   "execution_count": 18,
   "metadata": {},
   "outputs": [
    {
     "name": "stdout",
     "output_type": "stream",
     "text": [
      "['Intercept', \"C(vol, Treatment('mv'))[T.hv]\", \"C(vol, Treatment('mv'))[T.lv]\", \"C(conf, Treatment('mc'))[T.hc]\", \"C(conf, Treatment('mc'))[T.lc]\", \"C(vol, Treatment('mv'))[T.hv]:C(conf, Treatment('mc'))[T.hc]\", \"C(vol, Treatment('mv'))[T.lv]:C(conf, Treatment('mc'))[T.hc]\", \"C(vol, Treatment('mv'))[T.hv]:C(conf, Treatment('mc'))[T.lc]\", \"C(vol, Treatment('mv'))[T.lv]:C(conf, Treatment('mc'))[T.lc]\"]\n",
      "[[ 1.  0.  0. ...,  0.  0.  0.]\n",
      " [ 1.  0.  0. ...,  0.  0.  0.]\n",
      " [ 1.  0.  0. ...,  0.  0.  0.]\n",
      " ..., \n",
      " [ 1.  0.  1. ...,  0.  0.  0.]\n",
      " [ 1.  0.  1. ...,  0.  0.  0.]\n",
      " [ 1.  0.  1. ...,  0.  0.  0.]]\n"
     ]
    },
    {
     "data": {
      "text/plain": [
       "array([ 26400.,   6600.,   6600.,   6600.,   6600.,      0.,      0.,\n",
       "            0.,      0.])"
      ]
     },
     "execution_count": 18,
     "metadata": {},
     "output_type": "execute_result"
    }
   ],
   "source": [
    "formula = \"1+C(vol, Treatment('mv'))*C(conf,Treatment('mc'))\"\n",
    "d_mat = dmatrix(formula, conf_vol_df)\n",
    "print(d_mat.design_info.column_names)\n",
    "print(d_mat)\n",
    "sum(d_mat)"
   ]
  },
  {
   "cell_type": "code",
   "execution_count": 19,
   "metadata": {},
   "outputs": [
    {
     "data": {
      "text/plain": [
       "DesignMatrix with shape (26400, 9)\n",
       "  Columns:\n",
       "    ['Intercept',\n",
       "     \"C(vol, Treatment('mv'))[T.hv]\",\n",
       "     \"C(vol, Treatment('mv'))[T.lv]\",\n",
       "     \"C(conf, Treatment('mc'))[T.hc]\",\n",
       "     \"C(conf, Treatment('mc'))[T.lc]\",\n",
       "     \"C(vol, Treatment('mv'))[T.hv]:C(conf, Treatment('mc'))[T.hc]\",\n",
       "     \"C(vol, Treatment('mv'))[T.lv]:C(conf, Treatment('mc'))[T.hc]\",\n",
       "     \"C(vol, Treatment('mv'))[T.hv]:C(conf, Treatment('mc'))[T.lc]\",\n",
       "     \"C(vol, Treatment('mv'))[T.lv]:C(conf, Treatment('mc'))[T.lc]\"]\n",
       "  Terms:\n",
       "    'Intercept' (column 0)\n",
       "    \"C(vol, Treatment('mv'))\" (columns 1:3)\n",
       "    \"C(conf, Treatment('mc'))\" (columns 3:5)\n",
       "    \"C(vol, Treatment('mv')):C(conf, Treatment('mc'))\" (columns 5:9)\n",
       "  (to view full data, use np.asarray(this_obj))"
      ]
     },
     "execution_count": 19,
     "metadata": {},
     "output_type": "execute_result"
    }
   ],
   "source": [
    "d_mat"
   ]
  },
  {
   "cell_type": "code",
   "execution_count": 21,
   "metadata": {},
   "outputs": [],
   "source": [
    "v_reg_model = \"v ~\" + formula\n",
    "a_reg_model = \"a ~ \" + formula\n",
    "av_reg_model = [v_reg_model, a_reg_model]"
   ]
  },
  {
   "cell_type": "code",
   "execution_count": null,
   "metadata": {},
   "outputs": [
    {
     "name": "stdout",
     "output_type": "stream",
     "text": [
      "Adding these covariates:\n",
      "['v_Intercept', \"v_C(vol, Treatment('mv'))[T.hv]\", \"v_C(vol, Treatment('mv'))[T.lv]\", \"v_C(conf, Treatment('mc'))[T.hc]\", \"v_C(conf, Treatment('mc'))[T.lc]\", \"v_C(vol, Treatment('mv'))[T.hv]:C(conf, Treatment('mc'))[T.hc]\", \"v_C(vol, Treatment('mv'))[T.lv]:C(conf, Treatment('mc'))[T.hc]\", \"v_C(vol, Treatment('mv'))[T.hv]:C(conf, Treatment('mc'))[T.lc]\", \"v_C(vol, Treatment('mv'))[T.lv]:C(conf, Treatment('mc'))[T.lc]\"]\n"
     ]
    },
    {
     "name": "stderr",
     "output_type": "stream",
     "text": [
      "/Users/Krista/anaconda/envs/hddm/lib/python3.5/site-packages/pymc/Node.py:403: VisibleDeprecationWarning: using a non-integer number instead of an integer will result in an error in the future\n",
      "  self.__name__ = input['__name__']\n"
     ]
    },
    {
     "name": "stdout",
     "output_type": "stream",
     "text": [
      " [-------          19%                  ] 966 of 5000 complete in 185000.9 sec"
     ]
    }
   ],
   "source": [
    "v_within_subj = hddm.HDDMRegressor(conf_vol_df, v_reg_model)\n",
    "v_within_subj.sample(5000,burn=200)"
   ]
  },
  {
   "cell_type": "code",
   "execution_count": null,
   "metadata": {},
   "outputs": [],
   "source": [
    "a_within_subj = hddm.HDDMRegressor(conf_vol_df, a_reg_model)\n",
    "a_within_subj.sample(5000,burn=200)"
   ]
  },
  {
   "cell_type": "code",
   "execution_count": null,
   "metadata": {},
   "outputs": [],
   "source": [
    "av_within_subj = hddm.HDDMRegressor(conf_vol_df, av_reg_model)\n",
    "av_within_subj.sample(5000,burn=200)"
   ]
  },
  {
   "cell_type": "markdown",
   "metadata": {},
   "source": [
    "#### extract DIC score"
   ]
  },
  {
   "cell_type": "code",
   "execution_count": null,
   "metadata": {},
   "outputs": [],
   "source": [
    "v_within_subj.dic, a_within_subj.dic, av_within_subj.dic"
   ]
  },
  {
   "cell_type": "markdown",
   "metadata": {},
   "source": [
    "#### plot within-subjects effects for winning model"
   ]
  },
  {
   "cell_type": "code",
   "execution_count": null,
   "metadata": {},
   "outputs": [],
   "source": [
    "plt.rcParams['figure.figsize'] = 10, 10\n",
    "plt.rcParams['axes.titlesize'] = 25\n",
    "plt.rcParams['axes.labelsize'] = 30\n",
    "plt.rcParams['xtick.labelsize'] = 30\n",
    "plt.rcParams['ytick.labelsize'] = 30\n",
    "\n",
    "names = [r'$a + v$',r'$a$',r'$v$']\n",
    "dics = [v_within_subj.dic,  a_within_subj.dic, av_within_subj.dic]\n",
    "bars = plt.barh(names,dics, alpha=0.5)\n",
    "plt.xlabel('DIC score')\n",
    "\n",
    "bars[0].set_color('r')\n",
    "bars[1].set_color('blue')\n",
    "bars[2].set_color('forestgreen')\n",
    "\n",
    "plt.axvline(av_within_subj.dic, color='k', alpha=0.5, linestyle = '--')"
   ]
  },
  {
   "cell_type": "code",
   "execution_count": null,
   "metadata": {},
   "outputs": [],
   "source": [
    "v_WL, v_LL, v_WW = v_within_subj.nodes_db.ix[[\"v_Intercept\", \n",
    "                                              \"v_C(stim, Treatment('WL'))[T.LL]\", \n",
    "                                              \"v_C(stim, Treatment('WL'))[T.WW]\"], 'node']\n",
    "hddm.analyze.plot_posterior_nodes([v_WL, v_LL, v_WW])\n",
    "plt.xlabel('drift-rate')\n",
    "plt.ylabel('Posterior probability')\n",
    "plt.title('Group mean posteriors of within-subject drift-rate effects.')\n",
    "# plt.savefig('hddm_demo_fig_07.pdf')"
   ]
  },
  {
   "cell_type": "code",
   "execution_count": null,
   "metadata": {},
   "outputs": [],
   "source": [
    "a_WL, a_LL, a_WW = a_within_subj.nodes_db.ix[[\"a_Intercept\", \n",
    "                                              \"a_C(stim, Treatment('WL'))[T.LL]\", \n",
    "                                              \"a_C(stim, Treatment('WL'))[T.WW]\"], 'node']\n",
    "hddm.analyze.plot_posterior_nodes([a_WL, a_LL, a_WW])\n",
    "plt.xlabel('bound')\n",
    "plt.ylabel('Posterior probability')\n",
    "plt.title('Group mean posteriors of within-subject bound effects.')\n",
    "# plt.savefig('hddm_demo_fig_07.pdf')"
   ]
  },
  {
   "cell_type": "markdown",
   "metadata": {},
   "source": [
    "#### extract DIC score"
   ]
  },
  {
   "cell_type": "markdown",
   "metadata": {},
   "source": [
    "#### all stats"
   ]
  },
  {
   "cell_type": "code",
   "execution_count": null,
   "metadata": {},
   "outputs": [],
   "source": [
    "# v_within_subj.print_stats()"
   ]
  },
  {
   "cell_type": "code",
   "execution_count": null,
   "metadata": {},
   "outputs": [],
   "source": []
  }
 ],
 "metadata": {
  "kernelspec": {
   "display_name": "hddm",
   "language": "python",
   "name": "hddm"
  },
  "language_info": {
   "codemirror_mode": {
    "name": "ipython",
    "version": 3
   },
   "file_extension": ".py",
   "mimetype": "text/x-python",
   "name": "python",
   "nbconvert_exporter": "python",
   "pygments_lexer": "ipython3",
   "version": "3.5.5"
  }
 },
 "nbformat": 4,
 "nbformat_minor": 2
}
