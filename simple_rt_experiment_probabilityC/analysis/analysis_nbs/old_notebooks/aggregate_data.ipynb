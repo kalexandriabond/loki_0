{
 "cells": [
  {
   "cell_type": "code",
   "execution_count": 1,
   "metadata": {},
   "outputs": [],
   "source": [
    "#import modules \n",
    "import pandas as pd #dataframes \n",
    "import glob #for pattern checking \n",
    "import re  #regular expressions\n",
    "import numpy as np #numerical computing \n",
    "import matplotlib.pyplot as plt #plotting\n",
    "import seaborn as sns \n",
    "from sys import platform #for checking platform \n",
    "\n",
    "#change the home directory based on os\n",
    "if platform == 'linux':\n",
    "    home = '/home/krista/'\n",
    "elif platform == 'darwin': \n",
    "    home = '/Users/67981492/'\n",
    "\n",
    "data_path=home+'Dropbox/volatileValues/simple_rt_experiment_probabilityC/data'\n",
    "print_data_path=home+'Dropbox/volatileValues/simple_rt_experiment_probabilityC/analysis/aggregated_data/'\n",
    "\n",
    "#cond0: lc\n",
    "#cond1: hc\n",
    "#cond2: hv\n",
    "#cond3: lv"
   ]
  },
  {
   "cell_type": "code",
   "execution_count": 2,
   "metadata": {},
   "outputs": [
    {
     "name": "stdout",
     "output_type": "stream",
     "text": [
      "96\n",
      "57600\n"
     ]
    }
   ],
   "source": [
    "#calculate expected number of files for error-checking\n",
    "n_conditions = 4\n",
    "n_participants = 24 \n",
    "n_clean_trials = 600\n",
    "\n",
    "total_n_files = n_conditions*n_participants\n",
    "total_n_clean_trials = total_n_files*n_clean_trials\n",
    "print(total_n_files)\n",
    "print(total_n_clean_trials)"
   ]
  },
  {
   "cell_type": "code",
   "execution_count": 3,
   "metadata": {},
   "outputs": [
    {
     "name": "stdout",
     "output_type": "stream",
     "text": [
      "['0761' '0762' '0763' '0764' '0765' '0766' '0767' '0768' '0769' '0770'\n",
      " '0771' '0772' '0773' '0774' '0775' '0776' '0777' '0778' '0779' '0780'\n",
      " '0781' '0782' '0783' '0784']\n",
      "['hc' 'hv' 'lc' 'lv']\n",
      "24\n",
      "4\n"
     ]
    }
   ],
   "source": [
    "#search for pattern that indicates the dataset\n",
    "all_data_list = glob.glob(data_path+'/07[0-9][0-9]_cond[0-9]_trialset*[0-9].csv')\n",
    "len(all_data_list) == total_n_files\n",
    "\n",
    "#compile regular expressions for ID and condition \n",
    "ID_re = re.compile('07[0-9][0-9]')\n",
    "condition_re = re.compile('cond[0-9]')\n",
    "\n",
    "#find matching expression in list \n",
    "IDs = np.hstack(map(ID_re.findall, all_data_list))\n",
    "cond_codes = np.hstack(map(condition_re.findall, all_data_list))\n",
    "\n",
    "#decode condition numbers \n",
    "cond_names = ['lc', 'hc', 'hv', 'lv']\n",
    "decoded_conditions = np.hstack(map(lambda x: cond_names[int(x[-1])], cond_codes))\n",
    "\n",
    "#check unique IDs and conditions\n",
    "unique_IDs = np.unique(IDs)\n",
    "unique_conditions = np.unique(decoded_conditions)\n",
    "\n",
    "print(unique_IDs)\n",
    "print(unique_conditions)\n",
    "\n",
    "print(len(unique_IDs))\n",
    "print(len(unique_conditions))"
   ]
  },
  {
   "cell_type": "code",
   "execution_count": 8,
   "metadata": {},
   "outputs": [
    {
     "data": {
      "text/plain": [
       "(58379, 13)"
      ]
     },
     "execution_count": 8,
     "metadata": {},
     "output_type": "execute_result"
    }
   ],
   "source": [
    "#construct a dataframe \n",
    "data_df = pd.concat((pd.read_csv(d) for d in all_data_list))\n",
    "#strip whitespace from col. names for indexing later\n",
    "data_df.columns = data_df.columns.str.strip()\n",
    "\n",
    "#create vectors of IDs and conditions \n",
    "data_df['ID'] =  np.hstack(np.repeat(id, len(pd.read_csv(fname))) for id,fname in zip(IDs,all_data_list))\n",
    "data_df['condition'] = np.hstack(np.repeat(c, len(pd.read_csv(fname))) for c,fname in zip(decoded_conditions,all_data_list))\n",
    "\n",
    "#strip leading zeros from IDs... python3 cannot handle them\n",
    "data_df.ID = data_df.ID.str.lstrip('0')\n",
    "\n",
    "\n",
    "data_df.head(10)\n",
    "data_df.tail()\n",
    "\n",
    "#n_trials will be longer than n_clean_trials if repeat trials [too fast/slow]\n",
    "data_df.shape"
   ]
  },
  {
   "cell_type": "code",
   "execution_count": null,
   "metadata": {},
   "outputs": [],
   "source": [
    "#find all fast/slow trials\n",
    "fast_trials = data_df.cp_with_slow_fast == -2\n",
    "slow_trials = data_df.cp_with_slow_fast == -1\n",
    "lc = data_df.condition == 'lc'\n",
    "hc = data_df.condition == 'hc'\n",
    "lv = data_df.condition == 'lv'\n",
    "hv = data_df.condition == 'hv'"
   ]
  },
  {
   "cell_type": "code",
   "execution_count": 22,
   "metadata": {},
   "outputs": [
    {
     "data": {
      "text/plain": [
       "(4      0.048233\n",
       " 34     0.006824\n",
       " 88     0.047692\n",
       " 142    0.024710\n",
       " 151    0.099472\n",
       " Name: rt, dtype: float64, 35     1.800549\n",
       " 125    1.000200\n",
       " 128    1.532096\n",
       " 152    1.292333\n",
       " 163    1.649170\n",
       " Name: rt, dtype: float64)"
      ]
     },
     "execution_count": 22,
     "metadata": {},
     "output_type": "execute_result"
    }
   ],
   "source": [
    "data_df[fast_trials].rt.head(), data_df[slow_trials].rt.head()"
   ]
  },
  {
   "cell_type": "code",
   "execution_count": 24,
   "metadata": {},
   "outputs": [
    {
     "data": {
      "text/html": [
       "<div>\n",
       "<style scoped>\n",
       "    .dataframe tbody tr th:only-of-type {\n",
       "        vertical-align: middle;\n",
       "    }\n",
       "\n",
       "    .dataframe tbody tr th {\n",
       "        vertical-align: top;\n",
       "    }\n",
       "\n",
       "    .dataframe thead th {\n",
       "        text-align: right;\n",
       "    }\n",
       "</style>\n",
       "<table border=\"1\" class=\"dataframe\">\n",
       "  <thead>\n",
       "    <tr style=\"text-align: right;\">\n",
       "      <th></th>\n",
       "      <th>choice</th>\n",
       "      <th>accuracy</th>\n",
       "      <th>solution</th>\n",
       "      <th>reward</th>\n",
       "      <th>cumulative_reward</th>\n",
       "      <th>rt</th>\n",
       "      <th>total_trial_time</th>\n",
       "      <th>iti</th>\n",
       "      <th>cp_with_slow_fast</th>\n",
       "      <th>obs_cp_with_slow_fast</th>\n",
       "      <th>high_val_cue</th>\n",
       "      <th>ID</th>\n",
       "      <th>condition</th>\n",
       "    </tr>\n",
       "  </thead>\n",
       "  <tbody>\n",
       "    <tr>\n",
       "      <th>0</th>\n",
       "      <td>0.0</td>\n",
       "      <td>1.0</td>\n",
       "      <td>0.0</td>\n",
       "      <td>2.0</td>\n",
       "      <td>601.0</td>\n",
       "      <td>0.713345</td>\n",
       "      <td>2.081675</td>\n",
       "      <td>0.366715</td>\n",
       "      <td>0.0</td>\n",
       "      <td>0.0</td>\n",
       "      <td>112.0</td>\n",
       "      <td>784</td>\n",
       "      <td>lc</td>\n",
       "    </tr>\n",
       "    <tr>\n",
       "      <th>1</th>\n",
       "      <td>1.0</td>\n",
       "      <td>0.0</td>\n",
       "      <td>0.0</td>\n",
       "      <td>0.0</td>\n",
       "      <td>600.0</td>\n",
       "      <td>0.410072</td>\n",
       "      <td>2.149507</td>\n",
       "      <td>0.749229</td>\n",
       "      <td>0.0</td>\n",
       "      <td>0.0</td>\n",
       "      <td>112.0</td>\n",
       "      <td>784</td>\n",
       "      <td>lc</td>\n",
       "    </tr>\n",
       "    <tr>\n",
       "      <th>2</th>\n",
       "      <td>0.0</td>\n",
       "      <td>0.0</td>\n",
       "      <td>1.0</td>\n",
       "      <td>0.0</td>\n",
       "      <td>599.0</td>\n",
       "      <td>0.690292</td>\n",
       "      <td>2.287885</td>\n",
       "      <td>0.603910</td>\n",
       "      <td>0.0</td>\n",
       "      <td>0.0</td>\n",
       "      <td>112.0</td>\n",
       "      <td>784</td>\n",
       "      <td>lc</td>\n",
       "    </tr>\n",
       "    <tr>\n",
       "      <th>3</th>\n",
       "      <td>0.0</td>\n",
       "      <td>0.0</td>\n",
       "      <td>1.0</td>\n",
       "      <td>0.0</td>\n",
       "      <td>598.0</td>\n",
       "      <td>0.498906</td>\n",
       "      <td>1.843990</td>\n",
       "      <td>0.348191</td>\n",
       "      <td>0.0</td>\n",
       "      <td>0.0</td>\n",
       "      <td>112.0</td>\n",
       "      <td>784</td>\n",
       "      <td>lc</td>\n",
       "    </tr>\n",
       "    <tr>\n",
       "      <th>4</th>\n",
       "      <td>0.0</td>\n",
       "      <td>1.0</td>\n",
       "      <td>0.0</td>\n",
       "      <td>2.0</td>\n",
       "      <td>599.0</td>\n",
       "      <td>0.630659</td>\n",
       "      <td>2.245682</td>\n",
       "      <td>0.626968</td>\n",
       "      <td>0.0</td>\n",
       "      <td>0.0</td>\n",
       "      <td>112.0</td>\n",
       "      <td>784</td>\n",
       "      <td>lc</td>\n",
       "    </tr>\n",
       "  </tbody>\n",
       "</table>\n",
       "</div>"
      ],
      "text/plain": [
       "   choice  accuracy  solution  reward  cumulative_reward        rt  \\\n",
       "0     0.0       1.0       0.0     2.0              601.0  0.713345   \n",
       "1     1.0       0.0       0.0     0.0              600.0  0.410072   \n",
       "2     0.0       0.0       1.0     0.0              599.0  0.690292   \n",
       "3     0.0       0.0       1.0     0.0              598.0  0.498906   \n",
       "4     0.0       1.0       0.0     2.0              599.0  0.630659   \n",
       "\n",
       "   total_trial_time       iti  cp_with_slow_fast  obs_cp_with_slow_fast  \\\n",
       "0          2.081675  0.366715                0.0                    0.0   \n",
       "1          2.149507  0.749229                0.0                    0.0   \n",
       "2          2.287885  0.603910                0.0                    0.0   \n",
       "3          1.843990  0.348191                0.0                    0.0   \n",
       "4          2.245682  0.626968                0.0                    0.0   \n",
       "\n",
       "   high_val_cue   ID condition  \n",
       "0         112.0  784        lc  \n",
       "1         112.0  784        lc  \n",
       "2         112.0  784        lc  \n",
       "3         112.0  784        lc  \n",
       "4         112.0  784        lc  "
      ]
     },
     "execution_count": 24,
     "metadata": {},
     "output_type": "execute_result"
    }
   ],
   "source": [
    "data_df[lc].head()"
   ]
  },
  {
   "cell_type": "code",
   "execution_count": 34,
   "metadata": {},
   "outputs": [
    {
     "data": {
      "text/plain": [
       "(Empty DataFrame\n",
       " Columns: [choice, accuracy, solution, reward, cumulative_reward, rt, total_trial_time, iti, cp_with_slow_fast, obs_cp_with_slow_fast, high_val_cue, ID, condition]\n",
       " Index: [], Empty DataFrame\n",
       " Columns: [choice, accuracy, solution, reward, cumulative_reward, rt, total_trial_time, iti, cp_with_slow_fast, obs_cp_with_slow_fast, high_val_cue, ID, condition]\n",
       " Index: [])"
      ]
     },
     "execution_count": 34,
     "metadata": {},
     "output_type": "execute_result"
    }
   ],
   "source": [
    "#clean df \n",
    "#only keep trials with cp or 0 indicators (get rid of fast/slow trials)\n",
    "cleaned_df = data_df[(data_df.cp_with_slow_fast == 1) | (data_df.cp_with_slow_fast == 0)]\n",
    "#should be equal\n",
    "cleaned_df.shape[0] == total_n_clean_trials\n",
    "#should be empty df \n",
    "cleaned_df[cleaned_df.rt > 1], cleaned_df[cleaned_df.rt < .1]"
   ]
  },
  {
   "cell_type": "code",
   "execution_count": 39,
   "metadata": {},
   "outputs": [
    {
     "name": "stdout",
     "output_type": "stream",
     "text": [
      "median rt for lc 0.304419517517\n",
      "median rt for lv 0.301387429237\n",
      "median rt for hc 0.304340004921\n",
      "median rt for hv 0.311047911644\n"
     ]
    }
   ],
   "source": [
    "#median rts \n",
    "print('median rt for lc', np.median(cleaned_df.rt[cleaned_df.condition == 'lc'])) \n",
    "print('median rt for lv', np.median(cleaned_df.rt[cleaned_df.condition == 'lv']) )\n",
    "print('median rt for hc', np.median(cleaned_df.rt[cleaned_df.condition == 'hc'])) \n",
    "print('median rt for hv', np.median(cleaned_df.rt[cleaned_df.condition == 'hv']) )"
   ]
  },
  {
   "cell_type": "code",
   "execution_count": null,
   "metadata": {},
   "outputs": [],
   "source": [
    "#not printing mean accuracies because error in automated acc. calculation. Fixed in preprocess_df. "
   ]
  },
  {
   "cell_type": "code",
   "execution_count": 14,
   "metadata": {},
   "outputs": [],
   "source": [
    "##print clean df \n",
    "# cleaned_df.to_csv(print_data_path + 'cleaned_probC_data.csv', index = False)\n",
    "##print raw df \n",
    "# data_df.to_csv(print_data_path + 'raw_probC_data.csv', index = False)"
   ]
  }
 ],
 "metadata": {
  "kernelspec": {
   "display_name": "Python 3",
   "language": "python",
   "name": "python3"
  },
  "language_info": {
   "codemirror_mode": {
    "name": "ipython",
    "version": 3
   },
   "file_extension": ".py",
   "mimetype": "text/x-python",
   "name": "python",
   "nbconvert_exporter": "python",
   "pygments_lexer": "ipython3",
   "version": "3.5.5"
  }
 },
 "nbformat": 4,
 "nbformat_minor": 2
}
