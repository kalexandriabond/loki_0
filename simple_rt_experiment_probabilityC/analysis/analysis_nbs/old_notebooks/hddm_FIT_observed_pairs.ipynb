{
 "cells": [
  {
   "cell_type": "code",
   "execution_count": 1,
   "metadata": {},
   "outputs": [
    {
     "name": "stderr",
     "output_type": "stream",
     "text": [
      "/Users/Krista/anaconda/envs/hddm/lib/python3.5/site-packages/IPython/parallel.py:13: ShimWarning: The `IPython.parallel` package has been deprecated since IPython 4.0. You should import from ipyparallel instead.\n",
      "  \"You should import from ipyparallel instead.\", ShimWarning)\n"
     ]
    }
   ],
   "source": [
    "import warnings\n",
    "warnings.filterwarnings(\"ignore\", category=DeprecationWarning) \n",
    "\n",
    "import hddm\n",
    "from sys import platform"
   ]
  },
  {
   "cell_type": "code",
   "execution_count": 2,
   "metadata": {},
   "outputs": [
    {
     "name": "stdout",
     "output_type": "stream",
     "text": [
      "0.6.0\n"
     ]
    }
   ],
   "source": [
    "print(hddm.__version__)"
   ]
  },
  {
   "cell_type": "code",
   "execution_count": 6,
   "metadata": {},
   "outputs": [],
   "source": [
    "if platform == 'linux':\n",
    "    home = '/home/krista/'\n",
    "elif platform == 'darwin': \n",
    "    home = '/Users/Krista/'"
   ]
  },
  {
   "cell_type": "code",
   "execution_count": 7,
   "metadata": {},
   "outputs": [
    {
     "name": "stdout",
     "output_type": "stream",
     "text": [
      "Index(['cpp', 'target_B', 'choice_B', 'cp', 'gen_drift', 'gen_bound', 'ID',\n",
      "       'b_t0', 'b_t1', 'r_t1', 'r_t2', 'obs_cp', 'ideal_B', 'B_ideal_target',\n",
      "       'B_nonideal_target', 'LR_choice', 'obs_LR_accuracy', 'obs_LR_solution',\n",
      "       'reward', 'cumulative_reward', 'rt', 'total_trial_time', 'iti',\n",
      "       'cp_with_slow_fast', 'obs_cp_with_slow_fast', 'obs_high_val_cue',\n",
      "       'ID.1', 'condition', 'coded_condition', 'original_trial', 'epoch_n',\n",
      "       'epoch_trial', 'shifted_epoch_trial', 'max_epoch_n',\n",
      "       'epoch_trial_zero_idx', 'epoch_trial_one_idx',\n",
      "       'shifted_epoch_trial_zero_idx', 'repeat_trial', 'prop_112',\n",
      "       'n_epoch_trials', 'p_id_solution', 'obs_low_val_cue', 'id_choice',\n",
      "       'p_id_accuracy'],\n",
      "      dtype='object')\n"
     ]
    }
   ],
   "source": [
    "all_obs_data = hddm.load_csv(home + 'Dropbox/loki_0/simple_rt_experiment_probabilityC/analysis/aggregated_data/combined_learning_sig_obs_data.csv')\n",
    "\n",
    "print(all_obs_data.columns)\n",
    "\n",
    "all_obs_data.loc[all_obs_data.p_id_solution == 111, 'p_id_solution'] = 0\n",
    "all_obs_data.loc[all_obs_data.p_id_solution == 112, 'p_id_solution'] = 1\n",
    "\n",
    "all_obs_data.loc[all_obs_data.id_choice == 111, 'id_choice'] = 0\n",
    "all_obs_data.loc[all_obs_data.id_choice == 112, 'id_choice'] = 1\n",
    "\n",
    "all_obs_data = all_obs_data.rename(index=str, columns={\"id_choice\": \"response\", \n",
    "                                                        \"ID\": \"subj_idx\", \"p_id_solution\": \"stimulus\"})\n",
    "all_obs_data = all_obs_data[['response', 'stimulus', 'rt', 'condition', 'subj_idx', 'ideal_B', 'cpp']] \n",
    "all_obs_data = all_obs_data.rename(index=str, columns={'target_B': 'B'})"
   ]
  },
  {
   "cell_type": "code",
   "execution_count": 8,
   "metadata": {},
   "outputs": [
    {
     "data": {
      "text/html": [
       "<div>\n",
       "<style scoped>\n",
       "    .dataframe tbody tr th:only-of-type {\n",
       "        vertical-align: middle;\n",
       "    }\n",
       "\n",
       "    .dataframe tbody tr th {\n",
       "        vertical-align: top;\n",
       "    }\n",
       "\n",
       "    .dataframe thead th {\n",
       "        text-align: right;\n",
       "    }\n",
       "</style>\n",
       "<table border=\"1\" class=\"dataframe\">\n",
       "  <thead>\n",
       "    <tr style=\"text-align: right;\">\n",
       "      <th></th>\n",
       "      <th>response</th>\n",
       "      <th>stimulus</th>\n",
       "      <th>rt</th>\n",
       "      <th>condition</th>\n",
       "      <th>subj_idx</th>\n",
       "      <th>ideal_B</th>\n",
       "      <th>cpp</th>\n",
       "    </tr>\n",
       "  </thead>\n",
       "  <tbody>\n",
       "    <tr>\n",
       "      <th>0</th>\n",
       "      <td>0</td>\n",
       "      <td>0</td>\n",
       "      <td>0.711570</td>\n",
       "      <td>hc</td>\n",
       "      <td>761</td>\n",
       "      <td>0.000000</td>\n",
       "      <td>0.099471</td>\n",
       "    </tr>\n",
       "    <tr>\n",
       "      <th>1</th>\n",
       "      <td>1</td>\n",
       "      <td>0</td>\n",
       "      <td>0.681410</td>\n",
       "      <td>hc</td>\n",
       "      <td>761</td>\n",
       "      <td>-1.241007</td>\n",
       "      <td>0.035079</td>\n",
       "    </tr>\n",
       "    <tr>\n",
       "      <th>2</th>\n",
       "      <td>0</td>\n",
       "      <td>0</td>\n",
       "      <td>0.767118</td>\n",
       "      <td>hc</td>\n",
       "      <td>761</td>\n",
       "      <td>-0.595781</td>\n",
       "      <td>0.023075</td>\n",
       "    </tr>\n",
       "    <tr>\n",
       "      <th>3</th>\n",
       "      <td>1</td>\n",
       "      <td>0</td>\n",
       "      <td>0.507209</td>\n",
       "      <td>hc</td>\n",
       "      <td>761</td>\n",
       "      <td>-0.306135</td>\n",
       "      <td>0.019881</td>\n",
       "    </tr>\n",
       "    <tr>\n",
       "      <th>4</th>\n",
       "      <td>0</td>\n",
       "      <td>0</td>\n",
       "      <td>0.656259</td>\n",
       "      <td>hc</td>\n",
       "      <td>761</td>\n",
       "      <td>-0.139394</td>\n",
       "      <td>0.018539</td>\n",
       "    </tr>\n",
       "  </tbody>\n",
       "</table>\n",
       "</div>"
      ],
      "text/plain": [
       "   response  stimulus        rt condition  subj_idx   ideal_B       cpp\n",
       "0         0         0  0.711570        hc       761  0.000000  0.099471\n",
       "1         1         0  0.681410        hc       761 -1.241007  0.035079\n",
       "2         0         0  0.767118        hc       761 -0.595781  0.023075\n",
       "3         1         0  0.507209        hc       761 -0.306135  0.019881\n",
       "4         0         0  0.656259        hc       761 -0.139394  0.018539"
      ]
     },
     "execution_count": 8,
     "metadata": {},
     "output_type": "execute_result"
    }
   ],
   "source": [
    "all_obs_data.head()"
   ]
  },
  {
   "cell_type": "code",
   "execution_count": 104,
   "metadata": {},
   "outputs": [
    {
     "name": "stdout",
     "output_type": "stream",
     "text": [
      "[({'a': 'condition'}, {'t': 'condition'}), ({'a': 'condition'}, {'v': 'condition'}), ({'a': 'condition'}, {'z': 'condition'}), ({'t': 'condition'}, {'v': 'condition'}), ({'t': 'condition'}, {'z': 'condition'}), ({'v': 'condition'}, {'z': 'condition'})]\n",
      "6\n",
      "[({'a': 'condition'}, {'t': 'condition'}, {'v': 'condition'}), ({'a': 'condition'}, {'t': 'condition'}, {'z': 'condition'}), ({'a': 'condition'}, {'v': 'condition'}, {'z': 'condition'}), ({'t': 'condition'}, {'v': 'condition'}, {'z': 'condition'})]\n",
      "4\n"
     ]
    }
   ],
   "source": [
    "#get all combinations of a,t,v,z \n",
    "from itertools import combinations\n",
    "\n",
    "targets = [{'a':'condition'}, {'t':'condition'}, {'v':'condition'}, {'z':'condition'}]\n",
    "param_pairs = list(combinations(targets, 2))\n",
    "param_triples = list(combinations(targets, 3))\n",
    "print(param_pairs)\n",
    "print(len(param_pairs))\n",
    "print(param_triples)\n",
    "print(len(param_triples))"
   ]
  },
  {
   "cell_type": "code",
   "execution_count": 105,
   "metadata": {},
   "outputs": [],
   "source": [
    "model_dict = {'a_t': param_pairs[0], 'a_v': param_pairs[1],\n",
    "'a_z': param_pairs[2], 't_v': param_pairs[3], \n",
    "'t_z': param_pairs[4], 'v_z': param_pairs[5], 'a': targets[0], 't': targets[1],\n",
    "             'v': targets[2], 'z': targets[3]}"
   ]
  },
  {
   "cell_type": "code",
   "execution_count": 106,
   "metadata": {},
   "outputs": [],
   "source": [
    "n_samples, n_burn = 3000, 500"
   ]
  },
  {
   "cell_type": "markdown",
   "metadata": {},
   "source": [
    "## Flat model"
   ]
  },
  {
   "cell_type": "code",
   "execution_count": 139,
   "metadata": {},
   "outputs": [
    {
     "name": "stderr",
     "output_type": "stream",
     "text": [
      "/home/krista/anaconda3/envs/hddm/lib/python3.5/site-packages/scipy/optimize/optimize.py:1927: RuntimeWarning: invalid value encountered in double_scalars\n",
      "  tmp2 = (x - v) * (fx - fw)\n"
     ]
    },
    {
     "name": "stdout",
     "output_type": "stream",
     "text": [
      " [-----------------100%-----------------] 3001 of 3000 complete in 1090.8 sec"
     ]
    },
    {
     "data": {
      "text/plain": [
       "<pymc.MCMC.MCMC at 0x7fead541da58>"
      ]
     },
     "execution_count": 139,
     "metadata": {},
     "output_type": "execute_result"
    }
   ],
   "source": [
    "flat_m=hddm.HDDMStimCoding(all_obs_data, p_outlier=0.05, bias=True, stim_col='stimulus', split_param='v')\n",
    "flat_m.find_starting_values()\n",
    "flat_m.sample(n_samples, burn=n_burn)"
   ]
  },
  {
   "cell_type": "code",
   "execution_count": 108,
   "metadata": {},
   "outputs": [
    {
     "name": "stderr",
     "output_type": "stream",
     "text": [
      "/home/krista/anaconda3/envs/hddm/lib/python3.5/site-packages/matplotlib/axes/_axes.py:6462: UserWarning: The 'normed' kwarg is deprecated, and has been replaced by the 'density' kwarg.\n",
      "  warnings.warn(\"The 'normed' kwarg is deprecated, and has been \"\n",
      "/home/krista/anaconda3/envs/hddm/lib/python3.5/site-packages/matplotlib/axes/_axes.py:6462: UserWarning: The 'normed' kwarg is deprecated, and has been replaced by the 'density' kwarg.\n",
      "  warnings.warn(\"The 'normed' kwarg is deprecated, and has been \"\n",
      "/home/krista/anaconda3/envs/hddm/lib/python3.5/site-packages/matplotlib/axes/_axes.py:6462: UserWarning: The 'normed' kwarg is deprecated, and has been replaced by the 'density' kwarg.\n",
      "  warnings.warn(\"The 'normed' kwarg is deprecated, and has been \"\n",
      "/home/krista/anaconda3/envs/hddm/lib/python3.5/site-packages/matplotlib/axes/_axes.py:6462: UserWarning: The 'normed' kwarg is deprecated, and has been replaced by the 'density' kwarg.\n",
      "  warnings.warn(\"The 'normed' kwarg is deprecated, and has been \"\n",
      "/home/krista/anaconda3/envs/hddm/lib/python3.5/site-packages/matplotlib/axes/_axes.py:6462: UserWarning: The 'normed' kwarg is deprecated, and has been replaced by the 'density' kwarg.\n",
      "  warnings.warn(\"The 'normed' kwarg is deprecated, and has been \"\n",
      "/home/krista/anaconda3/envs/hddm/lib/python3.5/site-packages/matplotlib/axes/_axes.py:6462: UserWarning: The 'normed' kwarg is deprecated, and has been replaced by the 'density' kwarg.\n",
      "  warnings.warn(\"The 'normed' kwarg is deprecated, and has been \"\n",
      "/home/krista/anaconda3/envs/hddm/lib/python3.5/site-packages/matplotlib/axes/_axes.py:6462: UserWarning: The 'normed' kwarg is deprecated, and has been replaced by the 'density' kwarg.\n",
      "  warnings.warn(\"The 'normed' kwarg is deprecated, and has been \"\n",
      "/home/krista/anaconda3/envs/hddm/lib/python3.5/site-packages/matplotlib/axes/_axes.py:6462: UserWarning: The 'normed' kwarg is deprecated, and has been replaced by the 'density' kwarg.\n",
      "  warnings.warn(\"The 'normed' kwarg is deprecated, and has been \"\n",
      "/home/krista/anaconda3/envs/hddm/lib/python3.5/site-packages/matplotlib/axes/_axes.py:6462: UserWarning: The 'normed' kwarg is deprecated, and has been replaced by the 'density' kwarg.\n",
      "  warnings.warn(\"The 'normed' kwarg is deprecated, and has been \"\n",
      "/home/krista/anaconda3/envs/hddm/lib/python3.5/site-packages/matplotlib/axes/_axes.py:6462: UserWarning: The 'normed' kwarg is deprecated, and has been replaced by the 'density' kwarg.\n",
      "  warnings.warn(\"The 'normed' kwarg is deprecated, and has been \"\n",
      "/home/krista/anaconda3/envs/hddm/lib/python3.5/site-packages/matplotlib/axes/_axes.py:6462: UserWarning: The 'normed' kwarg is deprecated, and has been replaced by the 'density' kwarg.\n",
      "  warnings.warn(\"The 'normed' kwarg is deprecated, and has been \"\n",
      "/home/krista/anaconda3/envs/hddm/lib/python3.5/site-packages/matplotlib/axes/_axes.py:6462: UserWarning: The 'normed' kwarg is deprecated, and has been replaced by the 'density' kwarg.\n",
      "  warnings.warn(\"The 'normed' kwarg is deprecated, and has been \"\n",
      "/home/krista/anaconda3/envs/hddm/lib/python3.5/site-packages/matplotlib/axes/_axes.py:6462: UserWarning: The 'normed' kwarg is deprecated, and has been replaced by the 'density' kwarg.\n",
      "  warnings.warn(\"The 'normed' kwarg is deprecated, and has been \"\n",
      "/home/krista/anaconda3/envs/hddm/lib/python3.5/site-packages/matplotlib/axes/_axes.py:6462: UserWarning: The 'normed' kwarg is deprecated, and has been replaced by the 'density' kwarg.\n",
      "  warnings.warn(\"The 'normed' kwarg is deprecated, and has been \"\n",
      "/home/krista/anaconda3/envs/hddm/lib/python3.5/site-packages/matplotlib/axes/_axes.py:6462: UserWarning: The 'normed' kwarg is deprecated, and has been replaced by the 'density' kwarg.\n",
      "  warnings.warn(\"The 'normed' kwarg is deprecated, and has been \"\n",
      "/home/krista/anaconda3/envs/hddm/lib/python3.5/site-packages/matplotlib/axes/_axes.py:6462: UserWarning: The 'normed' kwarg is deprecated, and has been replaced by the 'density' kwarg.\n",
      "  warnings.warn(\"The 'normed' kwarg is deprecated, and has been \"\n",
      "/home/krista/anaconda3/envs/hddm/lib/python3.5/site-packages/matplotlib/axes/_axes.py:6462: UserWarning: The 'normed' kwarg is deprecated, and has been replaced by the 'density' kwarg.\n",
      "  warnings.warn(\"The 'normed' kwarg is deprecated, and has been \"\n",
      "/home/krista/anaconda3/envs/hddm/lib/python3.5/site-packages/matplotlib/axes/_axes.py:6462: UserWarning: The 'normed' kwarg is deprecated, and has been replaced by the 'density' kwarg.\n",
      "  warnings.warn(\"The 'normed' kwarg is deprecated, and has been \"\n",
      "/home/krista/anaconda3/envs/hddm/lib/python3.5/site-packages/matplotlib/axes/_axes.py:6462: UserWarning: The 'normed' kwarg is deprecated, and has been replaced by the 'density' kwarg.\n",
      "  warnings.warn(\"The 'normed' kwarg is deprecated, and has been \"\n",
      "/home/krista/anaconda3/envs/hddm/lib/python3.5/site-packages/matplotlib/axes/_axes.py:6462: UserWarning: The 'normed' kwarg is deprecated, and has been replaced by the 'density' kwarg.\n",
      "  warnings.warn(\"The 'normed' kwarg is deprecated, and has been \"\n",
      "/home/krista/anaconda3/envs/hddm/lib/python3.5/site-packages/matplotlib/axes/_axes.py:6462: UserWarning: The 'normed' kwarg is deprecated, and has been replaced by the 'density' kwarg.\n",
      "  warnings.warn(\"The 'normed' kwarg is deprecated, and has been \"\n",
      "/home/krista/anaconda3/envs/hddm/lib/python3.5/site-packages/matplotlib/axes/_axes.py:6462: UserWarning: The 'normed' kwarg is deprecated, and has been replaced by the 'density' kwarg.\n",
      "  warnings.warn(\"The 'normed' kwarg is deprecated, and has been \"\n",
      "/home/krista/anaconda3/envs/hddm/lib/python3.5/site-packages/matplotlib/axes/_axes.py:6462: UserWarning: The 'normed' kwarg is deprecated, and has been replaced by the 'density' kwarg.\n",
      "  warnings.warn(\"The 'normed' kwarg is deprecated, and has been \"\n",
      "/home/krista/anaconda3/envs/hddm/lib/python3.5/site-packages/matplotlib/axes/_axes.py:6462: UserWarning: The 'normed' kwarg is deprecated, and has been replaced by the 'density' kwarg.\n",
      "  warnings.warn(\"The 'normed' kwarg is deprecated, and has been \"\n",
      "/home/krista/anaconda3/envs/hddm/lib/python3.5/site-packages/matplotlib/axes/_axes.py:6462: UserWarning: The 'normed' kwarg is deprecated, and has been replaced by the 'density' kwarg.\n",
      "  warnings.warn(\"The 'normed' kwarg is deprecated, and has been \"\n",
      "/home/krista/anaconda3/envs/hddm/lib/python3.5/site-packages/matplotlib/axes/_axes.py:6462: UserWarning: The 'normed' kwarg is deprecated, and has been replaced by the 'density' kwarg.\n",
      "  warnings.warn(\"The 'normed' kwarg is deprecated, and has been \"\n",
      "/home/krista/anaconda3/envs/hddm/lib/python3.5/site-packages/matplotlib/axes/_axes.py:6462: UserWarning: The 'normed' kwarg is deprecated, and has been replaced by the 'density' kwarg.\n",
      "  warnings.warn(\"The 'normed' kwarg is deprecated, and has been \"\n",
      "/home/krista/anaconda3/envs/hddm/lib/python3.5/site-packages/matplotlib/axes/_axes.py:6462: UserWarning: The 'normed' kwarg is deprecated, and has been replaced by the 'density' kwarg.\n",
      "  warnings.warn(\"The 'normed' kwarg is deprecated, and has been \"\n",
      "/home/krista/anaconda3/envs/hddm/lib/python3.5/site-packages/matplotlib/axes/_axes.py:6462: UserWarning: The 'normed' kwarg is deprecated, and has been replaced by the 'density' kwarg.\n",
      "  warnings.warn(\"The 'normed' kwarg is deprecated, and has been \"\n",
      "/home/krista/anaconda3/envs/hddm/lib/python3.5/site-packages/matplotlib/axes/_axes.py:6462: UserWarning: The 'normed' kwarg is deprecated, and has been replaced by the 'density' kwarg.\n",
      "  warnings.warn(\"The 'normed' kwarg is deprecated, and has been \"\n",
      "/home/krista/anaconda3/envs/hddm/lib/python3.5/site-packages/matplotlib/axes/_axes.py:6462: UserWarning: The 'normed' kwarg is deprecated, and has been replaced by the 'density' kwarg.\n",
      "  warnings.warn(\"The 'normed' kwarg is deprecated, and has been \"\n",
      "/home/krista/anaconda3/envs/hddm/lib/python3.5/site-packages/matplotlib/axes/_axes.py:6462: UserWarning: The 'normed' kwarg is deprecated, and has been replaced by the 'density' kwarg.\n",
      "  warnings.warn(\"The 'normed' kwarg is deprecated, and has been \"\n",
      "/home/krista/anaconda3/envs/hddm/lib/python3.5/site-packages/matplotlib/axes/_axes.py:6462: UserWarning: The 'normed' kwarg is deprecated, and has been replaced by the 'density' kwarg.\n",
      "  warnings.warn(\"The 'normed' kwarg is deprecated, and has been \"\n",
      "/home/krista/anaconda3/envs/hddm/lib/python3.5/site-packages/matplotlib/axes/_axes.py:6462: UserWarning: The 'normed' kwarg is deprecated, and has been replaced by the 'density' kwarg.\n",
      "  warnings.warn(\"The 'normed' kwarg is deprecated, and has been \"\n",
      "/home/krista/anaconda3/envs/hddm/lib/python3.5/site-packages/matplotlib/axes/_axes.py:6462: UserWarning: The 'normed' kwarg is deprecated, and has been replaced by the 'density' kwarg.\n",
      "  warnings.warn(\"The 'normed' kwarg is deprecated, and has been \"\n",
      "/home/krista/anaconda3/envs/hddm/lib/python3.5/site-packages/matplotlib/axes/_axes.py:6462: UserWarning: The 'normed' kwarg is deprecated, and has been replaced by the 'density' kwarg.\n",
      "  warnings.warn(\"The 'normed' kwarg is deprecated, and has been \"\n",
      "/home/krista/anaconda3/envs/hddm/lib/python3.5/site-packages/matplotlib/axes/_axes.py:6462: UserWarning: The 'normed' kwarg is deprecated, and has been replaced by the 'density' kwarg.\n",
      "  warnings.warn(\"The 'normed' kwarg is deprecated, and has been \"\n",
      "/home/krista/anaconda3/envs/hddm/lib/python3.5/site-packages/matplotlib/axes/_axes.py:6462: UserWarning: The 'normed' kwarg is deprecated, and has been replaced by the 'density' kwarg.\n",
      "  warnings.warn(\"The 'normed' kwarg is deprecated, and has been \"\n",
      "/home/krista/anaconda3/envs/hddm/lib/python3.5/site-packages/matplotlib/axes/_axes.py:6462: UserWarning: The 'normed' kwarg is deprecated, and has been replaced by the 'density' kwarg.\n",
      "  warnings.warn(\"The 'normed' kwarg is deprecated, and has been \"\n",
      "/home/krista/anaconda3/envs/hddm/lib/python3.5/site-packages/matplotlib/axes/_axes.py:6462: UserWarning: The 'normed' kwarg is deprecated, and has been replaced by the 'density' kwarg.\n",
      "  warnings.warn(\"The 'normed' kwarg is deprecated, and has been \"\n",
      "/home/krista/anaconda3/envs/hddm/lib/python3.5/site-packages/matplotlib/axes/_axes.py:6462: UserWarning: The 'normed' kwarg is deprecated, and has been replaced by the 'density' kwarg.\n",
      "  warnings.warn(\"The 'normed' kwarg is deprecated, and has been \"\n"
     ]
    },
    {
     "name": "stderr",
     "output_type": "stream",
     "text": [
      "/home/krista/anaconda3/envs/hddm/lib/python3.5/site-packages/matplotlib/axes/_axes.py:6462: UserWarning: The 'normed' kwarg is deprecated, and has been replaced by the 'density' kwarg.\n",
      "  warnings.warn(\"The 'normed' kwarg is deprecated, and has been \"\n",
      "/home/krista/anaconda3/envs/hddm/lib/python3.5/site-packages/matplotlib/axes/_axes.py:6462: UserWarning: The 'normed' kwarg is deprecated, and has been replaced by the 'density' kwarg.\n",
      "  warnings.warn(\"The 'normed' kwarg is deprecated, and has been \"\n",
      "/home/krista/anaconda3/envs/hddm/lib/python3.5/site-packages/matplotlib/axes/_axes.py:6462: UserWarning: The 'normed' kwarg is deprecated, and has been replaced by the 'density' kwarg.\n",
      "  warnings.warn(\"The 'normed' kwarg is deprecated, and has been \"\n",
      "/home/krista/anaconda3/envs/hddm/lib/python3.5/site-packages/matplotlib/axes/_axes.py:6462: UserWarning: The 'normed' kwarg is deprecated, and has been replaced by the 'density' kwarg.\n",
      "  warnings.warn(\"The 'normed' kwarg is deprecated, and has been \"\n",
      "/home/krista/anaconda3/envs/hddm/lib/python3.5/site-packages/matplotlib/axes/_axes.py:6462: UserWarning: The 'normed' kwarg is deprecated, and has been replaced by the 'density' kwarg.\n",
      "  warnings.warn(\"The 'normed' kwarg is deprecated, and has been \"\n",
      "/home/krista/anaconda3/envs/hddm/lib/python3.5/site-packages/matplotlib/axes/_axes.py:6462: UserWarning: The 'normed' kwarg is deprecated, and has been replaced by the 'density' kwarg.\n",
      "  warnings.warn(\"The 'normed' kwarg is deprecated, and has been \"\n",
      "/home/krista/anaconda3/envs/hddm/lib/python3.5/site-packages/matplotlib/axes/_axes.py:6462: UserWarning: The 'normed' kwarg is deprecated, and has been replaced by the 'density' kwarg.\n",
      "  warnings.warn(\"The 'normed' kwarg is deprecated, and has been \"\n"
     ]
    },
    {
     "data": {
      "image/png": "[encoded data removed]",
      "text/plain": [
       "<Figure size 576x432 with 24 Axes>"
      ]
     },
     "metadata": {},
     "output_type": "display_data"
    },
    {
     "data": {
      "image/png": "[encoded data removed]",
      "text/plain": [
       "<Figure size 576x432 with 24 Axes>"
      ]
     },
     "metadata": {},
     "output_type": "display_data"
    }
   ],
   "source": [
    "flat_m.plot_posterior_predictive()"
   ]
  },
  {
   "cell_type": "code",
   "execution_count": null,
   "metadata": {},
   "outputs": [],
   "source": [
    "all_m=hddm.HDDMStimCoding(all_obs_data, p_outlier=0.05,  stim_col='stimulus', split_param='v', depends_on={'a': 'condition', 't': 'condition', 'v': 'condition', 'z': 'condition'}, bias=True)\n",
    "all_m.find_starting_values()\n",
    "all_m.sample(n_samples, burn=n_burn)"
   ]
  },
  {
   "cell_type": "markdown",
   "metadata": {},
   "source": [
    "## All pairs."
   ]
  },
  {
   "cell_type": "code",
   "execution_count": 109,
   "metadata": {},
   "outputs": [
    {
     "name": "stderr",
     "output_type": "stream",
     "text": [
      "/home/krista/anaconda3/envs/hddm/lib/python3.5/site-packages/scipy/optimize/optimize.py:1927: RuntimeWarning: invalid value encountered in double_scalars\n",
      "  tmp2 = (x - v) * (fx - fw)\n"
     ]
    },
    {
     "name": "stdout",
     "output_type": "stream",
     "text": [
      " [-----------------100%-----------------] 3000 of 3000 complete in 1285.2 sec"
     ]
    },
    {
     "data": {
      "text/plain": [
       "<pymc.MCMC.MCMC at 0x7feadccc6e80>"
      ]
     },
     "execution_count": 109,
     "metadata": {},
     "output_type": "execute_result"
    }
   ],
   "source": [
    "a_t_m=hddm.HDDMStimCoding(all_obs_data, p_outlier=0.05,  stim_col='stimulus', split_param='v', depends_on={'a': 'condition', 't': 'condition'}, bias=True)\n",
    "a_t_m.find_starting_values()\n",
    "a_t_m.sample(n_samples, burn=n_burn)"
   ]
  },
  {
   "cell_type": "code",
   "execution_count": 110,
   "metadata": {},
   "outputs": [
    {
     "name": "stderr",
     "output_type": "stream",
     "text": [
      "/home/krista/anaconda3/envs/hddm/lib/python3.5/site-packages/scipy/optimize/optimize.py:1927: RuntimeWarning: invalid value encountered in double_scalars\n",
      "  tmp2 = (x - v) * (fx - fw)\n"
     ]
    },
    {
     "name": "stdout",
     "output_type": "stream",
     "text": [
      " [-----------------100%-----------------] 3000 of 3000 complete in 1260.1 sec"
     ]
    },
    {
     "data": {
      "text/plain": [
       "<pymc.MCMC.MCMC at 0x7feae1949b70>"
      ]
     },
     "execution_count": 110,
     "metadata": {},
     "output_type": "execute_result"
    }
   ],
   "source": [
    "a_v_m=hddm.HDDMStimCoding(all_obs_data, p_outlier=0.05, stim_col='stimulus', split_param='v', depends_on={'a': 'condition', 'v': 'condition'}, bias=True)\n",
    "a_v_m.find_starting_values()\n",
    "a_v_m.sample(n_samples, burn=n_burn)"
   ]
  },
  {
   "cell_type": "code",
   "execution_count": 111,
   "metadata": {},
   "outputs": [
    {
     "name": "stderr",
     "output_type": "stream",
     "text": [
      "/home/krista/anaconda3/envs/hddm/lib/python3.5/site-packages/scipy/optimize/optimize.py:1927: RuntimeWarning: invalid value encountered in double_scalars\n",
      "  tmp2 = (x - v) * (fx - fw)\n"
     ]
    },
    {
     "name": "stdout",
     "output_type": "stream",
     "text": [
      " [-----------------100%-----------------] 3001 of 3000 complete in 1316.7 sec"
     ]
    },
    {
     "data": {
      "text/plain": [
       "<pymc.MCMC.MCMC at 0x7feadc6d7fd0>"
      ]
     },
     "execution_count": 111,
     "metadata": {},
     "output_type": "execute_result"
    }
   ],
   "source": [
    "a_z_m=hddm.HDDMStimCoding(all_obs_data,p_outlier=0.05, stim_col='stimulus', split_param='v', depends_on={'a': 'condition', 'z': 'condition'}, bias=True)\n",
    "a_z_m.find_starting_values()\n",
    "a_z_m.sample(n_samples, burn=n_burn)"
   ]
  },
  {
   "cell_type": "code",
   "execution_count": 112,
   "metadata": {},
   "outputs": [
    {
     "name": "stderr",
     "output_type": "stream",
     "text": [
      "/home/krista/anaconda3/envs/hddm/lib/python3.5/site-packages/scipy/optimize/optimize.py:1927: RuntimeWarning: invalid value encountered in double_scalars\n",
      "  tmp2 = (x - v) * (fx - fw)\n"
     ]
    },
    {
     "name": "stdout",
     "output_type": "stream",
     "text": [
      " [-----------------100%-----------------] 3001 of 3000 complete in 1440.3 sec"
     ]
    },
    {
     "data": {
      "text/plain": [
       "<pymc.MCMC.MCMC at 0x7feadba6e5f8>"
      ]
     },
     "execution_count": 112,
     "metadata": {},
     "output_type": "execute_result"
    }
   ],
   "source": [
    "#fit hddm model according to above \n",
    "t_v_m=hddm.HDDMStimCoding(all_obs_data,p_outlier=0.05, stim_col='stimulus', split_param='v', depends_on={'t': 'condition', 'v': 'condition'}, bias=True)\n",
    "t_v_m.find_starting_values()\n",
    "t_v_m.sample(n_samples, burn=n_burn)"
   ]
  },
  {
   "cell_type": "code",
   "execution_count": 113,
   "metadata": {},
   "outputs": [
    {
     "name": "stderr",
     "output_type": "stream",
     "text": [
      "/home/krista/anaconda3/envs/hddm/lib/python3.5/site-packages/scipy/optimize/optimize.py:1927: RuntimeWarning: invalid value encountered in double_scalars\n",
      "  tmp2 = (x - v) * (fx - fw)\n"
     ]
    },
    {
     "name": "stdout",
     "output_type": "stream",
     "text": [
      " [-----------------100%-----------------] 3001 of 3000 complete in 1577.7 sec"
     ]
    },
    {
     "data": {
      "text/plain": [
       "<pymc.MCMC.MCMC at 0x7feadb2a9198>"
      ]
     },
     "execution_count": 113,
     "metadata": {},
     "output_type": "execute_result"
    }
   ],
   "source": [
    "#fit hddm model according to above \n",
    "t_z_m=hddm.HDDMStimCoding(all_obs_data, p_outlier=0.05, stim_col='stimulus', split_param='v',depends_on={'t': 'condition', 'z': 'condition'}, bias=True)\n",
    "t_z_m.find_starting_values()\n",
    "t_z_m.sample(n_samples, burn=n_burn)"
   ]
  },
  {
   "cell_type": "code",
   "execution_count": 114,
   "metadata": {},
   "outputs": [
    {
     "name": "stderr",
     "output_type": "stream",
     "text": [
      "/home/krista/anaconda3/envs/hddm/lib/python3.5/site-packages/scipy/optimize/optimize.py:1927: RuntimeWarning: invalid value encountered in double_scalars\n",
      "  tmp2 = (x - v) * (fx - fw)\n"
     ]
    },
    {
     "name": "stdout",
     "output_type": "stream",
     "text": [
      " [-----------------100%-----------------] 3001 of 3000 complete in 1533.6 sec"
     ]
    },
    {
     "data": {
      "text/plain": [
       "<pymc.MCMC.MCMC at 0x7feada797c88>"
      ]
     },
     "execution_count": 114,
     "metadata": {},
     "output_type": "execute_result"
    }
   ],
   "source": [
    "#fit hddm model according to above \n",
    "v_z_m=hddm.HDDMStimCoding(all_obs_data, p_outlier=0.05, stim_col='stimulus', split_param='v',depends_on={'v': 'condition', 'z': 'condition'}, bias=True)\n",
    "v_z_m.find_starting_values()\n",
    "v_z_m.sample(n_samples, burn=n_burn)"
   ]
  },
  {
   "cell_type": "markdown",
   "metadata": {},
   "source": [
    "## All single parameters. "
   ]
  },
  {
   "cell_type": "code",
   "execution_count": 115,
   "metadata": {},
   "outputs": [
    {
     "name": "stderr",
     "output_type": "stream",
     "text": [
      "/home/krista/anaconda3/envs/hddm/lib/python3.5/site-packages/scipy/optimize/optimize.py:1927: RuntimeWarning: invalid value encountered in double_scalars\n",
      "  tmp2 = (x - v) * (fx - fw)\n"
     ]
    },
    {
     "name": "stdout",
     "output_type": "stream",
     "text": [
      " [-----------------100%-----------------] 3001 of 3000 complete in 1508.7 sec"
     ]
    },
    {
     "data": {
      "text/plain": [
       "<pymc.MCMC.MCMC at 0x7feadfee4f28>"
      ]
     },
     "execution_count": 115,
     "metadata": {},
     "output_type": "execute_result"
    }
   ],
   "source": [
    "a_m=hddm.HDDMStimCoding(all_obs_data,p_outlier=0.05, stim_col='stimulus', split_param='v', depends_on={'a': 'condition'}, bias=True)\n",
    "a_m.find_starting_values()\n",
    "a_m.sample(n_samples, burn=n_burn)"
   ]
  },
  {
   "cell_type": "code",
   "execution_count": 116,
   "metadata": {},
   "outputs": [
    {
     "name": "stderr",
     "output_type": "stream",
     "text": [
      "/home/krista/anaconda3/envs/hddm/lib/python3.5/site-packages/scipy/optimize/optimize.py:1927: RuntimeWarning: invalid value encountered in double_scalars\n",
      "  tmp2 = (x - v) * (fx - fw)\n"
     ]
    },
    {
     "name": "stdout",
     "output_type": "stream",
     "text": [
      " [-----------------100%-----------------] 3001 of 3000 complete in 1506.9 sec"
     ]
    },
    {
     "data": {
      "text/plain": [
       "<pymc.MCMC.MCMC at 0x7feae146eeb8>"
      ]
     },
     "execution_count": 116,
     "metadata": {},
     "output_type": "execute_result"
    }
   ],
   "source": [
    "t_m=hddm.HDDMStimCoding(all_obs_data, p_outlier=0.05, stim_col='stimulus', split_param='v',depends_on={'t': 'condition'}, bias=True)\n",
    "t_m.find_starting_values()\n",
    "t_m.sample(n_samples, burn=n_burn)"
   ]
  },
  {
   "cell_type": "code",
   "execution_count": 117,
   "metadata": {},
   "outputs": [
    {
     "name": "stderr",
     "output_type": "stream",
     "text": [
      "/home/krista/anaconda3/envs/hddm/lib/python3.5/site-packages/scipy/optimize/optimize.py:1927: RuntimeWarning: invalid value encountered in double_scalars\n",
      "  tmp2 = (x - v) * (fx - fw)\n"
     ]
    },
    {
     "name": "stdout",
     "output_type": "stream",
     "text": [
      " [-----------------100%-----------------] 3001 of 3000 complete in 1445.1 sec"
     ]
    },
    {
     "data": {
      "text/plain": [
       "<pymc.MCMC.MCMC at 0x7fead306f048>"
      ]
     },
     "execution_count": 117,
     "metadata": {},
     "output_type": "execute_result"
    }
   ],
   "source": [
    "v_m=hddm.HDDMStimCoding(all_obs_data, p_outlier=0.05, stim_col='stimulus', split_param='v',depends_on={'v': 'condition'}, bias=True)\n",
    "v_m.find_starting_values()\n",
    "v_m.sample(n_samples, burn=n_burn)"
   ]
  },
  {
   "cell_type": "code",
   "execution_count": 118,
   "metadata": {},
   "outputs": [
    {
     "name": "stderr",
     "output_type": "stream",
     "text": [
      "/home/krista/anaconda3/envs/hddm/lib/python3.5/site-packages/scipy/optimize/optimize.py:1927: RuntimeWarning: invalid value encountered in double_scalars\n",
      "  tmp2 = (x - v) * (fx - fw)\n"
     ]
    },
    {
     "name": "stdout",
     "output_type": "stream",
     "text": [
      " [-----------------100%-----------------] 3000 of 3000 complete in 1505.9 sec"
     ]
    },
    {
     "data": {
      "text/plain": [
       "<pymc.MCMC.MCMC at 0x7feadf127cf8>"
      ]
     },
     "execution_count": 118,
     "metadata": {},
     "output_type": "execute_result"
    }
   ],
   "source": [
    "z_m=hddm.HDDMStimCoding(all_obs_data,p_outlier=0.05, stim_col='stimulus', split_param='v', depends_on={'z': 'condition'}, bias=True)\n",
    "z_m.find_starting_values()\n",
    "z_m.sample(n_samples, burn=n_burn)"
   ]
  },
  {
   "cell_type": "markdown",
   "metadata": {},
   "source": [
    "# Parameter triples "
   ]
  },
  {
   "cell_type": "code",
   "execution_count": 119,
   "metadata": {},
   "outputs": [
    {
     "data": {
      "text/plain": [
       "[({'a': 'condition'}, {'t': 'condition'}, {'v': 'condition'}),\n",
       " ({'a': 'condition'}, {'t': 'condition'}, {'z': 'condition'}),\n",
       " ({'a': 'condition'}, {'v': 'condition'}, {'z': 'condition'}),\n",
       " ({'t': 'condition'}, {'v': 'condition'}, {'z': 'condition'})]"
      ]
     },
     "execution_count": 119,
     "metadata": {},
     "output_type": "execute_result"
    }
   ],
   "source": [
    "param_triples"
   ]
  },
  {
   "cell_type": "code",
   "execution_count": 120,
   "metadata": {},
   "outputs": [
    {
     "name": "stderr",
     "output_type": "stream",
     "text": [
      "/home/krista/anaconda3/envs/hddm/lib/python3.5/site-packages/scipy/optimize/optimize.py:1927: RuntimeWarning: invalid value encountered in double_scalars\n",
      "  tmp2 = (x - v) * (fx - fw)\n"
     ]
    },
    {
     "name": "stdout",
     "output_type": "stream",
     "text": [
      " [-----------------100%-----------------] 3000 of 3000 complete in 1380.1 sec"
     ]
    },
    {
     "data": {
      "text/plain": [
       "<pymc.MCMC.MCMC at 0x7feae01737b8>"
      ]
     },
     "execution_count": 120,
     "metadata": {},
     "output_type": "execute_result"
    }
   ],
   "source": [
    "atv_m=hddm.HDDMStimCoding(all_obs_data, p_outlier=0.05, stim_col='stimulus', split_param='v',depends_on={'a': 'condition','t':'condition', \n",
    "                                                                                      'v': 'condition'}, bias=True)\n",
    "atv_m.find_starting_values()\n",
    "atv_m.sample(n_samples, burn=n_burn)"
   ]
  },
  {
   "cell_type": "code",
   "execution_count": 121,
   "metadata": {},
   "outputs": [
    {
     "name": "stderr",
     "output_type": "stream",
     "text": [
      "/home/krista/anaconda3/envs/hddm/lib/python3.5/site-packages/scipy/optimize/optimize.py:1927: RuntimeWarning: invalid value encountered in double_scalars\n",
      "  tmp2 = (x - v) * (fx - fw)\n"
     ]
    },
    {
     "name": "stdout",
     "output_type": "stream",
     "text": [
      " [-----------------100%-----------------] 3001 of 3000 complete in 1486.0 sec"
     ]
    },
    {
     "data": {
      "text/plain": [
       "<pymc.MCMC.MCMC at 0x7fead89f0fd0>"
      ]
     },
     "execution_count": 121,
     "metadata": {},
     "output_type": "execute_result"
    }
   ],
   "source": [
    "atz_m=hddm.HDDMStimCoding(all_obs_data,p_outlier=0.05,  stim_col='stimulus', split_param='v',depends_on={'a': 'condition','t':'condition', \n",
    "                                                                                      'z': 'condition'}, bias=True)\n",
    "atz_m.find_starting_values()\n",
    "atz_m.sample(n_samples, burn=n_burn)"
   ]
  },
  {
   "cell_type": "code",
   "execution_count": 122,
   "metadata": {},
   "outputs": [
    {
     "name": "stderr",
     "output_type": "stream",
     "text": [
      "/home/krista/anaconda3/envs/hddm/lib/python3.5/site-packages/scipy/optimize/optimize.py:1927: RuntimeWarning: invalid value encountered in double_scalars\n",
      "  tmp2 = (x - v) * (fx - fw)\n"
     ]
    },
    {
     "name": "stdout",
     "output_type": "stream",
     "text": [
      " [-----------------100%-----------------] 3001 of 3000 complete in 1484.7 sec"
     ]
    },
    {
     "data": {
      "text/plain": [
       "<pymc.MCMC.MCMC at 0x7fead8019208>"
      ]
     },
     "execution_count": 122,
     "metadata": {},
     "output_type": "execute_result"
    }
   ],
   "source": [
    "avz_m=hddm.HDDMStimCoding(all_obs_data, p_outlier=0.05, stim_col='stimulus', split_param='v',depends_on={'a': 'condition','v':'condition', \n",
    "                                                                                      'z': 'condition'}, bias=True)\n",
    "avz_m.find_starting_values()\n",
    "avz_m.sample(n_samples, burn=n_burn)"
   ]
  },
  {
   "cell_type": "code",
   "execution_count": 123,
   "metadata": {},
   "outputs": [
    {
     "name": "stderr",
     "output_type": "stream",
     "text": [
      "/home/krista/anaconda3/envs/hddm/lib/python3.5/site-packages/scipy/optimize/optimize.py:1927: RuntimeWarning: invalid value encountered in double_scalars\n",
      "  tmp2 = (x - v) * (fx - fw)\n"
     ]
    },
    {
     "name": "stdout",
     "output_type": "stream",
     "text": [
      " [-----------------100%-----------------] 3001 of 3000 complete in 1485.3 sec"
     ]
    },
    {
     "data": {
      "text/plain": [
       "<pymc.MCMC.MCMC at 0x7fead88092b0>"
      ]
     },
     "execution_count": 123,
     "metadata": {},
     "output_type": "execute_result"
    }
   ],
   "source": [
    "tvz_m=hddm.HDDMStimCoding(all_obs_data,p_outlier=0.05,  stim_col='stimulus', split_param='v',depends_on={'t': 'condition','v':'condition', \n",
    "                                                                                      'z': 'condition'}, bias=True)\n",
    "tvz_m.find_starting_values()\n",
    "tvz_m.sample(n_samples, burn=n_burn)"
   ]
  },
  {
   "cell_type": "markdown",
   "metadata": {},
   "source": [
    "# Parameter quadruples "
   ]
  },
  {
   "cell_type": "code",
   "execution_count": 10,
   "metadata": {},
   "outputs": [
    {
     "name": "stderr",
     "output_type": "stream",
     "text": [
      "/Users/Krista/anaconda/envs/hddm/lib/python3.5/site-packages/scipy/optimize/optimize.py:1927: RuntimeWarning: invalid value encountered in double_scalars\n",
      "  tmp2 = (x - v) * (fx - fw)\n",
      "/Users/Krista/anaconda/envs/hddm/lib/python3.5/site-packages/scipy/optimize/optimize.py:1932: RuntimeWarning: invalid value encountered in absolute\n",
      "  tmp2 = numpy.abs(tmp2)\n",
      "/Users/Krista/anaconda/envs/hddm/lib/python3.5/site-packages/pymc/Node.py:403: VisibleDeprecationWarning: using a non-integer number instead of an integer will result in an error in the future\n",
      "  self.__name__ = input['__name__']\n"
     ]
    },
    {
     "name": "stdout",
     "output_type": "stream",
     "text": [
      " [-----------------100%-----------------] 3000 of 3000 complete in 1770.5 sec"
     ]
    },
    {
     "name": "stderr",
     "output_type": "stream",
     "text": [
      "/Users/Krista/anaconda/envs/hddm/lib/python3.5/site-packages/numpy/core/fromnumeric.py:224: VisibleDeprecationWarning: using a non-integer number instead of an integer will result in an error in the future\n",
      "  return reshape(newshape, order=order)\n"
     ]
    },
    {
     "data": {
      "text/plain": [
       "<pymc.MCMC.MCMC at 0x1a124f4c50>"
      ]
     },
     "execution_count": 10,
     "metadata": {},
     "output_type": "execute_result"
    }
   ],
   "source": [
    "atvz_m=hddm.HDDMStimCoding(all_obs_data, p_outlier=0.05, stim_col='stimulus', split_param='v',depends_on={'a': 'condition','t': 'condition','v':'condition', \n",
    "                                                                                      'z': 'condition'}, bias=True)\n",
    "atvz_m.find_starting_values()\n",
    "atvz_m.sample(3000, burn=50)"
   ]
  },
  {
   "cell_type": "code",
   "execution_count": 127,
   "metadata": {},
   "outputs": [],
   "source": [
    "# single_param_dics = [a_m.dic, t_m.dic, v_m.dic, z_m.dic]\n",
    "dual_param_dics = [a_t_m.dic, a_v_m.dic, a_z_m.dic, t_v_m.dic, t_z_m.dic, \n",
    "                  v_z_m.dic]\n",
    "# triple_param_dics = [atv_m.dic, atz_m.dic, avz_m.dic, tvz_m.dic]\n",
    "# quad_param_dic = atvz_m.dic\n",
    "all_dics = [a_m.dic, t_m.dic, v_m.dic, z_m.dic, a_t_m.dic, a_v_m.dic, a_z_m.dic, t_v_m.dic, t_z_m.dic, \n",
    "                  v_z_m.dic, atv_m.dic, atz_m.dic, avz_m.dic, tvz_m.dic, atvz_m.dic]\n",
    "all_dics_flat_sub =  all_dics - flat_m.dic "
   ]
  },
  {
   "cell_type": "code",
   "execution_count": 131,
   "metadata": {},
   "outputs": [],
   "source": [
    "dual_dics_flat_sub = dual_param_dics - flat_m.dic"
   ]
  },
  {
   "cell_type": "code",
   "execution_count": 133,
   "metadata": {},
   "outputs": [
    {
     "data": {
      "text/plain": [
       "array([ 13470.32650306,  21543.03083087,  23183.99092   ,  12534.02855681,\n",
       "        14423.79955011,  22227.498091  ])"
      ]
     },
     "execution_count": 133,
     "metadata": {},
     "output_type": "execute_result"
    }
   ],
   "source": [
    "dual_dics_flat_sub"
   ]
  },
  {
   "cell_type": "code",
   "execution_count": 141,
   "metadata": {},
   "outputs": [
    {
     "data": {
      "text/plain": [
       "-39422.984751452874"
      ]
     },
     "execution_count": 141,
     "metadata": {},
     "output_type": "execute_result"
    }
   ],
   "source": [
    "flat_m.dic"
   ]
  },
  {
   "cell_type": "code",
   "execution_count": 22,
   "metadata": {},
   "outputs": [],
   "source": [
    "# #plot posteriors for winning model \n",
    "# v_hc , v_hv ,  v_lc , v_lv  = e.nodes_db.ix[['v(hc)', 'v(hv)', \n",
    "#                                                              'v(lc)', 'v(lv)'],\n",
    "#                                                           'node']\n",
    "\n",
    "\n",
    "# t_hc , t_hv , t_lc , t_lv  = atvz_m.nodes_db.ix[['t(hc)', 't(hv)', \n",
    "#                                                              't(lc)', 't(lv)'],\n",
    "#                                                           'node']"
   ]
  },
  {
   "cell_type": "code",
   "execution_count": 146,
   "metadata": {},
   "outputs": [],
   "source": [
    "#plot posteriors for winning model \n",
    "v_hc , v_hv ,  v_lc , v_lv  = atvz_m.nodes_db.ix[['v(hc)', 'v(hv)', \n",
    "                                                             'v(lc)', 'v(lv)'],\n",
    "                                                          'node']\n",
    "\n",
    "\n",
    "t_hc , t_hv , t_lc , t_lv  = atvz_m.nodes_db.ix[['t(hc)', 't(hv)', \n",
    "                                                             't(lc)', 't(lv)'],\n",
    "                                                          'node']"
   ]
  },
  {
   "cell_type": "code",
   "execution_count": 23,
   "metadata": {},
   "outputs": [],
   "source": [
    "#plot posteriors for winning model \n",
    "a_hc , a_hv ,  a_lc , a_lv  = atvz_m.nodes_db.ix[['a(hc)', 'a(hv)', \n",
    "                                                             'a(lc)', 'a(lv)'],\n",
    "                                                          'node']\n",
    "\n",
    "\n",
    "z_hc , z_hv , z_lc , z_lv  = atvz_m.nodes_db.ix[['z(hc)', 'z(hv)', \n",
    "                                                             'z(lc)', 'z(lv)'],\n",
    "                                                          'node']"
   ]
  },
  {
   "cell_type": "code",
   "execution_count": 173,
   "metadata": {},
   "outputs": [
    {
     "data": {
      "text/html": [
       "<div>\n",
       "<style scoped>\n",
       "    .dataframe tbody tr th:only-of-type {\n",
       "        vertical-align: middle;\n",
       "    }\n",
       "\n",
       "    .dataframe tbody tr th {\n",
       "        vertical-align: top;\n",
       "    }\n",
       "\n",
       "    .dataframe thead th {\n",
       "        text-align: right;\n",
       "    }\n",
       "</style>\n",
       "<table border=\"1\" class=\"dataframe\">\n",
       "  <thead>\n",
       "    <tr style=\"text-align: right;\">\n",
       "      <th></th>\n",
       "      <th>mean</th>\n",
       "      <th>std</th>\n",
       "      <th>2.5q</th>\n",
       "      <th>25q</th>\n",
       "      <th>50q</th>\n",
       "      <th>75q</th>\n",
       "      <th>97.5q</th>\n",
       "      <th>mc err</th>\n",
       "    </tr>\n",
       "  </thead>\n",
       "  <tbody>\n",
       "    <tr>\n",
       "      <th>a</th>\n",
       "      <td>0.779203</td>\n",
       "      <td>0.0202467</td>\n",
       "      <td>0.74037</td>\n",
       "      <td>0.766099</td>\n",
       "      <td>0.778835</td>\n",
       "      <td>0.791972</td>\n",
       "      <td>0.820335</td>\n",
       "      <td>0.000424898</td>\n",
       "    </tr>\n",
       "    <tr>\n",
       "      <th>a_std</th>\n",
       "      <td>0.0963289</td>\n",
       "      <td>0.0156566</td>\n",
       "      <td>0.0726973</td>\n",
       "      <td>0.0854834</td>\n",
       "      <td>0.0938799</td>\n",
       "      <td>0.104463</td>\n",
       "      <td>0.13121</td>\n",
       "      <td>0.000373058</td>\n",
       "    </tr>\n",
       "    <tr>\n",
       "      <th>a_subj.761</th>\n",
       "      <td>0.718162</td>\n",
       "      <td>0.00868567</td>\n",
       "      <td>0.701116</td>\n",
       "      <td>0.712278</td>\n",
       "      <td>0.718406</td>\n",
       "      <td>0.723921</td>\n",
       "      <td>0.735269</td>\n",
       "      <td>0.000265135</td>\n",
       "    </tr>\n",
       "    <tr>\n",
       "      <th>a_subj.762</th>\n",
       "      <td>0.80761</td>\n",
       "      <td>0.00922041</td>\n",
       "      <td>0.789273</td>\n",
       "      <td>0.801447</td>\n",
       "      <td>0.807688</td>\n",
       "      <td>0.813939</td>\n",
       "      <td>0.825554</td>\n",
       "      <td>0.00029342</td>\n",
       "    </tr>\n",
       "    <tr>\n",
       "      <th>a_subj.763</th>\n",
       "      <td>0.844434</td>\n",
       "      <td>0.0114361</td>\n",
       "      <td>0.823465</td>\n",
       "      <td>0.836714</td>\n",
       "      <td>0.843601</td>\n",
       "      <td>0.851338</td>\n",
       "      <td>0.869357</td>\n",
       "      <td>0.000673786</td>\n",
       "    </tr>\n",
       "    <tr>\n",
       "      <th>a_subj.764</th>\n",
       "      <td>0.744821</td>\n",
       "      <td>0.00761705</td>\n",
       "      <td>0.730981</td>\n",
       "      <td>0.739608</td>\n",
       "      <td>0.744644</td>\n",
       "      <td>0.750023</td>\n",
       "      <td>0.760202</td>\n",
       "      <td>0.000211907</td>\n",
       "    </tr>\n",
       "    <tr>\n",
       "      <th>a_subj.765</th>\n",
       "      <td>0.854986</td>\n",
       "      <td>0.00961075</td>\n",
       "      <td>0.836663</td>\n",
       "      <td>0.848595</td>\n",
       "      <td>0.854927</td>\n",
       "      <td>0.861514</td>\n",
       "      <td>0.873391</td>\n",
       "      <td>0.000278373</td>\n",
       "    </tr>\n",
       "    <tr>\n",
       "      <th>a_subj.766</th>\n",
       "      <td>0.716428</td>\n",
       "      <td>0.00764801</td>\n",
       "      <td>0.701449</td>\n",
       "      <td>0.711283</td>\n",
       "      <td>0.71631</td>\n",
       "      <td>0.721474</td>\n",
       "      <td>0.7312</td>\n",
       "      <td>0.000212127</td>\n",
       "    </tr>\n",
       "    <tr>\n",
       "      <th>a_subj.767</th>\n",
       "      <td>0.863833</td>\n",
       "      <td>0.00913997</td>\n",
       "      <td>0.845878</td>\n",
       "      <td>0.857885</td>\n",
       "      <td>0.863742</td>\n",
       "      <td>0.870071</td>\n",
       "      <td>0.881682</td>\n",
       "      <td>0.000264101</td>\n",
       "    </tr>\n",
       "    <tr>\n",
       "      <th>a_subj.768</th>\n",
       "      <td>0.975795</td>\n",
       "      <td>0.00957394</td>\n",
       "      <td>0.957203</td>\n",
       "      <td>0.969148</td>\n",
       "      <td>0.975828</td>\n",
       "      <td>0.982179</td>\n",
       "      <td>0.994833</td>\n",
       "      <td>0.000227685</td>\n",
       "    </tr>\n",
       "    <tr>\n",
       "      <th>a_subj.769</th>\n",
       "      <td>0.773472</td>\n",
       "      <td>0.00855656</td>\n",
       "      <td>0.757456</td>\n",
       "      <td>0.767689</td>\n",
       "      <td>0.773653</td>\n",
       "      <td>0.779095</td>\n",
       "      <td>0.790602</td>\n",
       "      <td>0.000265386</td>\n",
       "    </tr>\n",
       "    <tr>\n",
       "      <th>a_subj.770</th>\n",
       "      <td>0.655459</td>\n",
       "      <td>0.00796362</td>\n",
       "      <td>0.638948</td>\n",
       "      <td>0.650324</td>\n",
       "      <td>0.655596</td>\n",
       "      <td>0.660606</td>\n",
       "      <td>0.670964</td>\n",
       "      <td>0.000279477</td>\n",
       "    </tr>\n",
       "    <tr>\n",
       "      <th>a_subj.771</th>\n",
       "      <td>0.649405</td>\n",
       "      <td>0.00829791</td>\n",
       "      <td>0.632687</td>\n",
       "      <td>0.643909</td>\n",
       "      <td>0.649377</td>\n",
       "      <td>0.654791</td>\n",
       "      <td>0.665669</td>\n",
       "      <td>0.000341344</td>\n",
       "    </tr>\n",
       "    <tr>\n",
       "      <th>a_subj.772</th>\n",
       "      <td>0.766628</td>\n",
       "      <td>0.00825811</td>\n",
       "      <td>0.750801</td>\n",
       "      <td>0.760943</td>\n",
       "      <td>0.766383</td>\n",
       "      <td>0.772194</td>\n",
       "      <td>0.783769</td>\n",
       "      <td>0.000237875</td>\n",
       "    </tr>\n",
       "    <tr>\n",
       "      <th>a_subj.773</th>\n",
       "      <td>0.669977</td>\n",
       "      <td>0.00836687</td>\n",
       "      <td>0.653955</td>\n",
       "      <td>0.6643</td>\n",
       "      <td>0.669827</td>\n",
       "      <td>0.675615</td>\n",
       "      <td>0.686717</td>\n",
       "      <td>0.000248509</td>\n",
       "    </tr>\n",
       "    <tr>\n",
       "      <th>a_subj.774</th>\n",
       "      <td>0.743625</td>\n",
       "      <td>0.00827184</td>\n",
       "      <td>0.727906</td>\n",
       "      <td>0.737847</td>\n",
       "      <td>0.743534</td>\n",
       "      <td>0.749269</td>\n",
       "      <td>0.759729</td>\n",
       "      <td>0.000257806</td>\n",
       "    </tr>\n",
       "    <tr>\n",
       "      <th>a_subj.775</th>\n",
       "      <td>0.852166</td>\n",
       "      <td>0.0094096</td>\n",
       "      <td>0.833318</td>\n",
       "      <td>0.845819</td>\n",
       "      <td>0.852161</td>\n",
       "      <td>0.858649</td>\n",
       "      <td>0.87036</td>\n",
       "      <td>0.000284759</td>\n",
       "    </tr>\n",
       "    <tr>\n",
       "      <th>a_subj.776</th>\n",
       "      <td>0.786739</td>\n",
       "      <td>0.00896257</td>\n",
       "      <td>0.769518</td>\n",
       "      <td>0.780838</td>\n",
       "      <td>0.786519</td>\n",
       "      <td>0.792507</td>\n",
       "      <td>0.805179</td>\n",
       "      <td>0.0002469</td>\n",
       "    </tr>\n",
       "    <tr>\n",
       "      <th>a_subj.777</th>\n",
       "      <td>0.733085</td>\n",
       "      <td>0.00886545</td>\n",
       "      <td>0.715929</td>\n",
       "      <td>0.727229</td>\n",
       "      <td>0.732759</td>\n",
       "      <td>0.738855</td>\n",
       "      <td>0.751446</td>\n",
       "      <td>0.00030191</td>\n",
       "    </tr>\n",
       "    <tr>\n",
       "      <th>a_subj.778</th>\n",
       "      <td>0.921774</td>\n",
       "      <td>0.0101929</td>\n",
       "      <td>0.902076</td>\n",
       "      <td>0.914959</td>\n",
       "      <td>0.921822</td>\n",
       "      <td>0.928411</td>\n",
       "      <td>0.941902</td>\n",
       "      <td>0.000314147</td>\n",
       "    </tr>\n",
       "    <tr>\n",
       "      <th>a_subj.779</th>\n",
       "      <td>0.7679</td>\n",
       "      <td>0.00819165</td>\n",
       "      <td>0.752215</td>\n",
       "      <td>0.762361</td>\n",
       "      <td>0.767715</td>\n",
       "      <td>0.773426</td>\n",
       "      <td>0.784455</td>\n",
       "      <td>0.000224915</td>\n",
       "    </tr>\n",
       "    <tr>\n",
       "      <th>a_subj.780</th>\n",
       "      <td>0.772362</td>\n",
       "      <td>0.0082505</td>\n",
       "      <td>0.756797</td>\n",
       "      <td>0.766843</td>\n",
       "      <td>0.772287</td>\n",
       "      <td>0.777661</td>\n",
       "      <td>0.78911</td>\n",
       "      <td>0.000202441</td>\n",
       "    </tr>\n",
       "    <tr>\n",
       "      <th>a_subj.781</th>\n",
       "      <td>0.618695</td>\n",
       "      <td>0.00806566</td>\n",
       "      <td>0.603928</td>\n",
       "      <td>0.613196</td>\n",
       "      <td>0.618377</td>\n",
       "      <td>0.623875</td>\n",
       "      <td>0.635557</td>\n",
       "      <td>0.000328383</td>\n",
       "    </tr>\n",
       "    <tr>\n",
       "      <th>a_subj.782</th>\n",
       "      <td>0.804473</td>\n",
       "      <td>0.00860743</td>\n",
       "      <td>0.787443</td>\n",
       "      <td>0.798636</td>\n",
       "      <td>0.80446</td>\n",
       "      <td>0.810392</td>\n",
       "      <td>0.820968</td>\n",
       "      <td>0.000245561</td>\n",
       "    </tr>\n",
       "    <tr>\n",
       "      <th>a_subj.783</th>\n",
       "      <td>0.698309</td>\n",
       "      <td>0.00769154</td>\n",
       "      <td>0.683445</td>\n",
       "      <td>0.693011</td>\n",
       "      <td>0.698364</td>\n",
       "      <td>0.703393</td>\n",
       "      <td>0.713395</td>\n",
       "      <td>0.000218306</td>\n",
       "    </tr>\n",
       "    <tr>\n",
       "      <th>a_subj.784</th>\n",
       "      <td>0.91729</td>\n",
       "      <td>0.0101299</td>\n",
       "      <td>0.897517</td>\n",
       "      <td>0.910468</td>\n",
       "      <td>0.917002</td>\n",
       "      <td>0.924287</td>\n",
       "      <td>0.937017</td>\n",
       "      <td>0.000324331</td>\n",
       "    </tr>\n",
       "    <tr>\n",
       "      <th>v(hc)</th>\n",
       "      <td>0.650314</td>\n",
       "      <td>0.157894</td>\n",
       "      <td>0.339871</td>\n",
       "      <td>0.542857</td>\n",
       "      <td>0.649444</td>\n",
       "      <td>0.758135</td>\n",
       "      <td>0.962215</td>\n",
       "      <td>0.00339218</td>\n",
       "    </tr>\n",
       "    <tr>\n",
       "      <th>v(hv)</th>\n",
       "      <td>0.761525</td>\n",
       "      <td>0.154083</td>\n",
       "      <td>0.464813</td>\n",
       "      <td>0.656092</td>\n",
       "      <td>0.759558</td>\n",
       "      <td>0.863819</td>\n",
       "      <td>1.06519</td>\n",
       "      <td>0.00317844</td>\n",
       "    </tr>\n",
       "    <tr>\n",
       "      <th>v(lc)</th>\n",
       "      <td>1.51045</td>\n",
       "      <td>0.148481</td>\n",
       "      <td>1.21735</td>\n",
       "      <td>1.41151</td>\n",
       "      <td>1.51246</td>\n",
       "      <td>1.60908</td>\n",
       "      <td>1.79124</td>\n",
       "      <td>0.00325045</td>\n",
       "    </tr>\n",
       "    <tr>\n",
       "      <th>v(lv)</th>\n",
       "      <td>1.15843</td>\n",
       "      <td>0.151802</td>\n",
       "      <td>0.85774</td>\n",
       "      <td>1.05641</td>\n",
       "      <td>1.16256</td>\n",
       "      <td>1.26074</td>\n",
       "      <td>1.45636</td>\n",
       "      <td>0.00295385</td>\n",
       "    </tr>\n",
       "    <tr>\n",
       "      <th>...</th>\n",
       "      <td>...</td>\n",
       "      <td>...</td>\n",
       "      <td>...</td>\n",
       "      <td>...</td>\n",
       "      <td>...</td>\n",
       "      <td>...</td>\n",
       "      <td>...</td>\n",
       "      <td>...</td>\n",
       "    </tr>\n",
       "    <tr>\n",
       "      <th>t_subj(lv).781</th>\n",
       "      <td>0.186517</td>\n",
       "      <td>0.00238412</td>\n",
       "      <td>0.182186</td>\n",
       "      <td>0.184284</td>\n",
       "      <td>0.187108</td>\n",
       "      <td>0.188543</td>\n",
       "      <td>0.19009</td>\n",
       "      <td>8.09816e-05</td>\n",
       "    </tr>\n",
       "    <tr>\n",
       "      <th>t_subj(lv).782</th>\n",
       "      <td>0.20037</td>\n",
       "      <td>0.00290968</td>\n",
       "      <td>0.194647</td>\n",
       "      <td>0.198829</td>\n",
       "      <td>0.200794</td>\n",
       "      <td>0.201986</td>\n",
       "      <td>0.206563</td>\n",
       "      <td>7.35806e-05</td>\n",
       "    </tr>\n",
       "    <tr>\n",
       "      <th>t_subj(lv).783</th>\n",
       "      <td>0.188722</td>\n",
       "      <td>0.00129604</td>\n",
       "      <td>0.18647</td>\n",
       "      <td>0.187886</td>\n",
       "      <td>0.188581</td>\n",
       "      <td>0.189445</td>\n",
       "      <td>0.191755</td>\n",
       "      <td>3.03784e-05</td>\n",
       "    </tr>\n",
       "    <tr>\n",
       "      <th>t_subj(lv).784</th>\n",
       "      <td>0.153617</td>\n",
       "      <td>0.00471228</td>\n",
       "      <td>0.14557</td>\n",
       "      <td>0.149986</td>\n",
       "      <td>0.152944</td>\n",
       "      <td>0.157798</td>\n",
       "      <td>0.162041</td>\n",
       "      <td>0.000135058</td>\n",
       "    </tr>\n",
       "    <tr>\n",
       "      <th>z</th>\n",
       "      <td>0.511286</td>\n",
       "      <td>0.00313228</td>\n",
       "      <td>0.505126</td>\n",
       "      <td>0.5092</td>\n",
       "      <td>0.511249</td>\n",
       "      <td>0.51333</td>\n",
       "      <td>0.517616</td>\n",
       "      <td>7.03547e-05</td>\n",
       "    </tr>\n",
       "    <tr>\n",
       "      <th>z_std</th>\n",
       "      <td>0.0553863</td>\n",
       "      <td>0.00983394</td>\n",
       "      <td>0.0386929</td>\n",
       "      <td>0.0484683</td>\n",
       "      <td>0.0545204</td>\n",
       "      <td>0.0612464</td>\n",
       "      <td>0.0767134</td>\n",
       "      <td>0.000335425</td>\n",
       "    </tr>\n",
       "    <tr>\n",
       "      <th>z_subj.761</th>\n",
       "      <td>0.496287</td>\n",
       "      <td>0.00561468</td>\n",
       "      <td>0.485055</td>\n",
       "      <td>0.49256</td>\n",
       "      <td>0.496437</td>\n",
       "      <td>0.50015</td>\n",
       "      <td>0.50728</td>\n",
       "      <td>0.000120404</td>\n",
       "    </tr>\n",
       "    <tr>\n",
       "      <th>z_subj.762</th>\n",
       "      <td>0.503465</td>\n",
       "      <td>0.00566608</td>\n",
       "      <td>0.492537</td>\n",
       "      <td>0.49952</td>\n",
       "      <td>0.503303</td>\n",
       "      <td>0.50734</td>\n",
       "      <td>0.514849</td>\n",
       "      <td>0.000127594</td>\n",
       "    </tr>\n",
       "    <tr>\n",
       "      <th>z_subj.763</th>\n",
       "      <td>0.513469</td>\n",
       "      <td>0.00564789</td>\n",
       "      <td>0.502609</td>\n",
       "      <td>0.50962</td>\n",
       "      <td>0.513308</td>\n",
       "      <td>0.517272</td>\n",
       "      <td>0.524747</td>\n",
       "      <td>0.000140938</td>\n",
       "    </tr>\n",
       "    <tr>\n",
       "      <th>z_subj.764</th>\n",
       "      <td>0.537868</td>\n",
       "      <td>0.00588224</td>\n",
       "      <td>0.525982</td>\n",
       "      <td>0.534013</td>\n",
       "      <td>0.537935</td>\n",
       "      <td>0.541727</td>\n",
       "      <td>0.549578</td>\n",
       "      <td>0.000139557</td>\n",
       "    </tr>\n",
       "    <tr>\n",
       "      <th>z_subj.765</th>\n",
       "      <td>0.497969</td>\n",
       "      <td>0.00579095</td>\n",
       "      <td>0.486638</td>\n",
       "      <td>0.493851</td>\n",
       "      <td>0.498036</td>\n",
       "      <td>0.502075</td>\n",
       "      <td>0.509705</td>\n",
       "      <td>0.000137817</td>\n",
       "    </tr>\n",
       "    <tr>\n",
       "      <th>z_subj.766</th>\n",
       "      <td>0.511492</td>\n",
       "      <td>0.00566989</td>\n",
       "      <td>0.500283</td>\n",
       "      <td>0.507746</td>\n",
       "      <td>0.51145</td>\n",
       "      <td>0.515308</td>\n",
       "      <td>0.522906</td>\n",
       "      <td>0.000130728</td>\n",
       "    </tr>\n",
       "    <tr>\n",
       "      <th>z_subj.767</th>\n",
       "      <td>0.504247</td>\n",
       "      <td>0.00569256</td>\n",
       "      <td>0.492902</td>\n",
       "      <td>0.500322</td>\n",
       "      <td>0.504386</td>\n",
       "      <td>0.508176</td>\n",
       "      <td>0.514936</td>\n",
       "      <td>0.000118365</td>\n",
       "    </tr>\n",
       "    <tr>\n",
       "      <th>z_subj.768</th>\n",
       "      <td>0.499881</td>\n",
       "      <td>0.00563712</td>\n",
       "      <td>0.488992</td>\n",
       "      <td>0.49593</td>\n",
       "      <td>0.500056</td>\n",
       "      <td>0.503898</td>\n",
       "      <td>0.510436</td>\n",
       "      <td>0.000128789</td>\n",
       "    </tr>\n",
       "    <tr>\n",
       "      <th>z_subj.769</th>\n",
       "      <td>0.512135</td>\n",
       "      <td>0.00595117</td>\n",
       "      <td>0.50024</td>\n",
       "      <td>0.508221</td>\n",
       "      <td>0.512099</td>\n",
       "      <td>0.516083</td>\n",
       "      <td>0.5241</td>\n",
       "      <td>0.000132253</td>\n",
       "    </tr>\n",
       "    <tr>\n",
       "      <th>z_subj.770</th>\n",
       "      <td>0.511385</td>\n",
       "      <td>0.00610302</td>\n",
       "      <td>0.49889</td>\n",
       "      <td>0.507294</td>\n",
       "      <td>0.511424</td>\n",
       "      <td>0.515341</td>\n",
       "      <td>0.523555</td>\n",
       "      <td>0.000160916</td>\n",
       "    </tr>\n",
       "    <tr>\n",
       "      <th>z_subj.771</th>\n",
       "      <td>0.534354</td>\n",
       "      <td>0.00686061</td>\n",
       "      <td>0.520591</td>\n",
       "      <td>0.529863</td>\n",
       "      <td>0.534293</td>\n",
       "      <td>0.539156</td>\n",
       "      <td>0.547167</td>\n",
       "      <td>0.000231486</td>\n",
       "    </tr>\n",
       "    <tr>\n",
       "      <th>z_subj.772</th>\n",
       "      <td>0.508525</td>\n",
       "      <td>0.00544283</td>\n",
       "      <td>0.497449</td>\n",
       "      <td>0.504796</td>\n",
       "      <td>0.508596</td>\n",
       "      <td>0.512184</td>\n",
       "      <td>0.518952</td>\n",
       "      <td>0.000102435</td>\n",
       "    </tr>\n",
       "    <tr>\n",
       "      <th>z_subj.773</th>\n",
       "      <td>0.485265</td>\n",
       "      <td>0.00577814</td>\n",
       "      <td>0.474126</td>\n",
       "      <td>0.481276</td>\n",
       "      <td>0.485313</td>\n",
       "      <td>0.489193</td>\n",
       "      <td>0.496543</td>\n",
       "      <td>0.000142813</td>\n",
       "    </tr>\n",
       "    <tr>\n",
       "      <th>z_subj.774</th>\n",
       "      <td>0.502163</td>\n",
       "      <td>0.00565905</td>\n",
       "      <td>0.490877</td>\n",
       "      <td>0.498478</td>\n",
       "      <td>0.502358</td>\n",
       "      <td>0.506091</td>\n",
       "      <td>0.512986</td>\n",
       "      <td>0.000133605</td>\n",
       "    </tr>\n",
       "    <tr>\n",
       "      <th>z_subj.775</th>\n",
       "      <td>0.504842</td>\n",
       "      <td>0.0056635</td>\n",
       "      <td>0.493587</td>\n",
       "      <td>0.501003</td>\n",
       "      <td>0.50488</td>\n",
       "      <td>0.508754</td>\n",
       "      <td>0.515974</td>\n",
       "      <td>0.000134601</td>\n",
       "    </tr>\n",
       "    <tr>\n",
       "      <th>z_subj.776</th>\n",
       "      <td>0.508982</td>\n",
       "      <td>0.00572238</td>\n",
       "      <td>0.497525</td>\n",
       "      <td>0.505243</td>\n",
       "      <td>0.508805</td>\n",
       "      <td>0.512812</td>\n",
       "      <td>0.520461</td>\n",
       "      <td>0.000116287</td>\n",
       "    </tr>\n",
       "    <tr>\n",
       "      <th>z_subj.777</th>\n",
       "      <td>0.523368</td>\n",
       "      <td>0.00610633</td>\n",
       "      <td>0.511059</td>\n",
       "      <td>0.519293</td>\n",
       "      <td>0.523377</td>\n",
       "      <td>0.527493</td>\n",
       "      <td>0.535027</td>\n",
       "      <td>0.000147199</td>\n",
       "    </tr>\n",
       "    <tr>\n",
       "      <th>z_subj.778</th>\n",
       "      <td>0.516294</td>\n",
       "      <td>0.0058898</td>\n",
       "      <td>0.504644</td>\n",
       "      <td>0.512405</td>\n",
       "      <td>0.51627</td>\n",
       "      <td>0.5202</td>\n",
       "      <td>0.52763</td>\n",
       "      <td>0.000125721</td>\n",
       "    </tr>\n",
       "    <tr>\n",
       "      <th>z_subj.779</th>\n",
       "      <td>0.527067</td>\n",
       "      <td>0.00577232</td>\n",
       "      <td>0.516189</td>\n",
       "      <td>0.523</td>\n",
       "      <td>0.526943</td>\n",
       "      <td>0.530997</td>\n",
       "      <td>0.538531</td>\n",
       "      <td>0.000125908</td>\n",
       "    </tr>\n",
       "    <tr>\n",
       "      <th>z_subj.780</th>\n",
       "      <td>0.517487</td>\n",
       "      <td>0.0054612</td>\n",
       "      <td>0.506736</td>\n",
       "      <td>0.513847</td>\n",
       "      <td>0.5176</td>\n",
       "      <td>0.52109</td>\n",
       "      <td>0.528253</td>\n",
       "      <td>0.00011392</td>\n",
       "    </tr>\n",
       "    <tr>\n",
       "      <th>z_subj.781</th>\n",
       "      <td>0.522104</td>\n",
       "      <td>0.00582251</td>\n",
       "      <td>0.510471</td>\n",
       "      <td>0.518189</td>\n",
       "      <td>0.522233</td>\n",
       "      <td>0.525995</td>\n",
       "      <td>0.533691</td>\n",
       "      <td>0.000120456</td>\n",
       "    </tr>\n",
       "    <tr>\n",
       "      <th>z_subj.782</th>\n",
       "      <td>0.513213</td>\n",
       "      <td>0.00542633</td>\n",
       "      <td>0.502885</td>\n",
       "      <td>0.509657</td>\n",
       "      <td>0.513238</td>\n",
       "      <td>0.516727</td>\n",
       "      <td>0.524402</td>\n",
       "      <td>0.000125755</td>\n",
       "    </tr>\n",
       "    <tr>\n",
       "      <th>z_subj.783</th>\n",
       "      <td>0.499773</td>\n",
       "      <td>0.00556254</td>\n",
       "      <td>0.489067</td>\n",
       "      <td>0.495991</td>\n",
       "      <td>0.499744</td>\n",
       "      <td>0.503612</td>\n",
       "      <td>0.510782</td>\n",
       "      <td>0.000113069</td>\n",
       "    </tr>\n",
       "    <tr>\n",
       "      <th>z_subj.784</th>\n",
       "      <td>0.518056</td>\n",
       "      <td>0.00575336</td>\n",
       "      <td>0.507116</td>\n",
       "      <td>0.514125</td>\n",
       "      <td>0.517988</td>\n",
       "      <td>0.521859</td>\n",
       "      <td>0.529318</td>\n",
       "      <td>0.000122002</td>\n",
       "    </tr>\n",
       "  </tbody>\n",
       "</table>\n",
       "<p>254 rows × 8 columns</p>\n",
       "</div>"
      ],
      "text/plain": [
       "                     mean         std       2.5q        25q        50q  \\\n",
       "a                0.779203   0.0202467    0.74037   0.766099   0.778835   \n",
       "a_std           0.0963289   0.0156566  0.0726973  0.0854834  0.0938799   \n",
       "a_subj.761       0.718162  0.00868567   0.701116   0.712278   0.718406   \n",
       "a_subj.762        0.80761  0.00922041   0.789273   0.801447   0.807688   \n",
       "a_subj.763       0.844434   0.0114361   0.823465   0.836714   0.843601   \n",
       "a_subj.764       0.744821  0.00761705   0.730981   0.739608   0.744644   \n",
       "a_subj.765       0.854986  0.00961075   0.836663   0.848595   0.854927   \n",
       "a_subj.766       0.716428  0.00764801   0.701449   0.711283    0.71631   \n",
       "a_subj.767       0.863833  0.00913997   0.845878   0.857885   0.863742   \n",
       "a_subj.768       0.975795  0.00957394   0.957203   0.969148   0.975828   \n",
       "a_subj.769       0.773472  0.00855656   0.757456   0.767689   0.773653   \n",
       "a_subj.770       0.655459  0.00796362   0.638948   0.650324   0.655596   \n",
       "a_subj.771       0.649405  0.00829791   0.632687   0.643909   0.649377   \n",
       "a_subj.772       0.766628  0.00825811   0.750801   0.760943   0.766383   \n",
       "a_subj.773       0.669977  0.00836687   0.653955     0.6643   0.669827   \n",
       "a_subj.774       0.743625  0.00827184   0.727906   0.737847   0.743534   \n",
       "a_subj.775       0.852166   0.0094096   0.833318   0.845819   0.852161   \n",
       "a_subj.776       0.786739  0.00896257   0.769518   0.780838   0.786519   \n",
       "a_subj.777       0.733085  0.00886545   0.715929   0.727229   0.732759   \n",
       "a_subj.778       0.921774   0.0101929   0.902076   0.914959   0.921822   \n",
       "a_subj.779         0.7679  0.00819165   0.752215   0.762361   0.767715   \n",
       "a_subj.780       0.772362   0.0082505   0.756797   0.766843   0.772287   \n",
       "a_subj.781       0.618695  0.00806566   0.603928   0.613196   0.618377   \n",
       "a_subj.782       0.804473  0.00860743   0.787443   0.798636    0.80446   \n",
       "a_subj.783       0.698309  0.00769154   0.683445   0.693011   0.698364   \n",
       "a_subj.784        0.91729   0.0101299   0.897517   0.910468   0.917002   \n",
       "v(hc)            0.650314    0.157894   0.339871   0.542857   0.649444   \n",
       "v(hv)            0.761525    0.154083   0.464813   0.656092   0.759558   \n",
       "v(lc)             1.51045    0.148481    1.21735    1.41151    1.51246   \n",
       "v(lv)             1.15843    0.151802    0.85774    1.05641    1.16256   \n",
       "...                   ...         ...        ...        ...        ...   \n",
       "t_subj(lv).781   0.186517  0.00238412   0.182186   0.184284   0.187108   \n",
       "t_subj(lv).782    0.20037  0.00290968   0.194647   0.198829   0.200794   \n",
       "t_subj(lv).783   0.188722  0.00129604    0.18647   0.187886   0.188581   \n",
       "t_subj(lv).784   0.153617  0.00471228    0.14557   0.149986   0.152944   \n",
       "z                0.511286  0.00313228   0.505126     0.5092   0.511249   \n",
       "z_std           0.0553863  0.00983394  0.0386929  0.0484683  0.0545204   \n",
       "z_subj.761       0.496287  0.00561468   0.485055    0.49256   0.496437   \n",
       "z_subj.762       0.503465  0.00566608   0.492537    0.49952   0.503303   \n",
       "z_subj.763       0.513469  0.00564789   0.502609    0.50962   0.513308   \n",
       "z_subj.764       0.537868  0.00588224   0.525982   0.534013   0.537935   \n",
       "z_subj.765       0.497969  0.00579095   0.486638   0.493851   0.498036   \n",
       "z_subj.766       0.511492  0.00566989   0.500283   0.507746    0.51145   \n",
       "z_subj.767       0.504247  0.00569256   0.492902   0.500322   0.504386   \n",
       "z_subj.768       0.499881  0.00563712   0.488992    0.49593   0.500056   \n",
       "z_subj.769       0.512135  0.00595117    0.50024   0.508221   0.512099   \n",
       "z_subj.770       0.511385  0.00610302    0.49889   0.507294   0.511424   \n",
       "z_subj.771       0.534354  0.00686061   0.520591   0.529863   0.534293   \n",
       "z_subj.772       0.508525  0.00544283   0.497449   0.504796   0.508596   \n",
       "z_subj.773       0.485265  0.00577814   0.474126   0.481276   0.485313   \n",
       "z_subj.774       0.502163  0.00565905   0.490877   0.498478   0.502358   \n",
       "z_subj.775       0.504842   0.0056635   0.493587   0.501003    0.50488   \n",
       "z_subj.776       0.508982  0.00572238   0.497525   0.505243   0.508805   \n",
       "z_subj.777       0.523368  0.00610633   0.511059   0.519293   0.523377   \n",
       "z_subj.778       0.516294   0.0058898   0.504644   0.512405    0.51627   \n",
       "z_subj.779       0.527067  0.00577232   0.516189      0.523   0.526943   \n",
       "z_subj.780       0.517487   0.0054612   0.506736   0.513847     0.5176   \n",
       "z_subj.781       0.522104  0.00582251   0.510471   0.518189   0.522233   \n",
       "z_subj.782       0.513213  0.00542633   0.502885   0.509657   0.513238   \n",
       "z_subj.783       0.499773  0.00556254   0.489067   0.495991   0.499744   \n",
       "z_subj.784       0.518056  0.00575336   0.507116   0.514125   0.517988   \n",
       "\n",
       "                      75q      97.5q       mc err  \n",
       "a                0.791972   0.820335  0.000424898  \n",
       "a_std            0.104463    0.13121  0.000373058  \n",
       "a_subj.761       0.723921   0.735269  0.000265135  \n",
       "a_subj.762       0.813939   0.825554   0.00029342  \n",
       "a_subj.763       0.851338   0.869357  0.000673786  \n",
       "a_subj.764       0.750023   0.760202  0.000211907  \n",
       "a_subj.765       0.861514   0.873391  0.000278373  \n",
       "a_subj.766       0.721474     0.7312  0.000212127  \n",
       "a_subj.767       0.870071   0.881682  0.000264101  \n",
       "a_subj.768       0.982179   0.994833  0.000227685  \n",
       "a_subj.769       0.779095   0.790602  0.000265386  \n",
       "a_subj.770       0.660606   0.670964  0.000279477  \n",
       "a_subj.771       0.654791   0.665669  0.000341344  \n",
       "a_subj.772       0.772194   0.783769  0.000237875  \n",
       "a_subj.773       0.675615   0.686717  0.000248509  \n",
       "a_subj.774       0.749269   0.759729  0.000257806  \n",
       "a_subj.775       0.858649    0.87036  0.000284759  \n",
       "a_subj.776       0.792507   0.805179    0.0002469  \n",
       "a_subj.777       0.738855   0.751446   0.00030191  \n",
       "a_subj.778       0.928411   0.941902  0.000314147  \n",
       "a_subj.779       0.773426   0.784455  0.000224915  \n",
       "a_subj.780       0.777661    0.78911  0.000202441  \n",
       "a_subj.781       0.623875   0.635557  0.000328383  \n",
       "a_subj.782       0.810392   0.820968  0.000245561  \n",
       "a_subj.783       0.703393   0.713395  0.000218306  \n",
       "a_subj.784       0.924287   0.937017  0.000324331  \n",
       "v(hc)            0.758135   0.962215   0.00339218  \n",
       "v(hv)            0.863819    1.06519   0.00317844  \n",
       "v(lc)             1.60908    1.79124   0.00325045  \n",
       "v(lv)             1.26074    1.45636   0.00295385  \n",
       "...                   ...        ...          ...  \n",
       "t_subj(lv).781   0.188543    0.19009  8.09816e-05  \n",
       "t_subj(lv).782   0.201986   0.206563  7.35806e-05  \n",
       "t_subj(lv).783   0.189445   0.191755  3.03784e-05  \n",
       "t_subj(lv).784   0.157798   0.162041  0.000135058  \n",
       "z                 0.51333   0.517616  7.03547e-05  \n",
       "z_std           0.0612464  0.0767134  0.000335425  \n",
       "z_subj.761        0.50015    0.50728  0.000120404  \n",
       "z_subj.762        0.50734   0.514849  0.000127594  \n",
       "z_subj.763       0.517272   0.524747  0.000140938  \n",
       "z_subj.764       0.541727   0.549578  0.000139557  \n",
       "z_subj.765       0.502075   0.509705  0.000137817  \n",
       "z_subj.766       0.515308   0.522906  0.000130728  \n",
       "z_subj.767       0.508176   0.514936  0.000118365  \n",
       "z_subj.768       0.503898   0.510436  0.000128789  \n",
       "z_subj.769       0.516083     0.5241  0.000132253  \n",
       "z_subj.770       0.515341   0.523555  0.000160916  \n",
       "z_subj.771       0.539156   0.547167  0.000231486  \n",
       "z_subj.772       0.512184   0.518952  0.000102435  \n",
       "z_subj.773       0.489193   0.496543  0.000142813  \n",
       "z_subj.774       0.506091   0.512986  0.000133605  \n",
       "z_subj.775       0.508754   0.515974  0.000134601  \n",
       "z_subj.776       0.512812   0.520461  0.000116287  \n",
       "z_subj.777       0.527493   0.535027  0.000147199  \n",
       "z_subj.778         0.5202    0.52763  0.000125721  \n",
       "z_subj.779       0.530997   0.538531  0.000125908  \n",
       "z_subj.780        0.52109   0.528253   0.00011392  \n",
       "z_subj.781       0.525995   0.533691  0.000120456  \n",
       "z_subj.782       0.516727   0.524402  0.000125755  \n",
       "z_subj.783       0.503612   0.510782  0.000113069  \n",
       "z_subj.784       0.521859   0.529318  0.000122002  \n",
       "\n",
       "[254 rows x 8 columns]"
      ]
     },
     "execution_count": 173,
     "metadata": {},
     "output_type": "execute_result"
    }
   ],
   "source": [
    "t_v_m.gen_stats()"
   ]
  },
  {
   "cell_type": "code",
   "execution_count": 16,
   "metadata": {},
   "outputs": [
    {
     "data": {
      "text/plain": [
       "Text(0,0.5,'Posterior probability density')"
      ]
     },
     "execution_count": 16,
     "metadata": {},
     "output_type": "execute_result"
    },
    {
     "data": {
      "image/png": "[encoded data removed]",
      "text/plain": [
       "<Figure size 432x288 with 1 Axes>"
      ]
     },
     "metadata": {},
     "output_type": "display_data"
    }
   ],
   "source": [
    "import seaborn as sns\n",
    "import matplotlib.pyplot as plt\n",
    "\n",
    "sns.kdeplot(v_hc.trace(), color='red',shade=True, label='high conflict')\n",
    "sns.kdeplot(v_lc.trace(), color='blue',shade=True,label='low conflict')\n",
    "plt.title(\"Conflict\")\n",
    "plt.xlabel(\"$v$\")\n",
    "plt.ylabel('Posterior probability density')\n",
    "# plt.savefig('conflict_v_fit.png', dpi=600)\n"
   ]
  },
  {
   "cell_type": "code",
   "execution_count": 17,
   "metadata": {},
   "outputs": [
    {
     "data": {
      "text/plain": [
       "Text(0,0.5,'Posterior probability density')"
      ]
     },
     "execution_count": 17,
     "metadata": {},
     "output_type": "execute_result"
    },
    {
     "data": {
      "image/png": "[encoded data removed]",
      "text/plain": [
       "<Figure size 432x288 with 1 Axes>"
      ]
     },
     "metadata": {},
     "output_type": "display_data"
    }
   ],
   "source": [
    "sns.kdeplot(v_hv.trace(), color='darkorchid', shade=True,label='high volatility')\n",
    "sns.kdeplot(v_lv.trace(), color='forestgreen', shade=True,label='low volatility')\n",
    "plt.title(\"Volatility\")\n",
    "plt.xlabel(\"$v$\")\n",
    "plt.ylabel('Posterior probability density')\n",
    "# plt.savefig('vol_v_fit.png', dpi=600)\n"
   ]
  },
  {
   "cell_type": "code",
   "execution_count": 19,
   "metadata": {},
   "outputs": [
    {
     "data": {
      "text/plain": [
       "Text(0,0.5,'Posterior probability density')"
      ]
     },
     "execution_count": 19,
     "metadata": {},
     "output_type": "execute_result"
    },
    {
     "data": {
      "image/png": "[encoded data removed]",
      "text/plain": [
       "<Figure size 432x288 with 1 Axes>"
      ]
     },
     "metadata": {},
     "output_type": "display_data"
    }
   ],
   "source": [
    "sns.kdeplot(t_hv.trace(), color='darkorchid',shade=True,label='high volatility')\n",
    "sns.kdeplot(t_lv.trace(), color='forestgreen',shade=True, label='low volatility')\n",
    "plt.title(\"Volatility\")\n",
    "plt.xlabel(\"$t$\")\n",
    "plt.ylabel('Posterior probability density')\n",
    "# plt.savefig('vol_t_fit.png', dpi=600)\n"
   ]
  },
  {
   "cell_type": "code",
   "execution_count": 20,
   "metadata": {},
   "outputs": [
    {
     "name": "stderr",
     "output_type": "stream",
     "text": [
      "/Users/Krista/anaconda/envs/hddm/lib/python3.5/site-packages/matplotlib/axes/_axes.py:6448: UserWarning: The 'normed' kwarg is deprecated, and has been replaced by the 'density' kwarg.\n",
      "  warnings.warn(\"The 'normed' kwarg is deprecated, and has been \"\n"
     ]
    },
    {
     "data": {
      "text/plain": [
       "Text(0.5,0,'$t$')"
      ]
     },
     "execution_count": 20,
     "metadata": {},
     "output_type": "execute_result"
    },
    {
     "data": {
      "image/png": "[encoded data removed]",
      "text/plain": [
       "<Figure size 432x288 with 1 Axes>"
      ]
     },
     "metadata": {},
     "output_type": "display_data"
    }
   ],
   "source": [
    "sns.distplot(t_hc.trace(), color='red', label='high conflict')\n",
    "sns.distplot(t_lc.trace(), color='blue', label='low conflict')\n",
    "plt.title(\"Conflict\")\n",
    "plt.xlabel(\"$t$\")\n",
    "# plt.ylabel('Posterior probability density')"
   ]
  },
  {
   "cell_type": "code",
   "execution_count": 24,
   "metadata": {},
   "outputs": [
    {
     "name": "stderr",
     "output_type": "stream",
     "text": [
      "/Users/Krista/anaconda/envs/hddm/lib/python3.5/site-packages/matplotlib/axes/_axes.py:6448: UserWarning: The 'normed' kwarg is deprecated, and has been replaced by the 'density' kwarg.\n",
      "  warnings.warn(\"The 'normed' kwarg is deprecated, and has been \"\n"
     ]
    },
    {
     "data": {
      "text/plain": [
       "Text(0.5,0,'$t$')"
      ]
     },
     "execution_count": 24,
     "metadata": {},
     "output_type": "execute_result"
    },
    {
     "data": {
      "image/png": "[encoded data removed]",
      "text/plain": [
       "<Figure size 432x288 with 1 Axes>"
      ]
     },
     "metadata": {},
     "output_type": "display_data"
    }
   ],
   "source": [
    "sns.distplot(a_hc.trace(), color='red', label='high conflict')\n",
    "sns.distplot(a_lc.trace(), color='blue', label='low conflict')\n",
    "plt.title(\"Conflict\")\n",
    "plt.xlabel(\"$t$\")\n",
    "# plt.ylabel('Posterior probability density')"
   ]
  },
  {
   "cell_type": "code",
   "execution_count": 25,
   "metadata": {},
   "outputs": [
    {
     "name": "stderr",
     "output_type": "stream",
     "text": [
      "/Users/Krista/anaconda/envs/hddm/lib/python3.5/site-packages/matplotlib/axes/_axes.py:6448: UserWarning: The 'normed' kwarg is deprecated, and has been replaced by the 'density' kwarg.\n",
      "  warnings.warn(\"The 'normed' kwarg is deprecated, and has been \"\n"
     ]
    },
    {
     "data": {
      "text/plain": [
       "Text(0.5,0,'$a$')"
      ]
     },
     "execution_count": 25,
     "metadata": {},
     "output_type": "execute_result"
    },
    {
     "data": {
      "image/png": "[encoded data removed]",
      "text/plain": [
       "<Figure size 432x288 with 1 Axes>"
      ]
     },
     "metadata": {},
     "output_type": "display_data"
    }
   ],
   "source": [
    "sns.distplot(a_hv.trace(), color='red', label='high vol')\n",
    "sns.distplot(a_lv.trace(), color='blue', label='low vol')\n",
    "plt.title(\"Vol\")\n",
    "plt.xlabel(\"$a$\")\n",
    "# plt.ylabel('Posterior probability density')"
   ]
  },
  {
   "cell_type": "code",
   "execution_count": 26,
   "metadata": {},
   "outputs": [
    {
     "name": "stderr",
     "output_type": "stream",
     "text": [
      "/Users/Krista/anaconda/envs/hddm/lib/python3.5/site-packages/matplotlib/axes/_axes.py:6448: UserWarning: The 'normed' kwarg is deprecated, and has been replaced by the 'density' kwarg.\n",
      "  warnings.warn(\"The 'normed' kwarg is deprecated, and has been \"\n"
     ]
    },
    {
     "data": {
      "text/plain": [
       "Text(0.5,0,'$z$')"
      ]
     },
     "execution_count": 26,
     "metadata": {},
     "output_type": "execute_result"
    },
    {
     "data": {
      "image/png": "[encoded data removed]",
      "text/plain": [
       "<Figure size 432x288 with 1 Axes>"
      ]
     },
     "metadata": {},
     "output_type": "display_data"
    }
   ],
   "source": [
    "sns.distplot(z_hv.trace(), color='red', label='high vol')\n",
    "sns.distplot(z_lv.trace(), color='blue', label='low vol')\n",
    "plt.title(\"Vol\")\n",
    "plt.xlabel(\"$z$\")\n",
    "# plt.ylabel('Posterior probability density')"
   ]
  },
  {
   "cell_type": "code",
   "execution_count": 27,
   "metadata": {},
   "outputs": [
    {
     "name": "stderr",
     "output_type": "stream",
     "text": [
      "/Users/Krista/anaconda/envs/hddm/lib/python3.5/site-packages/matplotlib/axes/_axes.py:6448: UserWarning: The 'normed' kwarg is deprecated, and has been replaced by the 'density' kwarg.\n",
      "  warnings.warn(\"The 'normed' kwarg is deprecated, and has been \"\n"
     ]
    },
    {
     "data": {
      "text/plain": [
       "Text(0.5,0,'$z$')"
      ]
     },
     "execution_count": 27,
     "metadata": {},
     "output_type": "execute_result"
    },
    {
     "data": {
      "image/png": "[encoded data removed]",
      "text/plain": [
       "<Figure size 432x288 with 1 Axes>"
      ]
     },
     "metadata": {},
     "output_type": "display_data"
    }
   ],
   "source": [
    "sns.distplot(z_hc.trace(), color='red', label='high conf')\n",
    "sns.distplot(z_lc.trace(), color='blue', label='low conf')\n",
    "plt.title(\"Conf\")\n",
    "plt.xlabel(\"$z$\")\n",
    "# plt.ylabel('Posterior probability density')"
   ]
  },
  {
   "cell_type": "code",
   "execution_count": 137,
   "metadata": {},
   "outputs": [
    {
     "data": {
      "text/plain": [
       "array([ 12534.02855681])"
      ]
     },
     "execution_count": 137,
     "metadata": {},
     "output_type": "execute_result"
    }
   ],
   "source": [
    "import numpy as np\n",
    "win_idx=np.where(dual_dics_flat_sub == min(dual_dics_flat_sub))[0]\n",
    "dual_dics_flat_sub[win_idx]"
   ]
  },
  {
   "cell_type": "code",
   "execution_count": 87,
   "metadata": {},
   "outputs": [],
   "source": [
    "#send text when the script is done\n",
    "from twilio.rest import Client\n",
    "accountSid = 'AC2832bdf83bb5a2f150686d323b7a3440'\n",
    "authToken = '70363f4f104ac88b8aefc6b7886fb989'\n",
    "twilioClient = Client(accountSid, authToken)\n",
    "myTwilioNumber = 6095422252\n",
    "destCellPhone = 6094242780\n",
    "myMessage = twilioClient.messages.create(body = \"fits are done for observed data.\",\n",
    "                                         from_=myTwilioNumber, to=destCellPhone)"
   ]
  },
  {
   "cell_type": "code",
   "execution_count": null,
   "metadata": {},
   "outputs": [],
   "source": []
  }
 ],
 "metadata": {
  "kernelspec": {
   "display_name": "hddm",
   "language": "python",
   "name": "hddm"
  },
  "language_info": {
   "codemirror_mode": {
    "name": "ipython",
    "version": 3
   },
   "file_extension": ".py",
   "mimetype": "text/x-python",
   "name": "python",
   "nbconvert_exporter": "python",
   "pygments_lexer": "ipython3",
   "version": "3.5.5"
  }
 },
 "nbformat": 4,
 "nbformat_minor": 2
}
