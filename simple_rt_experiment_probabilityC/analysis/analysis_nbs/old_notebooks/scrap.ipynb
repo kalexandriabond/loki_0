{
 "cells": [
  {
   "cell_type": "code",
   "execution_count": 47,
   "metadata": {
    "collapsed": true
   },
   "outputs": [],
   "source": [
    "from itertools import permutations, product\n",
    "import numpy as np"
   ]
  },
  {
   "cell_type": "code",
   "execution_count": 66,
   "metadata": {
    "collapsed": true
   },
   "outputs": [],
   "source": [
    "ls = ['cpp', 'B']\n",
    "lt = ['t', 'v', 'a']\n",
    "\n",
    "single_param_models = [p for p in product(ls, lt)]\n",
    "double_param_models = [list(zip(ls, p)) for p in permutations(lt)]"
   ]
  },
  {
   "cell_type": "code",
   "execution_count": 60,
   "metadata": {
    "scrolled": true
   },
   "outputs": [
    {
     "data": {
      "text/plain": [
       "([('cpp', 't'),\n",
       "  ('cpp', 'v'),\n",
       "  ('cpp', 'a'),\n",
       "  ('B', 't'),\n",
       "  ('B', 'v'),\n",
       "  ('B', 'a')],\n",
       " [[('cpp', 't'), ('B', 'v')],\n",
       "  [('cpp', 't'), ('B', 'a')],\n",
       "  [('cpp', 'v'), ('B', 't')],\n",
       "  [('cpp', 'v'), ('B', 'a')],\n",
       "  [('cpp', 'a'), ('B', 't')],\n",
       "  [('cpp', 'a'), ('B', 'v')]])"
      ]
     },
     "execution_count": 60,
     "metadata": {},
     "output_type": "execute_result"
    }
   ],
   "source": [
    "single_param_models, double_param_models"
   ]
  },
  {
   "cell_type": "code",
   "execution_count": 67,
   "metadata": {},
   "outputs": [
    {
     "data": {
      "text/plain": [
       "[[('t', 'cpp'), ('v', 'B')], [('t', 'B'), ('v', 'cpp')]]"
      ]
     },
     "execution_count": 67,
     "metadata": {},
     "output_type": "execute_result"
    }
   ],
   "source": [
    "triple_param_models"
   ]
  },
  {
   "cell_type": "code",
   "execution_count": 76,
   "metadata": {
    "collapsed": true
   },
   "outputs": [],
   "source": [
    "a = list(permutations(lt))"
   ]
  },
  {
   "cell_type": "code",
   "execution_count": 77,
   "metadata": {
    "scrolled": true
   },
   "outputs": [
    {
     "data": {
      "text/plain": [
       "[('t', 'v', 'a'),\n",
       " ('t', 'a', 'v'),\n",
       " ('v', 't', 'a'),\n",
       " ('v', 'a', 't'),\n",
       " ('a', 't', 'v'),\n",
       " ('a', 'v', 't')]"
      ]
     },
     "execution_count": 77,
     "metadata": {},
     "output_type": "execute_result"
    }
   ],
   "source": [
    "a"
   ]
  },
  {
   "cell_type": "code",
   "execution_count": null,
   "metadata": {
    "collapsed": true
   },
   "outputs": [],
   "source": []
  }
 ],
 "metadata": {
  "kernelspec": {
   "display_name": "Python 3",
   "language": "python",
   "name": "python3"
  },
  "language_info": {
   "codemirror_mode": {
    "name": "ipython",
    "version": 3
   },
   "file_extension": ".py",
   "mimetype": "text/x-python",
   "name": "python",
   "nbconvert_exporter": "python",
   "pygments_lexer": "ipython3",
   "version": "3.5.5"
  }
 },
 "nbformat": 4,
 "nbformat_minor": 2
}
